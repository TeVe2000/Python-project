{
 "cells": [
  {
   "cell_type": "code",
   "execution_count": 2,
   "id": "c3509565",
   "metadata": {},
   "outputs": [],
   "source": [
    "import requests\n",
    "import pandas as pd\n",
    "from io import StringIO\n",
    "import matplotlib.pyplot as plt\n",
    "import datetime"
   ]
  },
  {
   "cell_type": "code",
   "execution_count": 4,
   "id": "a7ebd3fa",
   "metadata": {},
   "outputs": [],
   "source": [
    "#Define variables and login\n",
    "ID_dict = {\"SHDPZDRQ20152B1GMIRSA\": 'GDP_index', 'SHDPVYDQ20152B1GNMLSA': 'GDP_vol', 'SHDPVYDQ20151B1GNISNA': 'GDP_yoy', \"SPRUMMIR20151SA\":\"Industry_index\",\n",
    "           'SCCSUM2005IR00': 'CPI_index_2016',\"SCCSUM2015IR00\":\"CPI_index_2017\" ,'SCCSUM2005IS00': 'CPI_yoy_2016','SCCSUM2015IS00': 'CPI_yoy_2017',\n",
    "          'MIRFMSPR3XRATPECD': 'PRIBOR_3M', 'MIRFMSPR12RATPECD': 'PRIBOR_12M', 'MEXRHCZEUQNAJEXRVALNOMQ': 'EUR_CZK'}\n",
    "\n",
    "my_IDs = ','.join(ID_dict.keys())\n",
    "my_api_key = \"202326111959266710376710375FTR2ZOFR7GADZLV\"\n",
    "#my_IDs= \"SHDPZDRQ20152B1GMIRSA,SHDPVYDQ20152B1GNMLSA,SHDPVYDQ20151B1GNISNA,SPRUMMIR20151SA,SPRUMMIS20151NA,SCCSUM2005IR00, SCCSUM2015IR00,SCCSUM2005IS00,SCCSUM2015IS00,SCCSUM2015IK00,MIRFMSPR3XRATPECD,MIRFMSPR12RATPECD,MEXRHCZEUDNAJEXRVALNOMD\"\n"
   ]
  },
  {
   "cell_type": "code",
   "execution_count": 7,
   "id": "b4609fad",
   "metadata": {},
   "outputs": [],
   "source": [
    "def download_data_from_api(api_key, indicator_ids):\n",
    "    url = f'https://www.cnb.cz/aradb/api/v1/data?indicator_id_list={indicator_ids}&api_key={api_key}'\n",
    "    response = requests.get(url)\n",
    "    data=response.text\n",
    "\n",
    "    if response.status_code == 200:\n",
    "        df = pd.read_csv(StringIO(data), delimiter=';', decimal=',', thousands=None)\n",
    "\n",
    "        df['period'] = pd.to_datetime(df['period'], format='%Y%m%d')\n",
    "\n",
    "        df = df.drop(columns=\"snapshot_id\")\n",
    "\n",
    "        return df\n",
    "    else:\n",
    "        print(\"Failed to fetch data from the API\")\n",
    "        return None"
   ]
  },
  {
   "cell_type": "code",
   "execution_count": 8,
   "id": "b452eef5",
   "metadata": {},
   "outputs": [
    {
     "name": "stdout",
     "output_type": "stream",
     "text": [
      "                  indicator_id     period       value\n",
      "0        SHDPZDRQ20152B1GMIRSA 2023-09-30   99.280690\n",
      "1        SHDPZDRQ20152B1GMIRSA 2023-06-30   99.580160\n",
      "2        SHDPZDRQ20152B1GMIRSA 2023-03-31   99.622176\n",
      "3        SHDPZDRQ20152B1GMIRSA 2022-12-31  100.120022\n",
      "4        SHDPZDRQ20152B1GMIRSA 2022-09-30  101.350071\n",
      "...                        ...        ...         ...\n",
      "12984  MEXRHCZEUDNAJEXRVALNOMD 2015-01-08   27.865000\n",
      "12985  MEXRHCZEUDNAJEXRVALNOMD 2015-01-07   27.785000\n",
      "12986  MEXRHCZEUDNAJEXRVALNOMD 2015-01-06   27.695000\n",
      "12987  MEXRHCZEUDNAJEXRVALNOMD 2015-01-05   27.675000\n",
      "12988  MEXRHCZEUDNAJEXRVALNOMD 2015-01-02   27.700000\n",
      "\n",
      "[12989 rows x 3 columns]\n"
     ]
    }
   ],
   "source": [
    "#Download data\n",
    "my_df = download_data_from_api(my_api_key, my_IDs)\n",
    "if my_df is not None:\n",
    "    print(my_df)"
   ]
  },
  {
   "cell_type": "code",
   "execution_count": null,
   "id": "253d934b",
   "metadata": {},
   "outputs": [],
   "source": []
  }
 ],
 "metadata": {
  "kernelspec": {
   "display_name": "Python 3 (ipykernel)",
   "language": "python",
   "name": "python3"
  },
  "language_info": {
   "codemirror_mode": {
    "name": "ipython",
    "version": 3
   },
   "file_extension": ".py",
   "mimetype": "text/x-python",
   "name": "python",
   "nbconvert_exporter": "python",
   "pygments_lexer": "ipython3",
   "version": "3.9.13"
  }
 },
 "nbformat": 4,
 "nbformat_minor": 5
}
