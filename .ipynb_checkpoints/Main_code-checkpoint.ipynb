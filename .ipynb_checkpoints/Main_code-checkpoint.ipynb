{
 "cells": [
  {
   "cell_type": "code",
   "execution_count": 36,
   "id": "56598cdb",
   "metadata": {},
   "outputs": [],
   "source": [
    "import requests\n",
    "import pandas as pd\n",
    "from io import StringIO\n",
    "import matplotlib.pyplot as plt\n",
    "import datetime"
   ]
  },
  {
   "cell_type": "markdown",
   "id": "735a36f7",
   "metadata": {},
   "source": [
    "# Download DATA\n",
    "\n",
    "In this section we choose which time series we want to download from the CNB ARAD time series system (A public database that is part of the information service of the Czech National Bank. The system presents aggregated data for individual statistics and areas of the financial market in a uniform manner in time series.)"
   ]
  },
  {
   "cell_type": "markdown",
   "id": "28b0037f",
   "metadata": {},
   "source": [
    "#### ARAD codes - legend\n",
    "\n",
    "*   SHDPZDRQ20152B1GMIRSA - GDP Index, 2015 = 100, S.A.\n",
    "*   SHDPVYDQ20152B1GNMLSA - GDP volume, constant prices, CZK MIL, S.A.\n",
    "*   SHDPVYDQ20151B1GNISNA - GDP Index y-o-y, current prices, not-adjusted\n",
    "*   SPRUMMIR20151SA - Industry production Index, 2015 = 100, S.A.\n",
    "*   SPRUMMIS20151NA - Industry production y-o-y Index, not-adjusted\n",
    "*   SCCSUM2005IR00 - CPI Index until 2016, 2005=100\n",
    "*   SCCSUM2015IR00 - CPI Index from 2017, 2015=100\n",
    "*   SCCSUM2005IS00 - CPI Index y-o-y until 2016\n",
    "*   SCCSUM2015IS00 - CPI Index y-o-y from 2017\n",
    "*   SCCSUM2015IK00 - Inflation rate y-o-y\n",
    "*   MIRFMSPR3XRATPECD - 3M Pribor (daily)\n",
    "*   MIRFMSPR12RATPECD - 12M Pribor (daily)\n",
    "*   MEXRHCZEUQNAJEXRVALNOMQ - Exchange rate EUR/CZK (quarterly), hedging of exports"
   ]
  },
  {
   "cell_type": "markdown",
   "id": "d7e6b3e8",
   "metadata": {},
   "source": [
    "In the ID_dict dictionary, the key is a CNB ARAD indicator_id and the value is a descrtiption of the indicator. Above, more detailed description of each time series based on the indicator_id is given. Under my_api_key is the individual's API key which can be created on the CNB ARAD website after registration."
   ]
  },
  {
   "cell_type": "code",
   "execution_count": 37,
   "id": "a7ebd3fa",
   "metadata": {},
   "outputs": [],
   "source": [
    "#Define variables and login\n",
    "ID_dict = {\"SHDPZDRQ20152B1GMIRSA\": 'GDP_index', 'SHDPVYDQ20152B1GNMLSA': 'GDP_vol', 'SHDPVYDQ20151B1GNISNA': 'GDP_yoy', \"SPRUMMIR20151SA\":\"Industry_index\",\n",
    "           'SCCSUM2005IR00': 'CPI_index_2016',\"SCCSUM2015IR00\":\"CPI_index_2017\" ,'SCCSUM2005IS00': 'CPI_yoy_2016','SCCSUM2015IS00': 'CPI_yoy_2017',\n",
    "          'MIRFMSPR3XRATPECD': 'PRIBOR_3M', 'MIRFMSPR12RATPECD': 'PRIBOR_12M', 'MEXRHCZEUQNAJEXRVALNOMQ': 'EUR_CZK'}\n",
    "\n",
    "my_IDs = ','.join(ID_dict.keys())\n",
    "my_api_key = \"202326111959266710376710375FTR2ZOFR7GADZLV\""
   ]
  },
  {
   "cell_type": "code",
   "execution_count": 40,
   "id": "b4609fad",
   "metadata": {},
   "outputs": [],
   "source": [
    "def download_data_from_api(api_key, indicator_ids):\n",
    "  '''\n",
    "  Downloads time series data from the CNB ARAD database on the indicators given to it in the indicator_ids as one string separated by commas without space. Individual's API key\n",
    "  which can be created on the CNB ARAD website after registration. The output is in the data frame format with columns: index, indicator_id, period (YYYY-MM-DD), value.\n",
    "  '''\n",
    "  url = f'https://www.cnb.cz/aradb/api/v1/data?indicator_id_list={indicator_ids}&api_key={api_key}'\n",
    "  response = requests.get(url)\n",
    "  data=response.text\n",
    "  if response.status_code == 200:\n",
    "      df = pd.read_csv(StringIO(data), delimiter=';', decimal=',', thousands=None)\n",
    "\n",
    "      df['period'] = pd.to_datetime(df['period'], format='%Y%m%d')\n",
    "\n",
    "      df = df.drop(columns=\"snapshot_id\")\n",
    "\n",
    "      return df\n",
    "  else:\n",
    "      print(\"Failed to fetch data from the API\")\n",
    "      return None"
   ]
  },
  {
   "cell_type": "code",
   "execution_count": 41,
   "id": "b452eef5",
   "metadata": {
    "scrolled": true
   },
   "outputs": [
    {
     "name": "stdout",
     "output_type": "stream",
     "text": [
      "                  indicator_id     period       value\n",
      "0        SHDPZDRQ20152B1GMIRSA 2023-09-30   99.206971\n",
      "1        SHDPZDRQ20152B1GMIRSA 2023-06-30   99.608377\n",
      "2        SHDPZDRQ20152B1GMIRSA 2023-03-31   99.684361\n",
      "3        SHDPZDRQ20152B1GMIRSA 2022-12-31  100.145524\n",
      "4        SHDPZDRQ20152B1GMIRSA 2022-09-30  101.339006\n",
      "...                        ...        ...         ...\n",
      "10775  MEXRHCZEUQNAJEXRVALNOMQ 1999-03-31   37.156000\n",
      "10776  MEXRHCZEUQNAJEXRVALNOMQ 1998-12-31   35.124000\n",
      "10777  MEXRHCZEUQNAJEXRVALNOMQ 1998-09-30   35.321000\n",
      "10778  MEXRHCZEUQNAJEXRVALNOMQ 1998-06-30   36.579000\n",
      "10779  MEXRHCZEUQNAJEXRVALNOMQ 1998-03-31   37.664000\n",
      "\n",
      "[10780 rows x 3 columns]\n"
     ]
    }
   ],
   "source": [
    "#Download data\n",
    "my_df = download_data_from_api(my_api_key, my_IDs)\n",
    "if my_df is not None:\n",
    "    print(my_df)"
   ]
  },
  {
   "cell_type": "code",
   "execution_count": 42,
   "id": "4d28a0de",
   "metadata": {},
   "outputs": [
    {
     "name": "stdout",
     "output_type": "stream",
     "text": [
      "All requested series downloaded successfully\n"
     ]
    }
   ],
   "source": [
    "#Check if all requested time series are downloaded\n",
    "if set(ID_dict) == set(my_df[\"indicator_id\"]):\n",
    "  print(\"All requested series downloaded successfully\")\n",
    "else:\n",
    "  print(\"Some requested series are missing\")"
   ]
  },
  {
   "cell_type": "markdown",
   "id": "67d2def6",
   "metadata": {},
   "source": [
    "# Processing the data\n",
    "\n",
    "In this section we define a series of functions for processing and manipulating a pandas DataFrame containing our time series indicators."
   ]
  },
  {
   "cell_type": "code",
   "execution_count": 43,
   "id": "5f745e5f",
   "metadata": {},
   "outputs": [],
   "source": [
    "def process_data(my_df, ID_dict):\n",
    "  '''\n",
    "  Adds a new column \"year_month\" to the DataFrame, extracts monthly data based on the \"indicator_id\" and \"year_month,\"\n",
    "  pivots the table, renames columns according to the provided dictionary, and returns the processed DataFrame.\n",
    "  '''\n",
    "  my_df['year_month'] = my_df['period'].dt.to_period('M')\n",
    "\n",
    "  monthly_df = my_df.groupby(['indicator_id', 'year_month']).mean().reset_index()\n",
    "\n",
    "  monthly_df = pd.pivot(monthly_df, index=\"year_month\", columns=\"indicator_id\", values=\"value\")\n",
    "\n",
    "  monthly_df.rename(columns=ID_dict, inplace=True)\n",
    "\n",
    "  return monthly_df\n"
   ]
  },
  {
   "cell_type": "code",
   "execution_count": 44,
   "id": "bc11f1d0",
   "metadata": {},
   "outputs": [],
   "source": [
    "def data_to_current_date(df):\n",
    "  '''\n",
    "  Calculates the current year and month, subsets the DataFrame up to the current year and month, and returns the updated DataFrame.\n",
    "  '''\n",
    "  ct = datetime.datetime.now()\n",
    "  current_year_month = ct.strftime(\"%Y-%m\")\n",
    "  df = df[:current_year_month]\n",
    "\n",
    "  return df"
   ]
  },
  {
   "cell_type": "code",
   "execution_count": 45,
   "id": "4dc4eecb",
   "metadata": {},
   "outputs": [],
   "source": [
    "def recalculate_series_to_differente_base(df,column_recalculate, column_contains_base_year, base_year):\n",
    "  '''\n",
    "  Normalizes the specified column based on the mean value of the base year and returns the updated DataFrame.\n",
    "\n",
    "  Provide a pandas data frame with index in a date format, and two columns, which are part of one index, but with a different base or one column, but you want to recalculate\n",
    "  it to a different base year. In the latter case, insert the same column name twice. Provide the base year and the function recalculates the column_recalculate to the\n",
    "  designated base.\n",
    "  '''\n",
    "  df['year'] = df.index.year\n",
    "\n",
    "  base_year_df = df[df['year'] == base_year].copy()\n",
    "  base_mean = base_year_df[column_contains_base_year].mean()\n",
    "\n",
    "  df[column_recalculate] = df[column_recalculate].apply(lambda x: x * 100 / base_mean)\n",
    "\n",
    "  return df"
   ]
  },
  {
   "cell_type": "code",
   "execution_count": 46,
   "id": "59820f2e",
   "metadata": {},
   "outputs": [],
   "source": [
    "def combine_consecutive_series(df,column1,column2,partition_year, name_new_column):\n",
    "  '''\n",
    "  Combines the consecutive series based on the partition year and returns the updated DataFrame with new combined column named according to specification in the\n",
    "  name_new_column argument.\n",
    "\n",
    "  Provide a pandas data frame with index in a date format, and two columns, which are part of one series, one ending on a specific date and the other continuing from the following\n",
    "  date. Provide the year (partition_year) when the first part of the series (column1) ends. Finally provide the name of the new combined column (name_new_column).\n",
    "  '''\n",
    "  df['year'] = df.index.year\n",
    "\n",
    "  df[name_new_column] = df.apply(lambda row: row[column1] if row['year'] <= partition_year else row[column2], axis=1)\n",
    "  df = df.drop([column1, column2], axis=1)\n",
    "\n",
    "  return df"
   ]
  },
  {
   "cell_type": "code",
   "execution_count": 47,
   "id": "118f9106",
   "metadata": {},
   "outputs": [],
   "source": [
    "def growth_from_yoy_index(df,yoy_index_column,new_growth_column):\n",
    "  '''\n",
    "  Calculates the growth from the year-over-year index and adds a new column for growth named according to specification in the new_growth_column argument.\n",
    "  '''\n",
    "  df[new_growth_column]=df_combed[yoy_index_column].apply(lambda a: a -100)\n",
    "  return df"
   ]
  },
  {
   "cell_type": "code",
   "execution_count": 48,
   "id": "3a6b449c",
   "metadata": {},
   "outputs": [],
   "source": [
    "def growth_from_index(df,index_column,new_growth_column):\n",
    "  '''\n",
    "  Calculates the percentage growth from the index and adds a new column for growth named according to specification in the new_growth_column argument.\n",
    "  '''\n",
    "  df[new_growth_column] = df_combed[index_column].pct_change() * 100\n",
    "  return df"
   ]
  },
  {
   "cell_type": "code",
   "execution_count": 49,
   "id": "7901e664",
   "metadata": {},
   "outputs": [],
   "source": [
    "def backward_fill_quarterly_data(df, start_date, columns):\n",
    "  '''\n",
    "  Subsets the DataFrame from the start date, backward fills the specified columns, and returns the updated DataFrame.\n",
    "\n",
    "  Provide a data frame with a date type index, column, or list of columns you want to backward fill (eg. quarterly data to monthly data) and start_date from which you want\n",
    "  to start the filling.\n",
    "  '''\n",
    "  temp_df = df.copy()\n",
    "  temp_df = temp_df.loc[start_date:]\n",
    "  temp_df[columns] = temp_df[columns].fillna(method='bfill')\n",
    "  df = df.combine_first(temp_df)\n",
    "\n",
    "  return df"
   ]
  },
  {
   "cell_type": "code",
   "execution_count": 50,
   "id": "31e09b76",
   "metadata": {},
   "outputs": [],
   "source": [
    "def subset_df(df, columns):\n",
    "  '''\n",
    "  Subsets the DataFrame to include only the specified columns in the columns argument and returns the new DataFrame.\n",
    "  '''\n",
    "  df_sub=df.copy()\n",
    "  df_sub=df_sub.filter(columns)\n",
    "  return df_sub"
   ]
  },
  {
   "cell_type": "code",
   "execution_count": 51,
   "id": "23190dec",
   "metadata": {},
   "outputs": [],
   "source": [
    "def generate_desc_stats(df, columns_to_drop):\n",
    "  '''\n",
    "  Takes a DataFrame, drops a specific column (columns_to_drop in the list format), calculates descriptive statistics for the remaining numeric columns,\n",
    "  formats the result, and returns the formatted statistics DataFrame.\n",
    "  '''\n",
    "  df_desc = df.drop(columns=columns_to_drop)\n",
    "  desc_stats = df_desc.describe().loc[[\"mean\", \"std\", \"min\", \"25%\", \"50%\", \"75%\", \"max\"]]\n",
    "  desc_stats = desc_stats.applymap(lambda x: f\"%.2f\" % x)\n",
    "  return desc_stats"
   ]
  },
  {
   "cell_type": "markdown",
   "id": "c1843b1a",
   "metadata": {},
   "source": [
    "After defining all functions, the we apply them to a DataFrame (df_combed). It processes the data by recalculating and combining series, calculating growth, filling missing values, and dividing the dataset into two subsets (df_index and df_growth) based on the nature of the data. Finally, it generates descriptive statistics for the remaining DataFrame (df_desc)."
   ]
  },
  {
   "cell_type": "code",
   "execution_count": 52,
   "id": "fe397f8e",
   "metadata": {},
   "outputs": [
    {
     "data": {
      "text/html": [
       "<div>\n",
       "<style scoped>\n",
       "    .dataframe tbody tr th:only-of-type {\n",
       "        vertical-align: middle;\n",
       "    }\n",
       "\n",
       "    .dataframe tbody tr th {\n",
       "        vertical-align: top;\n",
       "    }\n",
       "\n",
       "    .dataframe thead th {\n",
       "        text-align: right;\n",
       "    }\n",
       "</style>\n",
       "<table border=\"1\" class=\"dataframe\">\n",
       "  <thead>\n",
       "    <tr style=\"text-align: right;\">\n",
       "      <th>indicator_id</th>\n",
       "      <th>EUR_CZK</th>\n",
       "      <th>PRIBOR_12M</th>\n",
       "      <th>PRIBOR_3M</th>\n",
       "      <th>GDP_yoy</th>\n",
       "      <th>GDP_vol</th>\n",
       "      <th>GDP_index</th>\n",
       "      <th>Industry_index</th>\n",
       "      <th>year</th>\n",
       "      <th>CPI_index</th>\n",
       "      <th>CPI_yoy</th>\n",
       "      <th>Inflation_yoy</th>\n",
       "      <th>GDP_growth</th>\n",
       "      <th>Industry_growth</th>\n",
       "    </tr>\n",
       "    <tr>\n",
       "      <th>year_month</th>\n",
       "      <th></th>\n",
       "      <th></th>\n",
       "      <th></th>\n",
       "      <th></th>\n",
       "      <th></th>\n",
       "      <th></th>\n",
       "      <th></th>\n",
       "      <th></th>\n",
       "      <th></th>\n",
       "      <th></th>\n",
       "      <th></th>\n",
       "      <th></th>\n",
       "      <th></th>\n",
       "    </tr>\n",
       "  </thead>\n",
       "  <tbody>\n",
       "    <tr>\n",
       "      <th>1995-03</th>\n",
       "      <td>NaN</td>\n",
       "      <td>NaN</td>\n",
       "      <td>NaN</td>\n",
       "      <td>NaN</td>\n",
       "      <td>6.964040e+11</td>\n",
       "      <td>NaN</td>\n",
       "      <td>NaN</td>\n",
       "      <td>1995</td>\n",
       "      <td>NaN</td>\n",
       "      <td>NaN</td>\n",
       "      <td>NaN</td>\n",
       "      <td>NaN</td>\n",
       "      <td>NaN</td>\n",
       "    </tr>\n",
       "    <tr>\n",
       "      <th>1995-06</th>\n",
       "      <td>NaN</td>\n",
       "      <td>NaN</td>\n",
       "      <td>NaN</td>\n",
       "      <td>NaN</td>\n",
       "      <td>7.095840e+11</td>\n",
       "      <td>NaN</td>\n",
       "      <td>NaN</td>\n",
       "      <td>1995</td>\n",
       "      <td>NaN</td>\n",
       "      <td>NaN</td>\n",
       "      <td>NaN</td>\n",
       "      <td>NaN</td>\n",
       "      <td>NaN</td>\n",
       "    </tr>\n",
       "    <tr>\n",
       "      <th>1995-09</th>\n",
       "      <td>NaN</td>\n",
       "      <td>NaN</td>\n",
       "      <td>NaN</td>\n",
       "      <td>NaN</td>\n",
       "      <td>7.185180e+11</td>\n",
       "      <td>NaN</td>\n",
       "      <td>NaN</td>\n",
       "      <td>1995</td>\n",
       "      <td>NaN</td>\n",
       "      <td>NaN</td>\n",
       "      <td>NaN</td>\n",
       "      <td>NaN</td>\n",
       "      <td>NaN</td>\n",
       "    </tr>\n",
       "    <tr>\n",
       "      <th>1995-12</th>\n",
       "      <td>NaN</td>\n",
       "      <td>NaN</td>\n",
       "      <td>NaN</td>\n",
       "      <td>NaN</td>\n",
       "      <td>7.236810e+11</td>\n",
       "      <td>NaN</td>\n",
       "      <td>NaN</td>\n",
       "      <td>1995</td>\n",
       "      <td>NaN</td>\n",
       "      <td>NaN</td>\n",
       "      <td>NaN</td>\n",
       "      <td>NaN</td>\n",
       "      <td>NaN</td>\n",
       "    </tr>\n",
       "    <tr>\n",
       "      <th>1996-03</th>\n",
       "      <td>NaN</td>\n",
       "      <td>NaN</td>\n",
       "      <td>NaN</td>\n",
       "      <td>116.569044</td>\n",
       "      <td>7.367040e+11</td>\n",
       "      <td>105.786871</td>\n",
       "      <td>NaN</td>\n",
       "      <td>1996</td>\n",
       "      <td>NaN</td>\n",
       "      <td>NaN</td>\n",
       "      <td>NaN</td>\n",
       "      <td>16.569044</td>\n",
       "      <td>NaN</td>\n",
       "    </tr>\n",
       "    <tr>\n",
       "      <th>...</th>\n",
       "      <td>...</td>\n",
       "      <td>...</td>\n",
       "      <td>...</td>\n",
       "      <td>...</td>\n",
       "      <td>...</td>\n",
       "      <td>...</td>\n",
       "      <td>...</td>\n",
       "      <td>...</td>\n",
       "      <td>...</td>\n",
       "      <td>...</td>\n",
       "      <td>...</td>\n",
       "      <td>...</td>\n",
       "      <td>...</td>\n",
       "    </tr>\n",
       "    <tr>\n",
       "      <th>2023-08</th>\n",
       "      <td>NaN</td>\n",
       "      <td>6.947391</td>\n",
       "      <td>7.103043</td>\n",
       "      <td>NaN</td>\n",
       "      <td>NaN</td>\n",
       "      <td>NaN</td>\n",
       "      <td>113.0</td>\n",
       "      <td>2023</td>\n",
       "      <td>149.1</td>\n",
       "      <td>108.5</td>\n",
       "      <td>8.5</td>\n",
       "      <td>NaN</td>\n",
       "      <td>-0.176678</td>\n",
       "    </tr>\n",
       "    <tr>\n",
       "      <th>2023-09</th>\n",
       "      <td>24.133667</td>\n",
       "      <td>6.847000</td>\n",
       "      <td>7.089500</td>\n",
       "      <td>106.291954</td>\n",
       "      <td>1.317540e+12</td>\n",
       "      <td>99.206971</td>\n",
       "      <td>111.6</td>\n",
       "      <td>2023</td>\n",
       "      <td>148.0</td>\n",
       "      <td>106.9</td>\n",
       "      <td>6.9</td>\n",
       "      <td>6.291954</td>\n",
       "      <td>-1.238938</td>\n",
       "    </tr>\n",
       "    <tr>\n",
       "      <th>2023-10</th>\n",
       "      <td>NaN</td>\n",
       "      <td>6.609091</td>\n",
       "      <td>7.047273</td>\n",
       "      <td>NaN</td>\n",
       "      <td>NaN</td>\n",
       "      <td>NaN</td>\n",
       "      <td>114.7</td>\n",
       "      <td>2023</td>\n",
       "      <td>148.1</td>\n",
       "      <td>108.5</td>\n",
       "      <td>8.5</td>\n",
       "      <td>NaN</td>\n",
       "      <td>2.777778</td>\n",
       "    </tr>\n",
       "    <tr>\n",
       "      <th>2023-11</th>\n",
       "      <td>NaN</td>\n",
       "      <td>NaN</td>\n",
       "      <td>NaN</td>\n",
       "      <td>NaN</td>\n",
       "      <td>NaN</td>\n",
       "      <td>NaN</td>\n",
       "      <td>113.1</td>\n",
       "      <td>2023</td>\n",
       "      <td>148.2</td>\n",
       "      <td>107.3</td>\n",
       "      <td>7.3</td>\n",
       "      <td>NaN</td>\n",
       "      <td>-1.394943</td>\n",
       "    </tr>\n",
       "    <tr>\n",
       "      <th>2023-12</th>\n",
       "      <td>24.600000</td>\n",
       "      <td>NaN</td>\n",
       "      <td>NaN</td>\n",
       "      <td>NaN</td>\n",
       "      <td>NaN</td>\n",
       "      <td>NaN</td>\n",
       "      <td>NaN</td>\n",
       "      <td>2023</td>\n",
       "      <td>147.6</td>\n",
       "      <td>106.9</td>\n",
       "      <td>6.9</td>\n",
       "      <td>NaN</td>\n",
       "      <td>0.000000</td>\n",
       "    </tr>\n",
       "  </tbody>\n",
       "</table>\n",
       "<p>308 rows × 13 columns</p>\n",
       "</div>"
      ],
      "text/plain": [
       "indicator_id    EUR_CZK  PRIBOR_12M  PRIBOR_3M     GDP_yoy       GDP_vol  \\\n",
       "year_month                                                                 \n",
       "1995-03             NaN         NaN        NaN         NaN  6.964040e+11   \n",
       "1995-06             NaN         NaN        NaN         NaN  7.095840e+11   \n",
       "1995-09             NaN         NaN        NaN         NaN  7.185180e+11   \n",
       "1995-12             NaN         NaN        NaN         NaN  7.236810e+11   \n",
       "1996-03             NaN         NaN        NaN  116.569044  7.367040e+11   \n",
       "...                 ...         ...        ...         ...           ...   \n",
       "2023-08             NaN    6.947391   7.103043         NaN           NaN   \n",
       "2023-09       24.133667    6.847000   7.089500  106.291954  1.317540e+12   \n",
       "2023-10             NaN    6.609091   7.047273         NaN           NaN   \n",
       "2023-11             NaN         NaN        NaN         NaN           NaN   \n",
       "2023-12       24.600000         NaN        NaN         NaN           NaN   \n",
       "\n",
       "indicator_id   GDP_index  Industry_index  year  CPI_index  CPI_yoy  \\\n",
       "year_month                                                           \n",
       "1995-03              NaN             NaN  1995        NaN      NaN   \n",
       "1995-06              NaN             NaN  1995        NaN      NaN   \n",
       "1995-09              NaN             NaN  1995        NaN      NaN   \n",
       "1995-12              NaN             NaN  1995        NaN      NaN   \n",
       "1996-03       105.786871             NaN  1996        NaN      NaN   \n",
       "...                  ...             ...   ...        ...      ...   \n",
       "2023-08              NaN           113.0  2023      149.1    108.5   \n",
       "2023-09        99.206971           111.6  2023      148.0    106.9   \n",
       "2023-10              NaN           114.7  2023      148.1    108.5   \n",
       "2023-11              NaN           113.1  2023      148.2    107.3   \n",
       "2023-12              NaN             NaN  2023      147.6    106.9   \n",
       "\n",
       "indicator_id  Inflation_yoy  GDP_growth  Industry_growth  \n",
       "year_month                                                \n",
       "1995-03                 NaN         NaN              NaN  \n",
       "1995-06                 NaN         NaN              NaN  \n",
       "1995-09                 NaN         NaN              NaN  \n",
       "1995-12                 NaN         NaN              NaN  \n",
       "1996-03                 NaN   16.569044              NaN  \n",
       "...                     ...         ...              ...  \n",
       "2023-08                 8.5         NaN        -0.176678  \n",
       "2023-09                 6.9    6.291954        -1.238938  \n",
       "2023-10                 8.5         NaN         2.777778  \n",
       "2023-11                 7.3         NaN        -1.394943  \n",
       "2023-12                 6.9         NaN         0.000000  \n",
       "\n",
       "[308 rows x 13 columns]"
      ]
     },
     "execution_count": 52,
     "metadata": {},
     "output_type": "execute_result"
    }
   ],
   "source": [
    "#Process data\n",
    "df_combed = process_data(my_df, ID_dict)\n",
    "df_combed =recalculate_series_to_differente_base(df_combed,\"CPI_index_2016\", \"CPI_index_2016\", 2015)\n",
    "df_combed = combine_consecutive_series(df_combed,\"CPI_index_2016\",\"CPI_index_2017\",2016, \"CPI_index\")\n",
    "df_combed = combine_consecutive_series(df_combed,\"CPI_yoy_2016\",\"CPI_yoy_2017\",2016, \"CPI_yoy\")\n",
    "df_combed = growth_from_yoy_index(df_combed,\"CPI_yoy\",\"Inflation_yoy\")\n",
    "df_combed = growth_from_yoy_index(df_combed,\"GDP_yoy\",\"GDP_growth\")\n",
    "df_combed = growth_from_index(df_combed,\"Industry_index\",\"Industry_growth\")\n",
    "df_combed = data_to_current_date(df_combed)\n",
    "df_combed"
   ]
  },
  {
   "cell_type": "code",
   "execution_count": 53,
   "id": "5eaea4c9",
   "metadata": {},
   "outputs": [
    {
     "data": {
      "text/html": [
       "<div>\n",
       "<style scoped>\n",
       "    .dataframe tbody tr th:only-of-type {\n",
       "        vertical-align: middle;\n",
       "    }\n",
       "\n",
       "    .dataframe tbody tr th {\n",
       "        vertical-align: top;\n",
       "    }\n",
       "\n",
       "    .dataframe thead th {\n",
       "        text-align: right;\n",
       "    }\n",
       "</style>\n",
       "<table border=\"1\" class=\"dataframe\">\n",
       "  <thead>\n",
       "    <tr style=\"text-align: right;\">\n",
       "      <th>indicator_id</th>\n",
       "      <th>EUR_CZK</th>\n",
       "      <th>PRIBOR_12M</th>\n",
       "      <th>PRIBOR_3M</th>\n",
       "      <th>GDP_yoy</th>\n",
       "      <th>GDP_vol</th>\n",
       "      <th>GDP_index</th>\n",
       "      <th>Industry_index</th>\n",
       "      <th>year</th>\n",
       "      <th>CPI_index</th>\n",
       "      <th>CPI_yoy</th>\n",
       "      <th>Inflation_yoy</th>\n",
       "      <th>GDP_growth</th>\n",
       "      <th>Industry_growth</th>\n",
       "    </tr>\n",
       "    <tr>\n",
       "      <th>year_month</th>\n",
       "      <th></th>\n",
       "      <th></th>\n",
       "      <th></th>\n",
       "      <th></th>\n",
       "      <th></th>\n",
       "      <th></th>\n",
       "      <th></th>\n",
       "      <th></th>\n",
       "      <th></th>\n",
       "      <th></th>\n",
       "      <th></th>\n",
       "      <th></th>\n",
       "      <th></th>\n",
       "    </tr>\n",
       "  </thead>\n",
       "  <tbody>\n",
       "    <tr>\n",
       "      <th>1995-03</th>\n",
       "      <td>NaN</td>\n",
       "      <td>NaN</td>\n",
       "      <td>NaN</td>\n",
       "      <td>NaN</td>\n",
       "      <td>6.964040e+11</td>\n",
       "      <td>NaN</td>\n",
       "      <td>NaN</td>\n",
       "      <td>1995</td>\n",
       "      <td>NaN</td>\n",
       "      <td>NaN</td>\n",
       "      <td>NaN</td>\n",
       "      <td>NaN</td>\n",
       "      <td>NaN</td>\n",
       "    </tr>\n",
       "    <tr>\n",
       "      <th>1995-06</th>\n",
       "      <td>NaN</td>\n",
       "      <td>NaN</td>\n",
       "      <td>NaN</td>\n",
       "      <td>NaN</td>\n",
       "      <td>7.095840e+11</td>\n",
       "      <td>NaN</td>\n",
       "      <td>NaN</td>\n",
       "      <td>1995</td>\n",
       "      <td>NaN</td>\n",
       "      <td>NaN</td>\n",
       "      <td>NaN</td>\n",
       "      <td>NaN</td>\n",
       "      <td>NaN</td>\n",
       "    </tr>\n",
       "    <tr>\n",
       "      <th>1995-09</th>\n",
       "      <td>NaN</td>\n",
       "      <td>NaN</td>\n",
       "      <td>NaN</td>\n",
       "      <td>NaN</td>\n",
       "      <td>7.185180e+11</td>\n",
       "      <td>NaN</td>\n",
       "      <td>NaN</td>\n",
       "      <td>1995</td>\n",
       "      <td>NaN</td>\n",
       "      <td>NaN</td>\n",
       "      <td>NaN</td>\n",
       "      <td>NaN</td>\n",
       "      <td>NaN</td>\n",
       "    </tr>\n",
       "    <tr>\n",
       "      <th>1995-12</th>\n",
       "      <td>NaN</td>\n",
       "      <td>NaN</td>\n",
       "      <td>NaN</td>\n",
       "      <td>NaN</td>\n",
       "      <td>7.236810e+11</td>\n",
       "      <td>NaN</td>\n",
       "      <td>NaN</td>\n",
       "      <td>1995</td>\n",
       "      <td>NaN</td>\n",
       "      <td>NaN</td>\n",
       "      <td>NaN</td>\n",
       "      <td>NaN</td>\n",
       "      <td>NaN</td>\n",
       "    </tr>\n",
       "    <tr>\n",
       "      <th>1996-03</th>\n",
       "      <td>NaN</td>\n",
       "      <td>NaN</td>\n",
       "      <td>NaN</td>\n",
       "      <td>116.569044</td>\n",
       "      <td>7.367040e+11</td>\n",
       "      <td>105.786871</td>\n",
       "      <td>NaN</td>\n",
       "      <td>1996</td>\n",
       "      <td>NaN</td>\n",
       "      <td>NaN</td>\n",
       "      <td>NaN</td>\n",
       "      <td>16.569044</td>\n",
       "      <td>NaN</td>\n",
       "    </tr>\n",
       "    <tr>\n",
       "      <th>...</th>\n",
       "      <td>...</td>\n",
       "      <td>...</td>\n",
       "      <td>...</td>\n",
       "      <td>...</td>\n",
       "      <td>...</td>\n",
       "      <td>...</td>\n",
       "      <td>...</td>\n",
       "      <td>...</td>\n",
       "      <td>...</td>\n",
       "      <td>...</td>\n",
       "      <td>...</td>\n",
       "      <td>...</td>\n",
       "      <td>...</td>\n",
       "    </tr>\n",
       "    <tr>\n",
       "      <th>2023-08</th>\n",
       "      <td>24.133667</td>\n",
       "      <td>6.947391</td>\n",
       "      <td>7.103043</td>\n",
       "      <td>106.291954</td>\n",
       "      <td>1.317540e+12</td>\n",
       "      <td>99.206971</td>\n",
       "      <td>113.0</td>\n",
       "      <td>2023</td>\n",
       "      <td>149.1</td>\n",
       "      <td>108.5</td>\n",
       "      <td>8.5</td>\n",
       "      <td>6.291954</td>\n",
       "      <td>-0.176678</td>\n",
       "    </tr>\n",
       "    <tr>\n",
       "      <th>2023-09</th>\n",
       "      <td>24.133667</td>\n",
       "      <td>6.847000</td>\n",
       "      <td>7.089500</td>\n",
       "      <td>106.291954</td>\n",
       "      <td>1.317540e+12</td>\n",
       "      <td>99.206971</td>\n",
       "      <td>111.6</td>\n",
       "      <td>2023</td>\n",
       "      <td>148.0</td>\n",
       "      <td>106.9</td>\n",
       "      <td>6.9</td>\n",
       "      <td>6.291954</td>\n",
       "      <td>-1.238938</td>\n",
       "    </tr>\n",
       "    <tr>\n",
       "      <th>2023-10</th>\n",
       "      <td>24.600000</td>\n",
       "      <td>6.609091</td>\n",
       "      <td>7.047273</td>\n",
       "      <td>NaN</td>\n",
       "      <td>NaN</td>\n",
       "      <td>NaN</td>\n",
       "      <td>114.7</td>\n",
       "      <td>2023</td>\n",
       "      <td>148.1</td>\n",
       "      <td>108.5</td>\n",
       "      <td>8.5</td>\n",
       "      <td>NaN</td>\n",
       "      <td>2.777778</td>\n",
       "    </tr>\n",
       "    <tr>\n",
       "      <th>2023-11</th>\n",
       "      <td>24.600000</td>\n",
       "      <td>NaN</td>\n",
       "      <td>NaN</td>\n",
       "      <td>NaN</td>\n",
       "      <td>NaN</td>\n",
       "      <td>NaN</td>\n",
       "      <td>113.1</td>\n",
       "      <td>2023</td>\n",
       "      <td>148.2</td>\n",
       "      <td>107.3</td>\n",
       "      <td>7.3</td>\n",
       "      <td>NaN</td>\n",
       "      <td>-1.394943</td>\n",
       "    </tr>\n",
       "    <tr>\n",
       "      <th>2023-12</th>\n",
       "      <td>24.600000</td>\n",
       "      <td>NaN</td>\n",
       "      <td>NaN</td>\n",
       "      <td>NaN</td>\n",
       "      <td>NaN</td>\n",
       "      <td>NaN</td>\n",
       "      <td>NaN</td>\n",
       "      <td>2023</td>\n",
       "      <td>147.6</td>\n",
       "      <td>106.9</td>\n",
       "      <td>6.9</td>\n",
       "      <td>NaN</td>\n",
       "      <td>0.000000</td>\n",
       "    </tr>\n",
       "  </tbody>\n",
       "</table>\n",
       "<p>308 rows × 13 columns</p>\n",
       "</div>"
      ],
      "text/plain": [
       "indicator_id    EUR_CZK  PRIBOR_12M  PRIBOR_3M     GDP_yoy       GDP_vol  \\\n",
       "year_month                                                                 \n",
       "1995-03             NaN         NaN        NaN         NaN  6.964040e+11   \n",
       "1995-06             NaN         NaN        NaN         NaN  7.095840e+11   \n",
       "1995-09             NaN         NaN        NaN         NaN  7.185180e+11   \n",
       "1995-12             NaN         NaN        NaN         NaN  7.236810e+11   \n",
       "1996-03             NaN         NaN        NaN  116.569044  7.367040e+11   \n",
       "...                 ...         ...        ...         ...           ...   \n",
       "2023-08       24.133667    6.947391   7.103043  106.291954  1.317540e+12   \n",
       "2023-09       24.133667    6.847000   7.089500  106.291954  1.317540e+12   \n",
       "2023-10       24.600000    6.609091   7.047273         NaN           NaN   \n",
       "2023-11       24.600000         NaN        NaN         NaN           NaN   \n",
       "2023-12       24.600000         NaN        NaN         NaN           NaN   \n",
       "\n",
       "indicator_id   GDP_index  Industry_index  year  CPI_index  CPI_yoy  \\\n",
       "year_month                                                           \n",
       "1995-03              NaN             NaN  1995        NaN      NaN   \n",
       "1995-06              NaN             NaN  1995        NaN      NaN   \n",
       "1995-09              NaN             NaN  1995        NaN      NaN   \n",
       "1995-12              NaN             NaN  1995        NaN      NaN   \n",
       "1996-03       105.786871             NaN  1996        NaN      NaN   \n",
       "...                  ...             ...   ...        ...      ...   \n",
       "2023-08        99.206971           113.0  2023      149.1    108.5   \n",
       "2023-09        99.206971           111.6  2023      148.0    106.9   \n",
       "2023-10              NaN           114.7  2023      148.1    108.5   \n",
       "2023-11              NaN           113.1  2023      148.2    107.3   \n",
       "2023-12              NaN             NaN  2023      147.6    106.9   \n",
       "\n",
       "indicator_id  Inflation_yoy  GDP_growth  Industry_growth  \n",
       "year_month                                                \n",
       "1995-03                 NaN         NaN              NaN  \n",
       "1995-06                 NaN         NaN              NaN  \n",
       "1995-09                 NaN         NaN              NaN  \n",
       "1995-12                 NaN         NaN              NaN  \n",
       "1996-03                 NaN   16.569044              NaN  \n",
       "...                     ...         ...              ...  \n",
       "2023-08                 8.5    6.291954        -0.176678  \n",
       "2023-09                 6.9    6.291954        -1.238938  \n",
       "2023-10                 8.5         NaN         2.777778  \n",
       "2023-11                 7.3         NaN        -1.394943  \n",
       "2023-12                 6.9         NaN         0.000000  \n",
       "\n",
       "[308 rows x 13 columns]"
      ]
     },
     "execution_count": 53,
     "metadata": {},
     "output_type": "execute_result"
    }
   ],
   "source": [
    "#Backward Fill in the quarterly data\n",
    "quarterly_columns = [\"GDP_yoy\", \"GDP_vol\", \"GDP_index\", \"GDP_growth\"]\n",
    "df_combed = backward_fill_quarterly_data(df_combed, '1996-03', quarterly_columns)\n",
    "df_combed = backward_fill_quarterly_data(df_combed, '1998-03', \"EUR_CZK\")\n",
    "df_combed"
   ]
  },
  {
   "cell_type": "code",
   "execution_count": 54,
   "id": "52a4e24d",
   "metadata": {},
   "outputs": [],
   "source": [
    "#Divide the data set into time series in percentages and time series as an index with 2015=100\n",
    "list_index=[\"CPI_index\",\"GDP_index\",\"Industry_index\",\"EUR_CZK\"]\n",
    "df_index=subset_df(df_combed, list_index)\n",
    "\n",
    "list_growth=[\"EUR_CZK\",\"PRIBOR_12M\",\"PRIBOR_3M\",\"Inflation_yoy\",\"GDP_growth\",\"Industry_growth\"]\n",
    "df_growth=subset_df(df_combed, list_growth)"
   ]
  },
  {
   "cell_type": "code",
   "execution_count": 55,
   "id": "7d3c38e6",
   "metadata": {
    "scrolled": true
   },
   "outputs": [
    {
     "data": {
      "text/html": [
       "<div>\n",
       "<style scoped>\n",
       "    .dataframe tbody tr th:only-of-type {\n",
       "        vertical-align: middle;\n",
       "    }\n",
       "\n",
       "    .dataframe tbody tr th {\n",
       "        vertical-align: top;\n",
       "    }\n",
       "\n",
       "    .dataframe thead th {\n",
       "        text-align: right;\n",
       "    }\n",
       "</style>\n",
       "<table border=\"1\" class=\"dataframe\">\n",
       "  <thead>\n",
       "    <tr style=\"text-align: right;\">\n",
       "      <th>indicator_id</th>\n",
       "      <th>EUR_CZK</th>\n",
       "      <th>PRIBOR_12M</th>\n",
       "      <th>PRIBOR_3M</th>\n",
       "      <th>GDP_yoy</th>\n",
       "      <th>GDP_vol</th>\n",
       "      <th>GDP_index</th>\n",
       "      <th>Industry_index</th>\n",
       "      <th>CPI_index</th>\n",
       "      <th>CPI_yoy</th>\n",
       "      <th>Inflation_yoy</th>\n",
       "      <th>GDP_growth</th>\n",
       "      <th>Industry_growth</th>\n",
       "    </tr>\n",
       "  </thead>\n",
       "  <tbody>\n",
       "    <tr>\n",
       "      <th>mean</th>\n",
       "      <td>27.85</td>\n",
       "      <td>2.20</td>\n",
       "      <td>1.94</td>\n",
       "      <td>105.32</td>\n",
       "      <td>1059607177049.18</td>\n",
       "      <td>102.43</td>\n",
       "      <td>93.72</td>\n",
       "      <td>96.88</td>\n",
       "      <td>103.24</td>\n",
       "      <td>3.24</td>\n",
       "      <td>5.32</td>\n",
       "      <td>0.23</td>\n",
       "    </tr>\n",
       "    <tr>\n",
       "      <th>std</th>\n",
       "      <td>3.39</td>\n",
       "      <td>1.87</td>\n",
       "      <td>1.90</td>\n",
       "      <td>3.88</td>\n",
       "      <td>187647598878.60</td>\n",
       "      <td>3.24</td>\n",
       "      <td>15.37</td>\n",
       "      <td>17.87</td>\n",
       "      <td>3.50</td>\n",
       "      <td>3.50</td>\n",
       "      <td>3.88</td>\n",
       "      <td>2.76</td>\n",
       "    </tr>\n",
       "    <tr>\n",
       "      <th>min</th>\n",
       "      <td>23.58</td>\n",
       "      <td>0.43</td>\n",
       "      <td>0.28</td>\n",
       "      <td>93.07</td>\n",
       "      <td>696404000000.00</td>\n",
       "      <td>89.20</td>\n",
       "      <td>65.40</td>\n",
       "      <td>71.63</td>\n",
       "      <td>99.60</td>\n",
       "      <td>-0.40</td>\n",
       "      <td>-6.93</td>\n",
       "      <td>-24.12</td>\n",
       "    </tr>\n",
       "    <tr>\n",
       "      <th>25%</th>\n",
       "      <td>25.56</td>\n",
       "      <td>0.61</td>\n",
       "      <td>0.41</td>\n",
       "      <td>102.69</td>\n",
       "      <td>885925000000.00</td>\n",
       "      <td>100.81</td>\n",
       "      <td>81.70</td>\n",
       "      <td>82.33</td>\n",
       "      <td>101.30</td>\n",
       "      <td>1.30</td>\n",
       "      <td>2.69</td>\n",
       "      <td>-0.93</td>\n",
       "    </tr>\n",
       "    <tr>\n",
       "      <th>50%</th>\n",
       "      <td>26.83</td>\n",
       "      <td>1.80</td>\n",
       "      <td>1.23</td>\n",
       "      <td>105.78</td>\n",
       "      <td>1073973000000.00</td>\n",
       "      <td>102.81</td>\n",
       "      <td>93.30</td>\n",
       "      <td>96.59</td>\n",
       "      <td>102.40</td>\n",
       "      <td>2.40</td>\n",
       "      <td>5.78</td>\n",
       "      <td>0.18</td>\n",
       "    </tr>\n",
       "    <tr>\n",
       "      <th>75%</th>\n",
       "      <td>29.76</td>\n",
       "      <td>2.78</td>\n",
       "      <td>2.46</td>\n",
       "      <td>107.82</td>\n",
       "      <td>1218009000000.00</td>\n",
       "      <td>104.65</td>\n",
       "      <td>110.15</td>\n",
       "      <td>104.03</td>\n",
       "      <td>103.60</td>\n",
       "      <td>3.60</td>\n",
       "      <td>7.82</td>\n",
       "      <td>1.44</td>\n",
       "    </tr>\n",
       "    <tr>\n",
       "      <th>max</th>\n",
       "      <td>37.66</td>\n",
       "      <td>7.55</td>\n",
       "      <td>7.30</td>\n",
       "      <td>116.57</td>\n",
       "      <td>1338953000000.00</td>\n",
       "      <td>109.18</td>\n",
       "      <td>117.80</td>\n",
       "      <td>149.10</td>\n",
       "      <td>118.00</td>\n",
       "      <td>18.00</td>\n",
       "      <td>16.57</td>\n",
       "      <td>18.21</td>\n",
       "    </tr>\n",
       "  </tbody>\n",
       "</table>\n",
       "</div>"
      ],
      "text/plain": [
       "indicator_id EUR_CZK PRIBOR_12M PRIBOR_3M GDP_yoy           GDP_vol GDP_index  \\\n",
       "mean           27.85       2.20      1.94  105.32  1059607177049.18    102.43   \n",
       "std             3.39       1.87      1.90    3.88   187647598878.60      3.24   \n",
       "min            23.58       0.43      0.28   93.07   696404000000.00     89.20   \n",
       "25%            25.56       0.61      0.41  102.69   885925000000.00    100.81   \n",
       "50%            26.83       1.80      1.23  105.78  1073973000000.00    102.81   \n",
       "75%            29.76       2.78      2.46  107.82  1218009000000.00    104.65   \n",
       "max            37.66       7.55      7.30  116.57  1338953000000.00    109.18   \n",
       "\n",
       "indicator_id Industry_index CPI_index CPI_yoy Inflation_yoy GDP_growth  \\\n",
       "mean                  93.72     96.88  103.24          3.24       5.32   \n",
       "std                   15.37     17.87    3.50          3.50       3.88   \n",
       "min                   65.40     71.63   99.60         -0.40      -6.93   \n",
       "25%                   81.70     82.33  101.30          1.30       2.69   \n",
       "50%                   93.30     96.59  102.40          2.40       5.78   \n",
       "75%                  110.15    104.03  103.60          3.60       7.82   \n",
       "max                  117.80    149.10  118.00         18.00      16.57   \n",
       "\n",
       "indicator_id Industry_growth  \n",
       "mean                    0.23  \n",
       "std                     2.76  \n",
       "min                   -24.12  \n",
       "25%                    -0.93  \n",
       "50%                     0.18  \n",
       "75%                     1.44  \n",
       "max                    18.21  "
      ]
     },
     "execution_count": 55,
     "metadata": {},
     "output_type": "execute_result"
    }
   ],
   "source": [
    "#Generates descriptive statistics (mean, standard deviation, minimum, quartiles and maximum) for all time series\n",
    "desc_stats=generate_desc_stats(df_combed, [\"year\"])\n",
    "desc_stats"
   ]
  },
  {
   "cell_type": "markdown",
   "id": "da379692",
   "metadata": {},
   "source": [
    "We can see that the long run average of PRIBOR yearly rate is around 2%, which corresponds to the inflation target of 2%. That would imply that the natural rate of interest provided that inflation averages at 3.2% is negative. This has to be taken with the caviat that the standard deviation of inflation is relatively large, in absolute terms than the mean inflation itself.\n",
    "\n",
    "When we compare the two alternative matrics for performance of the economy, the GDP and Industry index, we can conclude that the latter is much more volatile, with standard deviation of it being almost five times as large. However, when we transform these series into percentage growths, the volatility of these metrics is now more relatively balanced, with the standard deviation of industry growth being even smaller than that of GDP growth."
   ]
  },
  {
   "cell_type": "markdown",
   "id": "b4b1ed67-5f1c-400c-877d-b1a396e64164",
   "metadata": {},
   "source": [
    "# Visualisation\n",
    "In this section we define a function visualize_ts for creating time series visualizations using Plotly Express. It is then applied to two different DataFrames (df_index and df_growth) to generate and display line plots with interactive features. The dropdown menu allows users to show or hide individual time series in the plot."
   ]
  },
  {
   "cell_type": "code",
   "execution_count": 19,
   "id": "f6c52c63-97a2-4da0-b291-c6dec272e655",
   "metadata": {},
   "outputs": [],
   "source": [
    "#!pip install dash\n",
    "import pandas as pd\n",
    "import plotly.express as px"
   ]
  },
  {
   "cell_type": "code",
   "execution_count": 56,
   "id": "5e4fa87d-d195-4bf2-8d59-a23f4d195eae",
   "metadata": {},
   "outputs": [],
   "source": [
    "def visualize_ts(df,index_column,graph_name):\n",
    "  '''\n",
    "  Uses Plotly Express to create a line plot and sets all traces to be initially hidden in the legend. It further adds a dropdown menu to toggle the visibility of traces\n",
    "  (show all or hide all). Then it returns the Plotly figure object.\n",
    "\n",
    "  Insert DataFrame (df) to be visualized. Name of the column (index_column) to be used as the x-axis (converted to string format) and insert the tittle of the graph (graph_name).\n",
    "  '''\n",
    "  df[index_column] = df.index.astype(str)\n",
    "  fig = px.line(df, x=index_column, y=df.columns, title=graph_name, labels={index_column: 'Year-Month'})\n",
    "\n",
    "  for trace in fig.data:\n",
    "      trace.update(visible='legendonly')\n",
    "\n",
    "  fig.update_layout(\n",
    "      updatemenus=[\n",
    "          dict(\n",
    "              active=0,\n",
    "              buttons=list([\n",
    "                  dict(label='Show All',\n",
    "                      method='update',\n",
    "                      args=[{'visible': True},\n",
    "                            {'title': graph_name}]),\n",
    "                  dict(label='Hide All',\n",
    "                      method='update',\n",
    "                      args=[{'visible': ['legendonly'] * len(df.columns)},\n",
    "                            {'title': graph_name}])\n",
    "              ]),\n",
    "          )\n",
    "      ]\n",
    "  )\n",
    "  return fig"
   ]
  },
  {
   "cell_type": "code",
   "execution_count": 58,
   "id": "670bfceb-f12b-4976-8ce4-60efd92c7524",
   "metadata": {},
   "outputs": [
    {
     "data": {
      "application/vnd.plotly.v1+json": {
       "config": {
        "plotlyServerURL": "https://plot.ly"
       },
       "data": [
        {
         "hovertemplate": "indicator_id=CPI_index<br>Year-Month=%{x}<br>value=%{y}<extra></extra>",
         "legendgroup": "CPI_index",
         "line": {
          "color": "#636efa",
          "dash": "solid"
         },
         "marker": {
          "symbol": "circle"
         },
         "mode": "lines",
         "name": "CPI_index",
         "showlegend": true,
         "type": "scattergl",
         "visible": "legendonly",
         "x": [
          "1995-03",
          "1995-06",
          "1995-09",
          "1995-12",
          "1996-03",
          "1996-06",
          "1996-09",
          "1996-12",
          "1997-03",
          "1997-06",
          "1997-09",
          "1997-12",
          "1998-03",
          "1998-06",
          "1998-09",
          "1998-12",
          "1999-03",
          "1999-06",
          "1999-09",
          "1999-12",
          "2000-01",
          "2000-02",
          "2000-03",
          "2000-04",
          "2000-05",
          "2000-06",
          "2000-07",
          "2000-08",
          "2000-09",
          "2000-10",
          "2000-11",
          "2000-12",
          "2001-01",
          "2001-02",
          "2001-03",
          "2001-04",
          "2001-05",
          "2001-06",
          "2001-07",
          "2001-08",
          "2001-09",
          "2001-10",
          "2001-11",
          "2001-12",
          "2002-01",
          "2002-02",
          "2002-03",
          "2002-04",
          "2002-05",
          "2002-06",
          "2002-07",
          "2002-08",
          "2002-09",
          "2002-10",
          "2002-11",
          "2002-12",
          "2003-01",
          "2003-02",
          "2003-03",
          "2003-04",
          "2003-05",
          "2003-06",
          "2003-07",
          "2003-08",
          "2003-09",
          "2003-10",
          "2003-11",
          "2003-12",
          "2004-01",
          "2004-02",
          "2004-03",
          "2004-04",
          "2004-05",
          "2004-06",
          "2004-07",
          "2004-08",
          "2004-09",
          "2004-10",
          "2004-11",
          "2004-12",
          "2005-01",
          "2005-02",
          "2005-03",
          "2005-04",
          "2005-05",
          "2005-06",
          "2005-07",
          "2005-08",
          "2005-09",
          "2005-10",
          "2005-11",
          "2005-12",
          "2006-01",
          "2006-02",
          "2006-03",
          "2006-04",
          "2006-05",
          "2006-06",
          "2006-07",
          "2006-08",
          "2006-09",
          "2006-10",
          "2006-11",
          "2006-12",
          "2007-01",
          "2007-02",
          "2007-03",
          "2007-04",
          "2007-05",
          "2007-06",
          "2007-07",
          "2007-08",
          "2007-09",
          "2007-10",
          "2007-11",
          "2007-12",
          "2008-01",
          "2008-02",
          "2008-03",
          "2008-04",
          "2008-05",
          "2008-06",
          "2008-07",
          "2008-08",
          "2008-09",
          "2008-10",
          "2008-11",
          "2008-12",
          "2009-01",
          "2009-02",
          "2009-03",
          "2009-04",
          "2009-05",
          "2009-06",
          "2009-07",
          "2009-08",
          "2009-09",
          "2009-10",
          "2009-11",
          "2009-12",
          "2010-01",
          "2010-02",
          "2010-03",
          "2010-04",
          "2010-05",
          "2010-06",
          "2010-07",
          "2010-08",
          "2010-09",
          "2010-10",
          "2010-11",
          "2010-12",
          "2011-01",
          "2011-02",
          "2011-03",
          "2011-04",
          "2011-05",
          "2011-06",
          "2011-07",
          "2011-08",
          "2011-09",
          "2011-10",
          "2011-11",
          "2011-12",
          "2012-01",
          "2012-02",
          "2012-03",
          "2012-04",
          "2012-05",
          "2012-06",
          "2012-07",
          "2012-08",
          "2012-09",
          "2012-10",
          "2012-11",
          "2012-12",
          "2013-01",
          "2013-02",
          "2013-03",
          "2013-04",
          "2013-05",
          "2013-06",
          "2013-07",
          "2013-08",
          "2013-09",
          "2013-10",
          "2013-11",
          "2013-12",
          "2014-01",
          "2014-02",
          "2014-03",
          "2014-04",
          "2014-05",
          "2014-06",
          "2014-07",
          "2014-08",
          "2014-09",
          "2014-10",
          "2014-11",
          "2014-12",
          "2015-01",
          "2015-02",
          "2015-03",
          "2015-04",
          "2015-05",
          "2015-06",
          "2015-07",
          "2015-08",
          "2015-09",
          "2015-10",
          "2015-11",
          "2015-12",
          "2016-01",
          "2016-02",
          "2016-03",
          "2016-04",
          "2016-05",
          "2016-06",
          "2016-07",
          "2016-08",
          "2016-09",
          "2016-10",
          "2016-11",
          "2016-12",
          "2017-01",
          "2017-02",
          "2017-03",
          "2017-04",
          "2017-05",
          "2017-06",
          "2017-07",
          "2017-08",
          "2017-09",
          "2017-10",
          "2017-11",
          "2017-12",
          "2018-01",
          "2018-02",
          "2018-03",
          "2018-04",
          "2018-05",
          "2018-06",
          "2018-07",
          "2018-08",
          "2018-09",
          "2018-10",
          "2018-11",
          "2018-12",
          "2019-01",
          "2019-02",
          "2019-03",
          "2019-04",
          "2019-05",
          "2019-06",
          "2019-07",
          "2019-08",
          "2019-09",
          "2019-10",
          "2019-11",
          "2019-12",
          "2020-01",
          "2020-02",
          "2020-03",
          "2020-04",
          "2020-05",
          "2020-06",
          "2020-07",
          "2020-08",
          "2020-09",
          "2020-10",
          "2020-11",
          "2020-12",
          "2021-01",
          "2021-02",
          "2021-03",
          "2021-04",
          "2021-05",
          "2021-06",
          "2021-07",
          "2021-08",
          "2021-09",
          "2021-10",
          "2021-11",
          "2021-12",
          "2022-01",
          "2022-02",
          "2022-03",
          "2022-04",
          "2022-05",
          "2022-06",
          "2022-07",
          "2022-08",
          "2022-09",
          "2022-10",
          "2022-11",
          "2022-12",
          "2023-01",
          "2023-02",
          "2023-03",
          "2023-04",
          "2023-05",
          "2023-06",
          "2023-07",
          "2023-08",
          "2023-09",
          "2023-10",
          "2023-11",
          "2023-12"
         ],
         "xaxis": "x",
         "y": [
          null,
          null,
          null,
          null,
          null,
          null,
          null,
          null,
          null,
          null,
          null,
          null,
          null,
          null,
          null,
          null,
          null,
          null,
          null,
          null,
          71.62608754299589,
          71.78795440749984,
          71.78795440749984,
          71.70702097524787,
          71.78795440749984,
          72.27355500101167,
          72.67822216227154,
          72.84008902677549,
          72.84008902677549,
          73.00195589127942,
          73.0828893235314,
          73.24475618803535,
          74.62062453631889,
          74.62062453631889,
          74.70155796857085,
          74.94435826532677,
          75.42995885883862,
          76.15835974910637,
          77.04862750387807,
          76.88676063937412,
          76.23929318135833,
          76.23929318135833,
          76.15835974910637,
          76.23929318135833,
          77.45329466513793,
          77.5342280973899,
          77.5342280973899,
          77.45329466513793,
          77.37236123288596,
          77.12956093613003,
          77.5342280973899,
          77.37236123288596,
          76.9676940716261,
          76.72489377487018,
          76.56302691036623,
          76.72489377487018,
          77.12956093613003,
          77.29142780063398,
          77.21049436838202,
          77.37236123288596,
          77.37236123288596,
          77.37236123288596,
          77.45329466513793,
          77.29142780063398,
          76.9676940716261,
          77.04862750387807,
          77.37236123288596,
          77.5342280973899,
          78.91009644567345,
          79.07196331017738,
          79.07196331017738,
          79.07196331017738,
          79.47663047143725,
          79.6384973359412,
          79.88129763269711,
          79.88129763269711,
          79.23383017468133,
          79.6384973359412,
          79.6384973359412,
          79.6384973359412,
          80.20503136170501,
          80.36689822620895,
          80.28596479395698,
          80.36689822620895,
          80.5287650907129,
          81.01436568422473,
          81.17623254872868,
          81.17623254872868,
          81.01436568422473,
          81.66183314224051,
          81.49996627773658,
          81.4190328454846,
          82.55210089701221,
          82.63303432926419,
          82.55210089701221,
          82.63303432926419,
          83.03770149052406,
          83.19956835502799,
          83.60423551628786,
          83.7661023807918,
          83.19956835502799,
          82.71396776151616,
          82.71396776151616,
          82.79490119376813,
          83.60423551628786,
          83.84703581304377,
          84.08983610979969,
          84.6563701355635,
          84.98010386457139,
          85.22290416132732,
          85.62757132258717,
          85.8703716193431,
          85.62757132258717,
          86.11317191609902,
          86.92250623861874,
          87.3271733998786,
          89.91704323194173,
          90.15984352869765,
          90.07891009644568,
          90.40264382545357,
          90.80731098671343,
          90.96917785121738,
          91.45477844472921,
          91.37384501247725,
          91.2119781479733,
          91.2119781479733,
          90.72637755446146,
          90.48357725770555,
          91.85944560598908,
          91.94037903824105,
          92.102245902745,
          92.02131247049303,
          92.02131247049303,
          92.02131247049303,
          91.69757874148513,
          91.5357118769812,
          91.2119781479733,
          91.05011128346935,
          91.2119781479733,
          91.37384501247725,
          92.50691306400486,
          92.50691306400486,
          92.74971336076078,
          93.07344708976868,
          93.15438052202065,
          93.15438052202065,
          93.47811425102854,
          93.23531395427261,
          92.9925136575167,
          92.83064679301276,
          92.9925136575167,
          93.47811425102854,
          94.12558170904433,
          94.2065151412963,
          94.28744857354826,
          94.53024887030418,
          95.01584946381602,
          94.85398259931208,
          95.09678289606799,
          94.85398259931208,
          94.69211573480813,
          94.93491603156404,
          95.33958319282391,
          95.74425035408377,
          97.4438524313752,
          97.68665272813112,
          97.84851959263507,
          97.84851959263507,
          98.010386457139,
          98.17225332164296,
          98.09131988939099,
          98.010386457139,
          97.92945302488704,
          98.17225332164296,
          97.92945302488704,
          98.010386457139,
          99.30532137317057,
          99.38625480542255,
          99.46718823767452,
          99.54812166992649,
          99.30532137317057,
          99.70998853443044,
          99.46718823767452,
          99.30532137317057,
          98.9006542119107,
          99.06252107641465,
          98.98158764416269,
          99.38625480542255,
          99.46718823767452,
          99.62905510217847,
          99.62905510217847,
          99.62905510217847,
          99.70998853443044,
          99.70998853443044,
          99.95278883118635,
          99.87185539893439,
          99.62905510217847,
          99.79092196668242,
          99.54812166992649,
          99.46718823767452,
          99.54812166992649,
          99.70998853443044,
          99.79092196668242,
          100.1146556956903,
          100.4383894246982,
          100.51932285695017,
          100.4383894246982,
          100.19558912794227,
          100.03372226343834,
          100.03372226343834,
          99.62905510217847,
          99.54812166992649,
          100.1146556956903,
          100.19558912794227,
          100.1146556956903,
          100.68118972145412,
          100.51932285695017,
          100.60025628920214,
          100.92399001821003,
          100.76212315370609,
          100.51932285695017,
          100.84305658595805,
          101.16679031496595,
          101.49052404397383,
          102.3,
          102.7,
          102.7,
          102.7,
          102.9,
          102.9,
          103.4,
          103.3,
          103.2,
          103.7,
          103.8,
          103.9,
          104.5,
          104.5,
          104.4,
          104.7,
          105.2,
          105.6,
          105.8,
          105.9,
          105.6,
          106,
          105.9,
          106,
          107.1,
          107.3,
          107.5,
          107.6,
          108.3,
          108.5,
          108.9,
          109,
          108.4,
          108.9,
          109.2,
          109.4,
          111,
          111.3,
          111.2,
          111,
          111.4,
          112.1,
          112.6,
          112.6,
          111.9,
          112.1,
          112.1,
          111.9,
          113.4,
          113.6,
          113.8,
          114.4,
          114.6,
          115.2,
          116.4,
          117.2,
          117.4,
          118.6,
          118.8,
          119.3,
          124.6,
          126.2,
          128.3,
          130.6,
          132.9,
          135,
          136.8,
          137.4,
          138.5,
          136.5,
          138.1,
          138.1,
          146.4,
          147.3,
          147.5,
          147.2,
          147.6,
          148.1,
          148.8,
          149.1,
          148,
          148.1,
          148.2,
          147.6
         ],
         "yaxis": "y"
        },
        {
         "hovertemplate": "indicator_id=GDP_index<br>Year-Month=%{x}<br>value=%{y}<extra></extra>",
         "legendgroup": "GDP_index",
         "line": {
          "color": "#EF553B",
          "dash": "solid"
         },
         "marker": {
          "symbol": "circle"
         },
         "mode": "lines",
         "name": "GDP_index",
         "showlegend": true,
         "type": "scattergl",
         "visible": "legendonly",
         "x": [
          "1995-03",
          "1995-06",
          "1995-09",
          "1995-12",
          "1996-03",
          "1996-06",
          "1996-09",
          "1996-12",
          "1997-03",
          "1997-06",
          "1997-09",
          "1997-12",
          "1998-03",
          "1998-06",
          "1998-09",
          "1998-12",
          "1999-03",
          "1999-06",
          "1999-09",
          "1999-12",
          "2000-01",
          "2000-02",
          "2000-03",
          "2000-04",
          "2000-05",
          "2000-06",
          "2000-07",
          "2000-08",
          "2000-09",
          "2000-10",
          "2000-11",
          "2000-12",
          "2001-01",
          "2001-02",
          "2001-03",
          "2001-04",
          "2001-05",
          "2001-06",
          "2001-07",
          "2001-08",
          "2001-09",
          "2001-10",
          "2001-11",
          "2001-12",
          "2002-01",
          "2002-02",
          "2002-03",
          "2002-04",
          "2002-05",
          "2002-06",
          "2002-07",
          "2002-08",
          "2002-09",
          "2002-10",
          "2002-11",
          "2002-12",
          "2003-01",
          "2003-02",
          "2003-03",
          "2003-04",
          "2003-05",
          "2003-06",
          "2003-07",
          "2003-08",
          "2003-09",
          "2003-10",
          "2003-11",
          "2003-12",
          "2004-01",
          "2004-02",
          "2004-03",
          "2004-04",
          "2004-05",
          "2004-06",
          "2004-07",
          "2004-08",
          "2004-09",
          "2004-10",
          "2004-11",
          "2004-12",
          "2005-01",
          "2005-02",
          "2005-03",
          "2005-04",
          "2005-05",
          "2005-06",
          "2005-07",
          "2005-08",
          "2005-09",
          "2005-10",
          "2005-11",
          "2005-12",
          "2006-01",
          "2006-02",
          "2006-03",
          "2006-04",
          "2006-05",
          "2006-06",
          "2006-07",
          "2006-08",
          "2006-09",
          "2006-10",
          "2006-11",
          "2006-12",
          "2007-01",
          "2007-02",
          "2007-03",
          "2007-04",
          "2007-05",
          "2007-06",
          "2007-07",
          "2007-08",
          "2007-09",
          "2007-10",
          "2007-11",
          "2007-12",
          "2008-01",
          "2008-02",
          "2008-03",
          "2008-04",
          "2008-05",
          "2008-06",
          "2008-07",
          "2008-08",
          "2008-09",
          "2008-10",
          "2008-11",
          "2008-12",
          "2009-01",
          "2009-02",
          "2009-03",
          "2009-04",
          "2009-05",
          "2009-06",
          "2009-07",
          "2009-08",
          "2009-09",
          "2009-10",
          "2009-11",
          "2009-12",
          "2010-01",
          "2010-02",
          "2010-03",
          "2010-04",
          "2010-05",
          "2010-06",
          "2010-07",
          "2010-08",
          "2010-09",
          "2010-10",
          "2010-11",
          "2010-12",
          "2011-01",
          "2011-02",
          "2011-03",
          "2011-04",
          "2011-05",
          "2011-06",
          "2011-07",
          "2011-08",
          "2011-09",
          "2011-10",
          "2011-11",
          "2011-12",
          "2012-01",
          "2012-02",
          "2012-03",
          "2012-04",
          "2012-05",
          "2012-06",
          "2012-07",
          "2012-08",
          "2012-09",
          "2012-10",
          "2012-11",
          "2012-12",
          "2013-01",
          "2013-02",
          "2013-03",
          "2013-04",
          "2013-05",
          "2013-06",
          "2013-07",
          "2013-08",
          "2013-09",
          "2013-10",
          "2013-11",
          "2013-12",
          "2014-01",
          "2014-02",
          "2014-03",
          "2014-04",
          "2014-05",
          "2014-06",
          "2014-07",
          "2014-08",
          "2014-09",
          "2014-10",
          "2014-11",
          "2014-12",
          "2015-01",
          "2015-02",
          "2015-03",
          "2015-04",
          "2015-05",
          "2015-06",
          "2015-07",
          "2015-08",
          "2015-09",
          "2015-10",
          "2015-11",
          "2015-12",
          "2016-01",
          "2016-02",
          "2016-03",
          "2016-04",
          "2016-05",
          "2016-06",
          "2016-07",
          "2016-08",
          "2016-09",
          "2016-10",
          "2016-11",
          "2016-12",
          "2017-01",
          "2017-02",
          "2017-03",
          "2017-04",
          "2017-05",
          "2017-06",
          "2017-07",
          "2017-08",
          "2017-09",
          "2017-10",
          "2017-11",
          "2017-12",
          "2018-01",
          "2018-02",
          "2018-03",
          "2018-04",
          "2018-05",
          "2018-06",
          "2018-07",
          "2018-08",
          "2018-09",
          "2018-10",
          "2018-11",
          "2018-12",
          "2019-01",
          "2019-02",
          "2019-03",
          "2019-04",
          "2019-05",
          "2019-06",
          "2019-07",
          "2019-08",
          "2019-09",
          "2019-10",
          "2019-11",
          "2019-12",
          "2020-01",
          "2020-02",
          "2020-03",
          "2020-04",
          "2020-05",
          "2020-06",
          "2020-07",
          "2020-08",
          "2020-09",
          "2020-10",
          "2020-11",
          "2020-12",
          "2021-01",
          "2021-02",
          "2021-03",
          "2021-04",
          "2021-05",
          "2021-06",
          "2021-07",
          "2021-08",
          "2021-09",
          "2021-10",
          "2021-11",
          "2021-12",
          "2022-01",
          "2022-02",
          "2022-03",
          "2022-04",
          "2022-05",
          "2022-06",
          "2022-07",
          "2022-08",
          "2022-09",
          "2022-10",
          "2022-11",
          "2022-12",
          "2023-01",
          "2023-02",
          "2023-03",
          "2023-04",
          "2023-05",
          "2023-06",
          "2023-07",
          "2023-08",
          "2023-09",
          "2023-10",
          "2023-11",
          "2023-12"
         ],
         "xaxis": "x",
         "y": [
          null,
          null,
          null,
          null,
          105.78687083934038,
          104.51320773861868,
          103.74576558972774,
          103.04996262165236,
          100.77561680132048,
          99.87486667502687,
          98.78003627426781,
          98.43822284322019,
          98.87623953083033,
          99.37989498853082,
          99.99646901287181,
          100.36466123420868,
          100.39532745291692,
          100.57520296486288,
          101.47328849726746,
          102.54294683780707,
          103.8793612283694,
          103.8793612283694,
          103.8793612283694,
          104.39984223081308,
          104.39984223081308,
          104.39984223081308,
          104.79027249852776,
          104.79027249852776,
          104.79027249852776,
          104.12153764498312,
          104.12153764498312,
          104.12153764498312,
          103.97182741680348,
          103.97182741680348,
          103.97182741680348,
          103.2274759184624,
          103.2274759184624,
          103.2274759184624,
          102.34420800279966,
          102.34420800279966,
          102.34420800279966,
          102.60977451446497,
          102.60977451446497,
          102.60977451446497,
          101.21373311188556,
          101.21373311188556,
          101.21373311188556,
          101.48350546475484,
          101.48350546475484,
          101.48350546475484,
          101.68362858087744,
          101.68362858087744,
          101.68362858087744,
          101.61523709470409,
          101.61523709470409,
          101.61523709470409,
          102.88691529042308,
          102.88691529042308,
          102.88691529042308,
          103.44965146552448,
          103.44965146552448,
          103.44965146552448,
          103.89852183859519,
          103.89852183859519,
          103.89852183859519,
          104.05924708555933,
          104.05924708555933,
          104.05924708555933,
          104.06385383879464,
          104.06385383879464,
          104.06385383879464,
          104.25091958400537,
          104.25091958400537,
          104.25091958400537,
          104.64987165721077,
          104.64987165721077,
          104.64987165721077,
          105.73319227060612,
          105.73319227060612,
          105.73319227060612,
          106.42295537331115,
          106.42295537331115,
          106.42295537331115,
          106.72642299187024,
          106.72642299187024,
          106.72642299187024,
          106.77303383469255,
          106.77303383469255,
          106.77303383469255,
          106.75424259381354,
          106.75424259381354,
          106.75424259381354,
          106.87650397992986,
          106.87650397992986,
          106.87650397992986,
          107.32540085348016,
          107.32540085348016,
          107.32540085348016,
          107.02357153655296,
          107.02357153655296,
          107.02357153655296,
          106.49641014356312,
          106.49641014356312,
          106.49641014356312,
          106.36251332679647,
          106.36251332679647,
          106.36251332679647,
          105.17957085355393,
          105.17957085355393,
          105.17957085355393,
          105.37976840414592,
          105.37976840414592,
          105.37976840414592,
          105.3304301381292,
          105.3304301381292,
          105.3304301381292,
          104.05086969312784,
          104.05086969312784,
          104.05086969312784,
          103.95323305054536,
          103.95323305054536,
          103.95323305054536,
          102.76051479617183,
          102.76051479617183,
          102.76051479617183,
          99.44664777743026,
          99.44664777743026,
          99.44664777743026,
          95.66117548243186,
          95.66117548243186,
          95.66117548243186,
          94.61482753512664,
          94.61482753512664,
          94.61482753512664,
          94.83471375925858,
          94.83471375925858,
          94.83471375925858,
          96.80647544537761,
          96.80647544537761,
          96.80647544537761,
          100.85299752572952,
          100.85299752572952,
          100.85299752572952,
          102.47158412750876,
          102.47158412750876,
          102.47158412750876,
          102.73725681813372,
          102.73725681813372,
          102.73725681813372,
          103.12124838401168,
          103.12124838401168,
          103.12124838401168,
          103.0045343897666,
          103.0045343897666,
          103.0045343897666,
          102.08819243701043,
          102.08819243701043,
          102.08819243701043,
          101.15849274233412,
          101.15849274233412,
          101.15849274233412,
          100.81427365038056,
          100.81427365038056,
          100.81427365038056,
          100.06496611752844,
          100.06496611752844,
          100.06496611752844,
          99.2181523896101,
          99.2181523896101,
          99.2181523896101,
          99.04015415285345,
          99.04015415285345,
          99.04015415285345,
          98.81175376342695,
          98.81175376342695,
          98.81175376342695,
          98.56620898839982,
          98.56620898839982,
          98.56620898839982,
          99.45780759851505,
          99.45780759851505,
          99.45780759851505,
          100.24146937478682,
          100.24146937478682,
          100.24146937478682,
          101.58578964801607,
          101.58578964801607,
          101.58578964801607,
          101.4567148135202,
          101.4567148135202,
          101.4567148135202,
          102.0289285212751,
          102.0289285212751,
          102.0289285212751,
          102.80003989935666,
          102.80003989935666,
          102.80003989935666,
          102.7441534876438,
          102.7441534876438,
          102.7441534876438,
          105.26095464956143,
          105.26095464956143,
          105.26095464956143,
          105.70285789789524,
          105.70285789789524,
          105.70285789789524,
          105.73147673738475,
          105.73147673738475,
          105.73147673738475,
          105.147366656417,
          105.147366656417,
          105.147366656417,
          103.35585173401655,
          103.35585173401655,
          103.35585173401655,
          102.30170325172551,
          102.30170325172551,
          102.30170325172551,
          101.99307338812184,
          101.99307338812184,
          101.99307338812184,
          102.17597222612991,
          102.17597222612991,
          102.17597222612991,
          103.68743152466217,
          103.68743152466217,
          103.68743152466217,
          105.9188553468512,
          105.9188553468512,
          105.9188553468512,
          105.85304446103856,
          105.85304446103856,
          105.85304446103856,
          105.90359163667586,
          105.90359163667586,
          105.90359163667586,
          104.74101587098288,
          104.74101587098288,
          104.74101587098288,
          102.80851213828097,
          102.80851213828097,
          102.80851213828097,
          102.694674760224,
          102.694674760224,
          102.694674760224,
          102.63265921982268,
          102.63265921982268,
          102.63265921982268,
          102.9925808638806,
          102.9925808638806,
          102.9925808638806,
          103.05774652496925,
          103.05774652496925,
          103.05774652496925,
          103.02228128899301,
          103.02228128899301,
          103.02228128899301,
          102.79190778958164,
          102.79190778958164,
          102.79190778958164,
          98.52618055867384,
          98.52618055867384,
          98.52618055867384,
          89.19713460029126,
          89.19713460029126,
          89.19713460029126,
          94.7832505361294,
          94.7832505361294,
          94.7832505361294,
          95.43367093542493,
          95.43367093542493,
          95.43367093542493,
          98.08136768404596,
          98.08136768404596,
          98.08136768404596,
          109.17929312195146,
          109.17929312195146,
          109.17929312195146,
          103.8209037046074,
          103.8209037046074,
          103.8209037046074,
          103.41333466894972,
          103.41333466894972,
          103.41333466894972,
          104.67170185787528,
          104.67170185787528,
          104.67170185787528,
          103.35237908895601,
          103.35237908895601,
          103.35237908895601,
          101.33900638217996,
          101.33900638217996,
          101.33900638217996,
          100.14552438725379,
          100.14552438725379,
          100.14552438725379,
          99.68436053475872,
          99.68436053475872,
          99.68436053475872,
          99.60837725598141,
          99.60837725598141,
          99.60837725598141,
          99.20697070640749,
          99.20697070640749,
          99.20697070640749,
          null,
          null,
          null
         ],
         "yaxis": "y"
        },
        {
         "hovertemplate": "indicator_id=Industry_index<br>Year-Month=%{x}<br>value=%{y}<extra></extra>",
         "legendgroup": "Industry_index",
         "line": {
          "color": "#00cc96",
          "dash": "solid"
         },
         "marker": {
          "symbol": "circle"
         },
         "mode": "lines",
         "name": "Industry_index",
         "showlegend": true,
         "type": "scattergl",
         "visible": "legendonly",
         "x": [
          "1995-03",
          "1995-06",
          "1995-09",
          "1995-12",
          "1996-03",
          "1996-06",
          "1996-09",
          "1996-12",
          "1997-03",
          "1997-06",
          "1997-09",
          "1997-12",
          "1998-03",
          "1998-06",
          "1998-09",
          "1998-12",
          "1999-03",
          "1999-06",
          "1999-09",
          "1999-12",
          "2000-01",
          "2000-02",
          "2000-03",
          "2000-04",
          "2000-05",
          "2000-06",
          "2000-07",
          "2000-08",
          "2000-09",
          "2000-10",
          "2000-11",
          "2000-12",
          "2001-01",
          "2001-02",
          "2001-03",
          "2001-04",
          "2001-05",
          "2001-06",
          "2001-07",
          "2001-08",
          "2001-09",
          "2001-10",
          "2001-11",
          "2001-12",
          "2002-01",
          "2002-02",
          "2002-03",
          "2002-04",
          "2002-05",
          "2002-06",
          "2002-07",
          "2002-08",
          "2002-09",
          "2002-10",
          "2002-11",
          "2002-12",
          "2003-01",
          "2003-02",
          "2003-03",
          "2003-04",
          "2003-05",
          "2003-06",
          "2003-07",
          "2003-08",
          "2003-09",
          "2003-10",
          "2003-11",
          "2003-12",
          "2004-01",
          "2004-02",
          "2004-03",
          "2004-04",
          "2004-05",
          "2004-06",
          "2004-07",
          "2004-08",
          "2004-09",
          "2004-10",
          "2004-11",
          "2004-12",
          "2005-01",
          "2005-02",
          "2005-03",
          "2005-04",
          "2005-05",
          "2005-06",
          "2005-07",
          "2005-08",
          "2005-09",
          "2005-10",
          "2005-11",
          "2005-12",
          "2006-01",
          "2006-02",
          "2006-03",
          "2006-04",
          "2006-05",
          "2006-06",
          "2006-07",
          "2006-08",
          "2006-09",
          "2006-10",
          "2006-11",
          "2006-12",
          "2007-01",
          "2007-02",
          "2007-03",
          "2007-04",
          "2007-05",
          "2007-06",
          "2007-07",
          "2007-08",
          "2007-09",
          "2007-10",
          "2007-11",
          "2007-12",
          "2008-01",
          "2008-02",
          "2008-03",
          "2008-04",
          "2008-05",
          "2008-06",
          "2008-07",
          "2008-08",
          "2008-09",
          "2008-10",
          "2008-11",
          "2008-12",
          "2009-01",
          "2009-02",
          "2009-03",
          "2009-04",
          "2009-05",
          "2009-06",
          "2009-07",
          "2009-08",
          "2009-09",
          "2009-10",
          "2009-11",
          "2009-12",
          "2010-01",
          "2010-02",
          "2010-03",
          "2010-04",
          "2010-05",
          "2010-06",
          "2010-07",
          "2010-08",
          "2010-09",
          "2010-10",
          "2010-11",
          "2010-12",
          "2011-01",
          "2011-02",
          "2011-03",
          "2011-04",
          "2011-05",
          "2011-06",
          "2011-07",
          "2011-08",
          "2011-09",
          "2011-10",
          "2011-11",
          "2011-12",
          "2012-01",
          "2012-02",
          "2012-03",
          "2012-04",
          "2012-05",
          "2012-06",
          "2012-07",
          "2012-08",
          "2012-09",
          "2012-10",
          "2012-11",
          "2012-12",
          "2013-01",
          "2013-02",
          "2013-03",
          "2013-04",
          "2013-05",
          "2013-06",
          "2013-07",
          "2013-08",
          "2013-09",
          "2013-10",
          "2013-11",
          "2013-12",
          "2014-01",
          "2014-02",
          "2014-03",
          "2014-04",
          "2014-05",
          "2014-06",
          "2014-07",
          "2014-08",
          "2014-09",
          "2014-10",
          "2014-11",
          "2014-12",
          "2015-01",
          "2015-02",
          "2015-03",
          "2015-04",
          "2015-05",
          "2015-06",
          "2015-07",
          "2015-08",
          "2015-09",
          "2015-10",
          "2015-11",
          "2015-12",
          "2016-01",
          "2016-02",
          "2016-03",
          "2016-04",
          "2016-05",
          "2016-06",
          "2016-07",
          "2016-08",
          "2016-09",
          "2016-10",
          "2016-11",
          "2016-12",
          "2017-01",
          "2017-02",
          "2017-03",
          "2017-04",
          "2017-05",
          "2017-06",
          "2017-07",
          "2017-08",
          "2017-09",
          "2017-10",
          "2017-11",
          "2017-12",
          "2018-01",
          "2018-02",
          "2018-03",
          "2018-04",
          "2018-05",
          "2018-06",
          "2018-07",
          "2018-08",
          "2018-09",
          "2018-10",
          "2018-11",
          "2018-12",
          "2019-01",
          "2019-02",
          "2019-03",
          "2019-04",
          "2019-05",
          "2019-06",
          "2019-07",
          "2019-08",
          "2019-09",
          "2019-10",
          "2019-11",
          "2019-12",
          "2020-01",
          "2020-02",
          "2020-03",
          "2020-04",
          "2020-05",
          "2020-06",
          "2020-07",
          "2020-08",
          "2020-09",
          "2020-10",
          "2020-11",
          "2020-12",
          "2021-01",
          "2021-02",
          "2021-03",
          "2021-04",
          "2021-05",
          "2021-06",
          "2021-07",
          "2021-08",
          "2021-09",
          "2021-10",
          "2021-11",
          "2021-12",
          "2022-01",
          "2022-02",
          "2022-03",
          "2022-04",
          "2022-05",
          "2022-06",
          "2022-07",
          "2022-08",
          "2022-09",
          "2022-10",
          "2022-11",
          "2022-12",
          "2023-01",
          "2023-02",
          "2023-03",
          "2023-04",
          "2023-05",
          "2023-06",
          "2023-07",
          "2023-08",
          "2023-09",
          "2023-10",
          "2023-11",
          "2023-12"
         ],
         "xaxis": "x",
         "y": [
          null,
          null,
          null,
          null,
          null,
          null,
          null,
          null,
          null,
          null,
          null,
          null,
          null,
          null,
          null,
          null,
          null,
          null,
          null,
          null,
          null,
          null,
          null,
          null,
          null,
          null,
          null,
          null,
          null,
          null,
          null,
          null,
          66.9,
          66,
          66.5,
          66.8,
          66.9,
          66.8,
          65.6,
          67,
          66.3,
          66.7,
          67.2,
          67.3,
          65.4,
          66.9,
          66.5,
          67.1,
          67.2,
          67.2,
          68.7,
          67.2,
          68.7,
          69.8,
          70.9,
          70.4,
          69.2,
          68.7,
          68.5,
          70.2,
          68.7,
          69.5,
          69.6,
          71.1,
          71.4,
          71.8,
          72.8,
          74.5,
          74.4,
          76.7,
          76.1,
          77.2,
          76.7,
          76.5,
          77.7,
          77.8,
          77.5,
          78.3,
          78.4,
          77.6,
          77.3,
          77.3,
          77.4,
          79,
          78,
          79.3,
          79.4,
          80.2,
          80.4,
          81.2,
          82.4,
          82.3,
          83.9,
          82.5,
          84,
          82.9,
          86.4,
          86.1,
          86,
          85.7,
          87.6,
          87.2,
          89,
          90.1,
          94,
          93.6,
          94.6,
          93.3,
          93.8,
          93.8,
          95.1,
          93.6,
          93.9,
          95.1,
          95.7,
          97.2,
          97.2,
          98.4,
          94.7,
          96.7,
          95.5,
          94.5,
          91.8,
          89.8,
          90.5,
          88.1,
          85,
          82.7,
          78.3,
          78.6,
          80,
          78.4,
          78.3,
          80.7,
          78.8,
          81.4,
          81.5,
          82.4,
          81.1,
          82.7,
          82,
          81.9,
          84.8,
          85.8,
          84.8,
          86.7,
          87.1,
          89.1,
          90.8,
          90.8,
          90.3,
          89.1,
          92.2,
          91,
          90.6,
          91,
          92.9,
          92.2,
          90.8,
          91.5,
          91.3,
          91.9,
          94.5,
          93.3,
          92.2,
          93.3,
          92.4,
          92.3,
          92.5,
          92.3,
          92.4,
          89.7,
          90.2,
          88.8,
          88.1,
          89.2,
          87.4,
          88.7,
          87.9,
          89.5,
          90,
          90.7,
          92.7,
          93.7,
          91.9,
          93.6,
          93.2,
          94.5,
          92.6,
          94.3,
          95.6,
          95.7,
          94.7,
          95.4,
          95.2,
          95.8,
          97.1,
          96.8,
          97.5,
          98.9,
          97.7,
          98.8,
          99.4,
          100.3,
          99.9,
          100.3,
          103,
          100.9,
          100,
          102.4,
          99.9,
          99.2,
          102.2,
          104.2,
          102.8,
          102.7,
          100.8,
          104.4,
          101.6,
          104,
          102.9,
          104.2,
          104.5,
          103.6,
          107,
          107.9,
          107.9,
          110.6,
          112.9,
          108.6,
          107.8,
          110.8,
          111.3,
          109.8,
          112.9,
          113.8,
          113.7,
          111.2,
          112.5,
          110.5,
          114,
          116,
          115.5,
          113,
          114.2,
          113,
          114.4,
          114.3,
          113.1,
          113.3,
          113.7,
          115,
          117.8,
          112.4,
          112.2,
          112.6,
          112.8,
          112.8,
          111,
          110.5,
          112.4,
          113.7,
          99.9,
          75.79999999999998,
          89.59999999999998,
          101.5,
          106.9,
          110,
          111.4,
          114.5,
          113.5,
          113.8,
          112.2,
          110.8,
          113.8,
          116.1,
          111.7,
          111.9,
          113.4,
          110.3,
          107.3,
          108.2,
          114.5,
          111,
          115.2,
          111.5,
          113.5,
          112.6,
          114.2,
          116.4,
          115.8,
          116.6,
          116.7,
          112.6,
          116.1,
          116.8,
          113,
          113.9,
          116.1,
          114.4,
          114.8,
          116.5,
          113.2,
          113,
          111.6,
          114.7,
          113.1,
          null
         ],
         "yaxis": "y"
        },
        {
         "hovertemplate": "indicator_id=EUR_CZK<br>Year-Month=%{x}<br>value=%{y}<extra></extra>",
         "legendgroup": "EUR_CZK",
         "line": {
          "color": "#ab63fa",
          "dash": "solid"
         },
         "marker": {
          "symbol": "circle"
         },
         "mode": "lines",
         "name": "EUR_CZK",
         "showlegend": true,
         "type": "scattergl",
         "visible": "legendonly",
         "x": [
          "1995-03",
          "1995-06",
          "1995-09",
          "1995-12",
          "1996-03",
          "1996-06",
          "1996-09",
          "1996-12",
          "1997-03",
          "1997-06",
          "1997-09",
          "1997-12",
          "1998-03",
          "1998-06",
          "1998-09",
          "1998-12",
          "1999-03",
          "1999-06",
          "1999-09",
          "1999-12",
          "2000-01",
          "2000-02",
          "2000-03",
          "2000-04",
          "2000-05",
          "2000-06",
          "2000-07",
          "2000-08",
          "2000-09",
          "2000-10",
          "2000-11",
          "2000-12",
          "2001-01",
          "2001-02",
          "2001-03",
          "2001-04",
          "2001-05",
          "2001-06",
          "2001-07",
          "2001-08",
          "2001-09",
          "2001-10",
          "2001-11",
          "2001-12",
          "2002-01",
          "2002-02",
          "2002-03",
          "2002-04",
          "2002-05",
          "2002-06",
          "2002-07",
          "2002-08",
          "2002-09",
          "2002-10",
          "2002-11",
          "2002-12",
          "2003-01",
          "2003-02",
          "2003-03",
          "2003-04",
          "2003-05",
          "2003-06",
          "2003-07",
          "2003-08",
          "2003-09",
          "2003-10",
          "2003-11",
          "2003-12",
          "2004-01",
          "2004-02",
          "2004-03",
          "2004-04",
          "2004-05",
          "2004-06",
          "2004-07",
          "2004-08",
          "2004-09",
          "2004-10",
          "2004-11",
          "2004-12",
          "2005-01",
          "2005-02",
          "2005-03",
          "2005-04",
          "2005-05",
          "2005-06",
          "2005-07",
          "2005-08",
          "2005-09",
          "2005-10",
          "2005-11",
          "2005-12",
          "2006-01",
          "2006-02",
          "2006-03",
          "2006-04",
          "2006-05",
          "2006-06",
          "2006-07",
          "2006-08",
          "2006-09",
          "2006-10",
          "2006-11",
          "2006-12",
          "2007-01",
          "2007-02",
          "2007-03",
          "2007-04",
          "2007-05",
          "2007-06",
          "2007-07",
          "2007-08",
          "2007-09",
          "2007-10",
          "2007-11",
          "2007-12",
          "2008-01",
          "2008-02",
          "2008-03",
          "2008-04",
          "2008-05",
          "2008-06",
          "2008-07",
          "2008-08",
          "2008-09",
          "2008-10",
          "2008-11",
          "2008-12",
          "2009-01",
          "2009-02",
          "2009-03",
          "2009-04",
          "2009-05",
          "2009-06",
          "2009-07",
          "2009-08",
          "2009-09",
          "2009-10",
          "2009-11",
          "2009-12",
          "2010-01",
          "2010-02",
          "2010-03",
          "2010-04",
          "2010-05",
          "2010-06",
          "2010-07",
          "2010-08",
          "2010-09",
          "2010-10",
          "2010-11",
          "2010-12",
          "2011-01",
          "2011-02",
          "2011-03",
          "2011-04",
          "2011-05",
          "2011-06",
          "2011-07",
          "2011-08",
          "2011-09",
          "2011-10",
          "2011-11",
          "2011-12",
          "2012-01",
          "2012-02",
          "2012-03",
          "2012-04",
          "2012-05",
          "2012-06",
          "2012-07",
          "2012-08",
          "2012-09",
          "2012-10",
          "2012-11",
          "2012-12",
          "2013-01",
          "2013-02",
          "2013-03",
          "2013-04",
          "2013-05",
          "2013-06",
          "2013-07",
          "2013-08",
          "2013-09",
          "2013-10",
          "2013-11",
          "2013-12",
          "2014-01",
          "2014-02",
          "2014-03",
          "2014-04",
          "2014-05",
          "2014-06",
          "2014-07",
          "2014-08",
          "2014-09",
          "2014-10",
          "2014-11",
          "2014-12",
          "2015-01",
          "2015-02",
          "2015-03",
          "2015-04",
          "2015-05",
          "2015-06",
          "2015-07",
          "2015-08",
          "2015-09",
          "2015-10",
          "2015-11",
          "2015-12",
          "2016-01",
          "2016-02",
          "2016-03",
          "2016-04",
          "2016-05",
          "2016-06",
          "2016-07",
          "2016-08",
          "2016-09",
          "2016-10",
          "2016-11",
          "2016-12",
          "2017-01",
          "2017-02",
          "2017-03",
          "2017-04",
          "2017-05",
          "2017-06",
          "2017-07",
          "2017-08",
          "2017-09",
          "2017-10",
          "2017-11",
          "2017-12",
          "2018-01",
          "2018-02",
          "2018-03",
          "2018-04",
          "2018-05",
          "2018-06",
          "2018-07",
          "2018-08",
          "2018-09",
          "2018-10",
          "2018-11",
          "2018-12",
          "2019-01",
          "2019-02",
          "2019-03",
          "2019-04",
          "2019-05",
          "2019-06",
          "2019-07",
          "2019-08",
          "2019-09",
          "2019-10",
          "2019-11",
          "2019-12",
          "2020-01",
          "2020-02",
          "2020-03",
          "2020-04",
          "2020-05",
          "2020-06",
          "2020-07",
          "2020-08",
          "2020-09",
          "2020-10",
          "2020-11",
          "2020-12",
          "2021-01",
          "2021-02",
          "2021-03",
          "2021-04",
          "2021-05",
          "2021-06",
          "2021-07",
          "2021-08",
          "2021-09",
          "2021-10",
          "2021-11",
          "2021-12",
          "2022-01",
          "2022-02",
          "2022-03",
          "2022-04",
          "2022-05",
          "2022-06",
          "2022-07",
          "2022-08",
          "2022-09",
          "2022-10",
          "2022-11",
          "2022-12",
          "2023-01",
          "2023-02",
          "2023-03",
          "2023-04",
          "2023-05",
          "2023-06",
          "2023-07",
          "2023-08",
          "2023-09",
          "2023-10",
          "2023-11",
          "2023-12"
         ],
         "xaxis": "x",
         "y": [
          null,
          null,
          null,
          null,
          null,
          null,
          null,
          null,
          null,
          null,
          null,
          null,
          37.664,
          36.579,
          35.321,
          35.124,
          37.156,
          37.607,
          36.428,
          36.34,
          35.7706923,
          35.7706923,
          35.7706923,
          36.2892742,
          36.2892742,
          36.2892742,
          35.458871,
          35.458871,
          35.458871,
          34.9114516,
          34.9114516,
          34.9114516,
          34.7978906,
          34.7978906,
          34.7978906,
          34.2983871,
          34.2983871,
          34.2983871,
          34.0236774,
          34.0236774,
          34.0236774,
          33.2020635,
          33.2020635,
          33.2020635,
          31.7561111,
          31.7561111,
          31.7561111,
          30.4046774,
          30.4046774,
          30.4046774,
          30.2467692,
          30.2467692,
          30.2467692,
          30.8530323,
          30.8530323,
          30.8530323,
          31.6284921,
          31.6284921,
          31.6284921,
          31.4766129,
          31.4766129,
          31.4766129,
          32.1669848,
          32.1669848,
          32.1669848,
          32.0892623,
          32.0892623,
          32.0892623,
          32.8585937,
          32.8585937,
          32.8585937,
          32.0271875,
          32.0271875,
          32.0271875,
          31.5866349,
          31.5866349,
          31.5866349,
          31.1259524,
          31.1259524,
          31.1259524,
          30.0144444,
          30.0144444,
          30.0144444,
          30.1258462,
          30.1258462,
          30.1258462,
          29.6770635,
          29.6770635,
          29.6770635,
          29.2983064,
          29.2983064,
          29.2983064,
          28.5997692,
          28.5997692,
          28.5997692,
          28.3843548,
          28.3843548,
          28.3843548,
          28.3304839,
          28.3304839,
          28.3304839,
          28.0448387,
          28.0448387,
          28.0448387,
          28.0365625,
          28.0365625,
          28.0365625,
          28.2662097,
          28.2662097,
          28.2662097,
          27.9229032,
          27.9229032,
          27.9229032,
          26.8287302,
          26.8287302,
          26.8287302,
          25.5624603,
          25.5624603,
          25.5624603,
          24.8257143,
          24.8257143,
          24.8257143,
          24.0924242,
          24.0924242,
          24.0924242,
          25.3423771,
          25.3423771,
          25.3423771,
          27.5992857,
          27.5992857,
          27.5992857,
          26.6770968,
          26.6770968,
          26.6770968,
          25.5978906,
          25.5978906,
          25.5978906,
          25.9145161,
          25.9145161,
          25.9145161,
          25.8676984,
          25.8676984,
          25.8676984,
          25.5892969,
          25.5892969,
          25.5892969,
          24.9134127,
          24.9134127,
          24.9134127,
          24.7859524,
          24.7859524,
          24.7859524,
          24.3745313,
          24.3745313,
          24.3745313,
          24.3205469,
          24.3205469,
          24.3205469,
          24.3880159,
          24.3880159,
          24.3880159,
          25.2787097,
          25.2787097,
          25.2787097,
          25.0834615,
          25.0834615,
          25.0834615,
          25.2612097,
          25.2612097,
          25.2612097,
          25.0651613,
          25.0651613,
          25.0651613,
          25.1666667,
          25.1666667,
          25.1666667,
          25.5683333,
          25.5683333,
          25.5683333,
          25.8312097,
          25.8312097,
          25.8312097,
          25.8523077,
          25.8523077,
          25.8523077,
          26.6569355,
          26.6569355,
          26.6569355,
          27.4407143,
          27.4407143,
          27.4407143,
          27.4470161,
          27.4470161,
          27.4470161,
          27.6181818,
          27.6181818,
          27.6181818,
          27.6240984,
          27.6240984,
          27.6240984,
          27.6238095,
          27.6238095,
          27.6238095,
          27.3799194,
          27.3799194,
          27.3799194,
          27.0718125,
          27.0718125,
          27.0718125,
          27.0565323,
          27.0565323,
          27.0565323,
          27.0385484,
          27.0385484,
          27.0385484,
          27.0393846,
          27.0393846,
          27.0393846,
          27.0276984,
          27.0276984,
          27.0276984,
          27.0279032,
          27.0279032,
          27.0279032,
          27.0202308,
          27.0202308,
          27.0202308,
          26.5320492,
          26.5320492,
          26.5320492,
          26.0843548,
          26.0843548,
          26.0843548,
          25.6512097,
          25.6512097,
          25.6512097,
          25.4018254,
          25.4018254,
          25.4018254,
          25.598871,
          25.598871,
          25.598871,
          25.7107511,
          25.7107511,
          25.7107511,
          25.8608564,
          25.8608564,
          25.8608564,
          25.6835823,
          25.6835823,
          25.6835823,
          25.6835397,
          25.6835397,
          25.6835397,
          25.74,
          25.74,
          25.74,
          25.5756667,
          25.5756667,
          25.5756667,
          25.6133333,
          25.6133333,
          25.6133333,
          27.0703333,
          27.0703333,
          27.0703333,
          26.464,
          26.464,
          26.464,
          26.659,
          26.659,
          26.659,
          26.0656667,
          26.0656667,
          26.0656667,
          25.6453333,
          25.6453333,
          25.6453333,
          25.4986667,
          25.4986667,
          25.4986667,
          25.3806667,
          25.3806667,
          25.3806667,
          24.6386667,
          24.6386667,
          24.6386667,
          24.6346667,
          24.6346667,
          24.6346667,
          24.5726667,
          24.5726667,
          24.5726667,
          24.3893333,
          24.3893333,
          24.3893333,
          23.7843333,
          23.7843333,
          23.7843333,
          23.5793333,
          23.5793333,
          23.5793333,
          24.1336667,
          24.1336667,
          24.1336667,
          24.6,
          24.6,
          24.6
         ],
         "yaxis": "y"
        }
       ],
       "layout": {
        "legend": {
         "title": {
          "text": "indicator_id"
         },
         "tracegroupgap": 0
        },
        "template": {
         "data": {
          "bar": [
           {
            "error_x": {
             "color": "#2a3f5f"
            },
            "error_y": {
             "color": "#2a3f5f"
            },
            "marker": {
             "line": {
              "color": "#E5ECF6",
              "width": 0.5
             },
             "pattern": {
              "fillmode": "overlay",
              "size": 10,
              "solidity": 0.2
             }
            },
            "type": "bar"
           }
          ],
          "barpolar": [
           {
            "marker": {
             "line": {
              "color": "#E5ECF6",
              "width": 0.5
             },
             "pattern": {
              "fillmode": "overlay",
              "size": 10,
              "solidity": 0.2
             }
            },
            "type": "barpolar"
           }
          ],
          "carpet": [
           {
            "aaxis": {
             "endlinecolor": "#2a3f5f",
             "gridcolor": "white",
             "linecolor": "white",
             "minorgridcolor": "white",
             "startlinecolor": "#2a3f5f"
            },
            "baxis": {
             "endlinecolor": "#2a3f5f",
             "gridcolor": "white",
             "linecolor": "white",
             "minorgridcolor": "white",
             "startlinecolor": "#2a3f5f"
            },
            "type": "carpet"
           }
          ],
          "choropleth": [
           {
            "colorbar": {
             "outlinewidth": 0,
             "ticks": ""
            },
            "type": "choropleth"
           }
          ],
          "contour": [
           {
            "colorbar": {
             "outlinewidth": 0,
             "ticks": ""
            },
            "colorscale": [
             [
              0,
              "#0d0887"
             ],
             [
              0.1111111111111111,
              "#46039f"
             ],
             [
              0.2222222222222222,
              "#7201a8"
             ],
             [
              0.3333333333333333,
              "#9c179e"
             ],
             [
              0.4444444444444444,
              "#bd3786"
             ],
             [
              0.5555555555555556,
              "#d8576b"
             ],
             [
              0.6666666666666666,
              "#ed7953"
             ],
             [
              0.7777777777777778,
              "#fb9f3a"
             ],
             [
              0.8888888888888888,
              "#fdca26"
             ],
             [
              1,
              "#f0f921"
             ]
            ],
            "type": "contour"
           }
          ],
          "contourcarpet": [
           {
            "colorbar": {
             "outlinewidth": 0,
             "ticks": ""
            },
            "type": "contourcarpet"
           }
          ],
          "heatmap": [
           {
            "colorbar": {
             "outlinewidth": 0,
             "ticks": ""
            },
            "colorscale": [
             [
              0,
              "#0d0887"
             ],
             [
              0.1111111111111111,
              "#46039f"
             ],
             [
              0.2222222222222222,
              "#7201a8"
             ],
             [
              0.3333333333333333,
              "#9c179e"
             ],
             [
              0.4444444444444444,
              "#bd3786"
             ],
             [
              0.5555555555555556,
              "#d8576b"
             ],
             [
              0.6666666666666666,
              "#ed7953"
             ],
             [
              0.7777777777777778,
              "#fb9f3a"
             ],
             [
              0.8888888888888888,
              "#fdca26"
             ],
             [
              1,
              "#f0f921"
             ]
            ],
            "type": "heatmap"
           }
          ],
          "heatmapgl": [
           {
            "colorbar": {
             "outlinewidth": 0,
             "ticks": ""
            },
            "colorscale": [
             [
              0,
              "#0d0887"
             ],
             [
              0.1111111111111111,
              "#46039f"
             ],
             [
              0.2222222222222222,
              "#7201a8"
             ],
             [
              0.3333333333333333,
              "#9c179e"
             ],
             [
              0.4444444444444444,
              "#bd3786"
             ],
             [
              0.5555555555555556,
              "#d8576b"
             ],
             [
              0.6666666666666666,
              "#ed7953"
             ],
             [
              0.7777777777777778,
              "#fb9f3a"
             ],
             [
              0.8888888888888888,
              "#fdca26"
             ],
             [
              1,
              "#f0f921"
             ]
            ],
            "type": "heatmapgl"
           }
          ],
          "histogram": [
           {
            "marker": {
             "pattern": {
              "fillmode": "overlay",
              "size": 10,
              "solidity": 0.2
             }
            },
            "type": "histogram"
           }
          ],
          "histogram2d": [
           {
            "colorbar": {
             "outlinewidth": 0,
             "ticks": ""
            },
            "colorscale": [
             [
              0,
              "#0d0887"
             ],
             [
              0.1111111111111111,
              "#46039f"
             ],
             [
              0.2222222222222222,
              "#7201a8"
             ],
             [
              0.3333333333333333,
              "#9c179e"
             ],
             [
              0.4444444444444444,
              "#bd3786"
             ],
             [
              0.5555555555555556,
              "#d8576b"
             ],
             [
              0.6666666666666666,
              "#ed7953"
             ],
             [
              0.7777777777777778,
              "#fb9f3a"
             ],
             [
              0.8888888888888888,
              "#fdca26"
             ],
             [
              1,
              "#f0f921"
             ]
            ],
            "type": "histogram2d"
           }
          ],
          "histogram2dcontour": [
           {
            "colorbar": {
             "outlinewidth": 0,
             "ticks": ""
            },
            "colorscale": [
             [
              0,
              "#0d0887"
             ],
             [
              0.1111111111111111,
              "#46039f"
             ],
             [
              0.2222222222222222,
              "#7201a8"
             ],
             [
              0.3333333333333333,
              "#9c179e"
             ],
             [
              0.4444444444444444,
              "#bd3786"
             ],
             [
              0.5555555555555556,
              "#d8576b"
             ],
             [
              0.6666666666666666,
              "#ed7953"
             ],
             [
              0.7777777777777778,
              "#fb9f3a"
             ],
             [
              0.8888888888888888,
              "#fdca26"
             ],
             [
              1,
              "#f0f921"
             ]
            ],
            "type": "histogram2dcontour"
           }
          ],
          "mesh3d": [
           {
            "colorbar": {
             "outlinewidth": 0,
             "ticks": ""
            },
            "type": "mesh3d"
           }
          ],
          "parcoords": [
           {
            "line": {
             "colorbar": {
              "outlinewidth": 0,
              "ticks": ""
             }
            },
            "type": "parcoords"
           }
          ],
          "pie": [
           {
            "automargin": true,
            "type": "pie"
           }
          ],
          "scatter": [
           {
            "fillpattern": {
             "fillmode": "overlay",
             "size": 10,
             "solidity": 0.2
            },
            "type": "scatter"
           }
          ],
          "scatter3d": [
           {
            "line": {
             "colorbar": {
              "outlinewidth": 0,
              "ticks": ""
             }
            },
            "marker": {
             "colorbar": {
              "outlinewidth": 0,
              "ticks": ""
             }
            },
            "type": "scatter3d"
           }
          ],
          "scattercarpet": [
           {
            "marker": {
             "colorbar": {
              "outlinewidth": 0,
              "ticks": ""
             }
            },
            "type": "scattercarpet"
           }
          ],
          "scattergeo": [
           {
            "marker": {
             "colorbar": {
              "outlinewidth": 0,
              "ticks": ""
             }
            },
            "type": "scattergeo"
           }
          ],
          "scattergl": [
           {
            "marker": {
             "colorbar": {
              "outlinewidth": 0,
              "ticks": ""
             }
            },
            "type": "scattergl"
           }
          ],
          "scattermapbox": [
           {
            "marker": {
             "colorbar": {
              "outlinewidth": 0,
              "ticks": ""
             }
            },
            "type": "scattermapbox"
           }
          ],
          "scatterpolar": [
           {
            "marker": {
             "colorbar": {
              "outlinewidth": 0,
              "ticks": ""
             }
            },
            "type": "scatterpolar"
           }
          ],
          "scatterpolargl": [
           {
            "marker": {
             "colorbar": {
              "outlinewidth": 0,
              "ticks": ""
             }
            },
            "type": "scatterpolargl"
           }
          ],
          "scatterternary": [
           {
            "marker": {
             "colorbar": {
              "outlinewidth": 0,
              "ticks": ""
             }
            },
            "type": "scatterternary"
           }
          ],
          "surface": [
           {
            "colorbar": {
             "outlinewidth": 0,
             "ticks": ""
            },
            "colorscale": [
             [
              0,
              "#0d0887"
             ],
             [
              0.1111111111111111,
              "#46039f"
             ],
             [
              0.2222222222222222,
              "#7201a8"
             ],
             [
              0.3333333333333333,
              "#9c179e"
             ],
             [
              0.4444444444444444,
              "#bd3786"
             ],
             [
              0.5555555555555556,
              "#d8576b"
             ],
             [
              0.6666666666666666,
              "#ed7953"
             ],
             [
              0.7777777777777778,
              "#fb9f3a"
             ],
             [
              0.8888888888888888,
              "#fdca26"
             ],
             [
              1,
              "#f0f921"
             ]
            ],
            "type": "surface"
           }
          ],
          "table": [
           {
            "cells": {
             "fill": {
              "color": "#EBF0F8"
             },
             "line": {
              "color": "white"
             }
            },
            "header": {
             "fill": {
              "color": "#C8D4E3"
             },
             "line": {
              "color": "white"
             }
            },
            "type": "table"
           }
          ]
         },
         "layout": {
          "annotationdefaults": {
           "arrowcolor": "#2a3f5f",
           "arrowhead": 0,
           "arrowwidth": 1
          },
          "autotypenumbers": "strict",
          "coloraxis": {
           "colorbar": {
            "outlinewidth": 0,
            "ticks": ""
           }
          },
          "colorscale": {
           "diverging": [
            [
             0,
             "#8e0152"
            ],
            [
             0.1,
             "#c51b7d"
            ],
            [
             0.2,
             "#de77ae"
            ],
            [
             0.3,
             "#f1b6da"
            ],
            [
             0.4,
             "#fde0ef"
            ],
            [
             0.5,
             "#f7f7f7"
            ],
            [
             0.6,
             "#e6f5d0"
            ],
            [
             0.7,
             "#b8e186"
            ],
            [
             0.8,
             "#7fbc41"
            ],
            [
             0.9,
             "#4d9221"
            ],
            [
             1,
             "#276419"
            ]
           ],
           "sequential": [
            [
             0,
             "#0d0887"
            ],
            [
             0.1111111111111111,
             "#46039f"
            ],
            [
             0.2222222222222222,
             "#7201a8"
            ],
            [
             0.3333333333333333,
             "#9c179e"
            ],
            [
             0.4444444444444444,
             "#bd3786"
            ],
            [
             0.5555555555555556,
             "#d8576b"
            ],
            [
             0.6666666666666666,
             "#ed7953"
            ],
            [
             0.7777777777777778,
             "#fb9f3a"
            ],
            [
             0.8888888888888888,
             "#fdca26"
            ],
            [
             1,
             "#f0f921"
            ]
           ],
           "sequentialminus": [
            [
             0,
             "#0d0887"
            ],
            [
             0.1111111111111111,
             "#46039f"
            ],
            [
             0.2222222222222222,
             "#7201a8"
            ],
            [
             0.3333333333333333,
             "#9c179e"
            ],
            [
             0.4444444444444444,
             "#bd3786"
            ],
            [
             0.5555555555555556,
             "#d8576b"
            ],
            [
             0.6666666666666666,
             "#ed7953"
            ],
            [
             0.7777777777777778,
             "#fb9f3a"
            ],
            [
             0.8888888888888888,
             "#fdca26"
            ],
            [
             1,
             "#f0f921"
            ]
           ]
          },
          "colorway": [
           "#636efa",
           "#EF553B",
           "#00cc96",
           "#ab63fa",
           "#FFA15A",
           "#19d3f3",
           "#FF6692",
           "#B6E880",
           "#FF97FF",
           "#FECB52"
          ],
          "font": {
           "color": "#2a3f5f"
          },
          "geo": {
           "bgcolor": "white",
           "lakecolor": "white",
           "landcolor": "#E5ECF6",
           "showlakes": true,
           "showland": true,
           "subunitcolor": "white"
          },
          "hoverlabel": {
           "align": "left"
          },
          "hovermode": "closest",
          "mapbox": {
           "style": "light"
          },
          "paper_bgcolor": "white",
          "plot_bgcolor": "#E5ECF6",
          "polar": {
           "angularaxis": {
            "gridcolor": "white",
            "linecolor": "white",
            "ticks": ""
           },
           "bgcolor": "#E5ECF6",
           "radialaxis": {
            "gridcolor": "white",
            "linecolor": "white",
            "ticks": ""
           }
          },
          "scene": {
           "xaxis": {
            "backgroundcolor": "#E5ECF6",
            "gridcolor": "white",
            "gridwidth": 2,
            "linecolor": "white",
            "showbackground": true,
            "ticks": "",
            "zerolinecolor": "white"
           },
           "yaxis": {
            "backgroundcolor": "#E5ECF6",
            "gridcolor": "white",
            "gridwidth": 2,
            "linecolor": "white",
            "showbackground": true,
            "ticks": "",
            "zerolinecolor": "white"
           },
           "zaxis": {
            "backgroundcolor": "#E5ECF6",
            "gridcolor": "white",
            "gridwidth": 2,
            "linecolor": "white",
            "showbackground": true,
            "ticks": "",
            "zerolinecolor": "white"
           }
          },
          "shapedefaults": {
           "line": {
            "color": "#2a3f5f"
           }
          },
          "ternary": {
           "aaxis": {
            "gridcolor": "white",
            "linecolor": "white",
            "ticks": ""
           },
           "baxis": {
            "gridcolor": "white",
            "linecolor": "white",
            "ticks": ""
           },
           "bgcolor": "#E5ECF6",
           "caxis": {
            "gridcolor": "white",
            "linecolor": "white",
            "ticks": ""
           }
          },
          "title": {
           "x": 0.05
          },
          "xaxis": {
           "automargin": true,
           "gridcolor": "white",
           "linecolor": "white",
           "ticks": "",
           "title": {
            "standoff": 15
           },
           "zerolinecolor": "white",
           "zerolinewidth": 2
          },
          "yaxis": {
           "automargin": true,
           "gridcolor": "white",
           "linecolor": "white",
           "ticks": "",
           "title": {
            "standoff": 15
           },
           "zerolinecolor": "white",
           "zerolinewidth": 2
          }
         }
        },
        "title": {
         "text": "Index Time Series Visualization"
        },
        "updatemenus": [
         {
          "active": 0,
          "buttons": [
           {
            "args": [
             {
              "visible": true
             },
             {
              "title": "Index Time Series Visualization"
             }
            ],
            "label": "Show All",
            "method": "update"
           },
           {
            "args": [
             {
              "visible": [
               "legendonly",
               "legendonly",
               "legendonly",
               "legendonly",
               "legendonly"
              ]
             },
             {
              "title": "Index Time Series Visualization"
             }
            ],
            "label": "Hide All",
            "method": "update"
           }
          ]
         }
        ],
        "xaxis": {
         "anchor": "y",
         "domain": [
          0,
          1
         ],
         "title": {
          "text": "Year-Month"
         }
        },
        "yaxis": {
         "anchor": "x",
         "domain": [
          0,
          1
         ],
         "title": {
          "text": "value"
         }
        }
       }
      },
      "text/html": [
       "<div>                            <div id=\"07fbf13a-13b2-47dd-b06b-df56dfe4725a\" class=\"plotly-graph-div\" style=\"height:525px; width:100%;\"></div>            <script type=\"text/javascript\">                require([\"plotly\"], function(Plotly) {                    window.PLOTLYENV=window.PLOTLYENV || {};                                    if (document.getElementById(\"07fbf13a-13b2-47dd-b06b-df56dfe4725a\")) {                    Plotly.newPlot(                        \"07fbf13a-13b2-47dd-b06b-df56dfe4725a\",                        [{\"hovertemplate\":\"indicator_id=CPI_index<br>Year-Month=%{x}<br>value=%{y}<extra></extra>\",\"legendgroup\":\"CPI_index\",\"line\":{\"color\":\"#636efa\",\"dash\":\"solid\"},\"marker\":{\"symbol\":\"circle\"},\"mode\":\"lines\",\"name\":\"CPI_index\",\"showlegend\":true,\"x\":[\"1995-03\",\"1995-06\",\"1995-09\",\"1995-12\",\"1996-03\",\"1996-06\",\"1996-09\",\"1996-12\",\"1997-03\",\"1997-06\",\"1997-09\",\"1997-12\",\"1998-03\",\"1998-06\",\"1998-09\",\"1998-12\",\"1999-03\",\"1999-06\",\"1999-09\",\"1999-12\",\"2000-01\",\"2000-02\",\"2000-03\",\"2000-04\",\"2000-05\",\"2000-06\",\"2000-07\",\"2000-08\",\"2000-09\",\"2000-10\",\"2000-11\",\"2000-12\",\"2001-01\",\"2001-02\",\"2001-03\",\"2001-04\",\"2001-05\",\"2001-06\",\"2001-07\",\"2001-08\",\"2001-09\",\"2001-10\",\"2001-11\",\"2001-12\",\"2002-01\",\"2002-02\",\"2002-03\",\"2002-04\",\"2002-05\",\"2002-06\",\"2002-07\",\"2002-08\",\"2002-09\",\"2002-10\",\"2002-11\",\"2002-12\",\"2003-01\",\"2003-02\",\"2003-03\",\"2003-04\",\"2003-05\",\"2003-06\",\"2003-07\",\"2003-08\",\"2003-09\",\"2003-10\",\"2003-11\",\"2003-12\",\"2004-01\",\"2004-02\",\"2004-03\",\"2004-04\",\"2004-05\",\"2004-06\",\"2004-07\",\"2004-08\",\"2004-09\",\"2004-10\",\"2004-11\",\"2004-12\",\"2005-01\",\"2005-02\",\"2005-03\",\"2005-04\",\"2005-05\",\"2005-06\",\"2005-07\",\"2005-08\",\"2005-09\",\"2005-10\",\"2005-11\",\"2005-12\",\"2006-01\",\"2006-02\",\"2006-03\",\"2006-04\",\"2006-05\",\"2006-06\",\"2006-07\",\"2006-08\",\"2006-09\",\"2006-10\",\"2006-11\",\"2006-12\",\"2007-01\",\"2007-02\",\"2007-03\",\"2007-04\",\"2007-05\",\"2007-06\",\"2007-07\",\"2007-08\",\"2007-09\",\"2007-10\",\"2007-11\",\"2007-12\",\"2008-01\",\"2008-02\",\"2008-03\",\"2008-04\",\"2008-05\",\"2008-06\",\"2008-07\",\"2008-08\",\"2008-09\",\"2008-10\",\"2008-11\",\"2008-12\",\"2009-01\",\"2009-02\",\"2009-03\",\"2009-04\",\"2009-05\",\"2009-06\",\"2009-07\",\"2009-08\",\"2009-09\",\"2009-10\",\"2009-11\",\"2009-12\",\"2010-01\",\"2010-02\",\"2010-03\",\"2010-04\",\"2010-05\",\"2010-06\",\"2010-07\",\"2010-08\",\"2010-09\",\"2010-10\",\"2010-11\",\"2010-12\",\"2011-01\",\"2011-02\",\"2011-03\",\"2011-04\",\"2011-05\",\"2011-06\",\"2011-07\",\"2011-08\",\"2011-09\",\"2011-10\",\"2011-11\",\"2011-12\",\"2012-01\",\"2012-02\",\"2012-03\",\"2012-04\",\"2012-05\",\"2012-06\",\"2012-07\",\"2012-08\",\"2012-09\",\"2012-10\",\"2012-11\",\"2012-12\",\"2013-01\",\"2013-02\",\"2013-03\",\"2013-04\",\"2013-05\",\"2013-06\",\"2013-07\",\"2013-08\",\"2013-09\",\"2013-10\",\"2013-11\",\"2013-12\",\"2014-01\",\"2014-02\",\"2014-03\",\"2014-04\",\"2014-05\",\"2014-06\",\"2014-07\",\"2014-08\",\"2014-09\",\"2014-10\",\"2014-11\",\"2014-12\",\"2015-01\",\"2015-02\",\"2015-03\",\"2015-04\",\"2015-05\",\"2015-06\",\"2015-07\",\"2015-08\",\"2015-09\",\"2015-10\",\"2015-11\",\"2015-12\",\"2016-01\",\"2016-02\",\"2016-03\",\"2016-04\",\"2016-05\",\"2016-06\",\"2016-07\",\"2016-08\",\"2016-09\",\"2016-10\",\"2016-11\",\"2016-12\",\"2017-01\",\"2017-02\",\"2017-03\",\"2017-04\",\"2017-05\",\"2017-06\",\"2017-07\",\"2017-08\",\"2017-09\",\"2017-10\",\"2017-11\",\"2017-12\",\"2018-01\",\"2018-02\",\"2018-03\",\"2018-04\",\"2018-05\",\"2018-06\",\"2018-07\",\"2018-08\",\"2018-09\",\"2018-10\",\"2018-11\",\"2018-12\",\"2019-01\",\"2019-02\",\"2019-03\",\"2019-04\",\"2019-05\",\"2019-06\",\"2019-07\",\"2019-08\",\"2019-09\",\"2019-10\",\"2019-11\",\"2019-12\",\"2020-01\",\"2020-02\",\"2020-03\",\"2020-04\",\"2020-05\",\"2020-06\",\"2020-07\",\"2020-08\",\"2020-09\",\"2020-10\",\"2020-11\",\"2020-12\",\"2021-01\",\"2021-02\",\"2021-03\",\"2021-04\",\"2021-05\",\"2021-06\",\"2021-07\",\"2021-08\",\"2021-09\",\"2021-10\",\"2021-11\",\"2021-12\",\"2022-01\",\"2022-02\",\"2022-03\",\"2022-04\",\"2022-05\",\"2022-06\",\"2022-07\",\"2022-08\",\"2022-09\",\"2022-10\",\"2022-11\",\"2022-12\",\"2023-01\",\"2023-02\",\"2023-03\",\"2023-04\",\"2023-05\",\"2023-06\",\"2023-07\",\"2023-08\",\"2023-09\",\"2023-10\",\"2023-11\",\"2023-12\"],\"xaxis\":\"x\",\"y\":[null,null,null,null,null,null,null,null,null,null,null,null,null,null,null,null,null,null,null,null,71.62608754299589,71.78795440749984,71.78795440749984,71.70702097524787,71.78795440749984,72.27355500101167,72.67822216227154,72.84008902677549,72.84008902677549,73.00195589127942,73.0828893235314,73.24475618803535,74.62062453631889,74.62062453631889,74.70155796857085,74.94435826532677,75.42995885883862,76.15835974910637,77.04862750387807,76.88676063937412,76.23929318135833,76.23929318135833,76.15835974910637,76.23929318135833,77.45329466513793,77.5342280973899,77.5342280973899,77.45329466513793,77.37236123288596,77.12956093613003,77.5342280973899,77.37236123288596,76.9676940716261,76.72489377487018,76.56302691036623,76.72489377487018,77.12956093613003,77.29142780063398,77.21049436838202,77.37236123288596,77.37236123288596,77.37236123288596,77.45329466513793,77.29142780063398,76.9676940716261,77.04862750387807,77.37236123288596,77.5342280973899,78.91009644567345,79.07196331017738,79.07196331017738,79.07196331017738,79.47663047143725,79.6384973359412,79.88129763269711,79.88129763269711,79.23383017468133,79.6384973359412,79.6384973359412,79.6384973359412,80.20503136170501,80.36689822620895,80.28596479395698,80.36689822620895,80.5287650907129,81.01436568422473,81.17623254872868,81.17623254872868,81.01436568422473,81.66183314224051,81.49996627773658,81.4190328454846,82.55210089701221,82.63303432926419,82.55210089701221,82.63303432926419,83.03770149052406,83.19956835502799,83.60423551628786,83.7661023807918,83.19956835502799,82.71396776151616,82.71396776151616,82.79490119376813,83.60423551628786,83.84703581304377,84.08983610979969,84.6563701355635,84.98010386457139,85.22290416132732,85.62757132258717,85.8703716193431,85.62757132258717,86.11317191609902,86.92250623861874,87.3271733998786,89.91704323194173,90.15984352869765,90.07891009644568,90.40264382545357,90.80731098671343,90.96917785121738,91.45477844472921,91.37384501247725,91.2119781479733,91.2119781479733,90.72637755446146,90.48357725770555,91.85944560598908,91.94037903824105,92.102245902745,92.02131247049303,92.02131247049303,92.02131247049303,91.69757874148513,91.5357118769812,91.2119781479733,91.05011128346935,91.2119781479733,91.37384501247725,92.50691306400486,92.50691306400486,92.74971336076078,93.07344708976868,93.15438052202065,93.15438052202065,93.47811425102854,93.23531395427261,92.9925136575167,92.83064679301276,92.9925136575167,93.47811425102854,94.12558170904433,94.2065151412963,94.28744857354826,94.53024887030418,95.01584946381602,94.85398259931208,95.09678289606799,94.85398259931208,94.69211573480813,94.93491603156404,95.33958319282391,95.74425035408377,97.4438524313752,97.68665272813112,97.84851959263507,97.84851959263507,98.010386457139,98.17225332164296,98.09131988939099,98.010386457139,97.92945302488704,98.17225332164296,97.92945302488704,98.010386457139,99.30532137317057,99.38625480542255,99.46718823767452,99.54812166992649,99.30532137317057,99.70998853443044,99.46718823767452,99.30532137317057,98.9006542119107,99.06252107641465,98.98158764416269,99.38625480542255,99.46718823767452,99.62905510217847,99.62905510217847,99.62905510217847,99.70998853443044,99.70998853443044,99.95278883118635,99.87185539893439,99.62905510217847,99.79092196668242,99.54812166992649,99.46718823767452,99.54812166992649,99.70998853443044,99.79092196668242,100.1146556956903,100.4383894246982,100.51932285695017,100.4383894246982,100.19558912794227,100.03372226343834,100.03372226343834,99.62905510217847,99.54812166992649,100.1146556956903,100.19558912794227,100.1146556956903,100.68118972145412,100.51932285695017,100.60025628920214,100.92399001821003,100.76212315370609,100.51932285695017,100.84305658595805,101.16679031496595,101.49052404397383,102.3,102.7,102.7,102.7,102.9,102.9,103.4,103.3,103.2,103.7,103.8,103.9,104.5,104.5,104.4,104.7,105.2,105.6,105.8,105.9,105.6,106.0,105.9,106.0,107.1,107.3,107.5,107.6,108.3,108.5,108.9,109.0,108.4,108.9,109.2,109.4,111.0,111.3,111.2,111.0,111.4,112.1,112.6,112.6,111.9,112.1,112.1,111.9,113.4,113.6,113.8,114.4,114.6,115.2,116.4,117.2,117.4,118.6,118.8,119.3,124.6,126.2,128.3,130.6,132.9,135.0,136.8,137.4,138.5,136.5,138.1,138.1,146.4,147.3,147.5,147.2,147.6,148.1,148.8,149.1,148.0,148.1,148.2,147.6],\"yaxis\":\"y\",\"type\":\"scattergl\",\"visible\":\"legendonly\"},{\"hovertemplate\":\"indicator_id=GDP_index<br>Year-Month=%{x}<br>value=%{y}<extra></extra>\",\"legendgroup\":\"GDP_index\",\"line\":{\"color\":\"#EF553B\",\"dash\":\"solid\"},\"marker\":{\"symbol\":\"circle\"},\"mode\":\"lines\",\"name\":\"GDP_index\",\"showlegend\":true,\"x\":[\"1995-03\",\"1995-06\",\"1995-09\",\"1995-12\",\"1996-03\",\"1996-06\",\"1996-09\",\"1996-12\",\"1997-03\",\"1997-06\",\"1997-09\",\"1997-12\",\"1998-03\",\"1998-06\",\"1998-09\",\"1998-12\",\"1999-03\",\"1999-06\",\"1999-09\",\"1999-12\",\"2000-01\",\"2000-02\",\"2000-03\",\"2000-04\",\"2000-05\",\"2000-06\",\"2000-07\",\"2000-08\",\"2000-09\",\"2000-10\",\"2000-11\",\"2000-12\",\"2001-01\",\"2001-02\",\"2001-03\",\"2001-04\",\"2001-05\",\"2001-06\",\"2001-07\",\"2001-08\",\"2001-09\",\"2001-10\",\"2001-11\",\"2001-12\",\"2002-01\",\"2002-02\",\"2002-03\",\"2002-04\",\"2002-05\",\"2002-06\",\"2002-07\",\"2002-08\",\"2002-09\",\"2002-10\",\"2002-11\",\"2002-12\",\"2003-01\",\"2003-02\",\"2003-03\",\"2003-04\",\"2003-05\",\"2003-06\",\"2003-07\",\"2003-08\",\"2003-09\",\"2003-10\",\"2003-11\",\"2003-12\",\"2004-01\",\"2004-02\",\"2004-03\",\"2004-04\",\"2004-05\",\"2004-06\",\"2004-07\",\"2004-08\",\"2004-09\",\"2004-10\",\"2004-11\",\"2004-12\",\"2005-01\",\"2005-02\",\"2005-03\",\"2005-04\",\"2005-05\",\"2005-06\",\"2005-07\",\"2005-08\",\"2005-09\",\"2005-10\",\"2005-11\",\"2005-12\",\"2006-01\",\"2006-02\",\"2006-03\",\"2006-04\",\"2006-05\",\"2006-06\",\"2006-07\",\"2006-08\",\"2006-09\",\"2006-10\",\"2006-11\",\"2006-12\",\"2007-01\",\"2007-02\",\"2007-03\",\"2007-04\",\"2007-05\",\"2007-06\",\"2007-07\",\"2007-08\",\"2007-09\",\"2007-10\",\"2007-11\",\"2007-12\",\"2008-01\",\"2008-02\",\"2008-03\",\"2008-04\",\"2008-05\",\"2008-06\",\"2008-07\",\"2008-08\",\"2008-09\",\"2008-10\",\"2008-11\",\"2008-12\",\"2009-01\",\"2009-02\",\"2009-03\",\"2009-04\",\"2009-05\",\"2009-06\",\"2009-07\",\"2009-08\",\"2009-09\",\"2009-10\",\"2009-11\",\"2009-12\",\"2010-01\",\"2010-02\",\"2010-03\",\"2010-04\",\"2010-05\",\"2010-06\",\"2010-07\",\"2010-08\",\"2010-09\",\"2010-10\",\"2010-11\",\"2010-12\",\"2011-01\",\"2011-02\",\"2011-03\",\"2011-04\",\"2011-05\",\"2011-06\",\"2011-07\",\"2011-08\",\"2011-09\",\"2011-10\",\"2011-11\",\"2011-12\",\"2012-01\",\"2012-02\",\"2012-03\",\"2012-04\",\"2012-05\",\"2012-06\",\"2012-07\",\"2012-08\",\"2012-09\",\"2012-10\",\"2012-11\",\"2012-12\",\"2013-01\",\"2013-02\",\"2013-03\",\"2013-04\",\"2013-05\",\"2013-06\",\"2013-07\",\"2013-08\",\"2013-09\",\"2013-10\",\"2013-11\",\"2013-12\",\"2014-01\",\"2014-02\",\"2014-03\",\"2014-04\",\"2014-05\",\"2014-06\",\"2014-07\",\"2014-08\",\"2014-09\",\"2014-10\",\"2014-11\",\"2014-12\",\"2015-01\",\"2015-02\",\"2015-03\",\"2015-04\",\"2015-05\",\"2015-06\",\"2015-07\",\"2015-08\",\"2015-09\",\"2015-10\",\"2015-11\",\"2015-12\",\"2016-01\",\"2016-02\",\"2016-03\",\"2016-04\",\"2016-05\",\"2016-06\",\"2016-07\",\"2016-08\",\"2016-09\",\"2016-10\",\"2016-11\",\"2016-12\",\"2017-01\",\"2017-02\",\"2017-03\",\"2017-04\",\"2017-05\",\"2017-06\",\"2017-07\",\"2017-08\",\"2017-09\",\"2017-10\",\"2017-11\",\"2017-12\",\"2018-01\",\"2018-02\",\"2018-03\",\"2018-04\",\"2018-05\",\"2018-06\",\"2018-07\",\"2018-08\",\"2018-09\",\"2018-10\",\"2018-11\",\"2018-12\",\"2019-01\",\"2019-02\",\"2019-03\",\"2019-04\",\"2019-05\",\"2019-06\",\"2019-07\",\"2019-08\",\"2019-09\",\"2019-10\",\"2019-11\",\"2019-12\",\"2020-01\",\"2020-02\",\"2020-03\",\"2020-04\",\"2020-05\",\"2020-06\",\"2020-07\",\"2020-08\",\"2020-09\",\"2020-10\",\"2020-11\",\"2020-12\",\"2021-01\",\"2021-02\",\"2021-03\",\"2021-04\",\"2021-05\",\"2021-06\",\"2021-07\",\"2021-08\",\"2021-09\",\"2021-10\",\"2021-11\",\"2021-12\",\"2022-01\",\"2022-02\",\"2022-03\",\"2022-04\",\"2022-05\",\"2022-06\",\"2022-07\",\"2022-08\",\"2022-09\",\"2022-10\",\"2022-11\",\"2022-12\",\"2023-01\",\"2023-02\",\"2023-03\",\"2023-04\",\"2023-05\",\"2023-06\",\"2023-07\",\"2023-08\",\"2023-09\",\"2023-10\",\"2023-11\",\"2023-12\"],\"xaxis\":\"x\",\"y\":[null,null,null,null,105.78687083934038,104.51320773861868,103.74576558972774,103.04996262165236,100.77561680132048,99.87486667502687,98.78003627426781,98.43822284322019,98.87623953083033,99.37989498853082,99.99646901287181,100.36466123420868,100.39532745291692,100.57520296486288,101.47328849726746,102.54294683780707,103.8793612283694,103.8793612283694,103.8793612283694,104.39984223081308,104.39984223081308,104.39984223081308,104.79027249852776,104.79027249852776,104.79027249852776,104.12153764498312,104.12153764498312,104.12153764498312,103.97182741680348,103.97182741680348,103.97182741680348,103.2274759184624,103.2274759184624,103.2274759184624,102.34420800279966,102.34420800279966,102.34420800279966,102.60977451446497,102.60977451446497,102.60977451446497,101.21373311188556,101.21373311188556,101.21373311188556,101.48350546475484,101.48350546475484,101.48350546475484,101.68362858087744,101.68362858087744,101.68362858087744,101.61523709470409,101.61523709470409,101.61523709470409,102.88691529042308,102.88691529042308,102.88691529042308,103.44965146552448,103.44965146552448,103.44965146552448,103.89852183859519,103.89852183859519,103.89852183859519,104.05924708555933,104.05924708555933,104.05924708555933,104.06385383879464,104.06385383879464,104.06385383879464,104.25091958400537,104.25091958400537,104.25091958400537,104.64987165721077,104.64987165721077,104.64987165721077,105.73319227060612,105.73319227060612,105.73319227060612,106.42295537331115,106.42295537331115,106.42295537331115,106.72642299187024,106.72642299187024,106.72642299187024,106.77303383469255,106.77303383469255,106.77303383469255,106.75424259381354,106.75424259381354,106.75424259381354,106.87650397992986,106.87650397992986,106.87650397992986,107.32540085348016,107.32540085348016,107.32540085348016,107.02357153655296,107.02357153655296,107.02357153655296,106.49641014356312,106.49641014356312,106.49641014356312,106.36251332679647,106.36251332679647,106.36251332679647,105.17957085355393,105.17957085355393,105.17957085355393,105.37976840414592,105.37976840414592,105.37976840414592,105.3304301381292,105.3304301381292,105.3304301381292,104.05086969312784,104.05086969312784,104.05086969312784,103.95323305054536,103.95323305054536,103.95323305054536,102.76051479617183,102.76051479617183,102.76051479617183,99.44664777743026,99.44664777743026,99.44664777743026,95.66117548243186,95.66117548243186,95.66117548243186,94.61482753512664,94.61482753512664,94.61482753512664,94.83471375925858,94.83471375925858,94.83471375925858,96.80647544537761,96.80647544537761,96.80647544537761,100.85299752572952,100.85299752572952,100.85299752572952,102.47158412750876,102.47158412750876,102.47158412750876,102.73725681813372,102.73725681813372,102.73725681813372,103.12124838401168,103.12124838401168,103.12124838401168,103.0045343897666,103.0045343897666,103.0045343897666,102.08819243701043,102.08819243701043,102.08819243701043,101.15849274233412,101.15849274233412,101.15849274233412,100.81427365038056,100.81427365038056,100.81427365038056,100.06496611752844,100.06496611752844,100.06496611752844,99.2181523896101,99.2181523896101,99.2181523896101,99.04015415285345,99.04015415285345,99.04015415285345,98.81175376342695,98.81175376342695,98.81175376342695,98.56620898839982,98.56620898839982,98.56620898839982,99.45780759851505,99.45780759851505,99.45780759851505,100.24146937478682,100.24146937478682,100.24146937478682,101.58578964801607,101.58578964801607,101.58578964801607,101.4567148135202,101.4567148135202,101.4567148135202,102.0289285212751,102.0289285212751,102.0289285212751,102.80003989935666,102.80003989935666,102.80003989935666,102.7441534876438,102.7441534876438,102.7441534876438,105.26095464956143,105.26095464956143,105.26095464956143,105.70285789789524,105.70285789789524,105.70285789789524,105.73147673738475,105.73147673738475,105.73147673738475,105.147366656417,105.147366656417,105.147366656417,103.35585173401655,103.35585173401655,103.35585173401655,102.30170325172551,102.30170325172551,102.30170325172551,101.99307338812184,101.99307338812184,101.99307338812184,102.17597222612991,102.17597222612991,102.17597222612991,103.68743152466217,103.68743152466217,103.68743152466217,105.9188553468512,105.9188553468512,105.9188553468512,105.85304446103856,105.85304446103856,105.85304446103856,105.90359163667586,105.90359163667586,105.90359163667586,104.74101587098288,104.74101587098288,104.74101587098288,102.80851213828097,102.80851213828097,102.80851213828097,102.694674760224,102.694674760224,102.694674760224,102.63265921982268,102.63265921982268,102.63265921982268,102.9925808638806,102.9925808638806,102.9925808638806,103.05774652496925,103.05774652496925,103.05774652496925,103.02228128899301,103.02228128899301,103.02228128899301,102.79190778958164,102.79190778958164,102.79190778958164,98.52618055867384,98.52618055867384,98.52618055867384,89.19713460029126,89.19713460029126,89.19713460029126,94.7832505361294,94.7832505361294,94.7832505361294,95.43367093542493,95.43367093542493,95.43367093542493,98.08136768404596,98.08136768404596,98.08136768404596,109.17929312195146,109.17929312195146,109.17929312195146,103.8209037046074,103.8209037046074,103.8209037046074,103.41333466894972,103.41333466894972,103.41333466894972,104.67170185787528,104.67170185787528,104.67170185787528,103.35237908895601,103.35237908895601,103.35237908895601,101.33900638217996,101.33900638217996,101.33900638217996,100.14552438725379,100.14552438725379,100.14552438725379,99.68436053475872,99.68436053475872,99.68436053475872,99.60837725598141,99.60837725598141,99.60837725598141,99.20697070640749,99.20697070640749,99.20697070640749,null,null,null],\"yaxis\":\"y\",\"type\":\"scattergl\",\"visible\":\"legendonly\"},{\"hovertemplate\":\"indicator_id=Industry_index<br>Year-Month=%{x}<br>value=%{y}<extra></extra>\",\"legendgroup\":\"Industry_index\",\"line\":{\"color\":\"#00cc96\",\"dash\":\"solid\"},\"marker\":{\"symbol\":\"circle\"},\"mode\":\"lines\",\"name\":\"Industry_index\",\"showlegend\":true,\"x\":[\"1995-03\",\"1995-06\",\"1995-09\",\"1995-12\",\"1996-03\",\"1996-06\",\"1996-09\",\"1996-12\",\"1997-03\",\"1997-06\",\"1997-09\",\"1997-12\",\"1998-03\",\"1998-06\",\"1998-09\",\"1998-12\",\"1999-03\",\"1999-06\",\"1999-09\",\"1999-12\",\"2000-01\",\"2000-02\",\"2000-03\",\"2000-04\",\"2000-05\",\"2000-06\",\"2000-07\",\"2000-08\",\"2000-09\",\"2000-10\",\"2000-11\",\"2000-12\",\"2001-01\",\"2001-02\",\"2001-03\",\"2001-04\",\"2001-05\",\"2001-06\",\"2001-07\",\"2001-08\",\"2001-09\",\"2001-10\",\"2001-11\",\"2001-12\",\"2002-01\",\"2002-02\",\"2002-03\",\"2002-04\",\"2002-05\",\"2002-06\",\"2002-07\",\"2002-08\",\"2002-09\",\"2002-10\",\"2002-11\",\"2002-12\",\"2003-01\",\"2003-02\",\"2003-03\",\"2003-04\",\"2003-05\",\"2003-06\",\"2003-07\",\"2003-08\",\"2003-09\",\"2003-10\",\"2003-11\",\"2003-12\",\"2004-01\",\"2004-02\",\"2004-03\",\"2004-04\",\"2004-05\",\"2004-06\",\"2004-07\",\"2004-08\",\"2004-09\",\"2004-10\",\"2004-11\",\"2004-12\",\"2005-01\",\"2005-02\",\"2005-03\",\"2005-04\",\"2005-05\",\"2005-06\",\"2005-07\",\"2005-08\",\"2005-09\",\"2005-10\",\"2005-11\",\"2005-12\",\"2006-01\",\"2006-02\",\"2006-03\",\"2006-04\",\"2006-05\",\"2006-06\",\"2006-07\",\"2006-08\",\"2006-09\",\"2006-10\",\"2006-11\",\"2006-12\",\"2007-01\",\"2007-02\",\"2007-03\",\"2007-04\",\"2007-05\",\"2007-06\",\"2007-07\",\"2007-08\",\"2007-09\",\"2007-10\",\"2007-11\",\"2007-12\",\"2008-01\",\"2008-02\",\"2008-03\",\"2008-04\",\"2008-05\",\"2008-06\",\"2008-07\",\"2008-08\",\"2008-09\",\"2008-10\",\"2008-11\",\"2008-12\",\"2009-01\",\"2009-02\",\"2009-03\",\"2009-04\",\"2009-05\",\"2009-06\",\"2009-07\",\"2009-08\",\"2009-09\",\"2009-10\",\"2009-11\",\"2009-12\",\"2010-01\",\"2010-02\",\"2010-03\",\"2010-04\",\"2010-05\",\"2010-06\",\"2010-07\",\"2010-08\",\"2010-09\",\"2010-10\",\"2010-11\",\"2010-12\",\"2011-01\",\"2011-02\",\"2011-03\",\"2011-04\",\"2011-05\",\"2011-06\",\"2011-07\",\"2011-08\",\"2011-09\",\"2011-10\",\"2011-11\",\"2011-12\",\"2012-01\",\"2012-02\",\"2012-03\",\"2012-04\",\"2012-05\",\"2012-06\",\"2012-07\",\"2012-08\",\"2012-09\",\"2012-10\",\"2012-11\",\"2012-12\",\"2013-01\",\"2013-02\",\"2013-03\",\"2013-04\",\"2013-05\",\"2013-06\",\"2013-07\",\"2013-08\",\"2013-09\",\"2013-10\",\"2013-11\",\"2013-12\",\"2014-01\",\"2014-02\",\"2014-03\",\"2014-04\",\"2014-05\",\"2014-06\",\"2014-07\",\"2014-08\",\"2014-09\",\"2014-10\",\"2014-11\",\"2014-12\",\"2015-01\",\"2015-02\",\"2015-03\",\"2015-04\",\"2015-05\",\"2015-06\",\"2015-07\",\"2015-08\",\"2015-09\",\"2015-10\",\"2015-11\",\"2015-12\",\"2016-01\",\"2016-02\",\"2016-03\",\"2016-04\",\"2016-05\",\"2016-06\",\"2016-07\",\"2016-08\",\"2016-09\",\"2016-10\",\"2016-11\",\"2016-12\",\"2017-01\",\"2017-02\",\"2017-03\",\"2017-04\",\"2017-05\",\"2017-06\",\"2017-07\",\"2017-08\",\"2017-09\",\"2017-10\",\"2017-11\",\"2017-12\",\"2018-01\",\"2018-02\",\"2018-03\",\"2018-04\",\"2018-05\",\"2018-06\",\"2018-07\",\"2018-08\",\"2018-09\",\"2018-10\",\"2018-11\",\"2018-12\",\"2019-01\",\"2019-02\",\"2019-03\",\"2019-04\",\"2019-05\",\"2019-06\",\"2019-07\",\"2019-08\",\"2019-09\",\"2019-10\",\"2019-11\",\"2019-12\",\"2020-01\",\"2020-02\",\"2020-03\",\"2020-04\",\"2020-05\",\"2020-06\",\"2020-07\",\"2020-08\",\"2020-09\",\"2020-10\",\"2020-11\",\"2020-12\",\"2021-01\",\"2021-02\",\"2021-03\",\"2021-04\",\"2021-05\",\"2021-06\",\"2021-07\",\"2021-08\",\"2021-09\",\"2021-10\",\"2021-11\",\"2021-12\",\"2022-01\",\"2022-02\",\"2022-03\",\"2022-04\",\"2022-05\",\"2022-06\",\"2022-07\",\"2022-08\",\"2022-09\",\"2022-10\",\"2022-11\",\"2022-12\",\"2023-01\",\"2023-02\",\"2023-03\",\"2023-04\",\"2023-05\",\"2023-06\",\"2023-07\",\"2023-08\",\"2023-09\",\"2023-10\",\"2023-11\",\"2023-12\"],\"xaxis\":\"x\",\"y\":[null,null,null,null,null,null,null,null,null,null,null,null,null,null,null,null,null,null,null,null,null,null,null,null,null,null,null,null,null,null,null,null,66.9,66.0,66.5,66.8,66.9,66.8,65.6,67.0,66.3,66.7,67.2,67.3,65.4,66.9,66.5,67.1,67.2,67.2,68.7,67.2,68.7,69.8,70.9,70.4,69.2,68.7,68.5,70.2,68.7,69.5,69.6,71.1,71.4,71.8,72.8,74.5,74.4,76.7,76.1,77.2,76.7,76.5,77.7,77.8,77.5,78.3,78.4,77.6,77.3,77.3,77.4,79.0,78.0,79.3,79.4,80.2,80.4,81.2,82.4,82.3,83.9,82.5,84.0,82.9,86.4,86.1,86.0,85.7,87.6,87.2,89.0,90.1,94.0,93.6,94.6,93.3,93.8,93.8,95.1,93.6,93.9,95.1,95.7,97.2,97.2,98.4,94.7,96.7,95.5,94.5,91.8,89.8,90.5,88.1,85.0,82.7,78.3,78.6,80.0,78.4,78.3,80.7,78.8,81.4,81.5,82.4,81.1,82.7,82.0,81.9,84.8,85.8,84.8,86.7,87.1,89.1,90.8,90.8,90.3,89.1,92.2,91.0,90.6,91.0,92.9,92.2,90.8,91.5,91.3,91.9,94.5,93.3,92.2,93.3,92.4,92.3,92.5,92.3,92.4,89.7,90.2,88.8,88.1,89.2,87.4,88.7,87.9,89.5,90.0,90.7,92.7,93.7,91.9,93.6,93.2,94.5,92.6,94.3,95.6,95.7,94.7,95.4,95.2,95.8,97.1,96.8,97.5,98.9,97.7,98.8,99.4,100.3,99.9,100.3,103.0,100.9,100.0,102.4,99.9,99.2,102.2,104.2,102.8,102.7,100.8,104.4,101.6,104.0,102.9,104.2,104.5,103.6,107.0,107.9,107.9,110.6,112.9,108.6,107.8,110.8,111.3,109.8,112.9,113.8,113.7,111.2,112.5,110.5,114.0,116.0,115.5,113.0,114.2,113.0,114.4,114.3,113.1,113.3,113.7,115.0,117.8,112.4,112.2,112.6,112.8,112.8,111.0,110.5,112.4,113.7,99.9,75.79999999999998,89.59999999999998,101.5,106.9,110.0,111.4,114.5,113.5,113.8,112.2,110.8,113.8,116.1,111.7,111.9,113.4,110.3,107.3,108.2,114.5,111.0,115.2,111.5,113.5,112.6,114.2,116.4,115.8,116.6,116.7,112.6,116.1,116.8,113.0,113.9,116.1,114.4,114.8,116.5,113.2,113.0,111.6,114.7,113.1,null],\"yaxis\":\"y\",\"type\":\"scattergl\",\"visible\":\"legendonly\"},{\"hovertemplate\":\"indicator_id=EUR_CZK<br>Year-Month=%{x}<br>value=%{y}<extra></extra>\",\"legendgroup\":\"EUR_CZK\",\"line\":{\"color\":\"#ab63fa\",\"dash\":\"solid\"},\"marker\":{\"symbol\":\"circle\"},\"mode\":\"lines\",\"name\":\"EUR_CZK\",\"showlegend\":true,\"x\":[\"1995-03\",\"1995-06\",\"1995-09\",\"1995-12\",\"1996-03\",\"1996-06\",\"1996-09\",\"1996-12\",\"1997-03\",\"1997-06\",\"1997-09\",\"1997-12\",\"1998-03\",\"1998-06\",\"1998-09\",\"1998-12\",\"1999-03\",\"1999-06\",\"1999-09\",\"1999-12\",\"2000-01\",\"2000-02\",\"2000-03\",\"2000-04\",\"2000-05\",\"2000-06\",\"2000-07\",\"2000-08\",\"2000-09\",\"2000-10\",\"2000-11\",\"2000-12\",\"2001-01\",\"2001-02\",\"2001-03\",\"2001-04\",\"2001-05\",\"2001-06\",\"2001-07\",\"2001-08\",\"2001-09\",\"2001-10\",\"2001-11\",\"2001-12\",\"2002-01\",\"2002-02\",\"2002-03\",\"2002-04\",\"2002-05\",\"2002-06\",\"2002-07\",\"2002-08\",\"2002-09\",\"2002-10\",\"2002-11\",\"2002-12\",\"2003-01\",\"2003-02\",\"2003-03\",\"2003-04\",\"2003-05\",\"2003-06\",\"2003-07\",\"2003-08\",\"2003-09\",\"2003-10\",\"2003-11\",\"2003-12\",\"2004-01\",\"2004-02\",\"2004-03\",\"2004-04\",\"2004-05\",\"2004-06\",\"2004-07\",\"2004-08\",\"2004-09\",\"2004-10\",\"2004-11\",\"2004-12\",\"2005-01\",\"2005-02\",\"2005-03\",\"2005-04\",\"2005-05\",\"2005-06\",\"2005-07\",\"2005-08\",\"2005-09\",\"2005-10\",\"2005-11\",\"2005-12\",\"2006-01\",\"2006-02\",\"2006-03\",\"2006-04\",\"2006-05\",\"2006-06\",\"2006-07\",\"2006-08\",\"2006-09\",\"2006-10\",\"2006-11\",\"2006-12\",\"2007-01\",\"2007-02\",\"2007-03\",\"2007-04\",\"2007-05\",\"2007-06\",\"2007-07\",\"2007-08\",\"2007-09\",\"2007-10\",\"2007-11\",\"2007-12\",\"2008-01\",\"2008-02\",\"2008-03\",\"2008-04\",\"2008-05\",\"2008-06\",\"2008-07\",\"2008-08\",\"2008-09\",\"2008-10\",\"2008-11\",\"2008-12\",\"2009-01\",\"2009-02\",\"2009-03\",\"2009-04\",\"2009-05\",\"2009-06\",\"2009-07\",\"2009-08\",\"2009-09\",\"2009-10\",\"2009-11\",\"2009-12\",\"2010-01\",\"2010-02\",\"2010-03\",\"2010-04\",\"2010-05\",\"2010-06\",\"2010-07\",\"2010-08\",\"2010-09\",\"2010-10\",\"2010-11\",\"2010-12\",\"2011-01\",\"2011-02\",\"2011-03\",\"2011-04\",\"2011-05\",\"2011-06\",\"2011-07\",\"2011-08\",\"2011-09\",\"2011-10\",\"2011-11\",\"2011-12\",\"2012-01\",\"2012-02\",\"2012-03\",\"2012-04\",\"2012-05\",\"2012-06\",\"2012-07\",\"2012-08\",\"2012-09\",\"2012-10\",\"2012-11\",\"2012-12\",\"2013-01\",\"2013-02\",\"2013-03\",\"2013-04\",\"2013-05\",\"2013-06\",\"2013-07\",\"2013-08\",\"2013-09\",\"2013-10\",\"2013-11\",\"2013-12\",\"2014-01\",\"2014-02\",\"2014-03\",\"2014-04\",\"2014-05\",\"2014-06\",\"2014-07\",\"2014-08\",\"2014-09\",\"2014-10\",\"2014-11\",\"2014-12\",\"2015-01\",\"2015-02\",\"2015-03\",\"2015-04\",\"2015-05\",\"2015-06\",\"2015-07\",\"2015-08\",\"2015-09\",\"2015-10\",\"2015-11\",\"2015-12\",\"2016-01\",\"2016-02\",\"2016-03\",\"2016-04\",\"2016-05\",\"2016-06\",\"2016-07\",\"2016-08\",\"2016-09\",\"2016-10\",\"2016-11\",\"2016-12\",\"2017-01\",\"2017-02\",\"2017-03\",\"2017-04\",\"2017-05\",\"2017-06\",\"2017-07\",\"2017-08\",\"2017-09\",\"2017-10\",\"2017-11\",\"2017-12\",\"2018-01\",\"2018-02\",\"2018-03\",\"2018-04\",\"2018-05\",\"2018-06\",\"2018-07\",\"2018-08\",\"2018-09\",\"2018-10\",\"2018-11\",\"2018-12\",\"2019-01\",\"2019-02\",\"2019-03\",\"2019-04\",\"2019-05\",\"2019-06\",\"2019-07\",\"2019-08\",\"2019-09\",\"2019-10\",\"2019-11\",\"2019-12\",\"2020-01\",\"2020-02\",\"2020-03\",\"2020-04\",\"2020-05\",\"2020-06\",\"2020-07\",\"2020-08\",\"2020-09\",\"2020-10\",\"2020-11\",\"2020-12\",\"2021-01\",\"2021-02\",\"2021-03\",\"2021-04\",\"2021-05\",\"2021-06\",\"2021-07\",\"2021-08\",\"2021-09\",\"2021-10\",\"2021-11\",\"2021-12\",\"2022-01\",\"2022-02\",\"2022-03\",\"2022-04\",\"2022-05\",\"2022-06\",\"2022-07\",\"2022-08\",\"2022-09\",\"2022-10\",\"2022-11\",\"2022-12\",\"2023-01\",\"2023-02\",\"2023-03\",\"2023-04\",\"2023-05\",\"2023-06\",\"2023-07\",\"2023-08\",\"2023-09\",\"2023-10\",\"2023-11\",\"2023-12\"],\"xaxis\":\"x\",\"y\":[null,null,null,null,null,null,null,null,null,null,null,null,37.664,36.579,35.321,35.124,37.156,37.607,36.428,36.34,35.7706923,35.7706923,35.7706923,36.2892742,36.2892742,36.2892742,35.458871,35.458871,35.458871,34.9114516,34.9114516,34.9114516,34.7978906,34.7978906,34.7978906,34.2983871,34.2983871,34.2983871,34.0236774,34.0236774,34.0236774,33.2020635,33.2020635,33.2020635,31.7561111,31.7561111,31.7561111,30.4046774,30.4046774,30.4046774,30.2467692,30.2467692,30.2467692,30.8530323,30.8530323,30.8530323,31.6284921,31.6284921,31.6284921,31.4766129,31.4766129,31.4766129,32.1669848,32.1669848,32.1669848,32.0892623,32.0892623,32.0892623,32.8585937,32.8585937,32.8585937,32.0271875,32.0271875,32.0271875,31.5866349,31.5866349,31.5866349,31.1259524,31.1259524,31.1259524,30.0144444,30.0144444,30.0144444,30.1258462,30.1258462,30.1258462,29.6770635,29.6770635,29.6770635,29.2983064,29.2983064,29.2983064,28.5997692,28.5997692,28.5997692,28.3843548,28.3843548,28.3843548,28.3304839,28.3304839,28.3304839,28.0448387,28.0448387,28.0448387,28.0365625,28.0365625,28.0365625,28.2662097,28.2662097,28.2662097,27.9229032,27.9229032,27.9229032,26.8287302,26.8287302,26.8287302,25.5624603,25.5624603,25.5624603,24.8257143,24.8257143,24.8257143,24.0924242,24.0924242,24.0924242,25.3423771,25.3423771,25.3423771,27.5992857,27.5992857,27.5992857,26.6770968,26.6770968,26.6770968,25.5978906,25.5978906,25.5978906,25.9145161,25.9145161,25.9145161,25.8676984,25.8676984,25.8676984,25.5892969,25.5892969,25.5892969,24.9134127,24.9134127,24.9134127,24.7859524,24.7859524,24.7859524,24.3745313,24.3745313,24.3745313,24.3205469,24.3205469,24.3205469,24.3880159,24.3880159,24.3880159,25.2787097,25.2787097,25.2787097,25.0834615,25.0834615,25.0834615,25.2612097,25.2612097,25.2612097,25.0651613,25.0651613,25.0651613,25.1666667,25.1666667,25.1666667,25.5683333,25.5683333,25.5683333,25.8312097,25.8312097,25.8312097,25.8523077,25.8523077,25.8523077,26.6569355,26.6569355,26.6569355,27.4407143,27.4407143,27.4407143,27.4470161,27.4470161,27.4470161,27.6181818,27.6181818,27.6181818,27.6240984,27.6240984,27.6240984,27.6238095,27.6238095,27.6238095,27.3799194,27.3799194,27.3799194,27.0718125,27.0718125,27.0718125,27.0565323,27.0565323,27.0565323,27.0385484,27.0385484,27.0385484,27.0393846,27.0393846,27.0393846,27.0276984,27.0276984,27.0276984,27.0279032,27.0279032,27.0279032,27.0202308,27.0202308,27.0202308,26.5320492,26.5320492,26.5320492,26.0843548,26.0843548,26.0843548,25.6512097,25.6512097,25.6512097,25.4018254,25.4018254,25.4018254,25.598871,25.598871,25.598871,25.7107511,25.7107511,25.7107511,25.8608564,25.8608564,25.8608564,25.6835823,25.6835823,25.6835823,25.6835397,25.6835397,25.6835397,25.74,25.74,25.74,25.5756667,25.5756667,25.5756667,25.6133333,25.6133333,25.6133333,27.0703333,27.0703333,27.0703333,26.464,26.464,26.464,26.659,26.659,26.659,26.0656667,26.0656667,26.0656667,25.6453333,25.6453333,25.6453333,25.4986667,25.4986667,25.4986667,25.3806667,25.3806667,25.3806667,24.6386667,24.6386667,24.6386667,24.6346667,24.6346667,24.6346667,24.5726667,24.5726667,24.5726667,24.3893333,24.3893333,24.3893333,23.7843333,23.7843333,23.7843333,23.5793333,23.5793333,23.5793333,24.1336667,24.1336667,24.1336667,24.6,24.6,24.6],\"yaxis\":\"y\",\"type\":\"scattergl\",\"visible\":\"legendonly\"}],                        {\"template\":{\"data\":{\"histogram2dcontour\":[{\"type\":\"histogram2dcontour\",\"colorbar\":{\"outlinewidth\":0,\"ticks\":\"\"},\"colorscale\":[[0.0,\"#0d0887\"],[0.1111111111111111,\"#46039f\"],[0.2222222222222222,\"#7201a8\"],[0.3333333333333333,\"#9c179e\"],[0.4444444444444444,\"#bd3786\"],[0.5555555555555556,\"#d8576b\"],[0.6666666666666666,\"#ed7953\"],[0.7777777777777778,\"#fb9f3a\"],[0.8888888888888888,\"#fdca26\"],[1.0,\"#f0f921\"]]}],\"choropleth\":[{\"type\":\"choropleth\",\"colorbar\":{\"outlinewidth\":0,\"ticks\":\"\"}}],\"histogram2d\":[{\"type\":\"histogram2d\",\"colorbar\":{\"outlinewidth\":0,\"ticks\":\"\"},\"colorscale\":[[0.0,\"#0d0887\"],[0.1111111111111111,\"#46039f\"],[0.2222222222222222,\"#7201a8\"],[0.3333333333333333,\"#9c179e\"],[0.4444444444444444,\"#bd3786\"],[0.5555555555555556,\"#d8576b\"],[0.6666666666666666,\"#ed7953\"],[0.7777777777777778,\"#fb9f3a\"],[0.8888888888888888,\"#fdca26\"],[1.0,\"#f0f921\"]]}],\"heatmap\":[{\"type\":\"heatmap\",\"colorbar\":{\"outlinewidth\":0,\"ticks\":\"\"},\"colorscale\":[[0.0,\"#0d0887\"],[0.1111111111111111,\"#46039f\"],[0.2222222222222222,\"#7201a8\"],[0.3333333333333333,\"#9c179e\"],[0.4444444444444444,\"#bd3786\"],[0.5555555555555556,\"#d8576b\"],[0.6666666666666666,\"#ed7953\"],[0.7777777777777778,\"#fb9f3a\"],[0.8888888888888888,\"#fdca26\"],[1.0,\"#f0f921\"]]}],\"heatmapgl\":[{\"type\":\"heatmapgl\",\"colorbar\":{\"outlinewidth\":0,\"ticks\":\"\"},\"colorscale\":[[0.0,\"#0d0887\"],[0.1111111111111111,\"#46039f\"],[0.2222222222222222,\"#7201a8\"],[0.3333333333333333,\"#9c179e\"],[0.4444444444444444,\"#bd3786\"],[0.5555555555555556,\"#d8576b\"],[0.6666666666666666,\"#ed7953\"],[0.7777777777777778,\"#fb9f3a\"],[0.8888888888888888,\"#fdca26\"],[1.0,\"#f0f921\"]]}],\"contourcarpet\":[{\"type\":\"contourcarpet\",\"colorbar\":{\"outlinewidth\":0,\"ticks\":\"\"}}],\"contour\":[{\"type\":\"contour\",\"colorbar\":{\"outlinewidth\":0,\"ticks\":\"\"},\"colorscale\":[[0.0,\"#0d0887\"],[0.1111111111111111,\"#46039f\"],[0.2222222222222222,\"#7201a8\"],[0.3333333333333333,\"#9c179e\"],[0.4444444444444444,\"#bd3786\"],[0.5555555555555556,\"#d8576b\"],[0.6666666666666666,\"#ed7953\"],[0.7777777777777778,\"#fb9f3a\"],[0.8888888888888888,\"#fdca26\"],[1.0,\"#f0f921\"]]}],\"surface\":[{\"type\":\"surface\",\"colorbar\":{\"outlinewidth\":0,\"ticks\":\"\"},\"colorscale\":[[0.0,\"#0d0887\"],[0.1111111111111111,\"#46039f\"],[0.2222222222222222,\"#7201a8\"],[0.3333333333333333,\"#9c179e\"],[0.4444444444444444,\"#bd3786\"],[0.5555555555555556,\"#d8576b\"],[0.6666666666666666,\"#ed7953\"],[0.7777777777777778,\"#fb9f3a\"],[0.8888888888888888,\"#fdca26\"],[1.0,\"#f0f921\"]]}],\"mesh3d\":[{\"type\":\"mesh3d\",\"colorbar\":{\"outlinewidth\":0,\"ticks\":\"\"}}],\"scatter\":[{\"fillpattern\":{\"fillmode\":\"overlay\",\"size\":10,\"solidity\":0.2},\"type\":\"scatter\"}],\"parcoords\":[{\"type\":\"parcoords\",\"line\":{\"colorbar\":{\"outlinewidth\":0,\"ticks\":\"\"}}}],\"scatterpolargl\":[{\"type\":\"scatterpolargl\",\"marker\":{\"colorbar\":{\"outlinewidth\":0,\"ticks\":\"\"}}}],\"bar\":[{\"error_x\":{\"color\":\"#2a3f5f\"},\"error_y\":{\"color\":\"#2a3f5f\"},\"marker\":{\"line\":{\"color\":\"#E5ECF6\",\"width\":0.5},\"pattern\":{\"fillmode\":\"overlay\",\"size\":10,\"solidity\":0.2}},\"type\":\"bar\"}],\"scattergeo\":[{\"type\":\"scattergeo\",\"marker\":{\"colorbar\":{\"outlinewidth\":0,\"ticks\":\"\"}}}],\"scatterpolar\":[{\"type\":\"scatterpolar\",\"marker\":{\"colorbar\":{\"outlinewidth\":0,\"ticks\":\"\"}}}],\"histogram\":[{\"marker\":{\"pattern\":{\"fillmode\":\"overlay\",\"size\":10,\"solidity\":0.2}},\"type\":\"histogram\"}],\"scattergl\":[{\"type\":\"scattergl\",\"marker\":{\"colorbar\":{\"outlinewidth\":0,\"ticks\":\"\"}}}],\"scatter3d\":[{\"type\":\"scatter3d\",\"line\":{\"colorbar\":{\"outlinewidth\":0,\"ticks\":\"\"}},\"marker\":{\"colorbar\":{\"outlinewidth\":0,\"ticks\":\"\"}}}],\"scattermapbox\":[{\"type\":\"scattermapbox\",\"marker\":{\"colorbar\":{\"outlinewidth\":0,\"ticks\":\"\"}}}],\"scatterternary\":[{\"type\":\"scatterternary\",\"marker\":{\"colorbar\":{\"outlinewidth\":0,\"ticks\":\"\"}}}],\"scattercarpet\":[{\"type\":\"scattercarpet\",\"marker\":{\"colorbar\":{\"outlinewidth\":0,\"ticks\":\"\"}}}],\"carpet\":[{\"aaxis\":{\"endlinecolor\":\"#2a3f5f\",\"gridcolor\":\"white\",\"linecolor\":\"white\",\"minorgridcolor\":\"white\",\"startlinecolor\":\"#2a3f5f\"},\"baxis\":{\"endlinecolor\":\"#2a3f5f\",\"gridcolor\":\"white\",\"linecolor\":\"white\",\"minorgridcolor\":\"white\",\"startlinecolor\":\"#2a3f5f\"},\"type\":\"carpet\"}],\"table\":[{\"cells\":{\"fill\":{\"color\":\"#EBF0F8\"},\"line\":{\"color\":\"white\"}},\"header\":{\"fill\":{\"color\":\"#C8D4E3\"},\"line\":{\"color\":\"white\"}},\"type\":\"table\"}],\"barpolar\":[{\"marker\":{\"line\":{\"color\":\"#E5ECF6\",\"width\":0.5},\"pattern\":{\"fillmode\":\"overlay\",\"size\":10,\"solidity\":0.2}},\"type\":\"barpolar\"}],\"pie\":[{\"automargin\":true,\"type\":\"pie\"}]},\"layout\":{\"autotypenumbers\":\"strict\",\"colorway\":[\"#636efa\",\"#EF553B\",\"#00cc96\",\"#ab63fa\",\"#FFA15A\",\"#19d3f3\",\"#FF6692\",\"#B6E880\",\"#FF97FF\",\"#FECB52\"],\"font\":{\"color\":\"#2a3f5f\"},\"hovermode\":\"closest\",\"hoverlabel\":{\"align\":\"left\"},\"paper_bgcolor\":\"white\",\"plot_bgcolor\":\"#E5ECF6\",\"polar\":{\"bgcolor\":\"#E5ECF6\",\"angularaxis\":{\"gridcolor\":\"white\",\"linecolor\":\"white\",\"ticks\":\"\"},\"radialaxis\":{\"gridcolor\":\"white\",\"linecolor\":\"white\",\"ticks\":\"\"}},\"ternary\":{\"bgcolor\":\"#E5ECF6\",\"aaxis\":{\"gridcolor\":\"white\",\"linecolor\":\"white\",\"ticks\":\"\"},\"baxis\":{\"gridcolor\":\"white\",\"linecolor\":\"white\",\"ticks\":\"\"},\"caxis\":{\"gridcolor\":\"white\",\"linecolor\":\"white\",\"ticks\":\"\"}},\"coloraxis\":{\"colorbar\":{\"outlinewidth\":0,\"ticks\":\"\"}},\"colorscale\":{\"sequential\":[[0.0,\"#0d0887\"],[0.1111111111111111,\"#46039f\"],[0.2222222222222222,\"#7201a8\"],[0.3333333333333333,\"#9c179e\"],[0.4444444444444444,\"#bd3786\"],[0.5555555555555556,\"#d8576b\"],[0.6666666666666666,\"#ed7953\"],[0.7777777777777778,\"#fb9f3a\"],[0.8888888888888888,\"#fdca26\"],[1.0,\"#f0f921\"]],\"sequentialminus\":[[0.0,\"#0d0887\"],[0.1111111111111111,\"#46039f\"],[0.2222222222222222,\"#7201a8\"],[0.3333333333333333,\"#9c179e\"],[0.4444444444444444,\"#bd3786\"],[0.5555555555555556,\"#d8576b\"],[0.6666666666666666,\"#ed7953\"],[0.7777777777777778,\"#fb9f3a\"],[0.8888888888888888,\"#fdca26\"],[1.0,\"#f0f921\"]],\"diverging\":[[0,\"#8e0152\"],[0.1,\"#c51b7d\"],[0.2,\"#de77ae\"],[0.3,\"#f1b6da\"],[0.4,\"#fde0ef\"],[0.5,\"#f7f7f7\"],[0.6,\"#e6f5d0\"],[0.7,\"#b8e186\"],[0.8,\"#7fbc41\"],[0.9,\"#4d9221\"],[1,\"#276419\"]]},\"xaxis\":{\"gridcolor\":\"white\",\"linecolor\":\"white\",\"ticks\":\"\",\"title\":{\"standoff\":15},\"zerolinecolor\":\"white\",\"automargin\":true,\"zerolinewidth\":2},\"yaxis\":{\"gridcolor\":\"white\",\"linecolor\":\"white\",\"ticks\":\"\",\"title\":{\"standoff\":15},\"zerolinecolor\":\"white\",\"automargin\":true,\"zerolinewidth\":2},\"scene\":{\"xaxis\":{\"backgroundcolor\":\"#E5ECF6\",\"gridcolor\":\"white\",\"linecolor\":\"white\",\"showbackground\":true,\"ticks\":\"\",\"zerolinecolor\":\"white\",\"gridwidth\":2},\"yaxis\":{\"backgroundcolor\":\"#E5ECF6\",\"gridcolor\":\"white\",\"linecolor\":\"white\",\"showbackground\":true,\"ticks\":\"\",\"zerolinecolor\":\"white\",\"gridwidth\":2},\"zaxis\":{\"backgroundcolor\":\"#E5ECF6\",\"gridcolor\":\"white\",\"linecolor\":\"white\",\"showbackground\":true,\"ticks\":\"\",\"zerolinecolor\":\"white\",\"gridwidth\":2}},\"shapedefaults\":{\"line\":{\"color\":\"#2a3f5f\"}},\"annotationdefaults\":{\"arrowcolor\":\"#2a3f5f\",\"arrowhead\":0,\"arrowwidth\":1},\"geo\":{\"bgcolor\":\"white\",\"landcolor\":\"#E5ECF6\",\"subunitcolor\":\"white\",\"showland\":true,\"showlakes\":true,\"lakecolor\":\"white\"},\"title\":{\"x\":0.05},\"mapbox\":{\"style\":\"light\"}}},\"xaxis\":{\"anchor\":\"y\",\"domain\":[0.0,1.0],\"title\":{\"text\":\"Year-Month\"}},\"yaxis\":{\"anchor\":\"x\",\"domain\":[0.0,1.0],\"title\":{\"text\":\"value\"}},\"legend\":{\"title\":{\"text\":\"indicator_id\"},\"tracegroupgap\":0},\"title\":{\"text\":\"Index Time Series Visualization\"},\"updatemenus\":[{\"active\":0,\"buttons\":[{\"args\":[{\"visible\":true},{\"title\":\"Index Time Series Visualization\"}],\"label\":\"Show All\",\"method\":\"update\"},{\"args\":[{\"visible\":[\"legendonly\",\"legendonly\",\"legendonly\",\"legendonly\",\"legendonly\"]},{\"title\":\"Index Time Series Visualization\"}],\"label\":\"Hide All\",\"method\":\"update\"}]}]},                        {\"responsive\": true}                    ).then(function(){\n",
       "                            \n",
       "var gd = document.getElementById('07fbf13a-13b2-47dd-b06b-df56dfe4725a');\n",
       "var x = new MutationObserver(function (mutations, observer) {{\n",
       "        var display = window.getComputedStyle(gd).display;\n",
       "        if (!display || display === 'none') {{\n",
       "            console.log([gd, 'removed!']);\n",
       "            Plotly.purge(gd);\n",
       "            observer.disconnect();\n",
       "        }}\n",
       "}});\n",
       "\n",
       "// Listen for the removal of the full notebook cells\n",
       "var notebookContainer = gd.closest('#notebook-container');\n",
       "if (notebookContainer) {{\n",
       "    x.observe(notebookContainer, {childList: true});\n",
       "}}\n",
       "\n",
       "// Listen for the clearing of the current output cell\n",
       "var outputEl = gd.closest('.output');\n",
       "if (outputEl) {{\n",
       "    x.observe(outputEl, {childList: true});\n",
       "}}\n",
       "\n",
       "                        })                };                });            </script>        </div>"
      ]
     },
     "metadata": {},
     "output_type": "display_data"
    }
   ],
   "source": [
    "fig_index = visualize_ts(df_index,'year_month', 'Index Time Series Visualization')\n",
    "fig_index.show()"
   ]
  },
  {
   "cell_type": "markdown",
   "id": "dd9e2558",
   "metadata": {},
   "source": [
    "First, we can observe that the real GDP index (in constant prices) hovers around its base value of 100 in 2015, with larger drop around the 2008 Global Financial crisis, but it recovered already in 2010. After a decade of relatively stable GDP, large drop and subsequent increase could be observed after the COVID-19 pandemic in 2020. After that it again returned to its base value of 100.\n",
    "\n",
    "The industry index is compared to the GDP index much more volatile, but follows a similar long run trend. A notable difference is that after the large drop during 2020, the index did not exceed its pre-covid values. It only returned to its precovid values.\n",
    "\n",
    "The CPI index had been growing quite steadily since the beginning of the sample until 2021, after which it experienced rapid surge peaking around mid 2023.\n",
    "\n",
    "Looking at the CZK/EUR exchange rate, we can see a clear downward trend before the GFC (CZK appreciation), even though significant fluctuations during the sample are present. The exchange rate surged after the GFC (CZK depreciation)due to large economic uncertainty and economic downturn, but plumetted quickly afterwards. The 2010s were characterised by again elevated exchange rate CZK depreciation) due to the exchange rate floor of 27 CZK per EUR unconvential monetary policy by the CNB. After COVID pandemic, we can observe gradual decrease in the exchange rate (CZK appreciation)."
   ]
  },
  {
   "cell_type": "code",
   "execution_count": 59,
   "id": "e6284642-f48f-4c04-9a7e-bc582ccc0dc1",
   "metadata": {},
   "outputs": [
    {
     "data": {
      "application/vnd.plotly.v1+json": {
       "config": {
        "plotlyServerURL": "https://plot.ly"
       },
       "data": [
        {
         "hovertemplate": "indicator_id=EUR_CZK<br>Year-Month=%{x}<br>value=%{y}<extra></extra>",
         "legendgroup": "EUR_CZK",
         "line": {
          "color": "#636efa",
          "dash": "solid"
         },
         "marker": {
          "symbol": "circle"
         },
         "mode": "lines",
         "name": "EUR_CZK",
         "showlegend": true,
         "type": "scattergl",
         "visible": "legendonly",
         "x": [
          "1995-03",
          "1995-06",
          "1995-09",
          "1995-12",
          "1996-03",
          "1996-06",
          "1996-09",
          "1996-12",
          "1997-03",
          "1997-06",
          "1997-09",
          "1997-12",
          "1998-03",
          "1998-06",
          "1998-09",
          "1998-12",
          "1999-03",
          "1999-06",
          "1999-09",
          "1999-12",
          "2000-01",
          "2000-02",
          "2000-03",
          "2000-04",
          "2000-05",
          "2000-06",
          "2000-07",
          "2000-08",
          "2000-09",
          "2000-10",
          "2000-11",
          "2000-12",
          "2001-01",
          "2001-02",
          "2001-03",
          "2001-04",
          "2001-05",
          "2001-06",
          "2001-07",
          "2001-08",
          "2001-09",
          "2001-10",
          "2001-11",
          "2001-12",
          "2002-01",
          "2002-02",
          "2002-03",
          "2002-04",
          "2002-05",
          "2002-06",
          "2002-07",
          "2002-08",
          "2002-09",
          "2002-10",
          "2002-11",
          "2002-12",
          "2003-01",
          "2003-02",
          "2003-03",
          "2003-04",
          "2003-05",
          "2003-06",
          "2003-07",
          "2003-08",
          "2003-09",
          "2003-10",
          "2003-11",
          "2003-12",
          "2004-01",
          "2004-02",
          "2004-03",
          "2004-04",
          "2004-05",
          "2004-06",
          "2004-07",
          "2004-08",
          "2004-09",
          "2004-10",
          "2004-11",
          "2004-12",
          "2005-01",
          "2005-02",
          "2005-03",
          "2005-04",
          "2005-05",
          "2005-06",
          "2005-07",
          "2005-08",
          "2005-09",
          "2005-10",
          "2005-11",
          "2005-12",
          "2006-01",
          "2006-02",
          "2006-03",
          "2006-04",
          "2006-05",
          "2006-06",
          "2006-07",
          "2006-08",
          "2006-09",
          "2006-10",
          "2006-11",
          "2006-12",
          "2007-01",
          "2007-02",
          "2007-03",
          "2007-04",
          "2007-05",
          "2007-06",
          "2007-07",
          "2007-08",
          "2007-09",
          "2007-10",
          "2007-11",
          "2007-12",
          "2008-01",
          "2008-02",
          "2008-03",
          "2008-04",
          "2008-05",
          "2008-06",
          "2008-07",
          "2008-08",
          "2008-09",
          "2008-10",
          "2008-11",
          "2008-12",
          "2009-01",
          "2009-02",
          "2009-03",
          "2009-04",
          "2009-05",
          "2009-06",
          "2009-07",
          "2009-08",
          "2009-09",
          "2009-10",
          "2009-11",
          "2009-12",
          "2010-01",
          "2010-02",
          "2010-03",
          "2010-04",
          "2010-05",
          "2010-06",
          "2010-07",
          "2010-08",
          "2010-09",
          "2010-10",
          "2010-11",
          "2010-12",
          "2011-01",
          "2011-02",
          "2011-03",
          "2011-04",
          "2011-05",
          "2011-06",
          "2011-07",
          "2011-08",
          "2011-09",
          "2011-10",
          "2011-11",
          "2011-12",
          "2012-01",
          "2012-02",
          "2012-03",
          "2012-04",
          "2012-05",
          "2012-06",
          "2012-07",
          "2012-08",
          "2012-09",
          "2012-10",
          "2012-11",
          "2012-12",
          "2013-01",
          "2013-02",
          "2013-03",
          "2013-04",
          "2013-05",
          "2013-06",
          "2013-07",
          "2013-08",
          "2013-09",
          "2013-10",
          "2013-11",
          "2013-12",
          "2014-01",
          "2014-02",
          "2014-03",
          "2014-04",
          "2014-05",
          "2014-06",
          "2014-07",
          "2014-08",
          "2014-09",
          "2014-10",
          "2014-11",
          "2014-12",
          "2015-01",
          "2015-02",
          "2015-03",
          "2015-04",
          "2015-05",
          "2015-06",
          "2015-07",
          "2015-08",
          "2015-09",
          "2015-10",
          "2015-11",
          "2015-12",
          "2016-01",
          "2016-02",
          "2016-03",
          "2016-04",
          "2016-05",
          "2016-06",
          "2016-07",
          "2016-08",
          "2016-09",
          "2016-10",
          "2016-11",
          "2016-12",
          "2017-01",
          "2017-02",
          "2017-03",
          "2017-04",
          "2017-05",
          "2017-06",
          "2017-07",
          "2017-08",
          "2017-09",
          "2017-10",
          "2017-11",
          "2017-12",
          "2018-01",
          "2018-02",
          "2018-03",
          "2018-04",
          "2018-05",
          "2018-06",
          "2018-07",
          "2018-08",
          "2018-09",
          "2018-10",
          "2018-11",
          "2018-12",
          "2019-01",
          "2019-02",
          "2019-03",
          "2019-04",
          "2019-05",
          "2019-06",
          "2019-07",
          "2019-08",
          "2019-09",
          "2019-10",
          "2019-11",
          "2019-12",
          "2020-01",
          "2020-02",
          "2020-03",
          "2020-04",
          "2020-05",
          "2020-06",
          "2020-07",
          "2020-08",
          "2020-09",
          "2020-10",
          "2020-11",
          "2020-12",
          "2021-01",
          "2021-02",
          "2021-03",
          "2021-04",
          "2021-05",
          "2021-06",
          "2021-07",
          "2021-08",
          "2021-09",
          "2021-10",
          "2021-11",
          "2021-12",
          "2022-01",
          "2022-02",
          "2022-03",
          "2022-04",
          "2022-05",
          "2022-06",
          "2022-07",
          "2022-08",
          "2022-09",
          "2022-10",
          "2022-11",
          "2022-12",
          "2023-01",
          "2023-02",
          "2023-03",
          "2023-04",
          "2023-05",
          "2023-06",
          "2023-07",
          "2023-08",
          "2023-09",
          "2023-10",
          "2023-11",
          "2023-12"
         ],
         "xaxis": "x",
         "y": [
          null,
          null,
          null,
          null,
          null,
          null,
          null,
          null,
          null,
          null,
          null,
          null,
          37.664,
          36.579,
          35.321,
          35.124,
          37.156,
          37.607,
          36.428,
          36.34,
          35.7706923,
          35.7706923,
          35.7706923,
          36.2892742,
          36.2892742,
          36.2892742,
          35.458871,
          35.458871,
          35.458871,
          34.9114516,
          34.9114516,
          34.9114516,
          34.7978906,
          34.7978906,
          34.7978906,
          34.2983871,
          34.2983871,
          34.2983871,
          34.0236774,
          34.0236774,
          34.0236774,
          33.2020635,
          33.2020635,
          33.2020635,
          31.7561111,
          31.7561111,
          31.7561111,
          30.4046774,
          30.4046774,
          30.4046774,
          30.2467692,
          30.2467692,
          30.2467692,
          30.8530323,
          30.8530323,
          30.8530323,
          31.6284921,
          31.6284921,
          31.6284921,
          31.4766129,
          31.4766129,
          31.4766129,
          32.1669848,
          32.1669848,
          32.1669848,
          32.0892623,
          32.0892623,
          32.0892623,
          32.8585937,
          32.8585937,
          32.8585937,
          32.0271875,
          32.0271875,
          32.0271875,
          31.5866349,
          31.5866349,
          31.5866349,
          31.1259524,
          31.1259524,
          31.1259524,
          30.0144444,
          30.0144444,
          30.0144444,
          30.1258462,
          30.1258462,
          30.1258462,
          29.6770635,
          29.6770635,
          29.6770635,
          29.2983064,
          29.2983064,
          29.2983064,
          28.5997692,
          28.5997692,
          28.5997692,
          28.3843548,
          28.3843548,
          28.3843548,
          28.3304839,
          28.3304839,
          28.3304839,
          28.0448387,
          28.0448387,
          28.0448387,
          28.0365625,
          28.0365625,
          28.0365625,
          28.2662097,
          28.2662097,
          28.2662097,
          27.9229032,
          27.9229032,
          27.9229032,
          26.8287302,
          26.8287302,
          26.8287302,
          25.5624603,
          25.5624603,
          25.5624603,
          24.8257143,
          24.8257143,
          24.8257143,
          24.0924242,
          24.0924242,
          24.0924242,
          25.3423771,
          25.3423771,
          25.3423771,
          27.5992857,
          27.5992857,
          27.5992857,
          26.6770968,
          26.6770968,
          26.6770968,
          25.5978906,
          25.5978906,
          25.5978906,
          25.9145161,
          25.9145161,
          25.9145161,
          25.8676984,
          25.8676984,
          25.8676984,
          25.5892969,
          25.5892969,
          25.5892969,
          24.9134127,
          24.9134127,
          24.9134127,
          24.7859524,
          24.7859524,
          24.7859524,
          24.3745313,
          24.3745313,
          24.3745313,
          24.3205469,
          24.3205469,
          24.3205469,
          24.3880159,
          24.3880159,
          24.3880159,
          25.2787097,
          25.2787097,
          25.2787097,
          25.0834615,
          25.0834615,
          25.0834615,
          25.2612097,
          25.2612097,
          25.2612097,
          25.0651613,
          25.0651613,
          25.0651613,
          25.1666667,
          25.1666667,
          25.1666667,
          25.5683333,
          25.5683333,
          25.5683333,
          25.8312097,
          25.8312097,
          25.8312097,
          25.8523077,
          25.8523077,
          25.8523077,
          26.6569355,
          26.6569355,
          26.6569355,
          27.4407143,
          27.4407143,
          27.4407143,
          27.4470161,
          27.4470161,
          27.4470161,
          27.6181818,
          27.6181818,
          27.6181818,
          27.6240984,
          27.6240984,
          27.6240984,
          27.6238095,
          27.6238095,
          27.6238095,
          27.3799194,
          27.3799194,
          27.3799194,
          27.0718125,
          27.0718125,
          27.0718125,
          27.0565323,
          27.0565323,
          27.0565323,
          27.0385484,
          27.0385484,
          27.0385484,
          27.0393846,
          27.0393846,
          27.0393846,
          27.0276984,
          27.0276984,
          27.0276984,
          27.0279032,
          27.0279032,
          27.0279032,
          27.0202308,
          27.0202308,
          27.0202308,
          26.5320492,
          26.5320492,
          26.5320492,
          26.0843548,
          26.0843548,
          26.0843548,
          25.6512097,
          25.6512097,
          25.6512097,
          25.4018254,
          25.4018254,
          25.4018254,
          25.598871,
          25.598871,
          25.598871,
          25.7107511,
          25.7107511,
          25.7107511,
          25.8608564,
          25.8608564,
          25.8608564,
          25.6835823,
          25.6835823,
          25.6835823,
          25.6835397,
          25.6835397,
          25.6835397,
          25.74,
          25.74,
          25.74,
          25.5756667,
          25.5756667,
          25.5756667,
          25.6133333,
          25.6133333,
          25.6133333,
          27.0703333,
          27.0703333,
          27.0703333,
          26.464,
          26.464,
          26.464,
          26.659,
          26.659,
          26.659,
          26.0656667,
          26.0656667,
          26.0656667,
          25.6453333,
          25.6453333,
          25.6453333,
          25.4986667,
          25.4986667,
          25.4986667,
          25.3806667,
          25.3806667,
          25.3806667,
          24.6386667,
          24.6386667,
          24.6386667,
          24.6346667,
          24.6346667,
          24.6346667,
          24.5726667,
          24.5726667,
          24.5726667,
          24.3893333,
          24.3893333,
          24.3893333,
          23.7843333,
          23.7843333,
          23.7843333,
          23.5793333,
          23.5793333,
          23.5793333,
          24.1336667,
          24.1336667,
          24.1336667,
          24.6,
          24.6,
          24.6
         ],
         "yaxis": "y"
        },
        {
         "hovertemplate": "indicator_id=PRIBOR_12M<br>Year-Month=%{x}<br>value=%{y}<extra></extra>",
         "legendgroup": "PRIBOR_12M",
         "line": {
          "color": "#EF553B",
          "dash": "solid"
         },
         "marker": {
          "symbol": "circle"
         },
         "mode": "lines",
         "name": "PRIBOR_12M",
         "showlegend": true,
         "type": "scattergl",
         "visible": "legendonly",
         "x": [
          "1995-03",
          "1995-06",
          "1995-09",
          "1995-12",
          "1996-03",
          "1996-06",
          "1996-09",
          "1996-12",
          "1997-03",
          "1997-06",
          "1997-09",
          "1997-12",
          "1998-03",
          "1998-06",
          "1998-09",
          "1998-12",
          "1999-03",
          "1999-06",
          "1999-09",
          "1999-12",
          "2000-01",
          "2000-02",
          "2000-03",
          "2000-04",
          "2000-05",
          "2000-06",
          "2000-07",
          "2000-08",
          "2000-09",
          "2000-10",
          "2000-11",
          "2000-12",
          "2001-01",
          "2001-02",
          "2001-03",
          "2001-04",
          "2001-05",
          "2001-06",
          "2001-07",
          "2001-08",
          "2001-09",
          "2001-10",
          "2001-11",
          "2001-12",
          "2002-01",
          "2002-02",
          "2002-03",
          "2002-04",
          "2002-05",
          "2002-06",
          "2002-07",
          "2002-08",
          "2002-09",
          "2002-10",
          "2002-11",
          "2002-12",
          "2003-01",
          "2003-02",
          "2003-03",
          "2003-04",
          "2003-05",
          "2003-06",
          "2003-07",
          "2003-08",
          "2003-09",
          "2003-10",
          "2003-11",
          "2003-12",
          "2004-01",
          "2004-02",
          "2004-03",
          "2004-04",
          "2004-05",
          "2004-06",
          "2004-07",
          "2004-08",
          "2004-09",
          "2004-10",
          "2004-11",
          "2004-12",
          "2005-01",
          "2005-02",
          "2005-03",
          "2005-04",
          "2005-05",
          "2005-06",
          "2005-07",
          "2005-08",
          "2005-09",
          "2005-10",
          "2005-11",
          "2005-12",
          "2006-01",
          "2006-02",
          "2006-03",
          "2006-04",
          "2006-05",
          "2006-06",
          "2006-07",
          "2006-08",
          "2006-09",
          "2006-10",
          "2006-11",
          "2006-12",
          "2007-01",
          "2007-02",
          "2007-03",
          "2007-04",
          "2007-05",
          "2007-06",
          "2007-07",
          "2007-08",
          "2007-09",
          "2007-10",
          "2007-11",
          "2007-12",
          "2008-01",
          "2008-02",
          "2008-03",
          "2008-04",
          "2008-05",
          "2008-06",
          "2008-07",
          "2008-08",
          "2008-09",
          "2008-10",
          "2008-11",
          "2008-12",
          "2009-01",
          "2009-02",
          "2009-03",
          "2009-04",
          "2009-05",
          "2009-06",
          "2009-07",
          "2009-08",
          "2009-09",
          "2009-10",
          "2009-11",
          "2009-12",
          "2010-01",
          "2010-02",
          "2010-03",
          "2010-04",
          "2010-05",
          "2010-06",
          "2010-07",
          "2010-08",
          "2010-09",
          "2010-10",
          "2010-11",
          "2010-12",
          "2011-01",
          "2011-02",
          "2011-03",
          "2011-04",
          "2011-05",
          "2011-06",
          "2011-07",
          "2011-08",
          "2011-09",
          "2011-10",
          "2011-11",
          "2011-12",
          "2012-01",
          "2012-02",
          "2012-03",
          "2012-04",
          "2012-05",
          "2012-06",
          "2012-07",
          "2012-08",
          "2012-09",
          "2012-10",
          "2012-11",
          "2012-12",
          "2013-01",
          "2013-02",
          "2013-03",
          "2013-04",
          "2013-05",
          "2013-06",
          "2013-07",
          "2013-08",
          "2013-09",
          "2013-10",
          "2013-11",
          "2013-12",
          "2014-01",
          "2014-02",
          "2014-03",
          "2014-04",
          "2014-05",
          "2014-06",
          "2014-07",
          "2014-08",
          "2014-09",
          "2014-10",
          "2014-11",
          "2014-12",
          "2015-01",
          "2015-02",
          "2015-03",
          "2015-04",
          "2015-05",
          "2015-06",
          "2015-07",
          "2015-08",
          "2015-09",
          "2015-10",
          "2015-11",
          "2015-12",
          "2016-01",
          "2016-02",
          "2016-03",
          "2016-04",
          "2016-05",
          "2016-06",
          "2016-07",
          "2016-08",
          "2016-09",
          "2016-10",
          "2016-11",
          "2016-12",
          "2017-01",
          "2017-02",
          "2017-03",
          "2017-04",
          "2017-05",
          "2017-06",
          "2017-07",
          "2017-08",
          "2017-09",
          "2017-10",
          "2017-11",
          "2017-12",
          "2018-01",
          "2018-02",
          "2018-03",
          "2018-04",
          "2018-05",
          "2018-06",
          "2018-07",
          "2018-08",
          "2018-09",
          "2018-10",
          "2018-11",
          "2018-12",
          "2019-01",
          "2019-02",
          "2019-03",
          "2019-04",
          "2019-05",
          "2019-06",
          "2019-07",
          "2019-08",
          "2019-09",
          "2019-10",
          "2019-11",
          "2019-12",
          "2020-01",
          "2020-02",
          "2020-03",
          "2020-04",
          "2020-05",
          "2020-06",
          "2020-07",
          "2020-08",
          "2020-09",
          "2020-10",
          "2020-11",
          "2020-12",
          "2021-01",
          "2021-02",
          "2021-03",
          "2021-04",
          "2021-05",
          "2021-06",
          "2021-07",
          "2021-08",
          "2021-09",
          "2021-10",
          "2021-11",
          "2021-12",
          "2022-01",
          "2022-02",
          "2022-03",
          "2022-04",
          "2022-05",
          "2022-06",
          "2022-07",
          "2022-08",
          "2022-09",
          "2022-10",
          "2022-11",
          "2022-12",
          "2023-01",
          "2023-02",
          "2023-03",
          "2023-04",
          "2023-05",
          "2023-06",
          "2023-07",
          "2023-08",
          "2023-09",
          "2023-10",
          "2023-11",
          "2023-12"
         ],
         "xaxis": "x",
         "y": [
          null,
          null,
          null,
          null,
          null,
          null,
          null,
          null,
          null,
          null,
          null,
          null,
          null,
          null,
          null,
          null,
          null,
          null,
          null,
          null,
          null,
          null,
          null,
          null,
          null,
          null,
          null,
          null,
          null,
          null,
          null,
          null,
          null,
          null,
          null,
          null,
          null,
          null,
          null,
          null,
          null,
          null,
          null,
          null,
          null,
          null,
          null,
          null,
          null,
          null,
          null,
          null,
          null,
          null,
          null,
          null,
          null,
          null,
          null,
          null,
          null,
          null,
          null,
          null,
          null,
          null,
          null,
          null,
          null,
          null,
          null,
          null,
          null,
          null,
          null,
          null,
          null,
          null,
          null,
          null,
          2.723809523809524,
          2.245,
          2.090909090909091,
          2.052857142857143,
          1.8095454545454546,
          1.7531818181818182,
          1.8247368421052632,
          1.873913043478261,
          1.879047619047619,
          2.1785,
          2.6123809523809522,
          2.5285714285714285,
          2.398636363636364,
          2.1704999999999997,
          2.3178260869565217,
          2.43,
          2.4376190476190476,
          2.553181818181818,
          2.7926315789473684,
          2.7456521739130433,
          2.9365,
          3.108181818181818,
          3.0223809523809524,
          2.8889473684210527,
          2.8572727272727274,
          2.8285,
          2.8113636363636365,
          2.9155,
          3.1580952380952385,
          3.38047619047619,
          3.5905,
          3.7034782608695656,
          3.8242105263157895,
          3.8313043478260873,
          3.9877272727272723,
          4.195555555555555,
          4.161363636363636,
          4.105714285714286,
          4.2355,
          4.281363636363636,
          4.284000000000001,
          4.395238095238095,
          4.297826086956522,
          3.912857142857143,
          3.885,
          4.284090909090909,
          4.4526315789473685,
          4.1579999999999995,
          3.451904761904762,
          2.791,
          2.8363636363636364,
          2.8452380952380953,
          2.6626315789473685,
          2.5954545454545457,
          2.567272727272727,
          2.44,
          2.420952380952381,
          2.409047619047619,
          2.3335,
          2.2014285714285715,
          2.1015,
          2.0345,
          1.9447826086956521,
          1.9395238095238094,
          1.8076190476190477,
          1.7754545454545456,
          1.7685,
          1.7795454545454545,
          1.7809523809523808,
          1.7899999999999998,
          1.7895238095238095,
          1.799090909090909,
          1.7995238095238095,
          1.8025000000000002,
          1.82,
          1.8335000000000001,
          1.8395454545454546,
          1.8022727272727272,
          1.7673684210526315,
          1.7386956521739132,
          1.7290476190476192,
          1.7315,
          1.7066666666666666,
          1.7033333333333331,
          1.7345454545454544,
          1.7547619047619047,
          1.7704545454545455,
          1.779,
          1.774761904761905,
          1.75,
          1.5425,
          1.4673913043478262,
          1.2868421052631578,
          1.087391304347826,
          0.911818181818182,
          0.8788888888888889,
          0.8595454545454545,
          0.8295,
          0.7752380952380953,
          0.76,
          0.7571428571428571,
          0.755,
          0.7481818181818182,
          0.7486363636363635,
          0.7366666666666666,
          0.7254545454545455,
          0.6547619047619048,
          0.6068421052631578,
          0.5809090909090909,
          0.553,
          0.55,
          0.5476190476190477,
          0.537,
          0.53,
          0.5204347826086957,
          0.52,
          0.52,
          0.5159090909090909,
          0.51,
          0.51,
          0.51,
          0.507,
          0.4904545454545454,
          0.4766666666666667,
          0.48,
          0.4799999999999999,
          0.4786363636363636,
          0.48142857142857143,
          0.4695238095238095,
          0.4576190476190477,
          0.458,
          0.45857142857142863,
          0.4525,
          0.45000000000000007,
          0.45000000000000007,
          0.45000000000000007,
          0.45,
          0.45,
          0.45,
          0.45,
          0.45000000000000007,
          0.45,
          0.45000000000000007,
          0.4452380952380952,
          0.44,
          0.44000000000000006,
          0.43999999999999995,
          0.44722222222222224,
          0.46,
          0.46,
          0.47368421052631576,
          0.5991304347826086,
          0.637,
          0.6936363636363636,
          0.9076190476190475,
          0.9605263157894737,
          0.9809090909090908,
          1.1085,
          1.12,
          1.1205000000000003,
          1.12,
          1.1595238095238096,
          1.3895,
          1.6665217391304348,
          1.7873684210526317,
          1.9565217391304348,
          2.184090909090909,
          2.2094444444444443,
          2.212727272727273,
          2.1965,
          2.2004761904761905,
          2.21,
          2.318095238095238,
          2.293,
          2.2804545454545453,
          2.22,
          2.2042857142857146,
          2.2754545454545454,
          2.282380952380952,
          2.2668421052631578,
          2.274090909090909,
          2.416,
          1.9631818181818181,
          0.9199999999999999,
          0.5063157894736842,
          0.42999999999999994,
          0.42999999999999994,
          0.43,
          0.4357142857142857,
          0.4319047619047619,
          0.43949999999999995,
          0.4876190476190476,
          0.49000000000000005,
          0.5365,
          0.56,
          0.5655,
          0.6585714285714286,
          0.7763636363636363,
          1.0050000000000001,
          1.3045454545454547,
          1.520952380952381,
          2.44,
          3.497142857142857,
          3.963181818181818,
          4.5547619047619055,
          4.8660000000000005,
          5.122173913043478,
          5.74421052631579,
          6.329545454545454,
          7.018636363636364,
          7.5484210526315785,
          7.482608695652174,
          7.444761904761905,
          7.453,
          7.394761904761904,
          7.276666666666666,
          7.247727272727274,
          7.233499999999999,
          7.225217391304348,
          7.208888888888889,
          7.196190476190476,
          7.137727272727273,
          7.028947368421053,
          6.947391304347826,
          6.8469999999999995,
          6.609090909090909,
          null,
          null
         ],
         "yaxis": "y"
        },
        {
         "hovertemplate": "indicator_id=PRIBOR_3M<br>Year-Month=%{x}<br>value=%{y}<extra></extra>",
         "legendgroup": "PRIBOR_3M",
         "line": {
          "color": "#00cc96",
          "dash": "solid"
         },
         "marker": {
          "symbol": "circle"
         },
         "mode": "lines",
         "name": "PRIBOR_3M",
         "showlegend": true,
         "type": "scattergl",
         "visible": "legendonly",
         "x": [
          "1995-03",
          "1995-06",
          "1995-09",
          "1995-12",
          "1996-03",
          "1996-06",
          "1996-09",
          "1996-12",
          "1997-03",
          "1997-06",
          "1997-09",
          "1997-12",
          "1998-03",
          "1998-06",
          "1998-09",
          "1998-12",
          "1999-03",
          "1999-06",
          "1999-09",
          "1999-12",
          "2000-01",
          "2000-02",
          "2000-03",
          "2000-04",
          "2000-05",
          "2000-06",
          "2000-07",
          "2000-08",
          "2000-09",
          "2000-10",
          "2000-11",
          "2000-12",
          "2001-01",
          "2001-02",
          "2001-03",
          "2001-04",
          "2001-05",
          "2001-06",
          "2001-07",
          "2001-08",
          "2001-09",
          "2001-10",
          "2001-11",
          "2001-12",
          "2002-01",
          "2002-02",
          "2002-03",
          "2002-04",
          "2002-05",
          "2002-06",
          "2002-07",
          "2002-08",
          "2002-09",
          "2002-10",
          "2002-11",
          "2002-12",
          "2003-01",
          "2003-02",
          "2003-03",
          "2003-04",
          "2003-05",
          "2003-06",
          "2003-07",
          "2003-08",
          "2003-09",
          "2003-10",
          "2003-11",
          "2003-12",
          "2004-01",
          "2004-02",
          "2004-03",
          "2004-04",
          "2004-05",
          "2004-06",
          "2004-07",
          "2004-08",
          "2004-09",
          "2004-10",
          "2004-11",
          "2004-12",
          "2005-01",
          "2005-02",
          "2005-03",
          "2005-04",
          "2005-05",
          "2005-06",
          "2005-07",
          "2005-08",
          "2005-09",
          "2005-10",
          "2005-11",
          "2005-12",
          "2006-01",
          "2006-02",
          "2006-03",
          "2006-04",
          "2006-05",
          "2006-06",
          "2006-07",
          "2006-08",
          "2006-09",
          "2006-10",
          "2006-11",
          "2006-12",
          "2007-01",
          "2007-02",
          "2007-03",
          "2007-04",
          "2007-05",
          "2007-06",
          "2007-07",
          "2007-08",
          "2007-09",
          "2007-10",
          "2007-11",
          "2007-12",
          "2008-01",
          "2008-02",
          "2008-03",
          "2008-04",
          "2008-05",
          "2008-06",
          "2008-07",
          "2008-08",
          "2008-09",
          "2008-10",
          "2008-11",
          "2008-12",
          "2009-01",
          "2009-02",
          "2009-03",
          "2009-04",
          "2009-05",
          "2009-06",
          "2009-07",
          "2009-08",
          "2009-09",
          "2009-10",
          "2009-11",
          "2009-12",
          "2010-01",
          "2010-02",
          "2010-03",
          "2010-04",
          "2010-05",
          "2010-06",
          "2010-07",
          "2010-08",
          "2010-09",
          "2010-10",
          "2010-11",
          "2010-12",
          "2011-01",
          "2011-02",
          "2011-03",
          "2011-04",
          "2011-05",
          "2011-06",
          "2011-07",
          "2011-08",
          "2011-09",
          "2011-10",
          "2011-11",
          "2011-12",
          "2012-01",
          "2012-02",
          "2012-03",
          "2012-04",
          "2012-05",
          "2012-06",
          "2012-07",
          "2012-08",
          "2012-09",
          "2012-10",
          "2012-11",
          "2012-12",
          "2013-01",
          "2013-02",
          "2013-03",
          "2013-04",
          "2013-05",
          "2013-06",
          "2013-07",
          "2013-08",
          "2013-09",
          "2013-10",
          "2013-11",
          "2013-12",
          "2014-01",
          "2014-02",
          "2014-03",
          "2014-04",
          "2014-05",
          "2014-06",
          "2014-07",
          "2014-08",
          "2014-09",
          "2014-10",
          "2014-11",
          "2014-12",
          "2015-01",
          "2015-02",
          "2015-03",
          "2015-04",
          "2015-05",
          "2015-06",
          "2015-07",
          "2015-08",
          "2015-09",
          "2015-10",
          "2015-11",
          "2015-12",
          "2016-01",
          "2016-02",
          "2016-03",
          "2016-04",
          "2016-05",
          "2016-06",
          "2016-07",
          "2016-08",
          "2016-09",
          "2016-10",
          "2016-11",
          "2016-12",
          "2017-01",
          "2017-02",
          "2017-03",
          "2017-04",
          "2017-05",
          "2017-06",
          "2017-07",
          "2017-08",
          "2017-09",
          "2017-10",
          "2017-11",
          "2017-12",
          "2018-01",
          "2018-02",
          "2018-03",
          "2018-04",
          "2018-05",
          "2018-06",
          "2018-07",
          "2018-08",
          "2018-09",
          "2018-10",
          "2018-11",
          "2018-12",
          "2019-01",
          "2019-02",
          "2019-03",
          "2019-04",
          "2019-05",
          "2019-06",
          "2019-07",
          "2019-08",
          "2019-09",
          "2019-10",
          "2019-11",
          "2019-12",
          "2020-01",
          "2020-02",
          "2020-03",
          "2020-04",
          "2020-05",
          "2020-06",
          "2020-07",
          "2020-08",
          "2020-09",
          "2020-10",
          "2020-11",
          "2020-12",
          "2021-01",
          "2021-02",
          "2021-03",
          "2021-04",
          "2021-05",
          "2021-06",
          "2021-07",
          "2021-08",
          "2021-09",
          "2021-10",
          "2021-11",
          "2021-12",
          "2022-01",
          "2022-02",
          "2022-03",
          "2022-04",
          "2022-05",
          "2022-06",
          "2022-07",
          "2022-08",
          "2022-09",
          "2022-10",
          "2022-11",
          "2022-12",
          "2023-01",
          "2023-02",
          "2023-03",
          "2023-04",
          "2023-05",
          "2023-06",
          "2023-07",
          "2023-08",
          "2023-09",
          "2023-10",
          "2023-11",
          "2023-12"
         ],
         "xaxis": "x",
         "y": [
          null,
          null,
          null,
          null,
          null,
          null,
          null,
          null,
          null,
          null,
          null,
          null,
          null,
          null,
          null,
          null,
          null,
          null,
          null,
          null,
          null,
          null,
          null,
          null,
          null,
          null,
          null,
          null,
          null,
          null,
          null,
          null,
          null,
          null,
          null,
          null,
          null,
          null,
          null,
          null,
          null,
          null,
          null,
          null,
          null,
          null,
          null,
          null,
          null,
          null,
          null,
          null,
          null,
          null,
          null,
          null,
          null,
          null,
          null,
          null,
          null,
          null,
          null,
          null,
          null,
          null,
          null,
          null,
          null,
          null,
          null,
          null,
          null,
          null,
          null,
          null,
          null,
          null,
          null,
          null,
          2.531428571428571,
          2.246,
          2.083181818181818,
          2.0266666666666664,
          1.7772727272727273,
          1.750909090909091,
          1.775263157894737,
          1.791304347826087,
          1.7952380952380953,
          1.9055,
          2.244285714285714,
          2.172857142857143,
          2.1363636363636362,
          2.0044999999999997,
          2.0834782608695654,
          2.106842105263158,
          2.12,
          2.1627272727272726,
          2.29,
          2.361304347826087,
          2.4935,
          2.6540909090909093,
          2.644285714285714,
          2.5642105263157893,
          2.583181818181818,
          2.5895,
          2.5645454545454545,
          2.5995,
          2.7661904761904763,
          2.927619047619048,
          3.071,
          3.2804347826086957,
          3.46421052631579,
          3.5452173913043477,
          3.7290909090909095,
          4.052222222222222,
          3.955454545454545,
          3.9380952380952383,
          4.0424999999999995,
          4.107727272727273,
          4.1445,
          4.209047619047619,
          4.110434782608696,
          3.8138095238095238,
          3.8049999999999997,
          4.1859090909090915,
          4.241052631578947,
          3.8884999999999996,
          3.139047619047619,
          2.503,
          2.4904545454545453,
          2.4995238095238097,
          2.3010526315789472,
          2.165909090909091,
          2.0945454545454543,
          1.9242857142857142,
          1.8847619047619046,
          1.871904761904762,
          1.8035,
          1.643809523809524,
          1.548,
          1.5185,
          1.433478260869565,
          1.4161904761904762,
          1.266190476190476,
          1.2349999999999999,
          1.2275,
          1.2349999999999999,
          1.2233333333333332,
          1.204,
          1.2176190476190476,
          1.2218181818181817,
          1.1966666666666665,
          1.209,
          1.2073913043478262,
          1.2109999999999999,
          1.2154545454545453,
          1.1981818181818182,
          1.19,
          1.188695652173913,
          1.1738095238095236,
          1.17,
          1.147142857142857,
          1.1628571428571428,
          1.1713636363636364,
          1.1952380952380952,
          1.2322727272727272,
          1.2445,
          1.2404761904761905,
          1.2123809523809523,
          1.0565000000000002,
          0.9991304347826088,
          0.871578947368421,
          0.7104347826086956,
          0.5377272727272727,
          0.5044444444444445,
          0.5,
          0.5,
          0.4876190476190476,
          0.4695238095238095,
          0.46,
          0.4605,
          0.46,
          0.46,
          0.4533333333333333,
          0.44681818181818184,
          0.40476190476190477,
          0.38,
          0.37454545454545457,
          0.37,
          0.37,
          0.37,
          0.3655,
          0.3528571428571428,
          0.35,
          0.35,
          0.35,
          0.35,
          0.34052631578947373,
          0.34,
          0.3333333333333333,
          0.33,
          0.32,
          0.31,
          0.31,
          0.31,
          0.3054545454545454,
          0.31,
          0.30238095238095236,
          0.29,
          0.29,
          0.28857142857142853,
          0.29,
          0.28285714285714286,
          0.28619047619047616,
          0.29,
          0.29,
          0.29,
          0.29,
          0.29,
          0.29,
          0.29,
          0.29,
          0.2866666666666666,
          0.28,
          0.28,
          0.28,
          0.28777777777777774,
          0.2971428571428571,
          0.2972727272727273,
          0.30105263157894735,
          0.43478260869565216,
          0.461,
          0.5131818181818182,
          0.7114285714285714,
          0.7526315789473684,
          0.7713636363636364,
          0.9030000000000001,
          0.9028571428571429,
          0.9,
          0.9000000000000001,
          0.9414285714285714,
          1.185,
          1.4482608695652175,
          1.5447368421052632,
          1.7613043478260868,
          1.99,
          2.0144444444444445,
          2.005909090909091,
          2.0055,
          2.0276190476190474,
          2.023,
          2.190952380952381,
          2.173,
          2.164090909090909,
          2.1431818181818185,
          2.1423809523809525,
          2.174090909090909,
          2.179047619047619,
          2.18,
          2.1695454545454544,
          2.3435,
          1.9531818181818181,
          0.9644999999999999,
          0.45736842105263154,
          0.34,
          0.34,
          0.34,
          0.34095238095238095,
          0.35,
          0.35,
          0.3509523809523809,
          0.36,
          0.36,
          0.36,
          0.36,
          0.3661904761904762,
          0.4768181818181818,
          0.6950000000000001,
          0.9381818181818182,
          1.1066666666666667,
          2.0164999999999997,
          2.972857142857143,
          3.503181818181818,
          4.208095238095238,
          4.6935,
          4.8621739130434785,
          5.363684210526316,
          5.973636363636363,
          6.639545454545455,
          7.298947368421053,
          7.269565217391304,
          7.24952380952381,
          7.278999999999999,
          7.272380952380952,
          7.256666666666666,
          7.215909090909091,
          7.2010000000000005,
          7.192608695652174,
          7.178888888888888,
          7.179047619047618,
          7.147272727272727,
          7.112105263157894,
          7.10304347826087,
          7.089499999999999,
          7.047272727272727,
          null,
          null
         ],
         "yaxis": "y"
        },
        {
         "hovertemplate": "indicator_id=Inflation_yoy<br>Year-Month=%{x}<br>value=%{y}<extra></extra>",
         "legendgroup": "Inflation_yoy",
         "line": {
          "color": "#ab63fa",
          "dash": "solid"
         },
         "marker": {
          "symbol": "circle"
         },
         "mode": "lines",
         "name": "Inflation_yoy",
         "showlegend": true,
         "type": "scattergl",
         "visible": "legendonly",
         "x": [
          "1995-03",
          "1995-06",
          "1995-09",
          "1995-12",
          "1996-03",
          "1996-06",
          "1996-09",
          "1996-12",
          "1997-03",
          "1997-06",
          "1997-09",
          "1997-12",
          "1998-03",
          "1998-06",
          "1998-09",
          "1998-12",
          "1999-03",
          "1999-06",
          "1999-09",
          "1999-12",
          "2000-01",
          "2000-02",
          "2000-03",
          "2000-04",
          "2000-05",
          "2000-06",
          "2000-07",
          "2000-08",
          "2000-09",
          "2000-10",
          "2000-11",
          "2000-12",
          "2001-01",
          "2001-02",
          "2001-03",
          "2001-04",
          "2001-05",
          "2001-06",
          "2001-07",
          "2001-08",
          "2001-09",
          "2001-10",
          "2001-11",
          "2001-12",
          "2002-01",
          "2002-02",
          "2002-03",
          "2002-04",
          "2002-05",
          "2002-06",
          "2002-07",
          "2002-08",
          "2002-09",
          "2002-10",
          "2002-11",
          "2002-12",
          "2003-01",
          "2003-02",
          "2003-03",
          "2003-04",
          "2003-05",
          "2003-06",
          "2003-07",
          "2003-08",
          "2003-09",
          "2003-10",
          "2003-11",
          "2003-12",
          "2004-01",
          "2004-02",
          "2004-03",
          "2004-04",
          "2004-05",
          "2004-06",
          "2004-07",
          "2004-08",
          "2004-09",
          "2004-10",
          "2004-11",
          "2004-12",
          "2005-01",
          "2005-02",
          "2005-03",
          "2005-04",
          "2005-05",
          "2005-06",
          "2005-07",
          "2005-08",
          "2005-09",
          "2005-10",
          "2005-11",
          "2005-12",
          "2006-01",
          "2006-02",
          "2006-03",
          "2006-04",
          "2006-05",
          "2006-06",
          "2006-07",
          "2006-08",
          "2006-09",
          "2006-10",
          "2006-11",
          "2006-12",
          "2007-01",
          "2007-02",
          "2007-03",
          "2007-04",
          "2007-05",
          "2007-06",
          "2007-07",
          "2007-08",
          "2007-09",
          "2007-10",
          "2007-11",
          "2007-12",
          "2008-01",
          "2008-02",
          "2008-03",
          "2008-04",
          "2008-05",
          "2008-06",
          "2008-07",
          "2008-08",
          "2008-09",
          "2008-10",
          "2008-11",
          "2008-12",
          "2009-01",
          "2009-02",
          "2009-03",
          "2009-04",
          "2009-05",
          "2009-06",
          "2009-07",
          "2009-08",
          "2009-09",
          "2009-10",
          "2009-11",
          "2009-12",
          "2010-01",
          "2010-02",
          "2010-03",
          "2010-04",
          "2010-05",
          "2010-06",
          "2010-07",
          "2010-08",
          "2010-09",
          "2010-10",
          "2010-11",
          "2010-12",
          "2011-01",
          "2011-02",
          "2011-03",
          "2011-04",
          "2011-05",
          "2011-06",
          "2011-07",
          "2011-08",
          "2011-09",
          "2011-10",
          "2011-11",
          "2011-12",
          "2012-01",
          "2012-02",
          "2012-03",
          "2012-04",
          "2012-05",
          "2012-06",
          "2012-07",
          "2012-08",
          "2012-09",
          "2012-10",
          "2012-11",
          "2012-12",
          "2013-01",
          "2013-02",
          "2013-03",
          "2013-04",
          "2013-05",
          "2013-06",
          "2013-07",
          "2013-08",
          "2013-09",
          "2013-10",
          "2013-11",
          "2013-12",
          "2014-01",
          "2014-02",
          "2014-03",
          "2014-04",
          "2014-05",
          "2014-06",
          "2014-07",
          "2014-08",
          "2014-09",
          "2014-10",
          "2014-11",
          "2014-12",
          "2015-01",
          "2015-02",
          "2015-03",
          "2015-04",
          "2015-05",
          "2015-06",
          "2015-07",
          "2015-08",
          "2015-09",
          "2015-10",
          "2015-11",
          "2015-12",
          "2016-01",
          "2016-02",
          "2016-03",
          "2016-04",
          "2016-05",
          "2016-06",
          "2016-07",
          "2016-08",
          "2016-09",
          "2016-10",
          "2016-11",
          "2016-12",
          "2017-01",
          "2017-02",
          "2017-03",
          "2017-04",
          "2017-05",
          "2017-06",
          "2017-07",
          "2017-08",
          "2017-09",
          "2017-10",
          "2017-11",
          "2017-12",
          "2018-01",
          "2018-02",
          "2018-03",
          "2018-04",
          "2018-05",
          "2018-06",
          "2018-07",
          "2018-08",
          "2018-09",
          "2018-10",
          "2018-11",
          "2018-12",
          "2019-01",
          "2019-02",
          "2019-03",
          "2019-04",
          "2019-05",
          "2019-06",
          "2019-07",
          "2019-08",
          "2019-09",
          "2019-10",
          "2019-11",
          "2019-12",
          "2020-01",
          "2020-02",
          "2020-03",
          "2020-04",
          "2020-05",
          "2020-06",
          "2020-07",
          "2020-08",
          "2020-09",
          "2020-10",
          "2020-11",
          "2020-12",
          "2021-01",
          "2021-02",
          "2021-03",
          "2021-04",
          "2021-05",
          "2021-06",
          "2021-07",
          "2021-08",
          "2021-09",
          "2021-10",
          "2021-11",
          "2021-12",
          "2022-01",
          "2022-02",
          "2022-03",
          "2022-04",
          "2022-05",
          "2022-06",
          "2022-07",
          "2022-08",
          "2022-09",
          "2022-10",
          "2022-11",
          "2022-12",
          "2023-01",
          "2023-02",
          "2023-03",
          "2023-04",
          "2023-05",
          "2023-06",
          "2023-07",
          "2023-08",
          "2023-09",
          "2023-10",
          "2023-11",
          "2023-12"
         ],
         "xaxis": "x",
         "y": [
          null,
          null,
          null,
          null,
          null,
          null,
          null,
          null,
          null,
          null,
          null,
          null,
          null,
          null,
          null,
          null,
          null,
          null,
          null,
          null,
          3.4000000000000057,
          3.700000000000003,
          3.799999999999997,
          3.4000000000000057,
          3.700000000000003,
          4.099999999999994,
          3.9000000000000057,
          4.099999999999994,
          4.099999999999994,
          4.400000000000006,
          4.299999999999997,
          4,
          4.200000000000003,
          4,
          4.099999999999994,
          4.599999999999994,
          5,
          5.5,
          5.900000000000006,
          5.5,
          4.700000000000003,
          4.400000000000006,
          4.200000000000003,
          4.099999999999994,
          3.700000000000003,
          3.9000000000000057,
          3.700000000000003,
          3.200000000000003,
          2.5,
          1.2000000000000028,
          0.5999999999999943,
          0.5999999999999943,
          0.7999999999999972,
          0.5999999999999943,
          0.5,
          0.5999999999999943,
          -0.4000000000000057,
          -0.4000000000000057,
          -0.4000000000000057,
          -0.09999999999999432,
          0,
          0.29999999999999716,
          -0.09999999999999432,
          -0.09999999999999432,
          0,
          0.4000000000000057,
          1,
          1,
          2.299999999999997,
          2.299999999999997,
          2.5,
          2.299999999999997,
          2.700000000000003,
          2.9000000000000057,
          3.200000000000003,
          3.4000000000000057,
          3,
          3.5,
          2.9000000000000057,
          2.799999999999997,
          1.7000000000000028,
          1.7000000000000028,
          1.5,
          1.5999999999999943,
          1.2999999999999972,
          1.7999999999999972,
          1.7000000000000028,
          1.7000000000000028,
          2.200000000000003,
          2.5999999999999943,
          2.4000000000000057,
          2.200000000000003,
          2.9000000000000057,
          2.799999999999997,
          2.799999999999997,
          2.799999999999997,
          3.0999999999999943,
          2.799999999999997,
          2.9000000000000057,
          3.0999999999999943,
          2.700000000000003,
          1.2999999999999972,
          1.5,
          1.7000000000000028,
          1.2999999999999972,
          1.5,
          1.9000000000000057,
          2.5,
          2.4000000000000057,
          2.5,
          2.299999999999997,
          2.4000000000000057,
          2.799999999999997,
          4,
          5,
          5.400000000000006,
          7.5,
          7.5,
          7.099999999999994,
          6.799999999999997,
          6.799999999999997,
          6.700000000000003,
          6.900000000000006,
          6.5,
          6.599999999999994,
          6,
          4.400000000000006,
          3.5999999999999943,
          2.200000000000003,
          2,
          2.299999999999997,
          1.7999999999999972,
          1.2999999999999972,
          1.2000000000000028,
          0.29999999999999716,
          0.20000000000000284,
          0,
          -0.20000000000000284,
          0.5,
          1,
          0.7000000000000028,
          0.5999999999999943,
          0.7000000000000028,
          1.0999999999999943,
          1.2000000000000028,
          1.2000000000000028,
          1.9000000000000057,
          1.9000000000000057,
          2,
          2,
          2,
          2.299999999999997,
          1.7000000000000028,
          1.7999999999999972,
          1.7000000000000028,
          1.5999999999999943,
          2,
          1.7999999999999972,
          1.7000000000000028,
          1.7000000000000028,
          1.7999999999999972,
          2.299999999999997,
          2.5,
          2.4000000000000057,
          3.5,
          3.700000000000003,
          3.799999999999997,
          3.5,
          3.200000000000003,
          3.5,
          3.0999999999999943,
          3.299999999999997,
          3.4000000000000057,
          3.4000000000000057,
          2.700000000000003,
          2.4000000000000057,
          1.9000000000000057,
          1.7000000000000028,
          1.7000000000000028,
          1.7000000000000028,
          1.2999999999999972,
          1.5999999999999943,
          1.4000000000000057,
          1.2999999999999972,
          1,
          0.9000000000000057,
          1.0999999999999943,
          1.4000000000000057,
          0.20000000000000284,
          0.20000000000000284,
          0.20000000000000284,
          0.09999999999999432,
          0.4000000000000057,
          0,
          0.5,
          0.5999999999999943,
          0.7000000000000028,
          0.7000000000000028,
          0.5999999999999943,
          0.09999999999999432,
          0.09999999999999432,
          0.09999999999999432,
          0.20000000000000284,
          0.5,
          0.7000000000000028,
          0.7999999999999972,
          0.5,
          0.29999999999999716,
          0.4000000000000057,
          0.20000000000000284,
          0.09999999999999432,
          0.09999999999999432,
          0.5999999999999943,
          0.5,
          0.29999999999999716,
          0.5999999999999943,
          0.09999999999999432,
          0.09999999999999432,
          0.5,
          0.5999999999999943,
          0.5,
          0.7999999999999972,
          1.5,
          2,
          2.200000000000003,
          2.5,
          2.5999999999999943,
          2,
          2.4000000000000057,
          2.299999999999997,
          2.5,
          2.5,
          2.700000000000003,
          2.9000000000000057,
          2.5999999999999943,
          2.4000000000000057,
          2.200000000000003,
          1.7999999999999972,
          1.7000000000000028,
          1.9000000000000057,
          2.200000000000003,
          2.5999999999999943,
          2.299999999999997,
          2.5,
          2.299999999999997,
          2.200000000000003,
          2,
          2,
          2.5,
          2.700000000000003,
          3,
          2.799999999999997,
          2.9000000000000057,
          2.700000000000003,
          2.9000000000000057,
          2.9000000000000057,
          2.700000000000003,
          2.700000000000003,
          3.0999999999999943,
          3.200000000000003,
          3.5999999999999943,
          3.700000000000003,
          3.4000000000000057,
          3.200000000000003,
          2.9000000000000057,
          3.299999999999997,
          3.4000000000000057,
          3.299999999999997,
          3.200000000000003,
          2.9000000000000057,
          2.700000000000003,
          2.299999999999997,
          2.200000000000003,
          2.0999999999999943,
          2.299999999999997,
          3.0999999999999943,
          2.9000000000000057,
          2.799999999999997,
          3.4000000000000057,
          4.099999999999994,
          4.900000000000006,
          5.799999999999997,
          6,
          6.599999999999994,
          9.900000000000006,
          11.099999999999994,
          12.700000000000003,
          14.200000000000003,
          16,
          17.200000000000003,
          17.5,
          17.200000000000003,
          18,
          15.099999999999994,
          16.200000000000003,
          15.799999999999997,
          17.5,
          16.700000000000003,
          15,
          12.700000000000003,
          11.099999999999994,
          9.700000000000003,
          8.799999999999997,
          8.5,
          6.900000000000006,
          8.5,
          7.299999999999997,
          6.900000000000006
         ],
         "yaxis": "y"
        },
        {
         "hovertemplate": "indicator_id=GDP_growth<br>Year-Month=%{x}<br>value=%{y}<extra></extra>",
         "legendgroup": "GDP_growth",
         "line": {
          "color": "#FFA15A",
          "dash": "solid"
         },
         "marker": {
          "symbol": "circle"
         },
         "mode": "lines",
         "name": "GDP_growth",
         "showlegend": true,
         "type": "scattergl",
         "visible": "legendonly",
         "x": [
          "1995-03",
          "1995-06",
          "1995-09",
          "1995-12",
          "1996-03",
          "1996-06",
          "1996-09",
          "1996-12",
          "1997-03",
          "1997-06",
          "1997-09",
          "1997-12",
          "1998-03",
          "1998-06",
          "1998-09",
          "1998-12",
          "1999-03",
          "1999-06",
          "1999-09",
          "1999-12",
          "2000-01",
          "2000-02",
          "2000-03",
          "2000-04",
          "2000-05",
          "2000-06",
          "2000-07",
          "2000-08",
          "2000-09",
          "2000-10",
          "2000-11",
          "2000-12",
          "2001-01",
          "2001-02",
          "2001-03",
          "2001-04",
          "2001-05",
          "2001-06",
          "2001-07",
          "2001-08",
          "2001-09",
          "2001-10",
          "2001-11",
          "2001-12",
          "2002-01",
          "2002-02",
          "2002-03",
          "2002-04",
          "2002-05",
          "2002-06",
          "2002-07",
          "2002-08",
          "2002-09",
          "2002-10",
          "2002-11",
          "2002-12",
          "2003-01",
          "2003-02",
          "2003-03",
          "2003-04",
          "2003-05",
          "2003-06",
          "2003-07",
          "2003-08",
          "2003-09",
          "2003-10",
          "2003-11",
          "2003-12",
          "2004-01",
          "2004-02",
          "2004-03",
          "2004-04",
          "2004-05",
          "2004-06",
          "2004-07",
          "2004-08",
          "2004-09",
          "2004-10",
          "2004-11",
          "2004-12",
          "2005-01",
          "2005-02",
          "2005-03",
          "2005-04",
          "2005-05",
          "2005-06",
          "2005-07",
          "2005-08",
          "2005-09",
          "2005-10",
          "2005-11",
          "2005-12",
          "2006-01",
          "2006-02",
          "2006-03",
          "2006-04",
          "2006-05",
          "2006-06",
          "2006-07",
          "2006-08",
          "2006-09",
          "2006-10",
          "2006-11",
          "2006-12",
          "2007-01",
          "2007-02",
          "2007-03",
          "2007-04",
          "2007-05",
          "2007-06",
          "2007-07",
          "2007-08",
          "2007-09",
          "2007-10",
          "2007-11",
          "2007-12",
          "2008-01",
          "2008-02",
          "2008-03",
          "2008-04",
          "2008-05",
          "2008-06",
          "2008-07",
          "2008-08",
          "2008-09",
          "2008-10",
          "2008-11",
          "2008-12",
          "2009-01",
          "2009-02",
          "2009-03",
          "2009-04",
          "2009-05",
          "2009-06",
          "2009-07",
          "2009-08",
          "2009-09",
          "2009-10",
          "2009-11",
          "2009-12",
          "2010-01",
          "2010-02",
          "2010-03",
          "2010-04",
          "2010-05",
          "2010-06",
          "2010-07",
          "2010-08",
          "2010-09",
          "2010-10",
          "2010-11",
          "2010-12",
          "2011-01",
          "2011-02",
          "2011-03",
          "2011-04",
          "2011-05",
          "2011-06",
          "2011-07",
          "2011-08",
          "2011-09",
          "2011-10",
          "2011-11",
          "2011-12",
          "2012-01",
          "2012-02",
          "2012-03",
          "2012-04",
          "2012-05",
          "2012-06",
          "2012-07",
          "2012-08",
          "2012-09",
          "2012-10",
          "2012-11",
          "2012-12",
          "2013-01",
          "2013-02",
          "2013-03",
          "2013-04",
          "2013-05",
          "2013-06",
          "2013-07",
          "2013-08",
          "2013-09",
          "2013-10",
          "2013-11",
          "2013-12",
          "2014-01",
          "2014-02",
          "2014-03",
          "2014-04",
          "2014-05",
          "2014-06",
          "2014-07",
          "2014-08",
          "2014-09",
          "2014-10",
          "2014-11",
          "2014-12",
          "2015-01",
          "2015-02",
          "2015-03",
          "2015-04",
          "2015-05",
          "2015-06",
          "2015-07",
          "2015-08",
          "2015-09",
          "2015-10",
          "2015-11",
          "2015-12",
          "2016-01",
          "2016-02",
          "2016-03",
          "2016-04",
          "2016-05",
          "2016-06",
          "2016-07",
          "2016-08",
          "2016-09",
          "2016-10",
          "2016-11",
          "2016-12",
          "2017-01",
          "2017-02",
          "2017-03",
          "2017-04",
          "2017-05",
          "2017-06",
          "2017-07",
          "2017-08",
          "2017-09",
          "2017-10",
          "2017-11",
          "2017-12",
          "2018-01",
          "2018-02",
          "2018-03",
          "2018-04",
          "2018-05",
          "2018-06",
          "2018-07",
          "2018-08",
          "2018-09",
          "2018-10",
          "2018-11",
          "2018-12",
          "2019-01",
          "2019-02",
          "2019-03",
          "2019-04",
          "2019-05",
          "2019-06",
          "2019-07",
          "2019-08",
          "2019-09",
          "2019-10",
          "2019-11",
          "2019-12",
          "2020-01",
          "2020-02",
          "2020-03",
          "2020-04",
          "2020-05",
          "2020-06",
          "2020-07",
          "2020-08",
          "2020-09",
          "2020-10",
          "2020-11",
          "2020-12",
          "2021-01",
          "2021-02",
          "2021-03",
          "2021-04",
          "2021-05",
          "2021-06",
          "2021-07",
          "2021-08",
          "2021-09",
          "2021-10",
          "2021-11",
          "2021-12",
          "2022-01",
          "2022-02",
          "2022-03",
          "2022-04",
          "2022-05",
          "2022-06",
          "2022-07",
          "2022-08",
          "2022-09",
          "2022-10",
          "2022-11",
          "2022-12",
          "2023-01",
          "2023-02",
          "2023-03",
          "2023-04",
          "2023-05",
          "2023-06",
          "2023-07",
          "2023-08",
          "2023-09",
          "2023-10",
          "2023-11",
          "2023-12"
         ],
         "xaxis": "x",
         "y": [
          null,
          null,
          null,
          null,
          16.569043846348606,
          15.456134854625006,
          13.759016188210822,
          13.002087104920264,
          7.704134300712354,
          7.504048317213005,
          7.544538362884481,
          8.216223055792526,
          9.902659198433838,
          11.222499959289365,
          10.271310583415158,
          6.519152178299805,
          4.4167491340920435,
          3.7366056313540383,
          3.005757033896174,
          6.67043187133622,
          6.758045503817641,
          6.758045503817641,
          6.758045503817641,
          5.5622399977417984,
          5.5622399977417984,
          5.5622399977417984,
          6.198533959573879,
          6.198533959573879,
          6.198533959573879,
          5.273553229310679,
          5.273553229310679,
          5.273553229310679,
          8.09743106031182,
          8.09743106031182,
          8.09743106031182,
          7.517673602406603,
          7.517673602406603,
          7.517673602406603,
          7.8226170880242165,
          7.8226170880242165,
          7.8226170880242165,
          8.848282277263621,
          8.848282277263621,
          8.848282277263621,
          5.860332060389538,
          5.860332060389538,
          5.860332060389538,
          5.782084522454966,
          5.782084522454966,
          5.782084522454966,
          4.116320941703364,
          4.116320941703364,
          4.116320941703364,
          1.9119572648582164,
          1.9119572648582164,
          1.9119572648582164,
          4.920449182511106,
          4.920449182511106,
          4.920449182511106,
          4.3880504900592,
          4.3880504900592,
          4.3880504900592,
          4.893654742667138,
          4.893654742667138,
          4.893654742667138,
          5.470357821009898,
          5.470357821009898,
          5.470357821009898,
          7.981292978088874,
          7.981292978088874,
          7.981292978088874,
          7.1736449734794405,
          7.1736449734794405,
          7.1736449734794405,
          8.293445237049582,
          8.293445237049582,
          8.293445237049582,
          12.548360623705477,
          12.548360623705477,
          12.548360623705477,
          7.896944278010778,
          7.896944278010778,
          7.896944278010778,
          8.051587108739326,
          8.051587108739326,
          8.051587108739326,
          6.047533882411315,
          6.047533882411315,
          6.047533882411315,
          5.084410919540218,
          5.084410919540218,
          5.084410919540218,
          6.670183622093873,
          6.670183622093873,
          6.670183622093873,
          6.495197251821537,
          6.495197251821537,
          6.495197251821537,
          8.619861848660818,
          8.619861848660818,
          8.619861848660818,
          7.969327704762065,
          7.969327704762065,
          7.969327704762065,
          10.541718053756554,
          10.541718053756554,
          10.541718053756554,
          9.224198053389685,
          9.224198053389685,
          9.224198053389685,
          9.196246112838722,
          9.196246112838722,
          9.196246112838722,
          8.441034224031199,
          8.441034224031199,
          8.441034224031199,
          5.217675038179763,
          5.217675038179763,
          5.217675038179763,
          6.877632853624036,
          6.877632853624036,
          6.877632853624036,
          6.406815276194237,
          6.406815276194237,
          6.406815276194237,
          0.7775421687684769,
          0.7775421687684769,
          0.7775421687684769,
          -0.06862986443472607,
          -0.06862986443472607,
          -0.06862986443472607,
          -2.9680916700807956,
          -2.9680916700807956,
          -2.9680916700807956,
          -4.976223361801587,
          -4.976223361801587,
          -4.976223361801587,
          -0.5291684812574715,
          -0.5291684812574715,
          -0.5291684812574715,
          -1.491378584080806,
          -1.491378584080806,
          -1.491378584080806,
          2.028707439668821,
          2.028707439668821,
          2.028707439668821,
          2.096900417851117,
          2.096900417851117,
          2.096900417851117,
          1.1219222857431248,
          1.1219222857431248,
          1.1219222857431248,
          2.054262139264594,
          2.054262139264594,
          2.054262139264594,
          1.2894967644060813,
          1.2894967644060813,
          1.2894967644060813,
          1.4539202742911215,
          1.4539202742911215,
          1.4539202742911215,
          2.175749569918878,
          2.175749569918878,
          2.175749569918878,
          2.2241103876679347,
          2.2241103876679347,
          2.2241103876679347,
          0.4307957532782609,
          0.4307957532782609,
          0.4307957532782609,
          0.04340914233439719,
          0.04340914233439719,
          0.04340914233439719,
          0.07112469088475848,
          0.07112469088475848,
          0.07112469088475848,
          -0.8085663201827202,
          -0.8085663201827202,
          -0.8085663201827202,
          0.4726387963827534,
          0.4726387963827534,
          0.4726387963827534,
          2.1497130609677413,
          2.1497130609677413,
          2.1497130609677413,
          3.255796485726478,
          3.255796485726478,
          3.255796485726478,
          4.4003017086711935,
          4.4003017086711935,
          4.4003017086711935,
          5.201240783510315,
          5.201240783510315,
          5.201240783510315,
          6.0979920747294045,
          6.0979920747294045,
          6.0979920747294045,
          3.900662143263716,
          3.900662143263716,
          3.900662143263716,
          6.876890749145005,
          6.876890749145005,
          6.876890749145005,
          6.859112261563354,
          6.859112261563354,
          6.859112261563354,
          6.059376570195639,
          6.059376570195639,
          6.059376570195639,
          6.008699000577593,
          6.008699000577593,
          6.008699000577593,
          4.536185317730798,
          4.536185317730798,
          4.536185317730798,
          4.448366150159117,
          4.448366150159117,
          4.448366150159117,
          2.770501134143018,
          2.770501134143018,
          2.770501134143018,
          3.1830591281074447,
          3.1830591281074447,
          3.1830591281074447,
          4.814607865207833,
          4.814607865207833,
          4.814607865207833,
          5.7791494352200345,
          5.7791494352200345,
          5.7791494352200345,
          7.237783297903533,
          7.237783297903533,
          7.237783297903533,
          8.151768655450624,
          8.151768655450624,
          8.151768655450624,
          6.794895271605839,
          6.794895271605839,
          6.794895271605839,
          5.753071665982006,
          5.753071665982006,
          5.753071665982006,
          5.3603638810092065,
          5.3603638810092065,
          5.3603638810092065,
          5.674885316434896,
          5.674885316434896,
          5.674885316434896,
          6.888425944473354,
          6.888425944473354,
          6.888425944473354,
          6.760984079338442,
          6.760984079338442,
          6.760984079338442,
          7.8644535224440375,
          7.8644535224440375,
          7.8644535224440375,
          6.631692281413606,
          6.631692281413606,
          6.631692281413606,
          2.692311440374624,
          2.692311440374624,
          2.692311440374624,
          -6.9326280477804545,
          -6.9326280477804545,
          -6.9326280477804545,
          -1.2754082068162376,
          -1.2754082068162376,
          -1.2754082068162376,
          0.08107898734641594,
          0.08107898734641594,
          0.08107898734641594,
          0.9910674724458062,
          0.9910674724458062,
          0.9910674724458062,
          13.794374974084363,
          13.794374974084363,
          13.794374974084363,
          7.71060573671798,
          7.71060573671798,
          7.71060573671798,
          5.6946119921991,
          5.6946119921991,
          5.6946119921991,
          11.425399381574735,
          11.425399381574735,
          11.425399381574735,
          10.382969143056442,
          10.382969143056442,
          10.382969143056442,
          11.159286216558442,
          11.159286216558442,
          11.159286216558442,
          11.443833739228879,
          11.443833739228879,
          11.443833739228879,
          11.307186235474362,
          11.307186235474362,
          11.307186235474362,
          9.133266093021518,
          9.133266093021518,
          9.133266093021518,
          6.291953965291441,
          6.291953965291441,
          6.291953965291441,
          null,
          null,
          null
         ],
         "yaxis": "y"
        },
        {
         "hovertemplate": "indicator_id=Industry_growth<br>Year-Month=%{x}<br>value=%{y}<extra></extra>",
         "legendgroup": "Industry_growth",
         "line": {
          "color": "#19d3f3",
          "dash": "solid"
         },
         "marker": {
          "symbol": "circle"
         },
         "mode": "lines",
         "name": "Industry_growth",
         "showlegend": true,
         "type": "scattergl",
         "visible": "legendonly",
         "x": [
          "1995-03",
          "1995-06",
          "1995-09",
          "1995-12",
          "1996-03",
          "1996-06",
          "1996-09",
          "1996-12",
          "1997-03",
          "1997-06",
          "1997-09",
          "1997-12",
          "1998-03",
          "1998-06",
          "1998-09",
          "1998-12",
          "1999-03",
          "1999-06",
          "1999-09",
          "1999-12",
          "2000-01",
          "2000-02",
          "2000-03",
          "2000-04",
          "2000-05",
          "2000-06",
          "2000-07",
          "2000-08",
          "2000-09",
          "2000-10",
          "2000-11",
          "2000-12",
          "2001-01",
          "2001-02",
          "2001-03",
          "2001-04",
          "2001-05",
          "2001-06",
          "2001-07",
          "2001-08",
          "2001-09",
          "2001-10",
          "2001-11",
          "2001-12",
          "2002-01",
          "2002-02",
          "2002-03",
          "2002-04",
          "2002-05",
          "2002-06",
          "2002-07",
          "2002-08",
          "2002-09",
          "2002-10",
          "2002-11",
          "2002-12",
          "2003-01",
          "2003-02",
          "2003-03",
          "2003-04",
          "2003-05",
          "2003-06",
          "2003-07",
          "2003-08",
          "2003-09",
          "2003-10",
          "2003-11",
          "2003-12",
          "2004-01",
          "2004-02",
          "2004-03",
          "2004-04",
          "2004-05",
          "2004-06",
          "2004-07",
          "2004-08",
          "2004-09",
          "2004-10",
          "2004-11",
          "2004-12",
          "2005-01",
          "2005-02",
          "2005-03",
          "2005-04",
          "2005-05",
          "2005-06",
          "2005-07",
          "2005-08",
          "2005-09",
          "2005-10",
          "2005-11",
          "2005-12",
          "2006-01",
          "2006-02",
          "2006-03",
          "2006-04",
          "2006-05",
          "2006-06",
          "2006-07",
          "2006-08",
          "2006-09",
          "2006-10",
          "2006-11",
          "2006-12",
          "2007-01",
          "2007-02",
          "2007-03",
          "2007-04",
          "2007-05",
          "2007-06",
          "2007-07",
          "2007-08",
          "2007-09",
          "2007-10",
          "2007-11",
          "2007-12",
          "2008-01",
          "2008-02",
          "2008-03",
          "2008-04",
          "2008-05",
          "2008-06",
          "2008-07",
          "2008-08",
          "2008-09",
          "2008-10",
          "2008-11",
          "2008-12",
          "2009-01",
          "2009-02",
          "2009-03",
          "2009-04",
          "2009-05",
          "2009-06",
          "2009-07",
          "2009-08",
          "2009-09",
          "2009-10",
          "2009-11",
          "2009-12",
          "2010-01",
          "2010-02",
          "2010-03",
          "2010-04",
          "2010-05",
          "2010-06",
          "2010-07",
          "2010-08",
          "2010-09",
          "2010-10",
          "2010-11",
          "2010-12",
          "2011-01",
          "2011-02",
          "2011-03",
          "2011-04",
          "2011-05",
          "2011-06",
          "2011-07",
          "2011-08",
          "2011-09",
          "2011-10",
          "2011-11",
          "2011-12",
          "2012-01",
          "2012-02",
          "2012-03",
          "2012-04",
          "2012-05",
          "2012-06",
          "2012-07",
          "2012-08",
          "2012-09",
          "2012-10",
          "2012-11",
          "2012-12",
          "2013-01",
          "2013-02",
          "2013-03",
          "2013-04",
          "2013-05",
          "2013-06",
          "2013-07",
          "2013-08",
          "2013-09",
          "2013-10",
          "2013-11",
          "2013-12",
          "2014-01",
          "2014-02",
          "2014-03",
          "2014-04",
          "2014-05",
          "2014-06",
          "2014-07",
          "2014-08",
          "2014-09",
          "2014-10",
          "2014-11",
          "2014-12",
          "2015-01",
          "2015-02",
          "2015-03",
          "2015-04",
          "2015-05",
          "2015-06",
          "2015-07",
          "2015-08",
          "2015-09",
          "2015-10",
          "2015-11",
          "2015-12",
          "2016-01",
          "2016-02",
          "2016-03",
          "2016-04",
          "2016-05",
          "2016-06",
          "2016-07",
          "2016-08",
          "2016-09",
          "2016-10",
          "2016-11",
          "2016-12",
          "2017-01",
          "2017-02",
          "2017-03",
          "2017-04",
          "2017-05",
          "2017-06",
          "2017-07",
          "2017-08",
          "2017-09",
          "2017-10",
          "2017-11",
          "2017-12",
          "2018-01",
          "2018-02",
          "2018-03",
          "2018-04",
          "2018-05",
          "2018-06",
          "2018-07",
          "2018-08",
          "2018-09",
          "2018-10",
          "2018-11",
          "2018-12",
          "2019-01",
          "2019-02",
          "2019-03",
          "2019-04",
          "2019-05",
          "2019-06",
          "2019-07",
          "2019-08",
          "2019-09",
          "2019-10",
          "2019-11",
          "2019-12",
          "2020-01",
          "2020-02",
          "2020-03",
          "2020-04",
          "2020-05",
          "2020-06",
          "2020-07",
          "2020-08",
          "2020-09",
          "2020-10",
          "2020-11",
          "2020-12",
          "2021-01",
          "2021-02",
          "2021-03",
          "2021-04",
          "2021-05",
          "2021-06",
          "2021-07",
          "2021-08",
          "2021-09",
          "2021-10",
          "2021-11",
          "2021-12",
          "2022-01",
          "2022-02",
          "2022-03",
          "2022-04",
          "2022-05",
          "2022-06",
          "2022-07",
          "2022-08",
          "2022-09",
          "2022-10",
          "2022-11",
          "2022-12",
          "2023-01",
          "2023-02",
          "2023-03",
          "2023-04",
          "2023-05",
          "2023-06",
          "2023-07",
          "2023-08",
          "2023-09",
          "2023-10",
          "2023-11",
          "2023-12"
         ],
         "xaxis": "x",
         "y": [
          null,
          null,
          null,
          null,
          null,
          null,
          null,
          null,
          null,
          null,
          null,
          null,
          null,
          null,
          null,
          null,
          null,
          null,
          null,
          null,
          null,
          null,
          null,
          null,
          null,
          null,
          null,
          null,
          null,
          null,
          null,
          null,
          null,
          -1.3452914798206317,
          0.7575757575757569,
          0.4511278195488577,
          0.14970059880241582,
          -0.1494768310911887,
          -1.7964071856287456,
          2.1341463414634276,
          -1.0447761194029903,
          0.6033182503770718,
          0.7496251874062887,
          0.14880952380951218,
          -2.823179791976216,
          2.2935779816513735,
          -0.5979073243647326,
          0.9022556390977376,
          0.14903129657228842,
          0,
          2.2321428571428603,
          -2.183406113537123,
          2.2321428571428603,
          1.6011644832605532,
          1.5759312320916985,
          -0.7052186177715081,
          -1.7045454545454586,
          -0.7225433526011571,
          -0.29112081513829047,
          2.481751824817513,
          -2.1367521367521403,
          1.1644832605531175,
          0.14388489208632116,
          2.155172413793105,
          0.42194092827005925,
          0.5602240896358524,
          1.392757660167132,
          2.335164835164849,
          -0.13422818791946067,
          3.0913978494623517,
          -0.7822685788787642,
          1.4454664914586246,
          -0.6476683937823857,
          -0.2607561929595881,
          1.5686274509803866,
          0.12870012870012104,
          -0.3856041131105381,
          1.0322580645161228,
          0.12771392081738497,
          -1.0204081632653184,
          -0.3865979381443285,
          0,
          0.1293661060802087,
          2.067183462532296,
          -1.2658227848101222,
          1.6666666666666607,
          0.12610340479193294,
          1.0075566750629594,
          0.24937655860348684,
          0.995024875621886,
          1.4778325123152802,
          -0.12135922330097637,
          1.9441069258809396,
          -1.6686531585220599,
          1.8181818181818077,
          -1.3095238095238049,
          4.221954161640529,
          -0.3472222222222321,
          -0.11614401858303092,
          -0.34883720930232176,
          2.2170361726954413,
          -0.45662100456620447,
          2.064220183486243,
          1.2359550561797716,
          4.328523862375144,
          -0.42553191489361764,
          1.0683760683760646,
          -1.37420718816067,
          0.5359056806002238,
          0,
          1.3859275053304865,
          -1.577287066246058,
          0.3205128205128416,
          1.2779552715654896,
          0.630914826498441,
          1.5673981191222541,
          0,
          1.2345679012345734,
          -3.760162601626016,
          2.11193241816261,
          -1.2409513960703222,
          -1.0471204188481686,
          -2.857142857142858,
          -2.178649237472763,
          0.7795100222717233,
          -2.6519337016574607,
          -3.518728717366626,
          -2.705882352941169,
          -5.320435308343418,
          0.3831417624521105,
          1.781170483460559,
          -1.9999999999999907,
          -0.12755102040817867,
          3.065134099616862,
          -2.354399008674113,
          3.2994923857868175,
          0.12285012285011554,
          1.1042944785276232,
          -1.5776699029126373,
          1.9728729963008673,
          -0.846432889963733,
          -0.12195121951218413,
          3.5409035409035283,
          1.1792452830188704,
          -1.1655011655011704,
          2.2405660377358583,
          0.46136101499423265,
          2.296211251435132,
          1.9079685746352437,
          0,
          -0.5506607929515406,
          -1.3289036544850585,
          3.4792368125701634,
          -1.3015184381778733,
          -0.4395604395604491,
          0.44150110375276164,
          2.0879120879121027,
          -0.753498385360607,
          -1.5184381778741929,
          0.7709251101321701,
          -0.21857923497268228,
          0.657174151150075,
          2.8291621327529937,
          -1.2698412698412764,
          -1.1789924973204635,
          1.193058568329719,
          -0.9646302250803762,
          -0.10822510822511289,
          0.21668472372697867,
          -0.216216216216214,
          0.10834236186350044,
          -2.922077922077926,
          0.557413600891854,
          -1.55210643015522,
          -0.7882882882882969,
          1.2485811577752637,
          -2.0179372197309364,
          1.4874141876430214,
          -0.9019165727170209,
          1.8202502844141044,
          0.5586592178770999,
          0.7777777777777883,
          2.2050716648291058,
          1.0787486515641875,
          -1.9210245464247544,
          1.8498367791077053,
          -0.42735042735041473,
          1.3948497854077146,
          -2.0105820105820182,
          1.8358531317494542,
          1.3785790031813239,
          0.10460251046024993,
          -1.0449320794148398,
          0.7391763463569179,
          -0.20964360587002462,
          0.6302521008403339,
          1.3569937369519725,
          -0.3089598352214229,
          0.723140495867769,
          1.4358974358974486,
          -1.213346814964611,
          1.1258955987717423,
          0.6072874493927127,
          0.9054325955734299,
          -0.3988035892322994,
          0.4004004004003914,
          2.6919242273180544,
          -2.038834951456303,
          -0.8919722497522375,
          2.400000000000002,
          -2.44140625,
          -0.7007007007007071,
          3.0241935483870996,
          1.9569471624266255,
          -1.3435700575815779,
          -0.09727626459143934,
          -1.8500486854917342,
          3.571428571428581,
          -2.6819923371647625,
          2.3622047244094446,
          -1.057692307692304,
          1.263362487852282,
          0.2879078694817627,
          -0.8612440191387627,
          3.2818532818532864,
          0.8411214953271129,
          0,
          2.5023169601482653,
          2.079566003616651,
          -3.8086802480070903,
          -0.7366482504604033,
          2.782931354359919,
          0.4512635379061436,
          -1.3477088948787075,
          2.823315118397085,
          0.7971656333038091,
          -0.08787346221440506,
          -2.1987686895338587,
          1.1690647482014427,
          -1.7777777777777781,
          3.167420814479649,
          1.7543859649122862,
          -0.4310344827586188,
          -2.164502164502169,
          1.0619469026548645,
          -1.0507880910682998,
          1.2389380530973604,
          -0.08741258741259417,
          -1.049868766404205,
          0.17683465959328348,
          0.3530450132391838,
          1.1433597185576128,
          2.4347826086956514,
          -4.58404074702885,
          -0.1779359430605032,
          0.35650623885916666,
          0.1776198934280604,
          0,
          -1.5957446808510634,
          -0.45045045045044585,
          1.7194570135746767,
          1.1565836298932375,
          -12.137203166226907,
          -24.124124124124148,
          18.20580474934037,
          13.281250000000021,
          5.320197044334973,
          2.8999064546304965,
          1.2727272727272698,
          2.7827648114901127,
          -0.8733624454148492,
          0.2643171806167466,
          -1.4059753954305698,
          -1.2477718360071388,
          2.707581227436817,
          2.0210896309314608,
          -3.7898363479758723,
          0.1790510295434311,
          1.3404825737265424,
          -2.733686067019403,
          -2.7198549410698103,
          0.8387698042870539,
          5.822550831792972,
          -3.056768558951961,
          3.7837837837837895,
          -3.211805555555558,
          1.7937219730941756,
          -0.7929515418502286,
          1.4209591474245276,
          1.9264448336252293,
          -0.5154639175257825,
          0.6908462867011966,
          0.08576329331047017,
          -3.513281919451594,
          3.1083481349911235,
          0.602928509905265,
          -3.253424657534243,
          0.7964601769911539,
          1.9315188762071944,
          -1.464254952627031,
          0.34965034965033226,
          1.4808362369338024,
          -2.832618025751066,
          -0.17667844522968323,
          -1.2389380530973493,
          2.77777777777779,
          -1.3949433304272119,
          0
         ],
         "yaxis": "y"
        }
       ],
       "layout": {
        "legend": {
         "title": {
          "text": "indicator_id"
         },
         "tracegroupgap": 0
        },
        "template": {
         "data": {
          "bar": [
           {
            "error_x": {
             "color": "#2a3f5f"
            },
            "error_y": {
             "color": "#2a3f5f"
            },
            "marker": {
             "line": {
              "color": "#E5ECF6",
              "width": 0.5
             },
             "pattern": {
              "fillmode": "overlay",
              "size": 10,
              "solidity": 0.2
             }
            },
            "type": "bar"
           }
          ],
          "barpolar": [
           {
            "marker": {
             "line": {
              "color": "#E5ECF6",
              "width": 0.5
             },
             "pattern": {
              "fillmode": "overlay",
              "size": 10,
              "solidity": 0.2
             }
            },
            "type": "barpolar"
           }
          ],
          "carpet": [
           {
            "aaxis": {
             "endlinecolor": "#2a3f5f",
             "gridcolor": "white",
             "linecolor": "white",
             "minorgridcolor": "white",
             "startlinecolor": "#2a3f5f"
            },
            "baxis": {
             "endlinecolor": "#2a3f5f",
             "gridcolor": "white",
             "linecolor": "white",
             "minorgridcolor": "white",
             "startlinecolor": "#2a3f5f"
            },
            "type": "carpet"
           }
          ],
          "choropleth": [
           {
            "colorbar": {
             "outlinewidth": 0,
             "ticks": ""
            },
            "type": "choropleth"
           }
          ],
          "contour": [
           {
            "colorbar": {
             "outlinewidth": 0,
             "ticks": ""
            },
            "colorscale": [
             [
              0,
              "#0d0887"
             ],
             [
              0.1111111111111111,
              "#46039f"
             ],
             [
              0.2222222222222222,
              "#7201a8"
             ],
             [
              0.3333333333333333,
              "#9c179e"
             ],
             [
              0.4444444444444444,
              "#bd3786"
             ],
             [
              0.5555555555555556,
              "#d8576b"
             ],
             [
              0.6666666666666666,
              "#ed7953"
             ],
             [
              0.7777777777777778,
              "#fb9f3a"
             ],
             [
              0.8888888888888888,
              "#fdca26"
             ],
             [
              1,
              "#f0f921"
             ]
            ],
            "type": "contour"
           }
          ],
          "contourcarpet": [
           {
            "colorbar": {
             "outlinewidth": 0,
             "ticks": ""
            },
            "type": "contourcarpet"
           }
          ],
          "heatmap": [
           {
            "colorbar": {
             "outlinewidth": 0,
             "ticks": ""
            },
            "colorscale": [
             [
              0,
              "#0d0887"
             ],
             [
              0.1111111111111111,
              "#46039f"
             ],
             [
              0.2222222222222222,
              "#7201a8"
             ],
             [
              0.3333333333333333,
              "#9c179e"
             ],
             [
              0.4444444444444444,
              "#bd3786"
             ],
             [
              0.5555555555555556,
              "#d8576b"
             ],
             [
              0.6666666666666666,
              "#ed7953"
             ],
             [
              0.7777777777777778,
              "#fb9f3a"
             ],
             [
              0.8888888888888888,
              "#fdca26"
             ],
             [
              1,
              "#f0f921"
             ]
            ],
            "type": "heatmap"
           }
          ],
          "heatmapgl": [
           {
            "colorbar": {
             "outlinewidth": 0,
             "ticks": ""
            },
            "colorscale": [
             [
              0,
              "#0d0887"
             ],
             [
              0.1111111111111111,
              "#46039f"
             ],
             [
              0.2222222222222222,
              "#7201a8"
             ],
             [
              0.3333333333333333,
              "#9c179e"
             ],
             [
              0.4444444444444444,
              "#bd3786"
             ],
             [
              0.5555555555555556,
              "#d8576b"
             ],
             [
              0.6666666666666666,
              "#ed7953"
             ],
             [
              0.7777777777777778,
              "#fb9f3a"
             ],
             [
              0.8888888888888888,
              "#fdca26"
             ],
             [
              1,
              "#f0f921"
             ]
            ],
            "type": "heatmapgl"
           }
          ],
          "histogram": [
           {
            "marker": {
             "pattern": {
              "fillmode": "overlay",
              "size": 10,
              "solidity": 0.2
             }
            },
            "type": "histogram"
           }
          ],
          "histogram2d": [
           {
            "colorbar": {
             "outlinewidth": 0,
             "ticks": ""
            },
            "colorscale": [
             [
              0,
              "#0d0887"
             ],
             [
              0.1111111111111111,
              "#46039f"
             ],
             [
              0.2222222222222222,
              "#7201a8"
             ],
             [
              0.3333333333333333,
              "#9c179e"
             ],
             [
              0.4444444444444444,
              "#bd3786"
             ],
             [
              0.5555555555555556,
              "#d8576b"
             ],
             [
              0.6666666666666666,
              "#ed7953"
             ],
             [
              0.7777777777777778,
              "#fb9f3a"
             ],
             [
              0.8888888888888888,
              "#fdca26"
             ],
             [
              1,
              "#f0f921"
             ]
            ],
            "type": "histogram2d"
           }
          ],
          "histogram2dcontour": [
           {
            "colorbar": {
             "outlinewidth": 0,
             "ticks": ""
            },
            "colorscale": [
             [
              0,
              "#0d0887"
             ],
             [
              0.1111111111111111,
              "#46039f"
             ],
             [
              0.2222222222222222,
              "#7201a8"
             ],
             [
              0.3333333333333333,
              "#9c179e"
             ],
             [
              0.4444444444444444,
              "#bd3786"
             ],
             [
              0.5555555555555556,
              "#d8576b"
             ],
             [
              0.6666666666666666,
              "#ed7953"
             ],
             [
              0.7777777777777778,
              "#fb9f3a"
             ],
             [
              0.8888888888888888,
              "#fdca26"
             ],
             [
              1,
              "#f0f921"
             ]
            ],
            "type": "histogram2dcontour"
           }
          ],
          "mesh3d": [
           {
            "colorbar": {
             "outlinewidth": 0,
             "ticks": ""
            },
            "type": "mesh3d"
           }
          ],
          "parcoords": [
           {
            "line": {
             "colorbar": {
              "outlinewidth": 0,
              "ticks": ""
             }
            },
            "type": "parcoords"
           }
          ],
          "pie": [
           {
            "automargin": true,
            "type": "pie"
           }
          ],
          "scatter": [
           {
            "fillpattern": {
             "fillmode": "overlay",
             "size": 10,
             "solidity": 0.2
            },
            "type": "scatter"
           }
          ],
          "scatter3d": [
           {
            "line": {
             "colorbar": {
              "outlinewidth": 0,
              "ticks": ""
             }
            },
            "marker": {
             "colorbar": {
              "outlinewidth": 0,
              "ticks": ""
             }
            },
            "type": "scatter3d"
           }
          ],
          "scattercarpet": [
           {
            "marker": {
             "colorbar": {
              "outlinewidth": 0,
              "ticks": ""
             }
            },
            "type": "scattercarpet"
           }
          ],
          "scattergeo": [
           {
            "marker": {
             "colorbar": {
              "outlinewidth": 0,
              "ticks": ""
             }
            },
            "type": "scattergeo"
           }
          ],
          "scattergl": [
           {
            "marker": {
             "colorbar": {
              "outlinewidth": 0,
              "ticks": ""
             }
            },
            "type": "scattergl"
           }
          ],
          "scattermapbox": [
           {
            "marker": {
             "colorbar": {
              "outlinewidth": 0,
              "ticks": ""
             }
            },
            "type": "scattermapbox"
           }
          ],
          "scatterpolar": [
           {
            "marker": {
             "colorbar": {
              "outlinewidth": 0,
              "ticks": ""
             }
            },
            "type": "scatterpolar"
           }
          ],
          "scatterpolargl": [
           {
            "marker": {
             "colorbar": {
              "outlinewidth": 0,
              "ticks": ""
             }
            },
            "type": "scatterpolargl"
           }
          ],
          "scatterternary": [
           {
            "marker": {
             "colorbar": {
              "outlinewidth": 0,
              "ticks": ""
             }
            },
            "type": "scatterternary"
           }
          ],
          "surface": [
           {
            "colorbar": {
             "outlinewidth": 0,
             "ticks": ""
            },
            "colorscale": [
             [
              0,
              "#0d0887"
             ],
             [
              0.1111111111111111,
              "#46039f"
             ],
             [
              0.2222222222222222,
              "#7201a8"
             ],
             [
              0.3333333333333333,
              "#9c179e"
             ],
             [
              0.4444444444444444,
              "#bd3786"
             ],
             [
              0.5555555555555556,
              "#d8576b"
             ],
             [
              0.6666666666666666,
              "#ed7953"
             ],
             [
              0.7777777777777778,
              "#fb9f3a"
             ],
             [
              0.8888888888888888,
              "#fdca26"
             ],
             [
              1,
              "#f0f921"
             ]
            ],
            "type": "surface"
           }
          ],
          "table": [
           {
            "cells": {
             "fill": {
              "color": "#EBF0F8"
             },
             "line": {
              "color": "white"
             }
            },
            "header": {
             "fill": {
              "color": "#C8D4E3"
             },
             "line": {
              "color": "white"
             }
            },
            "type": "table"
           }
          ]
         },
         "layout": {
          "annotationdefaults": {
           "arrowcolor": "#2a3f5f",
           "arrowhead": 0,
           "arrowwidth": 1
          },
          "autotypenumbers": "strict",
          "coloraxis": {
           "colorbar": {
            "outlinewidth": 0,
            "ticks": ""
           }
          },
          "colorscale": {
           "diverging": [
            [
             0,
             "#8e0152"
            ],
            [
             0.1,
             "#c51b7d"
            ],
            [
             0.2,
             "#de77ae"
            ],
            [
             0.3,
             "#f1b6da"
            ],
            [
             0.4,
             "#fde0ef"
            ],
            [
             0.5,
             "#f7f7f7"
            ],
            [
             0.6,
             "#e6f5d0"
            ],
            [
             0.7,
             "#b8e186"
            ],
            [
             0.8,
             "#7fbc41"
            ],
            [
             0.9,
             "#4d9221"
            ],
            [
             1,
             "#276419"
            ]
           ],
           "sequential": [
            [
             0,
             "#0d0887"
            ],
            [
             0.1111111111111111,
             "#46039f"
            ],
            [
             0.2222222222222222,
             "#7201a8"
            ],
            [
             0.3333333333333333,
             "#9c179e"
            ],
            [
             0.4444444444444444,
             "#bd3786"
            ],
            [
             0.5555555555555556,
             "#d8576b"
            ],
            [
             0.6666666666666666,
             "#ed7953"
            ],
            [
             0.7777777777777778,
             "#fb9f3a"
            ],
            [
             0.8888888888888888,
             "#fdca26"
            ],
            [
             1,
             "#f0f921"
            ]
           ],
           "sequentialminus": [
            [
             0,
             "#0d0887"
            ],
            [
             0.1111111111111111,
             "#46039f"
            ],
            [
             0.2222222222222222,
             "#7201a8"
            ],
            [
             0.3333333333333333,
             "#9c179e"
            ],
            [
             0.4444444444444444,
             "#bd3786"
            ],
            [
             0.5555555555555556,
             "#d8576b"
            ],
            [
             0.6666666666666666,
             "#ed7953"
            ],
            [
             0.7777777777777778,
             "#fb9f3a"
            ],
            [
             0.8888888888888888,
             "#fdca26"
            ],
            [
             1,
             "#f0f921"
            ]
           ]
          },
          "colorway": [
           "#636efa",
           "#EF553B",
           "#00cc96",
           "#ab63fa",
           "#FFA15A",
           "#19d3f3",
           "#FF6692",
           "#B6E880",
           "#FF97FF",
           "#FECB52"
          ],
          "font": {
           "color": "#2a3f5f"
          },
          "geo": {
           "bgcolor": "white",
           "lakecolor": "white",
           "landcolor": "#E5ECF6",
           "showlakes": true,
           "showland": true,
           "subunitcolor": "white"
          },
          "hoverlabel": {
           "align": "left"
          },
          "hovermode": "closest",
          "mapbox": {
           "style": "light"
          },
          "paper_bgcolor": "white",
          "plot_bgcolor": "#E5ECF6",
          "polar": {
           "angularaxis": {
            "gridcolor": "white",
            "linecolor": "white",
            "ticks": ""
           },
           "bgcolor": "#E5ECF6",
           "radialaxis": {
            "gridcolor": "white",
            "linecolor": "white",
            "ticks": ""
           }
          },
          "scene": {
           "xaxis": {
            "backgroundcolor": "#E5ECF6",
            "gridcolor": "white",
            "gridwidth": 2,
            "linecolor": "white",
            "showbackground": true,
            "ticks": "",
            "zerolinecolor": "white"
           },
           "yaxis": {
            "backgroundcolor": "#E5ECF6",
            "gridcolor": "white",
            "gridwidth": 2,
            "linecolor": "white",
            "showbackground": true,
            "ticks": "",
            "zerolinecolor": "white"
           },
           "zaxis": {
            "backgroundcolor": "#E5ECF6",
            "gridcolor": "white",
            "gridwidth": 2,
            "linecolor": "white",
            "showbackground": true,
            "ticks": "",
            "zerolinecolor": "white"
           }
          },
          "shapedefaults": {
           "line": {
            "color": "#2a3f5f"
           }
          },
          "ternary": {
           "aaxis": {
            "gridcolor": "white",
            "linecolor": "white",
            "ticks": ""
           },
           "baxis": {
            "gridcolor": "white",
            "linecolor": "white",
            "ticks": ""
           },
           "bgcolor": "#E5ECF6",
           "caxis": {
            "gridcolor": "white",
            "linecolor": "white",
            "ticks": ""
           }
          },
          "title": {
           "x": 0.05
          },
          "xaxis": {
           "automargin": true,
           "gridcolor": "white",
           "linecolor": "white",
           "ticks": "",
           "title": {
            "standoff": 15
           },
           "zerolinecolor": "white",
           "zerolinewidth": 2
          },
          "yaxis": {
           "automargin": true,
           "gridcolor": "white",
           "linecolor": "white",
           "ticks": "",
           "title": {
            "standoff": 15
           },
           "zerolinecolor": "white",
           "zerolinewidth": 2
          }
         }
        },
        "title": {
         "text": "Growth Time Series Visualization"
        },
        "updatemenus": [
         {
          "active": 0,
          "buttons": [
           {
            "args": [
             {
              "visible": true
             },
             {
              "title": "Growth Time Series Visualization"
             }
            ],
            "label": "Show All",
            "method": "update"
           },
           {
            "args": [
             {
              "visible": [
               "legendonly",
               "legendonly",
               "legendonly",
               "legendonly",
               "legendonly",
               "legendonly",
               "legendonly"
              ]
             },
             {
              "title": "Growth Time Series Visualization"
             }
            ],
            "label": "Hide All",
            "method": "update"
           }
          ]
         }
        ],
        "xaxis": {
         "anchor": "y",
         "domain": [
          0,
          1
         ],
         "title": {
          "text": "Year-Month"
         }
        },
        "yaxis": {
         "anchor": "x",
         "domain": [
          0,
          1
         ],
         "title": {
          "text": "value"
         }
        }
       }
      },
      "text/html": [
       "<div>                            <div id=\"f8cef3cd-984b-439b-b203-5833f27c0d96\" class=\"plotly-graph-div\" style=\"height:525px; width:100%;\"></div>            <script type=\"text/javascript\">                require([\"plotly\"], function(Plotly) {                    window.PLOTLYENV=window.PLOTLYENV || {};                                    if (document.getElementById(\"f8cef3cd-984b-439b-b203-5833f27c0d96\")) {                    Plotly.newPlot(                        \"f8cef3cd-984b-439b-b203-5833f27c0d96\",                        [{\"hovertemplate\":\"indicator_id=EUR_CZK<br>Year-Month=%{x}<br>value=%{y}<extra></extra>\",\"legendgroup\":\"EUR_CZK\",\"line\":{\"color\":\"#636efa\",\"dash\":\"solid\"},\"marker\":{\"symbol\":\"circle\"},\"mode\":\"lines\",\"name\":\"EUR_CZK\",\"showlegend\":true,\"x\":[\"1995-03\",\"1995-06\",\"1995-09\",\"1995-12\",\"1996-03\",\"1996-06\",\"1996-09\",\"1996-12\",\"1997-03\",\"1997-06\",\"1997-09\",\"1997-12\",\"1998-03\",\"1998-06\",\"1998-09\",\"1998-12\",\"1999-03\",\"1999-06\",\"1999-09\",\"1999-12\",\"2000-01\",\"2000-02\",\"2000-03\",\"2000-04\",\"2000-05\",\"2000-06\",\"2000-07\",\"2000-08\",\"2000-09\",\"2000-10\",\"2000-11\",\"2000-12\",\"2001-01\",\"2001-02\",\"2001-03\",\"2001-04\",\"2001-05\",\"2001-06\",\"2001-07\",\"2001-08\",\"2001-09\",\"2001-10\",\"2001-11\",\"2001-12\",\"2002-01\",\"2002-02\",\"2002-03\",\"2002-04\",\"2002-05\",\"2002-06\",\"2002-07\",\"2002-08\",\"2002-09\",\"2002-10\",\"2002-11\",\"2002-12\",\"2003-01\",\"2003-02\",\"2003-03\",\"2003-04\",\"2003-05\",\"2003-06\",\"2003-07\",\"2003-08\",\"2003-09\",\"2003-10\",\"2003-11\",\"2003-12\",\"2004-01\",\"2004-02\",\"2004-03\",\"2004-04\",\"2004-05\",\"2004-06\",\"2004-07\",\"2004-08\",\"2004-09\",\"2004-10\",\"2004-11\",\"2004-12\",\"2005-01\",\"2005-02\",\"2005-03\",\"2005-04\",\"2005-05\",\"2005-06\",\"2005-07\",\"2005-08\",\"2005-09\",\"2005-10\",\"2005-11\",\"2005-12\",\"2006-01\",\"2006-02\",\"2006-03\",\"2006-04\",\"2006-05\",\"2006-06\",\"2006-07\",\"2006-08\",\"2006-09\",\"2006-10\",\"2006-11\",\"2006-12\",\"2007-01\",\"2007-02\",\"2007-03\",\"2007-04\",\"2007-05\",\"2007-06\",\"2007-07\",\"2007-08\",\"2007-09\",\"2007-10\",\"2007-11\",\"2007-12\",\"2008-01\",\"2008-02\",\"2008-03\",\"2008-04\",\"2008-05\",\"2008-06\",\"2008-07\",\"2008-08\",\"2008-09\",\"2008-10\",\"2008-11\",\"2008-12\",\"2009-01\",\"2009-02\",\"2009-03\",\"2009-04\",\"2009-05\",\"2009-06\",\"2009-07\",\"2009-08\",\"2009-09\",\"2009-10\",\"2009-11\",\"2009-12\",\"2010-01\",\"2010-02\",\"2010-03\",\"2010-04\",\"2010-05\",\"2010-06\",\"2010-07\",\"2010-08\",\"2010-09\",\"2010-10\",\"2010-11\",\"2010-12\",\"2011-01\",\"2011-02\",\"2011-03\",\"2011-04\",\"2011-05\",\"2011-06\",\"2011-07\",\"2011-08\",\"2011-09\",\"2011-10\",\"2011-11\",\"2011-12\",\"2012-01\",\"2012-02\",\"2012-03\",\"2012-04\",\"2012-05\",\"2012-06\",\"2012-07\",\"2012-08\",\"2012-09\",\"2012-10\",\"2012-11\",\"2012-12\",\"2013-01\",\"2013-02\",\"2013-03\",\"2013-04\",\"2013-05\",\"2013-06\",\"2013-07\",\"2013-08\",\"2013-09\",\"2013-10\",\"2013-11\",\"2013-12\",\"2014-01\",\"2014-02\",\"2014-03\",\"2014-04\",\"2014-05\",\"2014-06\",\"2014-07\",\"2014-08\",\"2014-09\",\"2014-10\",\"2014-11\",\"2014-12\",\"2015-01\",\"2015-02\",\"2015-03\",\"2015-04\",\"2015-05\",\"2015-06\",\"2015-07\",\"2015-08\",\"2015-09\",\"2015-10\",\"2015-11\",\"2015-12\",\"2016-01\",\"2016-02\",\"2016-03\",\"2016-04\",\"2016-05\",\"2016-06\",\"2016-07\",\"2016-08\",\"2016-09\",\"2016-10\",\"2016-11\",\"2016-12\",\"2017-01\",\"2017-02\",\"2017-03\",\"2017-04\",\"2017-05\",\"2017-06\",\"2017-07\",\"2017-08\",\"2017-09\",\"2017-10\",\"2017-11\",\"2017-12\",\"2018-01\",\"2018-02\",\"2018-03\",\"2018-04\",\"2018-05\",\"2018-06\",\"2018-07\",\"2018-08\",\"2018-09\",\"2018-10\",\"2018-11\",\"2018-12\",\"2019-01\",\"2019-02\",\"2019-03\",\"2019-04\",\"2019-05\",\"2019-06\",\"2019-07\",\"2019-08\",\"2019-09\",\"2019-10\",\"2019-11\",\"2019-12\",\"2020-01\",\"2020-02\",\"2020-03\",\"2020-04\",\"2020-05\",\"2020-06\",\"2020-07\",\"2020-08\",\"2020-09\",\"2020-10\",\"2020-11\",\"2020-12\",\"2021-01\",\"2021-02\",\"2021-03\",\"2021-04\",\"2021-05\",\"2021-06\",\"2021-07\",\"2021-08\",\"2021-09\",\"2021-10\",\"2021-11\",\"2021-12\",\"2022-01\",\"2022-02\",\"2022-03\",\"2022-04\",\"2022-05\",\"2022-06\",\"2022-07\",\"2022-08\",\"2022-09\",\"2022-10\",\"2022-11\",\"2022-12\",\"2023-01\",\"2023-02\",\"2023-03\",\"2023-04\",\"2023-05\",\"2023-06\",\"2023-07\",\"2023-08\",\"2023-09\",\"2023-10\",\"2023-11\",\"2023-12\"],\"xaxis\":\"x\",\"y\":[null,null,null,null,null,null,null,null,null,null,null,null,37.664,36.579,35.321,35.124,37.156,37.607,36.428,36.34,35.7706923,35.7706923,35.7706923,36.2892742,36.2892742,36.2892742,35.458871,35.458871,35.458871,34.9114516,34.9114516,34.9114516,34.7978906,34.7978906,34.7978906,34.2983871,34.2983871,34.2983871,34.0236774,34.0236774,34.0236774,33.2020635,33.2020635,33.2020635,31.7561111,31.7561111,31.7561111,30.4046774,30.4046774,30.4046774,30.2467692,30.2467692,30.2467692,30.8530323,30.8530323,30.8530323,31.6284921,31.6284921,31.6284921,31.4766129,31.4766129,31.4766129,32.1669848,32.1669848,32.1669848,32.0892623,32.0892623,32.0892623,32.8585937,32.8585937,32.8585937,32.0271875,32.0271875,32.0271875,31.5866349,31.5866349,31.5866349,31.1259524,31.1259524,31.1259524,30.0144444,30.0144444,30.0144444,30.1258462,30.1258462,30.1258462,29.6770635,29.6770635,29.6770635,29.2983064,29.2983064,29.2983064,28.5997692,28.5997692,28.5997692,28.3843548,28.3843548,28.3843548,28.3304839,28.3304839,28.3304839,28.0448387,28.0448387,28.0448387,28.0365625,28.0365625,28.0365625,28.2662097,28.2662097,28.2662097,27.9229032,27.9229032,27.9229032,26.8287302,26.8287302,26.8287302,25.5624603,25.5624603,25.5624603,24.8257143,24.8257143,24.8257143,24.0924242,24.0924242,24.0924242,25.3423771,25.3423771,25.3423771,27.5992857,27.5992857,27.5992857,26.6770968,26.6770968,26.6770968,25.5978906,25.5978906,25.5978906,25.9145161,25.9145161,25.9145161,25.8676984,25.8676984,25.8676984,25.5892969,25.5892969,25.5892969,24.9134127,24.9134127,24.9134127,24.7859524,24.7859524,24.7859524,24.3745313,24.3745313,24.3745313,24.3205469,24.3205469,24.3205469,24.3880159,24.3880159,24.3880159,25.2787097,25.2787097,25.2787097,25.0834615,25.0834615,25.0834615,25.2612097,25.2612097,25.2612097,25.0651613,25.0651613,25.0651613,25.1666667,25.1666667,25.1666667,25.5683333,25.5683333,25.5683333,25.8312097,25.8312097,25.8312097,25.8523077,25.8523077,25.8523077,26.6569355,26.6569355,26.6569355,27.4407143,27.4407143,27.4407143,27.4470161,27.4470161,27.4470161,27.6181818,27.6181818,27.6181818,27.6240984,27.6240984,27.6240984,27.6238095,27.6238095,27.6238095,27.3799194,27.3799194,27.3799194,27.0718125,27.0718125,27.0718125,27.0565323,27.0565323,27.0565323,27.0385484,27.0385484,27.0385484,27.0393846,27.0393846,27.0393846,27.0276984,27.0276984,27.0276984,27.0279032,27.0279032,27.0279032,27.0202308,27.0202308,27.0202308,26.5320492,26.5320492,26.5320492,26.0843548,26.0843548,26.0843548,25.6512097,25.6512097,25.6512097,25.4018254,25.4018254,25.4018254,25.598871,25.598871,25.598871,25.7107511,25.7107511,25.7107511,25.8608564,25.8608564,25.8608564,25.6835823,25.6835823,25.6835823,25.6835397,25.6835397,25.6835397,25.74,25.74,25.74,25.5756667,25.5756667,25.5756667,25.6133333,25.6133333,25.6133333,27.0703333,27.0703333,27.0703333,26.464,26.464,26.464,26.659,26.659,26.659,26.0656667,26.0656667,26.0656667,25.6453333,25.6453333,25.6453333,25.4986667,25.4986667,25.4986667,25.3806667,25.3806667,25.3806667,24.6386667,24.6386667,24.6386667,24.6346667,24.6346667,24.6346667,24.5726667,24.5726667,24.5726667,24.3893333,24.3893333,24.3893333,23.7843333,23.7843333,23.7843333,23.5793333,23.5793333,23.5793333,24.1336667,24.1336667,24.1336667,24.6,24.6,24.6],\"yaxis\":\"y\",\"type\":\"scattergl\",\"visible\":\"legendonly\"},{\"hovertemplate\":\"indicator_id=PRIBOR_12M<br>Year-Month=%{x}<br>value=%{y}<extra></extra>\",\"legendgroup\":\"PRIBOR_12M\",\"line\":{\"color\":\"#EF553B\",\"dash\":\"solid\"},\"marker\":{\"symbol\":\"circle\"},\"mode\":\"lines\",\"name\":\"PRIBOR_12M\",\"showlegend\":true,\"x\":[\"1995-03\",\"1995-06\",\"1995-09\",\"1995-12\",\"1996-03\",\"1996-06\",\"1996-09\",\"1996-12\",\"1997-03\",\"1997-06\",\"1997-09\",\"1997-12\",\"1998-03\",\"1998-06\",\"1998-09\",\"1998-12\",\"1999-03\",\"1999-06\",\"1999-09\",\"1999-12\",\"2000-01\",\"2000-02\",\"2000-03\",\"2000-04\",\"2000-05\",\"2000-06\",\"2000-07\",\"2000-08\",\"2000-09\",\"2000-10\",\"2000-11\",\"2000-12\",\"2001-01\",\"2001-02\",\"2001-03\",\"2001-04\",\"2001-05\",\"2001-06\",\"2001-07\",\"2001-08\",\"2001-09\",\"2001-10\",\"2001-11\",\"2001-12\",\"2002-01\",\"2002-02\",\"2002-03\",\"2002-04\",\"2002-05\",\"2002-06\",\"2002-07\",\"2002-08\",\"2002-09\",\"2002-10\",\"2002-11\",\"2002-12\",\"2003-01\",\"2003-02\",\"2003-03\",\"2003-04\",\"2003-05\",\"2003-06\",\"2003-07\",\"2003-08\",\"2003-09\",\"2003-10\",\"2003-11\",\"2003-12\",\"2004-01\",\"2004-02\",\"2004-03\",\"2004-04\",\"2004-05\",\"2004-06\",\"2004-07\",\"2004-08\",\"2004-09\",\"2004-10\",\"2004-11\",\"2004-12\",\"2005-01\",\"2005-02\",\"2005-03\",\"2005-04\",\"2005-05\",\"2005-06\",\"2005-07\",\"2005-08\",\"2005-09\",\"2005-10\",\"2005-11\",\"2005-12\",\"2006-01\",\"2006-02\",\"2006-03\",\"2006-04\",\"2006-05\",\"2006-06\",\"2006-07\",\"2006-08\",\"2006-09\",\"2006-10\",\"2006-11\",\"2006-12\",\"2007-01\",\"2007-02\",\"2007-03\",\"2007-04\",\"2007-05\",\"2007-06\",\"2007-07\",\"2007-08\",\"2007-09\",\"2007-10\",\"2007-11\",\"2007-12\",\"2008-01\",\"2008-02\",\"2008-03\",\"2008-04\",\"2008-05\",\"2008-06\",\"2008-07\",\"2008-08\",\"2008-09\",\"2008-10\",\"2008-11\",\"2008-12\",\"2009-01\",\"2009-02\",\"2009-03\",\"2009-04\",\"2009-05\",\"2009-06\",\"2009-07\",\"2009-08\",\"2009-09\",\"2009-10\",\"2009-11\",\"2009-12\",\"2010-01\",\"2010-02\",\"2010-03\",\"2010-04\",\"2010-05\",\"2010-06\",\"2010-07\",\"2010-08\",\"2010-09\",\"2010-10\",\"2010-11\",\"2010-12\",\"2011-01\",\"2011-02\",\"2011-03\",\"2011-04\",\"2011-05\",\"2011-06\",\"2011-07\",\"2011-08\",\"2011-09\",\"2011-10\",\"2011-11\",\"2011-12\",\"2012-01\",\"2012-02\",\"2012-03\",\"2012-04\",\"2012-05\",\"2012-06\",\"2012-07\",\"2012-08\",\"2012-09\",\"2012-10\",\"2012-11\",\"2012-12\",\"2013-01\",\"2013-02\",\"2013-03\",\"2013-04\",\"2013-05\",\"2013-06\",\"2013-07\",\"2013-08\",\"2013-09\",\"2013-10\",\"2013-11\",\"2013-12\",\"2014-01\",\"2014-02\",\"2014-03\",\"2014-04\",\"2014-05\",\"2014-06\",\"2014-07\",\"2014-08\",\"2014-09\",\"2014-10\",\"2014-11\",\"2014-12\",\"2015-01\",\"2015-02\",\"2015-03\",\"2015-04\",\"2015-05\",\"2015-06\",\"2015-07\",\"2015-08\",\"2015-09\",\"2015-10\",\"2015-11\",\"2015-12\",\"2016-01\",\"2016-02\",\"2016-03\",\"2016-04\",\"2016-05\",\"2016-06\",\"2016-07\",\"2016-08\",\"2016-09\",\"2016-10\",\"2016-11\",\"2016-12\",\"2017-01\",\"2017-02\",\"2017-03\",\"2017-04\",\"2017-05\",\"2017-06\",\"2017-07\",\"2017-08\",\"2017-09\",\"2017-10\",\"2017-11\",\"2017-12\",\"2018-01\",\"2018-02\",\"2018-03\",\"2018-04\",\"2018-05\",\"2018-06\",\"2018-07\",\"2018-08\",\"2018-09\",\"2018-10\",\"2018-11\",\"2018-12\",\"2019-01\",\"2019-02\",\"2019-03\",\"2019-04\",\"2019-05\",\"2019-06\",\"2019-07\",\"2019-08\",\"2019-09\",\"2019-10\",\"2019-11\",\"2019-12\",\"2020-01\",\"2020-02\",\"2020-03\",\"2020-04\",\"2020-05\",\"2020-06\",\"2020-07\",\"2020-08\",\"2020-09\",\"2020-10\",\"2020-11\",\"2020-12\",\"2021-01\",\"2021-02\",\"2021-03\",\"2021-04\",\"2021-05\",\"2021-06\",\"2021-07\",\"2021-08\",\"2021-09\",\"2021-10\",\"2021-11\",\"2021-12\",\"2022-01\",\"2022-02\",\"2022-03\",\"2022-04\",\"2022-05\",\"2022-06\",\"2022-07\",\"2022-08\",\"2022-09\",\"2022-10\",\"2022-11\",\"2022-12\",\"2023-01\",\"2023-02\",\"2023-03\",\"2023-04\",\"2023-05\",\"2023-06\",\"2023-07\",\"2023-08\",\"2023-09\",\"2023-10\",\"2023-11\",\"2023-12\"],\"xaxis\":\"x\",\"y\":[null,null,null,null,null,null,null,null,null,null,null,null,null,null,null,null,null,null,null,null,null,null,null,null,null,null,null,null,null,null,null,null,null,null,null,null,null,null,null,null,null,null,null,null,null,null,null,null,null,null,null,null,null,null,null,null,null,null,null,null,null,null,null,null,null,null,null,null,null,null,null,null,null,null,null,null,null,null,null,null,2.723809523809524,2.245,2.090909090909091,2.052857142857143,1.8095454545454546,1.7531818181818182,1.8247368421052632,1.873913043478261,1.879047619047619,2.1785,2.6123809523809522,2.5285714285714285,2.398636363636364,2.1704999999999997,2.3178260869565217,2.43,2.4376190476190476,2.553181818181818,2.7926315789473684,2.7456521739130433,2.9365,3.108181818181818,3.0223809523809524,2.8889473684210527,2.8572727272727274,2.8285,2.8113636363636365,2.9155,3.1580952380952385,3.38047619047619,3.5905,3.7034782608695656,3.8242105263157895,3.8313043478260873,3.9877272727272723,4.195555555555555,4.161363636363636,4.105714285714286,4.2355,4.281363636363636,4.284000000000001,4.395238095238095,4.297826086956522,3.912857142857143,3.885,4.284090909090909,4.4526315789473685,4.1579999999999995,3.451904761904762,2.791,2.8363636363636364,2.8452380952380953,2.6626315789473685,2.5954545454545457,2.567272727272727,2.44,2.420952380952381,2.409047619047619,2.3335,2.2014285714285715,2.1015,2.0345,1.9447826086956521,1.9395238095238094,1.8076190476190477,1.7754545454545456,1.7685,1.7795454545454545,1.7809523809523808,1.7899999999999998,1.7895238095238095,1.799090909090909,1.7995238095238095,1.8025000000000002,1.82,1.8335000000000001,1.8395454545454546,1.8022727272727272,1.7673684210526315,1.7386956521739132,1.7290476190476192,1.7315,1.7066666666666666,1.7033333333333331,1.7345454545454544,1.7547619047619047,1.7704545454545455,1.779,1.774761904761905,1.75,1.5425,1.4673913043478262,1.2868421052631578,1.087391304347826,0.911818181818182,0.8788888888888889,0.8595454545454545,0.8295,0.7752380952380953,0.76,0.7571428571428571,0.755,0.7481818181818182,0.7486363636363635,0.7366666666666666,0.7254545454545455,0.6547619047619048,0.6068421052631578,0.5809090909090909,0.553,0.55,0.5476190476190477,0.537,0.53,0.5204347826086957,0.52,0.52,0.5159090909090909,0.51,0.51,0.51,0.507,0.4904545454545454,0.4766666666666667,0.48,0.4799999999999999,0.4786363636363636,0.48142857142857143,0.4695238095238095,0.4576190476190477,0.458,0.45857142857142863,0.4525,0.45000000000000007,0.45000000000000007,0.45000000000000007,0.45,0.45,0.45,0.45,0.45000000000000007,0.45,0.45000000000000007,0.4452380952380952,0.44,0.44000000000000006,0.43999999999999995,0.44722222222222224,0.46,0.46,0.47368421052631576,0.5991304347826086,0.637,0.6936363636363636,0.9076190476190475,0.9605263157894737,0.9809090909090908,1.1085,1.12,1.1205000000000003,1.12,1.1595238095238096,1.3895,1.6665217391304348,1.7873684210526317,1.9565217391304348,2.184090909090909,2.2094444444444443,2.212727272727273,2.1965,2.2004761904761905,2.21,2.318095238095238,2.293,2.2804545454545453,2.22,2.2042857142857146,2.2754545454545454,2.282380952380952,2.2668421052631578,2.274090909090909,2.416,1.9631818181818181,0.9199999999999999,0.5063157894736842,0.42999999999999994,0.42999999999999994,0.43,0.4357142857142857,0.4319047619047619,0.43949999999999995,0.4876190476190476,0.49000000000000005,0.5365,0.56,0.5655,0.6585714285714286,0.7763636363636363,1.0050000000000001,1.3045454545454547,1.520952380952381,2.44,3.497142857142857,3.963181818181818,4.5547619047619055,4.8660000000000005,5.122173913043478,5.74421052631579,6.329545454545454,7.018636363636364,7.5484210526315785,7.482608695652174,7.444761904761905,7.453,7.394761904761904,7.276666666666666,7.247727272727274,7.233499999999999,7.225217391304348,7.208888888888889,7.196190476190476,7.137727272727273,7.028947368421053,6.947391304347826,6.8469999999999995,6.609090909090909,null,null],\"yaxis\":\"y\",\"type\":\"scattergl\",\"visible\":\"legendonly\"},{\"hovertemplate\":\"indicator_id=PRIBOR_3M<br>Year-Month=%{x}<br>value=%{y}<extra></extra>\",\"legendgroup\":\"PRIBOR_3M\",\"line\":{\"color\":\"#00cc96\",\"dash\":\"solid\"},\"marker\":{\"symbol\":\"circle\"},\"mode\":\"lines\",\"name\":\"PRIBOR_3M\",\"showlegend\":true,\"x\":[\"1995-03\",\"1995-06\",\"1995-09\",\"1995-12\",\"1996-03\",\"1996-06\",\"1996-09\",\"1996-12\",\"1997-03\",\"1997-06\",\"1997-09\",\"1997-12\",\"1998-03\",\"1998-06\",\"1998-09\",\"1998-12\",\"1999-03\",\"1999-06\",\"1999-09\",\"1999-12\",\"2000-01\",\"2000-02\",\"2000-03\",\"2000-04\",\"2000-05\",\"2000-06\",\"2000-07\",\"2000-08\",\"2000-09\",\"2000-10\",\"2000-11\",\"2000-12\",\"2001-01\",\"2001-02\",\"2001-03\",\"2001-04\",\"2001-05\",\"2001-06\",\"2001-07\",\"2001-08\",\"2001-09\",\"2001-10\",\"2001-11\",\"2001-12\",\"2002-01\",\"2002-02\",\"2002-03\",\"2002-04\",\"2002-05\",\"2002-06\",\"2002-07\",\"2002-08\",\"2002-09\",\"2002-10\",\"2002-11\",\"2002-12\",\"2003-01\",\"2003-02\",\"2003-03\",\"2003-04\",\"2003-05\",\"2003-06\",\"2003-07\",\"2003-08\",\"2003-09\",\"2003-10\",\"2003-11\",\"2003-12\",\"2004-01\",\"2004-02\",\"2004-03\",\"2004-04\",\"2004-05\",\"2004-06\",\"2004-07\",\"2004-08\",\"2004-09\",\"2004-10\",\"2004-11\",\"2004-12\",\"2005-01\",\"2005-02\",\"2005-03\",\"2005-04\",\"2005-05\",\"2005-06\",\"2005-07\",\"2005-08\",\"2005-09\",\"2005-10\",\"2005-11\",\"2005-12\",\"2006-01\",\"2006-02\",\"2006-03\",\"2006-04\",\"2006-05\",\"2006-06\",\"2006-07\",\"2006-08\",\"2006-09\",\"2006-10\",\"2006-11\",\"2006-12\",\"2007-01\",\"2007-02\",\"2007-03\",\"2007-04\",\"2007-05\",\"2007-06\",\"2007-07\",\"2007-08\",\"2007-09\",\"2007-10\",\"2007-11\",\"2007-12\",\"2008-01\",\"2008-02\",\"2008-03\",\"2008-04\",\"2008-05\",\"2008-06\",\"2008-07\",\"2008-08\",\"2008-09\",\"2008-10\",\"2008-11\",\"2008-12\",\"2009-01\",\"2009-02\",\"2009-03\",\"2009-04\",\"2009-05\",\"2009-06\",\"2009-07\",\"2009-08\",\"2009-09\",\"2009-10\",\"2009-11\",\"2009-12\",\"2010-01\",\"2010-02\",\"2010-03\",\"2010-04\",\"2010-05\",\"2010-06\",\"2010-07\",\"2010-08\",\"2010-09\",\"2010-10\",\"2010-11\",\"2010-12\",\"2011-01\",\"2011-02\",\"2011-03\",\"2011-04\",\"2011-05\",\"2011-06\",\"2011-07\",\"2011-08\",\"2011-09\",\"2011-10\",\"2011-11\",\"2011-12\",\"2012-01\",\"2012-02\",\"2012-03\",\"2012-04\",\"2012-05\",\"2012-06\",\"2012-07\",\"2012-08\",\"2012-09\",\"2012-10\",\"2012-11\",\"2012-12\",\"2013-01\",\"2013-02\",\"2013-03\",\"2013-04\",\"2013-05\",\"2013-06\",\"2013-07\",\"2013-08\",\"2013-09\",\"2013-10\",\"2013-11\",\"2013-12\",\"2014-01\",\"2014-02\",\"2014-03\",\"2014-04\",\"2014-05\",\"2014-06\",\"2014-07\",\"2014-08\",\"2014-09\",\"2014-10\",\"2014-11\",\"2014-12\",\"2015-01\",\"2015-02\",\"2015-03\",\"2015-04\",\"2015-05\",\"2015-06\",\"2015-07\",\"2015-08\",\"2015-09\",\"2015-10\",\"2015-11\",\"2015-12\",\"2016-01\",\"2016-02\",\"2016-03\",\"2016-04\",\"2016-05\",\"2016-06\",\"2016-07\",\"2016-08\",\"2016-09\",\"2016-10\",\"2016-11\",\"2016-12\",\"2017-01\",\"2017-02\",\"2017-03\",\"2017-04\",\"2017-05\",\"2017-06\",\"2017-07\",\"2017-08\",\"2017-09\",\"2017-10\",\"2017-11\",\"2017-12\",\"2018-01\",\"2018-02\",\"2018-03\",\"2018-04\",\"2018-05\",\"2018-06\",\"2018-07\",\"2018-08\",\"2018-09\",\"2018-10\",\"2018-11\",\"2018-12\",\"2019-01\",\"2019-02\",\"2019-03\",\"2019-04\",\"2019-05\",\"2019-06\",\"2019-07\",\"2019-08\",\"2019-09\",\"2019-10\",\"2019-11\",\"2019-12\",\"2020-01\",\"2020-02\",\"2020-03\",\"2020-04\",\"2020-05\",\"2020-06\",\"2020-07\",\"2020-08\",\"2020-09\",\"2020-10\",\"2020-11\",\"2020-12\",\"2021-01\",\"2021-02\",\"2021-03\",\"2021-04\",\"2021-05\",\"2021-06\",\"2021-07\",\"2021-08\",\"2021-09\",\"2021-10\",\"2021-11\",\"2021-12\",\"2022-01\",\"2022-02\",\"2022-03\",\"2022-04\",\"2022-05\",\"2022-06\",\"2022-07\",\"2022-08\",\"2022-09\",\"2022-10\",\"2022-11\",\"2022-12\",\"2023-01\",\"2023-02\",\"2023-03\",\"2023-04\",\"2023-05\",\"2023-06\",\"2023-07\",\"2023-08\",\"2023-09\",\"2023-10\",\"2023-11\",\"2023-12\"],\"xaxis\":\"x\",\"y\":[null,null,null,null,null,null,null,null,null,null,null,null,null,null,null,null,null,null,null,null,null,null,null,null,null,null,null,null,null,null,null,null,null,null,null,null,null,null,null,null,null,null,null,null,null,null,null,null,null,null,null,null,null,null,null,null,null,null,null,null,null,null,null,null,null,null,null,null,null,null,null,null,null,null,null,null,null,null,null,null,2.531428571428571,2.246,2.083181818181818,2.0266666666666664,1.7772727272727273,1.750909090909091,1.775263157894737,1.791304347826087,1.7952380952380953,1.9055,2.244285714285714,2.172857142857143,2.1363636363636362,2.0044999999999997,2.0834782608695654,2.106842105263158,2.12,2.1627272727272726,2.29,2.361304347826087,2.4935,2.6540909090909093,2.644285714285714,2.5642105263157893,2.583181818181818,2.5895,2.5645454545454545,2.5995,2.7661904761904763,2.927619047619048,3.071,3.2804347826086957,3.46421052631579,3.5452173913043477,3.7290909090909095,4.052222222222222,3.955454545454545,3.9380952380952383,4.0424999999999995,4.107727272727273,4.1445,4.209047619047619,4.110434782608696,3.8138095238095238,3.8049999999999997,4.1859090909090915,4.241052631578947,3.8884999999999996,3.139047619047619,2.503,2.4904545454545453,2.4995238095238097,2.3010526315789472,2.165909090909091,2.0945454545454543,1.9242857142857142,1.8847619047619046,1.871904761904762,1.8035,1.643809523809524,1.548,1.5185,1.433478260869565,1.4161904761904762,1.266190476190476,1.2349999999999999,1.2275,1.2349999999999999,1.2233333333333332,1.204,1.2176190476190476,1.2218181818181817,1.1966666666666665,1.209,1.2073913043478262,1.2109999999999999,1.2154545454545453,1.1981818181818182,1.19,1.188695652173913,1.1738095238095236,1.17,1.147142857142857,1.1628571428571428,1.1713636363636364,1.1952380952380952,1.2322727272727272,1.2445,1.2404761904761905,1.2123809523809523,1.0565000000000002,0.9991304347826088,0.871578947368421,0.7104347826086956,0.5377272727272727,0.5044444444444445,0.5,0.5,0.4876190476190476,0.4695238095238095,0.46,0.4605,0.46,0.46,0.4533333333333333,0.44681818181818184,0.40476190476190477,0.38,0.37454545454545457,0.37,0.37,0.37,0.3655,0.3528571428571428,0.35,0.35,0.35,0.35,0.34052631578947373,0.34,0.3333333333333333,0.33,0.32,0.31,0.31,0.31,0.3054545454545454,0.31,0.30238095238095236,0.29,0.29,0.28857142857142853,0.29,0.28285714285714286,0.28619047619047616,0.29,0.29,0.29,0.29,0.29,0.29,0.29,0.29,0.2866666666666666,0.28,0.28,0.28,0.28777777777777774,0.2971428571428571,0.2972727272727273,0.30105263157894735,0.43478260869565216,0.461,0.5131818181818182,0.7114285714285714,0.7526315789473684,0.7713636363636364,0.9030000000000001,0.9028571428571429,0.9,0.9000000000000001,0.9414285714285714,1.185,1.4482608695652175,1.5447368421052632,1.7613043478260868,1.99,2.0144444444444445,2.005909090909091,2.0055,2.0276190476190474,2.023,2.190952380952381,2.173,2.164090909090909,2.1431818181818185,2.1423809523809525,2.174090909090909,2.179047619047619,2.18,2.1695454545454544,2.3435,1.9531818181818181,0.9644999999999999,0.45736842105263154,0.34,0.34,0.34,0.34095238095238095,0.35,0.35,0.3509523809523809,0.36,0.36,0.36,0.36,0.3661904761904762,0.4768181818181818,0.6950000000000001,0.9381818181818182,1.1066666666666667,2.0164999999999997,2.972857142857143,3.503181818181818,4.208095238095238,4.6935,4.8621739130434785,5.363684210526316,5.973636363636363,6.639545454545455,7.298947368421053,7.269565217391304,7.24952380952381,7.278999999999999,7.272380952380952,7.256666666666666,7.215909090909091,7.2010000000000005,7.192608695652174,7.178888888888888,7.179047619047618,7.147272727272727,7.112105263157894,7.10304347826087,7.089499999999999,7.047272727272727,null,null],\"yaxis\":\"y\",\"type\":\"scattergl\",\"visible\":\"legendonly\"},{\"hovertemplate\":\"indicator_id=Inflation_yoy<br>Year-Month=%{x}<br>value=%{y}<extra></extra>\",\"legendgroup\":\"Inflation_yoy\",\"line\":{\"color\":\"#ab63fa\",\"dash\":\"solid\"},\"marker\":{\"symbol\":\"circle\"},\"mode\":\"lines\",\"name\":\"Inflation_yoy\",\"showlegend\":true,\"x\":[\"1995-03\",\"1995-06\",\"1995-09\",\"1995-12\",\"1996-03\",\"1996-06\",\"1996-09\",\"1996-12\",\"1997-03\",\"1997-06\",\"1997-09\",\"1997-12\",\"1998-03\",\"1998-06\",\"1998-09\",\"1998-12\",\"1999-03\",\"1999-06\",\"1999-09\",\"1999-12\",\"2000-01\",\"2000-02\",\"2000-03\",\"2000-04\",\"2000-05\",\"2000-06\",\"2000-07\",\"2000-08\",\"2000-09\",\"2000-10\",\"2000-11\",\"2000-12\",\"2001-01\",\"2001-02\",\"2001-03\",\"2001-04\",\"2001-05\",\"2001-06\",\"2001-07\",\"2001-08\",\"2001-09\",\"2001-10\",\"2001-11\",\"2001-12\",\"2002-01\",\"2002-02\",\"2002-03\",\"2002-04\",\"2002-05\",\"2002-06\",\"2002-07\",\"2002-08\",\"2002-09\",\"2002-10\",\"2002-11\",\"2002-12\",\"2003-01\",\"2003-02\",\"2003-03\",\"2003-04\",\"2003-05\",\"2003-06\",\"2003-07\",\"2003-08\",\"2003-09\",\"2003-10\",\"2003-11\",\"2003-12\",\"2004-01\",\"2004-02\",\"2004-03\",\"2004-04\",\"2004-05\",\"2004-06\",\"2004-07\",\"2004-08\",\"2004-09\",\"2004-10\",\"2004-11\",\"2004-12\",\"2005-01\",\"2005-02\",\"2005-03\",\"2005-04\",\"2005-05\",\"2005-06\",\"2005-07\",\"2005-08\",\"2005-09\",\"2005-10\",\"2005-11\",\"2005-12\",\"2006-01\",\"2006-02\",\"2006-03\",\"2006-04\",\"2006-05\",\"2006-06\",\"2006-07\",\"2006-08\",\"2006-09\",\"2006-10\",\"2006-11\",\"2006-12\",\"2007-01\",\"2007-02\",\"2007-03\",\"2007-04\",\"2007-05\",\"2007-06\",\"2007-07\",\"2007-08\",\"2007-09\",\"2007-10\",\"2007-11\",\"2007-12\",\"2008-01\",\"2008-02\",\"2008-03\",\"2008-04\",\"2008-05\",\"2008-06\",\"2008-07\",\"2008-08\",\"2008-09\",\"2008-10\",\"2008-11\",\"2008-12\",\"2009-01\",\"2009-02\",\"2009-03\",\"2009-04\",\"2009-05\",\"2009-06\",\"2009-07\",\"2009-08\",\"2009-09\",\"2009-10\",\"2009-11\",\"2009-12\",\"2010-01\",\"2010-02\",\"2010-03\",\"2010-04\",\"2010-05\",\"2010-06\",\"2010-07\",\"2010-08\",\"2010-09\",\"2010-10\",\"2010-11\",\"2010-12\",\"2011-01\",\"2011-02\",\"2011-03\",\"2011-04\",\"2011-05\",\"2011-06\",\"2011-07\",\"2011-08\",\"2011-09\",\"2011-10\",\"2011-11\",\"2011-12\",\"2012-01\",\"2012-02\",\"2012-03\",\"2012-04\",\"2012-05\",\"2012-06\",\"2012-07\",\"2012-08\",\"2012-09\",\"2012-10\",\"2012-11\",\"2012-12\",\"2013-01\",\"2013-02\",\"2013-03\",\"2013-04\",\"2013-05\",\"2013-06\",\"2013-07\",\"2013-08\",\"2013-09\",\"2013-10\",\"2013-11\",\"2013-12\",\"2014-01\",\"2014-02\",\"2014-03\",\"2014-04\",\"2014-05\",\"2014-06\",\"2014-07\",\"2014-08\",\"2014-09\",\"2014-10\",\"2014-11\",\"2014-12\",\"2015-01\",\"2015-02\",\"2015-03\",\"2015-04\",\"2015-05\",\"2015-06\",\"2015-07\",\"2015-08\",\"2015-09\",\"2015-10\",\"2015-11\",\"2015-12\",\"2016-01\",\"2016-02\",\"2016-03\",\"2016-04\",\"2016-05\",\"2016-06\",\"2016-07\",\"2016-08\",\"2016-09\",\"2016-10\",\"2016-11\",\"2016-12\",\"2017-01\",\"2017-02\",\"2017-03\",\"2017-04\",\"2017-05\",\"2017-06\",\"2017-07\",\"2017-08\",\"2017-09\",\"2017-10\",\"2017-11\",\"2017-12\",\"2018-01\",\"2018-02\",\"2018-03\",\"2018-04\",\"2018-05\",\"2018-06\",\"2018-07\",\"2018-08\",\"2018-09\",\"2018-10\",\"2018-11\",\"2018-12\",\"2019-01\",\"2019-02\",\"2019-03\",\"2019-04\",\"2019-05\",\"2019-06\",\"2019-07\",\"2019-08\",\"2019-09\",\"2019-10\",\"2019-11\",\"2019-12\",\"2020-01\",\"2020-02\",\"2020-03\",\"2020-04\",\"2020-05\",\"2020-06\",\"2020-07\",\"2020-08\",\"2020-09\",\"2020-10\",\"2020-11\",\"2020-12\",\"2021-01\",\"2021-02\",\"2021-03\",\"2021-04\",\"2021-05\",\"2021-06\",\"2021-07\",\"2021-08\",\"2021-09\",\"2021-10\",\"2021-11\",\"2021-12\",\"2022-01\",\"2022-02\",\"2022-03\",\"2022-04\",\"2022-05\",\"2022-06\",\"2022-07\",\"2022-08\",\"2022-09\",\"2022-10\",\"2022-11\",\"2022-12\",\"2023-01\",\"2023-02\",\"2023-03\",\"2023-04\",\"2023-05\",\"2023-06\",\"2023-07\",\"2023-08\",\"2023-09\",\"2023-10\",\"2023-11\",\"2023-12\"],\"xaxis\":\"x\",\"y\":[null,null,null,null,null,null,null,null,null,null,null,null,null,null,null,null,null,null,null,null,3.4000000000000057,3.700000000000003,3.799999999999997,3.4000000000000057,3.700000000000003,4.099999999999994,3.9000000000000057,4.099999999999994,4.099999999999994,4.400000000000006,4.299999999999997,4.0,4.200000000000003,4.0,4.099999999999994,4.599999999999994,5.0,5.5,5.900000000000006,5.5,4.700000000000003,4.400000000000006,4.200000000000003,4.099999999999994,3.700000000000003,3.9000000000000057,3.700000000000003,3.200000000000003,2.5,1.2000000000000028,0.5999999999999943,0.5999999999999943,0.7999999999999972,0.5999999999999943,0.5,0.5999999999999943,-0.4000000000000057,-0.4000000000000057,-0.4000000000000057,-0.09999999999999432,0.0,0.29999999999999716,-0.09999999999999432,-0.09999999999999432,0.0,0.4000000000000057,1.0,1.0,2.299999999999997,2.299999999999997,2.5,2.299999999999997,2.700000000000003,2.9000000000000057,3.200000000000003,3.4000000000000057,3.0,3.5,2.9000000000000057,2.799999999999997,1.7000000000000028,1.7000000000000028,1.5,1.5999999999999943,1.2999999999999972,1.7999999999999972,1.7000000000000028,1.7000000000000028,2.200000000000003,2.5999999999999943,2.4000000000000057,2.200000000000003,2.9000000000000057,2.799999999999997,2.799999999999997,2.799999999999997,3.0999999999999943,2.799999999999997,2.9000000000000057,3.0999999999999943,2.700000000000003,1.2999999999999972,1.5,1.7000000000000028,1.2999999999999972,1.5,1.9000000000000057,2.5,2.4000000000000057,2.5,2.299999999999997,2.4000000000000057,2.799999999999997,4.0,5.0,5.400000000000006,7.5,7.5,7.099999999999994,6.799999999999997,6.799999999999997,6.700000000000003,6.900000000000006,6.5,6.599999999999994,6.0,4.400000000000006,3.5999999999999943,2.200000000000003,2.0,2.299999999999997,1.7999999999999972,1.2999999999999972,1.2000000000000028,0.29999999999999716,0.20000000000000284,0.0,-0.20000000000000284,0.5,1.0,0.7000000000000028,0.5999999999999943,0.7000000000000028,1.0999999999999943,1.2000000000000028,1.2000000000000028,1.9000000000000057,1.9000000000000057,2.0,2.0,2.0,2.299999999999997,1.7000000000000028,1.7999999999999972,1.7000000000000028,1.5999999999999943,2.0,1.7999999999999972,1.7000000000000028,1.7000000000000028,1.7999999999999972,2.299999999999997,2.5,2.4000000000000057,3.5,3.700000000000003,3.799999999999997,3.5,3.200000000000003,3.5,3.0999999999999943,3.299999999999997,3.4000000000000057,3.4000000000000057,2.700000000000003,2.4000000000000057,1.9000000000000057,1.7000000000000028,1.7000000000000028,1.7000000000000028,1.2999999999999972,1.5999999999999943,1.4000000000000057,1.2999999999999972,1.0,0.9000000000000057,1.0999999999999943,1.4000000000000057,0.20000000000000284,0.20000000000000284,0.20000000000000284,0.09999999999999432,0.4000000000000057,0.0,0.5,0.5999999999999943,0.7000000000000028,0.7000000000000028,0.5999999999999943,0.09999999999999432,0.09999999999999432,0.09999999999999432,0.20000000000000284,0.5,0.7000000000000028,0.7999999999999972,0.5,0.29999999999999716,0.4000000000000057,0.20000000000000284,0.09999999999999432,0.09999999999999432,0.5999999999999943,0.5,0.29999999999999716,0.5999999999999943,0.09999999999999432,0.09999999999999432,0.5,0.5999999999999943,0.5,0.7999999999999972,1.5,2.0,2.200000000000003,2.5,2.5999999999999943,2.0,2.4000000000000057,2.299999999999997,2.5,2.5,2.700000000000003,2.9000000000000057,2.5999999999999943,2.4000000000000057,2.200000000000003,1.7999999999999972,1.7000000000000028,1.9000000000000057,2.200000000000003,2.5999999999999943,2.299999999999997,2.5,2.299999999999997,2.200000000000003,2.0,2.0,2.5,2.700000000000003,3.0,2.799999999999997,2.9000000000000057,2.700000000000003,2.9000000000000057,2.9000000000000057,2.700000000000003,2.700000000000003,3.0999999999999943,3.200000000000003,3.5999999999999943,3.700000000000003,3.4000000000000057,3.200000000000003,2.9000000000000057,3.299999999999997,3.4000000000000057,3.299999999999997,3.200000000000003,2.9000000000000057,2.700000000000003,2.299999999999997,2.200000000000003,2.0999999999999943,2.299999999999997,3.0999999999999943,2.9000000000000057,2.799999999999997,3.4000000000000057,4.099999999999994,4.900000000000006,5.799999999999997,6.0,6.599999999999994,9.900000000000006,11.099999999999994,12.700000000000003,14.200000000000003,16.0,17.200000000000003,17.5,17.200000000000003,18.0,15.099999999999994,16.200000000000003,15.799999999999997,17.5,16.700000000000003,15.0,12.700000000000003,11.099999999999994,9.700000000000003,8.799999999999997,8.5,6.900000000000006,8.5,7.299999999999997,6.900000000000006],\"yaxis\":\"y\",\"type\":\"scattergl\",\"visible\":\"legendonly\"},{\"hovertemplate\":\"indicator_id=GDP_growth<br>Year-Month=%{x}<br>value=%{y}<extra></extra>\",\"legendgroup\":\"GDP_growth\",\"line\":{\"color\":\"#FFA15A\",\"dash\":\"solid\"},\"marker\":{\"symbol\":\"circle\"},\"mode\":\"lines\",\"name\":\"GDP_growth\",\"showlegend\":true,\"x\":[\"1995-03\",\"1995-06\",\"1995-09\",\"1995-12\",\"1996-03\",\"1996-06\",\"1996-09\",\"1996-12\",\"1997-03\",\"1997-06\",\"1997-09\",\"1997-12\",\"1998-03\",\"1998-06\",\"1998-09\",\"1998-12\",\"1999-03\",\"1999-06\",\"1999-09\",\"1999-12\",\"2000-01\",\"2000-02\",\"2000-03\",\"2000-04\",\"2000-05\",\"2000-06\",\"2000-07\",\"2000-08\",\"2000-09\",\"2000-10\",\"2000-11\",\"2000-12\",\"2001-01\",\"2001-02\",\"2001-03\",\"2001-04\",\"2001-05\",\"2001-06\",\"2001-07\",\"2001-08\",\"2001-09\",\"2001-10\",\"2001-11\",\"2001-12\",\"2002-01\",\"2002-02\",\"2002-03\",\"2002-04\",\"2002-05\",\"2002-06\",\"2002-07\",\"2002-08\",\"2002-09\",\"2002-10\",\"2002-11\",\"2002-12\",\"2003-01\",\"2003-02\",\"2003-03\",\"2003-04\",\"2003-05\",\"2003-06\",\"2003-07\",\"2003-08\",\"2003-09\",\"2003-10\",\"2003-11\",\"2003-12\",\"2004-01\",\"2004-02\",\"2004-03\",\"2004-04\",\"2004-05\",\"2004-06\",\"2004-07\",\"2004-08\",\"2004-09\",\"2004-10\",\"2004-11\",\"2004-12\",\"2005-01\",\"2005-02\",\"2005-03\",\"2005-04\",\"2005-05\",\"2005-06\",\"2005-07\",\"2005-08\",\"2005-09\",\"2005-10\",\"2005-11\",\"2005-12\",\"2006-01\",\"2006-02\",\"2006-03\",\"2006-04\",\"2006-05\",\"2006-06\",\"2006-07\",\"2006-08\",\"2006-09\",\"2006-10\",\"2006-11\",\"2006-12\",\"2007-01\",\"2007-02\",\"2007-03\",\"2007-04\",\"2007-05\",\"2007-06\",\"2007-07\",\"2007-08\",\"2007-09\",\"2007-10\",\"2007-11\",\"2007-12\",\"2008-01\",\"2008-02\",\"2008-03\",\"2008-04\",\"2008-05\",\"2008-06\",\"2008-07\",\"2008-08\",\"2008-09\",\"2008-10\",\"2008-11\",\"2008-12\",\"2009-01\",\"2009-02\",\"2009-03\",\"2009-04\",\"2009-05\",\"2009-06\",\"2009-07\",\"2009-08\",\"2009-09\",\"2009-10\",\"2009-11\",\"2009-12\",\"2010-01\",\"2010-02\",\"2010-03\",\"2010-04\",\"2010-05\",\"2010-06\",\"2010-07\",\"2010-08\",\"2010-09\",\"2010-10\",\"2010-11\",\"2010-12\",\"2011-01\",\"2011-02\",\"2011-03\",\"2011-04\",\"2011-05\",\"2011-06\",\"2011-07\",\"2011-08\",\"2011-09\",\"2011-10\",\"2011-11\",\"2011-12\",\"2012-01\",\"2012-02\",\"2012-03\",\"2012-04\",\"2012-05\",\"2012-06\",\"2012-07\",\"2012-08\",\"2012-09\",\"2012-10\",\"2012-11\",\"2012-12\",\"2013-01\",\"2013-02\",\"2013-03\",\"2013-04\",\"2013-05\",\"2013-06\",\"2013-07\",\"2013-08\",\"2013-09\",\"2013-10\",\"2013-11\",\"2013-12\",\"2014-01\",\"2014-02\",\"2014-03\",\"2014-04\",\"2014-05\",\"2014-06\",\"2014-07\",\"2014-08\",\"2014-09\",\"2014-10\",\"2014-11\",\"2014-12\",\"2015-01\",\"2015-02\",\"2015-03\",\"2015-04\",\"2015-05\",\"2015-06\",\"2015-07\",\"2015-08\",\"2015-09\",\"2015-10\",\"2015-11\",\"2015-12\",\"2016-01\",\"2016-02\",\"2016-03\",\"2016-04\",\"2016-05\",\"2016-06\",\"2016-07\",\"2016-08\",\"2016-09\",\"2016-10\",\"2016-11\",\"2016-12\",\"2017-01\",\"2017-02\",\"2017-03\",\"2017-04\",\"2017-05\",\"2017-06\",\"2017-07\",\"2017-08\",\"2017-09\",\"2017-10\",\"2017-11\",\"2017-12\",\"2018-01\",\"2018-02\",\"2018-03\",\"2018-04\",\"2018-05\",\"2018-06\",\"2018-07\",\"2018-08\",\"2018-09\",\"2018-10\",\"2018-11\",\"2018-12\",\"2019-01\",\"2019-02\",\"2019-03\",\"2019-04\",\"2019-05\",\"2019-06\",\"2019-07\",\"2019-08\",\"2019-09\",\"2019-10\",\"2019-11\",\"2019-12\",\"2020-01\",\"2020-02\",\"2020-03\",\"2020-04\",\"2020-05\",\"2020-06\",\"2020-07\",\"2020-08\",\"2020-09\",\"2020-10\",\"2020-11\",\"2020-12\",\"2021-01\",\"2021-02\",\"2021-03\",\"2021-04\",\"2021-05\",\"2021-06\",\"2021-07\",\"2021-08\",\"2021-09\",\"2021-10\",\"2021-11\",\"2021-12\",\"2022-01\",\"2022-02\",\"2022-03\",\"2022-04\",\"2022-05\",\"2022-06\",\"2022-07\",\"2022-08\",\"2022-09\",\"2022-10\",\"2022-11\",\"2022-12\",\"2023-01\",\"2023-02\",\"2023-03\",\"2023-04\",\"2023-05\",\"2023-06\",\"2023-07\",\"2023-08\",\"2023-09\",\"2023-10\",\"2023-11\",\"2023-12\"],\"xaxis\":\"x\",\"y\":[null,null,null,null,16.569043846348606,15.456134854625006,13.759016188210822,13.002087104920264,7.704134300712354,7.504048317213005,7.544538362884481,8.216223055792526,9.902659198433838,11.222499959289365,10.271310583415158,6.519152178299805,4.4167491340920435,3.7366056313540383,3.005757033896174,6.67043187133622,6.758045503817641,6.758045503817641,6.758045503817641,5.5622399977417984,5.5622399977417984,5.5622399977417984,6.198533959573879,6.198533959573879,6.198533959573879,5.273553229310679,5.273553229310679,5.273553229310679,8.09743106031182,8.09743106031182,8.09743106031182,7.517673602406603,7.517673602406603,7.517673602406603,7.8226170880242165,7.8226170880242165,7.8226170880242165,8.848282277263621,8.848282277263621,8.848282277263621,5.860332060389538,5.860332060389538,5.860332060389538,5.782084522454966,5.782084522454966,5.782084522454966,4.116320941703364,4.116320941703364,4.116320941703364,1.9119572648582164,1.9119572648582164,1.9119572648582164,4.920449182511106,4.920449182511106,4.920449182511106,4.3880504900592,4.3880504900592,4.3880504900592,4.893654742667138,4.893654742667138,4.893654742667138,5.470357821009898,5.470357821009898,5.470357821009898,7.981292978088874,7.981292978088874,7.981292978088874,7.1736449734794405,7.1736449734794405,7.1736449734794405,8.293445237049582,8.293445237049582,8.293445237049582,12.548360623705477,12.548360623705477,12.548360623705477,7.896944278010778,7.896944278010778,7.896944278010778,8.051587108739326,8.051587108739326,8.051587108739326,6.047533882411315,6.047533882411315,6.047533882411315,5.084410919540218,5.084410919540218,5.084410919540218,6.670183622093873,6.670183622093873,6.670183622093873,6.495197251821537,6.495197251821537,6.495197251821537,8.619861848660818,8.619861848660818,8.619861848660818,7.969327704762065,7.969327704762065,7.969327704762065,10.541718053756554,10.541718053756554,10.541718053756554,9.224198053389685,9.224198053389685,9.224198053389685,9.196246112838722,9.196246112838722,9.196246112838722,8.441034224031199,8.441034224031199,8.441034224031199,5.217675038179763,5.217675038179763,5.217675038179763,6.877632853624036,6.877632853624036,6.877632853624036,6.406815276194237,6.406815276194237,6.406815276194237,0.7775421687684769,0.7775421687684769,0.7775421687684769,-0.06862986443472607,-0.06862986443472607,-0.06862986443472607,-2.9680916700807956,-2.9680916700807956,-2.9680916700807956,-4.976223361801587,-4.976223361801587,-4.976223361801587,-0.5291684812574715,-0.5291684812574715,-0.5291684812574715,-1.491378584080806,-1.491378584080806,-1.491378584080806,2.028707439668821,2.028707439668821,2.028707439668821,2.096900417851117,2.096900417851117,2.096900417851117,1.1219222857431248,1.1219222857431248,1.1219222857431248,2.054262139264594,2.054262139264594,2.054262139264594,1.2894967644060813,1.2894967644060813,1.2894967644060813,1.4539202742911215,1.4539202742911215,1.4539202742911215,2.175749569918878,2.175749569918878,2.175749569918878,2.2241103876679347,2.2241103876679347,2.2241103876679347,0.4307957532782609,0.4307957532782609,0.4307957532782609,0.04340914233439719,0.04340914233439719,0.04340914233439719,0.07112469088475848,0.07112469088475848,0.07112469088475848,-0.8085663201827202,-0.8085663201827202,-0.8085663201827202,0.4726387963827534,0.4726387963827534,0.4726387963827534,2.1497130609677413,2.1497130609677413,2.1497130609677413,3.255796485726478,3.255796485726478,3.255796485726478,4.4003017086711935,4.4003017086711935,4.4003017086711935,5.201240783510315,5.201240783510315,5.201240783510315,6.0979920747294045,6.0979920747294045,6.0979920747294045,3.900662143263716,3.900662143263716,3.900662143263716,6.876890749145005,6.876890749145005,6.876890749145005,6.859112261563354,6.859112261563354,6.859112261563354,6.059376570195639,6.059376570195639,6.059376570195639,6.008699000577593,6.008699000577593,6.008699000577593,4.536185317730798,4.536185317730798,4.536185317730798,4.448366150159117,4.448366150159117,4.448366150159117,2.770501134143018,2.770501134143018,2.770501134143018,3.1830591281074447,3.1830591281074447,3.1830591281074447,4.814607865207833,4.814607865207833,4.814607865207833,5.7791494352200345,5.7791494352200345,5.7791494352200345,7.237783297903533,7.237783297903533,7.237783297903533,8.151768655450624,8.151768655450624,8.151768655450624,6.794895271605839,6.794895271605839,6.794895271605839,5.753071665982006,5.753071665982006,5.753071665982006,5.3603638810092065,5.3603638810092065,5.3603638810092065,5.674885316434896,5.674885316434896,5.674885316434896,6.888425944473354,6.888425944473354,6.888425944473354,6.760984079338442,6.760984079338442,6.760984079338442,7.8644535224440375,7.8644535224440375,7.8644535224440375,6.631692281413606,6.631692281413606,6.631692281413606,2.692311440374624,2.692311440374624,2.692311440374624,-6.9326280477804545,-6.9326280477804545,-6.9326280477804545,-1.2754082068162376,-1.2754082068162376,-1.2754082068162376,0.08107898734641594,0.08107898734641594,0.08107898734641594,0.9910674724458062,0.9910674724458062,0.9910674724458062,13.794374974084363,13.794374974084363,13.794374974084363,7.71060573671798,7.71060573671798,7.71060573671798,5.6946119921991,5.6946119921991,5.6946119921991,11.425399381574735,11.425399381574735,11.425399381574735,10.382969143056442,10.382969143056442,10.382969143056442,11.159286216558442,11.159286216558442,11.159286216558442,11.443833739228879,11.443833739228879,11.443833739228879,11.307186235474362,11.307186235474362,11.307186235474362,9.133266093021518,9.133266093021518,9.133266093021518,6.291953965291441,6.291953965291441,6.291953965291441,null,null,null],\"yaxis\":\"y\",\"type\":\"scattergl\",\"visible\":\"legendonly\"},{\"hovertemplate\":\"indicator_id=Industry_growth<br>Year-Month=%{x}<br>value=%{y}<extra></extra>\",\"legendgroup\":\"Industry_growth\",\"line\":{\"color\":\"#19d3f3\",\"dash\":\"solid\"},\"marker\":{\"symbol\":\"circle\"},\"mode\":\"lines\",\"name\":\"Industry_growth\",\"showlegend\":true,\"x\":[\"1995-03\",\"1995-06\",\"1995-09\",\"1995-12\",\"1996-03\",\"1996-06\",\"1996-09\",\"1996-12\",\"1997-03\",\"1997-06\",\"1997-09\",\"1997-12\",\"1998-03\",\"1998-06\",\"1998-09\",\"1998-12\",\"1999-03\",\"1999-06\",\"1999-09\",\"1999-12\",\"2000-01\",\"2000-02\",\"2000-03\",\"2000-04\",\"2000-05\",\"2000-06\",\"2000-07\",\"2000-08\",\"2000-09\",\"2000-10\",\"2000-11\",\"2000-12\",\"2001-01\",\"2001-02\",\"2001-03\",\"2001-04\",\"2001-05\",\"2001-06\",\"2001-07\",\"2001-08\",\"2001-09\",\"2001-10\",\"2001-11\",\"2001-12\",\"2002-01\",\"2002-02\",\"2002-03\",\"2002-04\",\"2002-05\",\"2002-06\",\"2002-07\",\"2002-08\",\"2002-09\",\"2002-10\",\"2002-11\",\"2002-12\",\"2003-01\",\"2003-02\",\"2003-03\",\"2003-04\",\"2003-05\",\"2003-06\",\"2003-07\",\"2003-08\",\"2003-09\",\"2003-10\",\"2003-11\",\"2003-12\",\"2004-01\",\"2004-02\",\"2004-03\",\"2004-04\",\"2004-05\",\"2004-06\",\"2004-07\",\"2004-08\",\"2004-09\",\"2004-10\",\"2004-11\",\"2004-12\",\"2005-01\",\"2005-02\",\"2005-03\",\"2005-04\",\"2005-05\",\"2005-06\",\"2005-07\",\"2005-08\",\"2005-09\",\"2005-10\",\"2005-11\",\"2005-12\",\"2006-01\",\"2006-02\",\"2006-03\",\"2006-04\",\"2006-05\",\"2006-06\",\"2006-07\",\"2006-08\",\"2006-09\",\"2006-10\",\"2006-11\",\"2006-12\",\"2007-01\",\"2007-02\",\"2007-03\",\"2007-04\",\"2007-05\",\"2007-06\",\"2007-07\",\"2007-08\",\"2007-09\",\"2007-10\",\"2007-11\",\"2007-12\",\"2008-01\",\"2008-02\",\"2008-03\",\"2008-04\",\"2008-05\",\"2008-06\",\"2008-07\",\"2008-08\",\"2008-09\",\"2008-10\",\"2008-11\",\"2008-12\",\"2009-01\",\"2009-02\",\"2009-03\",\"2009-04\",\"2009-05\",\"2009-06\",\"2009-07\",\"2009-08\",\"2009-09\",\"2009-10\",\"2009-11\",\"2009-12\",\"2010-01\",\"2010-02\",\"2010-03\",\"2010-04\",\"2010-05\",\"2010-06\",\"2010-07\",\"2010-08\",\"2010-09\",\"2010-10\",\"2010-11\",\"2010-12\",\"2011-01\",\"2011-02\",\"2011-03\",\"2011-04\",\"2011-05\",\"2011-06\",\"2011-07\",\"2011-08\",\"2011-09\",\"2011-10\",\"2011-11\",\"2011-12\",\"2012-01\",\"2012-02\",\"2012-03\",\"2012-04\",\"2012-05\",\"2012-06\",\"2012-07\",\"2012-08\",\"2012-09\",\"2012-10\",\"2012-11\",\"2012-12\",\"2013-01\",\"2013-02\",\"2013-03\",\"2013-04\",\"2013-05\",\"2013-06\",\"2013-07\",\"2013-08\",\"2013-09\",\"2013-10\",\"2013-11\",\"2013-12\",\"2014-01\",\"2014-02\",\"2014-03\",\"2014-04\",\"2014-05\",\"2014-06\",\"2014-07\",\"2014-08\",\"2014-09\",\"2014-10\",\"2014-11\",\"2014-12\",\"2015-01\",\"2015-02\",\"2015-03\",\"2015-04\",\"2015-05\",\"2015-06\",\"2015-07\",\"2015-08\",\"2015-09\",\"2015-10\",\"2015-11\",\"2015-12\",\"2016-01\",\"2016-02\",\"2016-03\",\"2016-04\",\"2016-05\",\"2016-06\",\"2016-07\",\"2016-08\",\"2016-09\",\"2016-10\",\"2016-11\",\"2016-12\",\"2017-01\",\"2017-02\",\"2017-03\",\"2017-04\",\"2017-05\",\"2017-06\",\"2017-07\",\"2017-08\",\"2017-09\",\"2017-10\",\"2017-11\",\"2017-12\",\"2018-01\",\"2018-02\",\"2018-03\",\"2018-04\",\"2018-05\",\"2018-06\",\"2018-07\",\"2018-08\",\"2018-09\",\"2018-10\",\"2018-11\",\"2018-12\",\"2019-01\",\"2019-02\",\"2019-03\",\"2019-04\",\"2019-05\",\"2019-06\",\"2019-07\",\"2019-08\",\"2019-09\",\"2019-10\",\"2019-11\",\"2019-12\",\"2020-01\",\"2020-02\",\"2020-03\",\"2020-04\",\"2020-05\",\"2020-06\",\"2020-07\",\"2020-08\",\"2020-09\",\"2020-10\",\"2020-11\",\"2020-12\",\"2021-01\",\"2021-02\",\"2021-03\",\"2021-04\",\"2021-05\",\"2021-06\",\"2021-07\",\"2021-08\",\"2021-09\",\"2021-10\",\"2021-11\",\"2021-12\",\"2022-01\",\"2022-02\",\"2022-03\",\"2022-04\",\"2022-05\",\"2022-06\",\"2022-07\",\"2022-08\",\"2022-09\",\"2022-10\",\"2022-11\",\"2022-12\",\"2023-01\",\"2023-02\",\"2023-03\",\"2023-04\",\"2023-05\",\"2023-06\",\"2023-07\",\"2023-08\",\"2023-09\",\"2023-10\",\"2023-11\",\"2023-12\"],\"xaxis\":\"x\",\"y\":[null,null,null,null,null,null,null,null,null,null,null,null,null,null,null,null,null,null,null,null,null,null,null,null,null,null,null,null,null,null,null,null,null,-1.3452914798206317,0.7575757575757569,0.4511278195488577,0.14970059880241582,-0.1494768310911887,-1.7964071856287456,2.1341463414634276,-1.0447761194029903,0.6033182503770718,0.7496251874062887,0.14880952380951218,-2.823179791976216,2.2935779816513735,-0.5979073243647326,0.9022556390977376,0.14903129657228842,0.0,2.2321428571428603,-2.183406113537123,2.2321428571428603,1.6011644832605532,1.5759312320916985,-0.7052186177715081,-1.7045454545454586,-0.7225433526011571,-0.29112081513829047,2.481751824817513,-2.1367521367521403,1.1644832605531175,0.14388489208632116,2.155172413793105,0.42194092827005925,0.5602240896358524,1.392757660167132,2.335164835164849,-0.13422818791946067,3.0913978494623517,-0.7822685788787642,1.4454664914586246,-0.6476683937823857,-0.2607561929595881,1.5686274509803866,0.12870012870012104,-0.3856041131105381,1.0322580645161228,0.12771392081738497,-1.0204081632653184,-0.3865979381443285,0.0,0.1293661060802087,2.067183462532296,-1.2658227848101222,1.6666666666666607,0.12610340479193294,1.0075566750629594,0.24937655860348684,0.995024875621886,1.4778325123152802,-0.12135922330097637,1.9441069258809396,-1.6686531585220599,1.8181818181818077,-1.3095238095238049,4.221954161640529,-0.3472222222222321,-0.11614401858303092,-0.34883720930232176,2.2170361726954413,-0.45662100456620447,2.064220183486243,1.2359550561797716,4.328523862375144,-0.42553191489361764,1.0683760683760646,-1.37420718816067,0.5359056806002238,0.0,1.3859275053304865,-1.577287066246058,0.3205128205128416,1.2779552715654896,0.630914826498441,1.5673981191222541,0.0,1.2345679012345734,-3.760162601626016,2.11193241816261,-1.2409513960703222,-1.0471204188481686,-2.857142857142858,-2.178649237472763,0.7795100222717233,-2.6519337016574607,-3.518728717366626,-2.705882352941169,-5.320435308343418,0.3831417624521105,1.781170483460559,-1.9999999999999907,-0.12755102040817867,3.065134099616862,-2.354399008674113,3.2994923857868175,0.12285012285011554,1.1042944785276232,-1.5776699029126373,1.9728729963008673,-0.846432889963733,-0.12195121951218413,3.5409035409035283,1.1792452830188704,-1.1655011655011704,2.2405660377358583,0.46136101499423265,2.296211251435132,1.9079685746352437,0.0,-0.5506607929515406,-1.3289036544850585,3.4792368125701634,-1.3015184381778733,-0.4395604395604491,0.44150110375276164,2.0879120879121027,-0.753498385360607,-1.5184381778741929,0.7709251101321701,-0.21857923497268228,0.657174151150075,2.8291621327529937,-1.2698412698412764,-1.1789924973204635,1.193058568329719,-0.9646302250803762,-0.10822510822511289,0.21668472372697867,-0.216216216216214,0.10834236186350044,-2.922077922077926,0.557413600891854,-1.55210643015522,-0.7882882882882969,1.2485811577752637,-2.0179372197309364,1.4874141876430214,-0.9019165727170209,1.8202502844141044,0.5586592178770999,0.7777777777777883,2.2050716648291058,1.0787486515641875,-1.9210245464247544,1.8498367791077053,-0.42735042735041473,1.3948497854077146,-2.0105820105820182,1.8358531317494542,1.3785790031813239,0.10460251046024993,-1.0449320794148398,0.7391763463569179,-0.20964360587002462,0.6302521008403339,1.3569937369519725,-0.3089598352214229,0.723140495867769,1.4358974358974486,-1.213346814964611,1.1258955987717423,0.6072874493927127,0.9054325955734299,-0.3988035892322994,0.4004004004003914,2.6919242273180544,-2.038834951456303,-0.8919722497522375,2.400000000000002,-2.44140625,-0.7007007007007071,3.0241935483870996,1.9569471624266255,-1.3435700575815779,-0.09727626459143934,-1.8500486854917342,3.571428571428581,-2.6819923371647625,2.3622047244094446,-1.057692307692304,1.263362487852282,0.2879078694817627,-0.8612440191387627,3.2818532818532864,0.8411214953271129,0.0,2.5023169601482653,2.079566003616651,-3.8086802480070903,-0.7366482504604033,2.782931354359919,0.4512635379061436,-1.3477088948787075,2.823315118397085,0.7971656333038091,-0.08787346221440506,-2.1987686895338587,1.1690647482014427,-1.7777777777777781,3.167420814479649,1.7543859649122862,-0.4310344827586188,-2.164502164502169,1.0619469026548645,-1.0507880910682998,1.2389380530973604,-0.08741258741259417,-1.049868766404205,0.17683465959328348,0.3530450132391838,1.1433597185576128,2.4347826086956514,-4.58404074702885,-0.1779359430605032,0.35650623885916666,0.1776198934280604,0.0,-1.5957446808510634,-0.45045045045044585,1.7194570135746767,1.1565836298932375,-12.137203166226907,-24.124124124124148,18.20580474934037,13.281250000000021,5.320197044334973,2.8999064546304965,1.2727272727272698,2.7827648114901127,-0.8733624454148492,0.2643171806167466,-1.4059753954305698,-1.2477718360071388,2.707581227436817,2.0210896309314608,-3.7898363479758723,0.1790510295434311,1.3404825737265424,-2.733686067019403,-2.7198549410698103,0.8387698042870539,5.822550831792972,-3.056768558951961,3.7837837837837895,-3.211805555555558,1.7937219730941756,-0.7929515418502286,1.4209591474245276,1.9264448336252293,-0.5154639175257825,0.6908462867011966,0.08576329331047017,-3.513281919451594,3.1083481349911235,0.602928509905265,-3.253424657534243,0.7964601769911539,1.9315188762071944,-1.464254952627031,0.34965034965033226,1.4808362369338024,-2.832618025751066,-0.17667844522968323,-1.2389380530973493,2.77777777777779,-1.3949433304272119,0.0],\"yaxis\":\"y\",\"type\":\"scattergl\",\"visible\":\"legendonly\"}],                        {\"template\":{\"data\":{\"histogram2dcontour\":[{\"type\":\"histogram2dcontour\",\"colorbar\":{\"outlinewidth\":0,\"ticks\":\"\"},\"colorscale\":[[0.0,\"#0d0887\"],[0.1111111111111111,\"#46039f\"],[0.2222222222222222,\"#7201a8\"],[0.3333333333333333,\"#9c179e\"],[0.4444444444444444,\"#bd3786\"],[0.5555555555555556,\"#d8576b\"],[0.6666666666666666,\"#ed7953\"],[0.7777777777777778,\"#fb9f3a\"],[0.8888888888888888,\"#fdca26\"],[1.0,\"#f0f921\"]]}],\"choropleth\":[{\"type\":\"choropleth\",\"colorbar\":{\"outlinewidth\":0,\"ticks\":\"\"}}],\"histogram2d\":[{\"type\":\"histogram2d\",\"colorbar\":{\"outlinewidth\":0,\"ticks\":\"\"},\"colorscale\":[[0.0,\"#0d0887\"],[0.1111111111111111,\"#46039f\"],[0.2222222222222222,\"#7201a8\"],[0.3333333333333333,\"#9c179e\"],[0.4444444444444444,\"#bd3786\"],[0.5555555555555556,\"#d8576b\"],[0.6666666666666666,\"#ed7953\"],[0.7777777777777778,\"#fb9f3a\"],[0.8888888888888888,\"#fdca26\"],[1.0,\"#f0f921\"]]}],\"heatmap\":[{\"type\":\"heatmap\",\"colorbar\":{\"outlinewidth\":0,\"ticks\":\"\"},\"colorscale\":[[0.0,\"#0d0887\"],[0.1111111111111111,\"#46039f\"],[0.2222222222222222,\"#7201a8\"],[0.3333333333333333,\"#9c179e\"],[0.4444444444444444,\"#bd3786\"],[0.5555555555555556,\"#d8576b\"],[0.6666666666666666,\"#ed7953\"],[0.7777777777777778,\"#fb9f3a\"],[0.8888888888888888,\"#fdca26\"],[1.0,\"#f0f921\"]]}],\"heatmapgl\":[{\"type\":\"heatmapgl\",\"colorbar\":{\"outlinewidth\":0,\"ticks\":\"\"},\"colorscale\":[[0.0,\"#0d0887\"],[0.1111111111111111,\"#46039f\"],[0.2222222222222222,\"#7201a8\"],[0.3333333333333333,\"#9c179e\"],[0.4444444444444444,\"#bd3786\"],[0.5555555555555556,\"#d8576b\"],[0.6666666666666666,\"#ed7953\"],[0.7777777777777778,\"#fb9f3a\"],[0.8888888888888888,\"#fdca26\"],[1.0,\"#f0f921\"]]}],\"contourcarpet\":[{\"type\":\"contourcarpet\",\"colorbar\":{\"outlinewidth\":0,\"ticks\":\"\"}}],\"contour\":[{\"type\":\"contour\",\"colorbar\":{\"outlinewidth\":0,\"ticks\":\"\"},\"colorscale\":[[0.0,\"#0d0887\"],[0.1111111111111111,\"#46039f\"],[0.2222222222222222,\"#7201a8\"],[0.3333333333333333,\"#9c179e\"],[0.4444444444444444,\"#bd3786\"],[0.5555555555555556,\"#d8576b\"],[0.6666666666666666,\"#ed7953\"],[0.7777777777777778,\"#fb9f3a\"],[0.8888888888888888,\"#fdca26\"],[1.0,\"#f0f921\"]]}],\"surface\":[{\"type\":\"surface\",\"colorbar\":{\"outlinewidth\":0,\"ticks\":\"\"},\"colorscale\":[[0.0,\"#0d0887\"],[0.1111111111111111,\"#46039f\"],[0.2222222222222222,\"#7201a8\"],[0.3333333333333333,\"#9c179e\"],[0.4444444444444444,\"#bd3786\"],[0.5555555555555556,\"#d8576b\"],[0.6666666666666666,\"#ed7953\"],[0.7777777777777778,\"#fb9f3a\"],[0.8888888888888888,\"#fdca26\"],[1.0,\"#f0f921\"]]}],\"mesh3d\":[{\"type\":\"mesh3d\",\"colorbar\":{\"outlinewidth\":0,\"ticks\":\"\"}}],\"scatter\":[{\"fillpattern\":{\"fillmode\":\"overlay\",\"size\":10,\"solidity\":0.2},\"type\":\"scatter\"}],\"parcoords\":[{\"type\":\"parcoords\",\"line\":{\"colorbar\":{\"outlinewidth\":0,\"ticks\":\"\"}}}],\"scatterpolargl\":[{\"type\":\"scatterpolargl\",\"marker\":{\"colorbar\":{\"outlinewidth\":0,\"ticks\":\"\"}}}],\"bar\":[{\"error_x\":{\"color\":\"#2a3f5f\"},\"error_y\":{\"color\":\"#2a3f5f\"},\"marker\":{\"line\":{\"color\":\"#E5ECF6\",\"width\":0.5},\"pattern\":{\"fillmode\":\"overlay\",\"size\":10,\"solidity\":0.2}},\"type\":\"bar\"}],\"scattergeo\":[{\"type\":\"scattergeo\",\"marker\":{\"colorbar\":{\"outlinewidth\":0,\"ticks\":\"\"}}}],\"scatterpolar\":[{\"type\":\"scatterpolar\",\"marker\":{\"colorbar\":{\"outlinewidth\":0,\"ticks\":\"\"}}}],\"histogram\":[{\"marker\":{\"pattern\":{\"fillmode\":\"overlay\",\"size\":10,\"solidity\":0.2}},\"type\":\"histogram\"}],\"scattergl\":[{\"type\":\"scattergl\",\"marker\":{\"colorbar\":{\"outlinewidth\":0,\"ticks\":\"\"}}}],\"scatter3d\":[{\"type\":\"scatter3d\",\"line\":{\"colorbar\":{\"outlinewidth\":0,\"ticks\":\"\"}},\"marker\":{\"colorbar\":{\"outlinewidth\":0,\"ticks\":\"\"}}}],\"scattermapbox\":[{\"type\":\"scattermapbox\",\"marker\":{\"colorbar\":{\"outlinewidth\":0,\"ticks\":\"\"}}}],\"scatterternary\":[{\"type\":\"scatterternary\",\"marker\":{\"colorbar\":{\"outlinewidth\":0,\"ticks\":\"\"}}}],\"scattercarpet\":[{\"type\":\"scattercarpet\",\"marker\":{\"colorbar\":{\"outlinewidth\":0,\"ticks\":\"\"}}}],\"carpet\":[{\"aaxis\":{\"endlinecolor\":\"#2a3f5f\",\"gridcolor\":\"white\",\"linecolor\":\"white\",\"minorgridcolor\":\"white\",\"startlinecolor\":\"#2a3f5f\"},\"baxis\":{\"endlinecolor\":\"#2a3f5f\",\"gridcolor\":\"white\",\"linecolor\":\"white\",\"minorgridcolor\":\"white\",\"startlinecolor\":\"#2a3f5f\"},\"type\":\"carpet\"}],\"table\":[{\"cells\":{\"fill\":{\"color\":\"#EBF0F8\"},\"line\":{\"color\":\"white\"}},\"header\":{\"fill\":{\"color\":\"#C8D4E3\"},\"line\":{\"color\":\"white\"}},\"type\":\"table\"}],\"barpolar\":[{\"marker\":{\"line\":{\"color\":\"#E5ECF6\",\"width\":0.5},\"pattern\":{\"fillmode\":\"overlay\",\"size\":10,\"solidity\":0.2}},\"type\":\"barpolar\"}],\"pie\":[{\"automargin\":true,\"type\":\"pie\"}]},\"layout\":{\"autotypenumbers\":\"strict\",\"colorway\":[\"#636efa\",\"#EF553B\",\"#00cc96\",\"#ab63fa\",\"#FFA15A\",\"#19d3f3\",\"#FF6692\",\"#B6E880\",\"#FF97FF\",\"#FECB52\"],\"font\":{\"color\":\"#2a3f5f\"},\"hovermode\":\"closest\",\"hoverlabel\":{\"align\":\"left\"},\"paper_bgcolor\":\"white\",\"plot_bgcolor\":\"#E5ECF6\",\"polar\":{\"bgcolor\":\"#E5ECF6\",\"angularaxis\":{\"gridcolor\":\"white\",\"linecolor\":\"white\",\"ticks\":\"\"},\"radialaxis\":{\"gridcolor\":\"white\",\"linecolor\":\"white\",\"ticks\":\"\"}},\"ternary\":{\"bgcolor\":\"#E5ECF6\",\"aaxis\":{\"gridcolor\":\"white\",\"linecolor\":\"white\",\"ticks\":\"\"},\"baxis\":{\"gridcolor\":\"white\",\"linecolor\":\"white\",\"ticks\":\"\"},\"caxis\":{\"gridcolor\":\"white\",\"linecolor\":\"white\",\"ticks\":\"\"}},\"coloraxis\":{\"colorbar\":{\"outlinewidth\":0,\"ticks\":\"\"}},\"colorscale\":{\"sequential\":[[0.0,\"#0d0887\"],[0.1111111111111111,\"#46039f\"],[0.2222222222222222,\"#7201a8\"],[0.3333333333333333,\"#9c179e\"],[0.4444444444444444,\"#bd3786\"],[0.5555555555555556,\"#d8576b\"],[0.6666666666666666,\"#ed7953\"],[0.7777777777777778,\"#fb9f3a\"],[0.8888888888888888,\"#fdca26\"],[1.0,\"#f0f921\"]],\"sequentialminus\":[[0.0,\"#0d0887\"],[0.1111111111111111,\"#46039f\"],[0.2222222222222222,\"#7201a8\"],[0.3333333333333333,\"#9c179e\"],[0.4444444444444444,\"#bd3786\"],[0.5555555555555556,\"#d8576b\"],[0.6666666666666666,\"#ed7953\"],[0.7777777777777778,\"#fb9f3a\"],[0.8888888888888888,\"#fdca26\"],[1.0,\"#f0f921\"]],\"diverging\":[[0,\"#8e0152\"],[0.1,\"#c51b7d\"],[0.2,\"#de77ae\"],[0.3,\"#f1b6da\"],[0.4,\"#fde0ef\"],[0.5,\"#f7f7f7\"],[0.6,\"#e6f5d0\"],[0.7,\"#b8e186\"],[0.8,\"#7fbc41\"],[0.9,\"#4d9221\"],[1,\"#276419\"]]},\"xaxis\":{\"gridcolor\":\"white\",\"linecolor\":\"white\",\"ticks\":\"\",\"title\":{\"standoff\":15},\"zerolinecolor\":\"white\",\"automargin\":true,\"zerolinewidth\":2},\"yaxis\":{\"gridcolor\":\"white\",\"linecolor\":\"white\",\"ticks\":\"\",\"title\":{\"standoff\":15},\"zerolinecolor\":\"white\",\"automargin\":true,\"zerolinewidth\":2},\"scene\":{\"xaxis\":{\"backgroundcolor\":\"#E5ECF6\",\"gridcolor\":\"white\",\"linecolor\":\"white\",\"showbackground\":true,\"ticks\":\"\",\"zerolinecolor\":\"white\",\"gridwidth\":2},\"yaxis\":{\"backgroundcolor\":\"#E5ECF6\",\"gridcolor\":\"white\",\"linecolor\":\"white\",\"showbackground\":true,\"ticks\":\"\",\"zerolinecolor\":\"white\",\"gridwidth\":2},\"zaxis\":{\"backgroundcolor\":\"#E5ECF6\",\"gridcolor\":\"white\",\"linecolor\":\"white\",\"showbackground\":true,\"ticks\":\"\",\"zerolinecolor\":\"white\",\"gridwidth\":2}},\"shapedefaults\":{\"line\":{\"color\":\"#2a3f5f\"}},\"annotationdefaults\":{\"arrowcolor\":\"#2a3f5f\",\"arrowhead\":0,\"arrowwidth\":1},\"geo\":{\"bgcolor\":\"white\",\"landcolor\":\"#E5ECF6\",\"subunitcolor\":\"white\",\"showland\":true,\"showlakes\":true,\"lakecolor\":\"white\"},\"title\":{\"x\":0.05},\"mapbox\":{\"style\":\"light\"}}},\"xaxis\":{\"anchor\":\"y\",\"domain\":[0.0,1.0],\"title\":{\"text\":\"Year-Month\"}},\"yaxis\":{\"anchor\":\"x\",\"domain\":[0.0,1.0],\"title\":{\"text\":\"value\"}},\"legend\":{\"title\":{\"text\":\"indicator_id\"},\"tracegroupgap\":0},\"title\":{\"text\":\"Growth Time Series Visualization\"},\"updatemenus\":[{\"active\":0,\"buttons\":[{\"args\":[{\"visible\":true},{\"title\":\"Growth Time Series Visualization\"}],\"label\":\"Show All\",\"method\":\"update\"},{\"args\":[{\"visible\":[\"legendonly\",\"legendonly\",\"legendonly\",\"legendonly\",\"legendonly\",\"legendonly\",\"legendonly\"]},{\"title\":\"Growth Time Series Visualization\"}],\"label\":\"Hide All\",\"method\":\"update\"}]}]},                        {\"responsive\": true}                    ).then(function(){\n",
       "                            \n",
       "var gd = document.getElementById('f8cef3cd-984b-439b-b203-5833f27c0d96');\n",
       "var x = new MutationObserver(function (mutations, observer) {{\n",
       "        var display = window.getComputedStyle(gd).display;\n",
       "        if (!display || display === 'none') {{\n",
       "            console.log([gd, 'removed!']);\n",
       "            Plotly.purge(gd);\n",
       "            observer.disconnect();\n",
       "        }}\n",
       "}});\n",
       "\n",
       "// Listen for the removal of the full notebook cells\n",
       "var notebookContainer = gd.closest('#notebook-container');\n",
       "if (notebookContainer) {{\n",
       "    x.observe(notebookContainer, {childList: true});\n",
       "}}\n",
       "\n",
       "// Listen for the clearing of the current output cell\n",
       "var outputEl = gd.closest('.output');\n",
       "if (outputEl) {{\n",
       "    x.observe(outputEl, {childList: true});\n",
       "}}\n",
       "\n",
       "                        })                };                });            </script>        </div>"
      ]
     },
     "metadata": {},
     "output_type": "display_data"
    }
   ],
   "source": [
    "fig_growth = visualize_ts(df_growth,'year_month', 'Growth Time Series Visualization')\n",
    "fig_growth.show()"
   ]
  },
  {
   "cell_type": "markdown",
   "id": "98ba52ea",
   "metadata": {},
   "source": [
    "When we plot inflation against both PRIBOR rates we can observe that PRIBOR closely follows the inflation development. However, in the last great inflation episode (since 2021), we can observe that PRIBOR stopped at significantly lower rates than inflation. This is the consequence of the CNB's termination of the repo rate hiking cycle in the summer of 2022, leaving the CNB repo rate at 7% while inflation continued to surge further.\n",
    "\n",
    "When we look more closely at inflation itself, we can observe several periods of elevated inflation. One was centered around the GFC, where the large economic uncertainty and CZK depreciation could be listed as partial reasons. However, the most significant inflation period took place post 2021 as discussed previously. During this period, inflation peaked in September 2022 at value close to 18%, which was the largest value in the sample. We can observe large drop inflation after this, and subsequent rise in January 2023. This pattern is repeated one lear later after September 2023. This is due to the fact that In October 2022, the so-called savings tariff was introduced by the Czech government. As a result, the price of the consumer basket fell compared to the previous month, the most in Czech history, only to jump back up to a record high in January 2023 after the savings tariff ended. Although the September 2023 inflation still contained the record month-on-month decline from October 2022, October 2023 no longer did. Therefore, purely mathematically, October 2023's year-over-year inflation moved higher.\n",
    "\n",
    "When we compare the GDP and Industry growth, we can state that the industry growth is much more volatile, but the size of the size of fluctuations is much smaller. It is much harder to observe any patern in the industry growth than in the GDP growth. Industry growth has several advantages. It has higher frequency and more subtle changes could be retreived from it. On the other hand the data on industry growth is more noisy which may create false signals. The GDP growth data is more stable and reliable, however, it is more persistant and it could fail to register changes in the performance of the economy soon enough, which is needed for accurate forecasts."
   ]
  },
  {
   "cell_type": "markdown",
   "id": "453d7d89",
   "metadata": {},
   "source": [
    "# Preparing the VAR model"
   ]
  },
  {
   "cell_type": "code",
   "execution_count": 61,
   "id": "24014b71",
   "metadata": {},
   "outputs": [],
   "source": [
    "import pandas as pd\n",
    "import numpy as np\n",
    "from statsmodels.tsa.api import VAR\n",
    "from statsmodels.tsa.stattools import adfuller\n",
    "import matplotlib.pyplot as plt\n",
    "%matplotlib inline\n",
    "plt.style.use('seaborn-darkgrid')\n",
    "import warnings\n",
    "warnings.filterwarnings('ignore')\n",
    "import tkinter as tk\n",
    "from tkinter import ttk"
   ]
  },
  {
   "cell_type": "code",
   "execution_count": 62,
   "id": "60686de9",
   "metadata": {},
   "outputs": [],
   "source": [
    "def data_to_quarterly(df, data_freq):\n",
    "  '''\n",
    "  Takes a time-series DataFrame (df) and resample it to a specified data frequency (quarterly, in this case) while aggregating the data using the mean within each time interval.\n",
    "  The resulting DataFrame is then cleaned by dropping rows with missing values, and the cleaned, resampled DataFrame is returned.\n",
    "  '''\n",
    "  df_quarterly=df.copy()\n",
    "  df_quarterly = df_quarterly.resample(data_freq).mean()\n",
    "  df_quarterly = df_quarterly.dropna()\n",
    "\n",
    "  return df_quarterly"
   ]
  },
  {
   "cell_type": "code",
   "execution_count": 63,
   "id": "a543deb1",
   "metadata": {
    "scrolled": false
   },
   "outputs": [
    {
     "data": {
      "text/html": [
       "<div>\n",
       "<style scoped>\n",
       "    .dataframe tbody tr th:only-of-type {\n",
       "        vertical-align: middle;\n",
       "    }\n",
       "\n",
       "    .dataframe tbody tr th {\n",
       "        vertical-align: top;\n",
       "    }\n",
       "\n",
       "    .dataframe thead th {\n",
       "        text-align: right;\n",
       "    }\n",
       "</style>\n",
       "<table border=\"1\" class=\"dataframe\">\n",
       "  <thead>\n",
       "    <tr style=\"text-align: right;\">\n",
       "      <th>indicator_id</th>\n",
       "      <th>EUR_CZK</th>\n",
       "      <th>PRIBOR_12M</th>\n",
       "      <th>PRIBOR_3M</th>\n",
       "      <th>Inflation_yoy</th>\n",
       "      <th>GDP_growth</th>\n",
       "      <th>Industry_growth</th>\n",
       "    </tr>\n",
       "    <tr>\n",
       "      <th>year_month</th>\n",
       "      <th></th>\n",
       "      <th></th>\n",
       "      <th></th>\n",
       "      <th></th>\n",
       "      <th></th>\n",
       "      <th></th>\n",
       "    </tr>\n",
       "  </thead>\n",
       "  <tbody>\n",
       "    <tr>\n",
       "      <th>2005Q1</th>\n",
       "      <td>30.014444</td>\n",
       "      <td>2.353240</td>\n",
       "      <td>2.286870</td>\n",
       "      <td>1.633333</td>\n",
       "      <td>7.896944</td>\n",
       "      <td>-0.085744</td>\n",
       "    </tr>\n",
       "    <tr>\n",
       "      <th>2005Q2</th>\n",
       "      <td>30.125846</td>\n",
       "      <td>1.871861</td>\n",
       "      <td>1.851616</td>\n",
       "      <td>1.566667</td>\n",
       "      <td>8.051587</td>\n",
       "      <td>0.822676</td>\n",
       "    </tr>\n",
       "    <tr>\n",
       "      <th>2005Q3</th>\n",
       "      <td>29.677063</td>\n",
       "      <td>1.859233</td>\n",
       "      <td>1.787269</td>\n",
       "      <td>1.866667</td>\n",
       "      <td>6.047534</td>\n",
       "      <td>0.461012</td>\n",
       "    </tr>\n",
       "    <tr>\n",
       "      <th>2005Q4</th>\n",
       "      <td>29.298306</td>\n",
       "      <td>2.439817</td>\n",
       "      <td>2.107548</td>\n",
       "      <td>2.400000</td>\n",
       "      <td>5.084411</td>\n",
       "      <td>0.783833</td>\n",
       "    </tr>\n",
       "    <tr>\n",
       "      <th>2006Q1</th>\n",
       "      <td>28.599769</td>\n",
       "      <td>2.295654</td>\n",
       "      <td>2.074781</td>\n",
       "      <td>2.833333</td>\n",
       "      <td>6.670184</td>\n",
       "      <td>0.697879</td>\n",
       "    </tr>\n",
       "    <tr>\n",
       "      <th>...</th>\n",
       "      <td>...</td>\n",
       "      <td>...</td>\n",
       "      <td>...</td>\n",
       "      <td>...</td>\n",
       "      <td>...</td>\n",
       "      <td>...</td>\n",
       "    </tr>\n",
       "    <tr>\n",
       "      <th>2022Q3</th>\n",
       "      <td>24.572667</td>\n",
       "      <td>7.491931</td>\n",
       "      <td>7.272679</td>\n",
       "      <td>17.566667</td>\n",
       "      <td>11.159286</td>\n",
       "      <td>0.087049</td>\n",
       "    </tr>\n",
       "    <tr>\n",
       "      <th>2022Q4</th>\n",
       "      <td>24.389333</td>\n",
       "      <td>7.374810</td>\n",
       "      <td>7.269349</td>\n",
       "      <td>15.700000</td>\n",
       "      <td>11.443834</td>\n",
       "      <td>0.065998</td>\n",
       "    </tr>\n",
       "    <tr>\n",
       "      <th>2023Q1</th>\n",
       "      <td>23.784333</td>\n",
       "      <td>7.235482</td>\n",
       "      <td>7.203173</td>\n",
       "      <td>16.400000</td>\n",
       "      <td>11.307186</td>\n",
       "      <td>-0.175149</td>\n",
       "    </tr>\n",
       "    <tr>\n",
       "      <th>2023Q2</th>\n",
       "      <td>23.579333</td>\n",
       "      <td>7.180936</td>\n",
       "      <td>7.168403</td>\n",
       "      <td>11.166667</td>\n",
       "      <td>9.133266</td>\n",
       "      <td>0.122077</td>\n",
       "    </tr>\n",
       "    <tr>\n",
       "      <th>2023Q3</th>\n",
       "      <td>24.133667</td>\n",
       "      <td>6.941113</td>\n",
       "      <td>7.101550</td>\n",
       "      <td>8.066667</td>\n",
       "      <td>6.291954</td>\n",
       "      <td>-1.416078</td>\n",
       "    </tr>\n",
       "  </tbody>\n",
       "</table>\n",
       "<p>75 rows × 6 columns</p>\n",
       "</div>"
      ],
      "text/plain": [
       "indicator_id    EUR_CZK  PRIBOR_12M  PRIBOR_3M  Inflation_yoy  GDP_growth  \\\n",
       "year_month                                                                  \n",
       "2005Q1        30.014444    2.353240   2.286870       1.633333    7.896944   \n",
       "2005Q2        30.125846    1.871861   1.851616       1.566667    8.051587   \n",
       "2005Q3        29.677063    1.859233   1.787269       1.866667    6.047534   \n",
       "2005Q4        29.298306    2.439817   2.107548       2.400000    5.084411   \n",
       "2006Q1        28.599769    2.295654   2.074781       2.833333    6.670184   \n",
       "...                 ...         ...        ...            ...         ...   \n",
       "2022Q3        24.572667    7.491931   7.272679      17.566667   11.159286   \n",
       "2022Q4        24.389333    7.374810   7.269349      15.700000   11.443834   \n",
       "2023Q1        23.784333    7.235482   7.203173      16.400000   11.307186   \n",
       "2023Q2        23.579333    7.180936   7.168403      11.166667    9.133266   \n",
       "2023Q3        24.133667    6.941113   7.101550       8.066667    6.291954   \n",
       "\n",
       "indicator_id  Industry_growth  \n",
       "year_month                     \n",
       "2005Q1              -0.085744  \n",
       "2005Q2               0.822676  \n",
       "2005Q3               0.461012  \n",
       "2005Q4               0.783833  \n",
       "2006Q1               0.697879  \n",
       "...                       ...  \n",
       "2022Q3               0.087049  \n",
       "2022Q4               0.065998  \n",
       "2023Q1              -0.175149  \n",
       "2023Q2               0.122077  \n",
       "2023Q3              -1.416078  \n",
       "\n",
       "[75 rows x 6 columns]"
      ]
     },
     "execution_count": 63,
     "metadata": {},
     "output_type": "execute_result"
    }
   ],
   "source": [
    "#Resample data to quarterly by averaging\n",
    "df_quarterly = data_to_quarterly(df_growth, \"Q\")\n",
    "df_quarterly"
   ]
  },
  {
   "cell_type": "code",
   "execution_count": 67,
   "id": "cbc47f11",
   "metadata": {},
   "outputs": [],
   "source": [
    "def VAR_irf(df, info_criteria, periods_ahead):\n",
    "  '''\n",
    "  Creates a VAR model, fits it to the input data with a maximum number of lags determined by the specified information criterion (info_criteria), and then calculates\n",
    "  and plots impulse response functions (IRFs) for a specified number of periods ahead (periods_ahead). The IRFs provide insights into the dynamic responses of variables\n",
    "  in the system to a one-unit shock in a particular variable. The resulting plot visualizes the impact of shocks over the specified forecast horizon.\n",
    "  '''\n",
    "  model=VAR(df)\n",
    "  results=model.fit(maxlags=8, ic=info_criteria)\n",
    "  irf=results.irf(periods_ahead)\n",
    "  irf.plot(orth=False)"
   ]
  },
  {
   "cell_type": "code",
   "execution_count": 68,
   "id": "db1cc8e6",
   "metadata": {
    "scrolled": true
   },
   "outputs": [
    {
     "data": {
      "image/png": "[encoded data removed]",
      "text/plain": [
       "<Figure size 1000x1000 with 16 Axes>"
      ]
     },
     "metadata": {},
     "output_type": "display_data"
    }
   ],
   "source": [
    "VAR_irf(var_data, \"aic\", 10)"
   ]
  },
  {
   "cell_type": "markdown",
   "id": "779ee4a7",
   "metadata": {},
   "source": [
    "### GDP shock\n",
    "Even though none of the GDP shocks are not statistically significant, their directions overall make sense. A positive GDP shock put an upward preassure on inflation at least initially (classical New Keynesian assumption that positive GDP gap increases inflation). As a reaction to increase inflation, PRIBOR increases as well. The exchange rate appreciates since there is more demand for the CZK given higher GDP.\n",
    "\n",
    "### Inflation shock\n",
    "There is not a clear or statistically significant response of GDP growth to inflation shock. This is probably due to the fact that the GDP growth is real terms. The response of inflation to its own shock is positive and statistically significant. The response of PRIBOR is also positive and statistically significant. The response of exchange rate is negative and statistically significant If purchasing power parity holds in the long run , the nominal exchange rate should depreciate in the long run as a response to an inflation shock, even though on impact it can appreciate in response to this shock. This is a result of monetary policy tightening as a direct consequence of the increased inflation. In this case, the increase in interest rate differential relative to ECB could be more important for the exchange rate in the short run than the increase in inflation itself.\n",
    "\n",
    "### PRIBOR increase shock\n",
    "Again, there is no evidence of  a clear or statistically significant response of GDP growth to an increase in 3M PRIBOR rate. On the other hand, the effect on inflation, though statistically not significant, is after initial surge negative, which is in line with the theory. The effect on PRIBOR of it own shock is initially statistically significant and positive, but eventually turns negative as inflation decreases. The effect on exchange rate is nor unambiguous neither statistically significant. This goes against the theory and what we discussed above. However, it may depend on the resons for the increase in PRIBOR, which is not specified in the model. Also, the unconventional exchange rate policy of the CNB from 2013 until 2017 might have also played a role, resulting in a weaker than anticipated response of exchange rate in the model.\n",
    "\n",
    "### Exchange rate depreciation shock\n",
    "The reaction of GDP to a depreciation shock is positive and statistically significant. This is in line with theory as weaker exchange rate boosts the domestic product because it makes domestic goods relatively cheaper to foreign goods and thus boosts domestic and foreign demand for domestic goods. Even though the effect on inflation wasn't statistically it was unambiguously positive. This is also in line with theory as weaker exchange rate makes imports and imported inputs for domestic production more expensive and also the higher demand for domestic goods can contribute to inflation. The effect on PRIBOR is positive and statistically significant, which is probably a reaction to the inrease in inflation and GDP. The effect of exchange rate shock on itself is positive and statistically significant."
   ]
  },
  {
   "cell_type": "markdown",
   "id": "ce303f59",
   "metadata": {},
   "source": [
    "# Forecasting"
   ]
  },
  {
   "cell_type": "code",
   "execution_count": 23,
   "id": "8f573a08",
   "metadata": {},
   "outputs": [],
   "source": [
    "import pandas as pd\n",
    "import numpy as np\n",
    "from statsmodels.tsa.api import VAR\n",
    "from statsmodels.tsa.stattools import adfuller\n",
    "import matplotlib.pyplot as plt\n",
    "%matplotlib inline\n",
    "plt.style.use('seaborn-darkgrid')\n",
    "import warnings\n",
    "warnings.filterwarnings('ignore')"
   ]
  },
  {
   "cell_type": "code",
   "execution_count": 24,
   "id": "a2a91eab",
   "metadata": {},
   "outputs": [],
   "source": [
    "def VAR_forecast(df,info_criteria):\n",
    "#Choose info_criteria from ic{‘aic’, ‘fpe’, ‘hqic’, ‘bic’, None}\n",
    "  model = VAR(df)\n",
    "  results = model.fit(maxlags=8, ic=info_criteria)\n",
    "  lag_order = results.k_ar\n",
    "  forecast_values=results.forecast(df.values[-lag_order:], 5)\n",
    "\n",
    "  VAR_forecast_df = pd.DataFrame(forecast_values, columns=df.columns)\n",
    "  VAR_forecast_df.index = pd.period_range(start=df.index[-1], periods=6, freq='Q')[1:]\n",
    "  VAR_forecast_df.columns = VAR_forecast_df.columns.map(lambda x: f\"{x}_VAR_forecast\")\n",
    "\n",
    "  return VAR_forecast_df"
   ]
  },
  {
   "cell_type": "code",
   "execution_count": 25,
   "id": "71995be0",
   "metadata": {},
   "outputs": [],
   "source": [
    "def data_to_quarterly(df, data_freq):\n",
    "  df_quarterly=df.copy()\n",
    "  df_quarterly = df_quarterly.resample(data_freq).mean()\n",
    "  df_quarterly = df_quarterly.dropna()\n",
    "\n",
    "  return df_quarterly"
   ]
  },
  {
   "cell_type": "code",
   "execution_count": 26,
   "id": "3bf0bb1d",
   "metadata": {},
   "outputs": [
    {
     "data": {
      "text/html": [
       "<div>\n",
       "<style scoped>\n",
       "    .dataframe tbody tr th:only-of-type {\n",
       "        vertical-align: middle;\n",
       "    }\n",
       "\n",
       "    .dataframe tbody tr th {\n",
       "        vertical-align: top;\n",
       "    }\n",
       "\n",
       "    .dataframe thead th {\n",
       "        text-align: right;\n",
       "    }\n",
       "</style>\n",
       "<table border=\"1\" class=\"dataframe\">\n",
       "  <thead>\n",
       "    <tr style=\"text-align: right;\">\n",
       "      <th>indicator_id</th>\n",
       "      <th>EUR_CZK</th>\n",
       "      <th>PRIBOR_12M</th>\n",
       "      <th>PRIBOR_3M</th>\n",
       "      <th>Inflation_yoy</th>\n",
       "      <th>GDP_growth</th>\n",
       "      <th>Industry_growth</th>\n",
       "    </tr>\n",
       "    <tr>\n",
       "      <th>year_month</th>\n",
       "      <th></th>\n",
       "      <th></th>\n",
       "      <th></th>\n",
       "      <th></th>\n",
       "      <th></th>\n",
       "      <th></th>\n",
       "    </tr>\n",
       "  </thead>\n",
       "  <tbody>\n",
       "    <tr>\n",
       "      <th>2005Q1</th>\n",
       "      <td>30.014444</td>\n",
       "      <td>2.353240</td>\n",
       "      <td>2.286870</td>\n",
       "      <td>1.633333</td>\n",
       "      <td>7.896944</td>\n",
       "      <td>-0.085744</td>\n",
       "    </tr>\n",
       "    <tr>\n",
       "      <th>2005Q2</th>\n",
       "      <td>30.125846</td>\n",
       "      <td>1.871861</td>\n",
       "      <td>1.851616</td>\n",
       "      <td>1.566667</td>\n",
       "      <td>8.051587</td>\n",
       "      <td>0.822676</td>\n",
       "    </tr>\n",
       "    <tr>\n",
       "      <th>2005Q3</th>\n",
       "      <td>29.677063</td>\n",
       "      <td>1.859233</td>\n",
       "      <td>1.787269</td>\n",
       "      <td>1.866667</td>\n",
       "      <td>6.047534</td>\n",
       "      <td>0.461012</td>\n",
       "    </tr>\n",
       "    <tr>\n",
       "      <th>2005Q4</th>\n",
       "      <td>29.298306</td>\n",
       "      <td>2.439817</td>\n",
       "      <td>2.107548</td>\n",
       "      <td>2.400000</td>\n",
       "      <td>5.084411</td>\n",
       "      <td>0.783833</td>\n",
       "    </tr>\n",
       "    <tr>\n",
       "      <th>2006Q1</th>\n",
       "      <td>28.599769</td>\n",
       "      <td>2.295654</td>\n",
       "      <td>2.074781</td>\n",
       "      <td>2.833333</td>\n",
       "      <td>6.670184</td>\n",
       "      <td>0.697879</td>\n",
       "    </tr>\n",
       "    <tr>\n",
       "      <th>...</th>\n",
       "      <td>...</td>\n",
       "      <td>...</td>\n",
       "      <td>...</td>\n",
       "      <td>...</td>\n",
       "      <td>...</td>\n",
       "      <td>...</td>\n",
       "    </tr>\n",
       "    <tr>\n",
       "      <th>2022Q3</th>\n",
       "      <td>24.572667</td>\n",
       "      <td>7.491931</td>\n",
       "      <td>7.272679</td>\n",
       "      <td>17.566667</td>\n",
       "      <td>11.159286</td>\n",
       "      <td>0.087049</td>\n",
       "    </tr>\n",
       "    <tr>\n",
       "      <th>2022Q4</th>\n",
       "      <td>24.389333</td>\n",
       "      <td>7.374810</td>\n",
       "      <td>7.269349</td>\n",
       "      <td>15.700000</td>\n",
       "      <td>11.443834</td>\n",
       "      <td>0.065998</td>\n",
       "    </tr>\n",
       "    <tr>\n",
       "      <th>2023Q1</th>\n",
       "      <td>23.784333</td>\n",
       "      <td>7.235482</td>\n",
       "      <td>7.203173</td>\n",
       "      <td>16.400000</td>\n",
       "      <td>11.307186</td>\n",
       "      <td>-0.175149</td>\n",
       "    </tr>\n",
       "    <tr>\n",
       "      <th>2023Q2</th>\n",
       "      <td>23.579333</td>\n",
       "      <td>7.180936</td>\n",
       "      <td>7.168403</td>\n",
       "      <td>11.166667</td>\n",
       "      <td>9.133266</td>\n",
       "      <td>0.122077</td>\n",
       "    </tr>\n",
       "    <tr>\n",
       "      <th>2023Q3</th>\n",
       "      <td>24.133667</td>\n",
       "      <td>6.941113</td>\n",
       "      <td>7.101550</td>\n",
       "      <td>8.066667</td>\n",
       "      <td>6.291954</td>\n",
       "      <td>-1.416078</td>\n",
       "    </tr>\n",
       "  </tbody>\n",
       "</table>\n",
       "<p>75 rows × 6 columns</p>\n",
       "</div>"
      ],
      "text/plain": [
       "indicator_id    EUR_CZK  PRIBOR_12M  PRIBOR_3M  Inflation_yoy  GDP_growth  \\\n",
       "year_month                                                                  \n",
       "2005Q1        30.014444    2.353240   2.286870       1.633333    7.896944   \n",
       "2005Q2        30.125846    1.871861   1.851616       1.566667    8.051587   \n",
       "2005Q3        29.677063    1.859233   1.787269       1.866667    6.047534   \n",
       "2005Q4        29.298306    2.439817   2.107548       2.400000    5.084411   \n",
       "2006Q1        28.599769    2.295654   2.074781       2.833333    6.670184   \n",
       "...                 ...         ...        ...            ...         ...   \n",
       "2022Q3        24.572667    7.491931   7.272679      17.566667   11.159286   \n",
       "2022Q4        24.389333    7.374810   7.269349      15.700000   11.443834   \n",
       "2023Q1        23.784333    7.235482   7.203173      16.400000   11.307186   \n",
       "2023Q2        23.579333    7.180936   7.168403      11.166667    9.133266   \n",
       "2023Q3        24.133667    6.941113   7.101550       8.066667    6.291954   \n",
       "\n",
       "indicator_id  Industry_growth  \n",
       "year_month                     \n",
       "2005Q1              -0.085744  \n",
       "2005Q2               0.822676  \n",
       "2005Q3               0.461012  \n",
       "2005Q4               0.783833  \n",
       "2006Q1               0.697879  \n",
       "...                       ...  \n",
       "2022Q3               0.087049  \n",
       "2022Q4               0.065998  \n",
       "2023Q1              -0.175149  \n",
       "2023Q2               0.122077  \n",
       "2023Q3              -1.416078  \n",
       "\n",
       "[75 rows x 6 columns]"
      ]
     },
     "execution_count": 26,
     "metadata": {},
     "output_type": "execute_result"
    }
   ],
   "source": [
    "#Resample data to quarterly by averaging\n",
    "df_quarterly = data_to_quarterly(df_growth, \"Q\")\n",
    "df_quarterly"
   ]
  },
  {
   "cell_type": "code",
   "execution_count": 27,
   "id": "324895ba",
   "metadata": {},
   "outputs": [
    {
     "data": {
      "text/html": [
       "<div>\n",
       "<style scoped>\n",
       "    .dataframe tbody tr th:only-of-type {\n",
       "        vertical-align: middle;\n",
       "    }\n",
       "\n",
       "    .dataframe tbody tr th {\n",
       "        vertical-align: top;\n",
       "    }\n",
       "\n",
       "    .dataframe thead th {\n",
       "        text-align: right;\n",
       "    }\n",
       "</style>\n",
       "<table border=\"1\" class=\"dataframe\">\n",
       "  <thead>\n",
       "    <tr style=\"text-align: right;\">\n",
       "      <th></th>\n",
       "      <th>pvalue</th>\n",
       "      <th>Integration_order</th>\n",
       "    </tr>\n",
       "  </thead>\n",
       "  <tbody>\n",
       "    <tr>\n",
       "      <th>GDP_growth</th>\n",
       "      <td>0.035711</td>\n",
       "      <td>0</td>\n",
       "    </tr>\n",
       "    <tr>\n",
       "      <th>Inflation_yoy</th>\n",
       "      <td>0.035711</td>\n",
       "      <td>0</td>\n",
       "    </tr>\n",
       "    <tr>\n",
       "      <th>PRIBOR_3M</th>\n",
       "      <td>0.035711</td>\n",
       "      <td>0</td>\n",
       "    </tr>\n",
       "    <tr>\n",
       "      <th>EUR_CZK</th>\n",
       "      <td>0.035711</td>\n",
       "      <td>0</td>\n",
       "    </tr>\n",
       "  </tbody>\n",
       "</table>\n",
       "</div>"
      ],
      "text/plain": [
       "                 pvalue Integration_order\n",
       "GDP_growth     0.035711                 0\n",
       "Inflation_yoy  0.035711                 0\n",
       "PRIBOR_3M      0.035711                 0\n",
       "EUR_CZK        0.035711                 0"
      ]
     },
     "execution_count": 27,
     "metadata": {},
     "output_type": "execute_result"
    }
   ],
   "source": [
    "var_list = [\"GDP_growth\",\"Inflation_yoy\",\"PRIBOR_3M\",\"EUR_CZK\"]\n",
    "\n",
    "# Create a dataframe to save the p-values of the ADF tests\n",
    "adf_table = pd.DataFrame(index=var_list, columns=['pvalue','Integration_order'])\n",
    "\n",
    "# Apply the ADF test to the each time series\n",
    "for ts in var_list:\n",
    "    adf_table.loc[var_list,'pvalue'] = adfuller(df_quarterly[f'{ts}'],autolag='aic',regression='c')[1]\n",
    "\n",
    "for ts in var_list:\n",
    "    if adf_table.loc[ts,'pvalue']<0.05:\n",
    "      adf_table.loc[ts,'Integration_order'] = 0\n",
    "    else:\n",
    "      adf_table.loc[ts,'Integration_order'] = 1\n",
    "      print(\"Some of the time series are not stationary. Please difference them.\")\n",
    "\n",
    "adf_table"
   ]
  },
  {
   "cell_type": "code",
   "execution_count": 28,
   "id": "6b9b2403",
   "metadata": {},
   "outputs": [
    {
     "data": {
      "text/html": [
       "<div>\n",
       "<style scoped>\n",
       "    .dataframe tbody tr th:only-of-type {\n",
       "        vertical-align: middle;\n",
       "    }\n",
       "\n",
       "    .dataframe tbody tr th {\n",
       "        vertical-align: top;\n",
       "    }\n",
       "\n",
       "    .dataframe thead th {\n",
       "        text-align: right;\n",
       "    }\n",
       "</style>\n",
       "<table border=\"1\" class=\"dataframe\">\n",
       "  <thead>\n",
       "    <tr style=\"text-align: right;\">\n",
       "      <th>indicator_id</th>\n",
       "      <th>GDP_growth_VAR_forecast</th>\n",
       "      <th>Inflation_yoy_VAR_forecast</th>\n",
       "      <th>PRIBOR_3M_VAR_forecast</th>\n",
       "      <th>EUR_CZK_VAR_forecast</th>\n",
       "    </tr>\n",
       "  </thead>\n",
       "  <tbody>\n",
       "    <tr>\n",
       "      <th>2023Q4</th>\n",
       "      <td>-0.029265</td>\n",
       "      <td>7.424231</td>\n",
       "      <td>7.136110</td>\n",
       "      <td>25.221953</td>\n",
       "    </tr>\n",
       "    <tr>\n",
       "      <th>2024Q1</th>\n",
       "      <td>-2.030833</td>\n",
       "      <td>6.944304</td>\n",
       "      <td>7.552592</td>\n",
       "      <td>27.271266</td>\n",
       "    </tr>\n",
       "    <tr>\n",
       "      <th>2024Q2</th>\n",
       "      <td>-0.539418</td>\n",
       "      <td>8.157583</td>\n",
       "      <td>7.724346</td>\n",
       "      <td>27.375951</td>\n",
       "    </tr>\n",
       "    <tr>\n",
       "      <th>2024Q3</th>\n",
       "      <td>0.587035</td>\n",
       "      <td>11.697830</td>\n",
       "      <td>8.675721</td>\n",
       "      <td>25.236162</td>\n",
       "    </tr>\n",
       "    <tr>\n",
       "      <th>2024Q4</th>\n",
       "      <td>5.433690</td>\n",
       "      <td>11.712673</td>\n",
       "      <td>8.314119</td>\n",
       "      <td>24.362718</td>\n",
       "    </tr>\n",
       "  </tbody>\n",
       "</table>\n",
       "</div>"
      ],
      "text/plain": [
       "indicator_id  GDP_growth_VAR_forecast  Inflation_yoy_VAR_forecast  \\\n",
       "2023Q4                      -0.029265                    7.424231   \n",
       "2024Q1                      -2.030833                    6.944304   \n",
       "2024Q2                      -0.539418                    8.157583   \n",
       "2024Q3                       0.587035                   11.697830   \n",
       "2024Q4                       5.433690                   11.712673   \n",
       "\n",
       "indicator_id  PRIBOR_3M_VAR_forecast  EUR_CZK_VAR_forecast  \n",
       "2023Q4                      7.136110             25.221953  \n",
       "2024Q1                      7.552592             27.271266  \n",
       "2024Q2                      7.724346             27.375951  \n",
       "2024Q3                      8.675721             25.236162  \n",
       "2024Q4                      8.314119             24.362718  "
      ]
     },
     "execution_count": 28,
     "metadata": {},
     "output_type": "execute_result"
    }
   ],
   "source": [
    "var_data = subset_df(df_quarterly,var_list)\n",
    "VAR_forecast_df=VAR_forecast(var_data,\"aic\")\n",
    "VAR_forecast_df"
   ]
  },
  {
   "cell_type": "code",
   "execution_count": 29,
   "id": "e11a4bad-d2ad-4fc3-a112-8f18cc975aea",
   "metadata": {},
   "outputs": [
    {
     "name": "stdout",
     "output_type": "stream",
     "text": [
      "               indicator_id     period      value\n",
      "0    MGDPGDPXXADJYOYPECCOPQ 2025-12-31   2.915441\n",
      "1    MGDPGDPXXADJYOYPECCOPQ 2025-09-30   2.925344\n",
      "2    MGDPGDPXXADJYOYPECCOPQ 2025-06-30   2.885463\n",
      "3    MGDPGDPXXADJYOYPECCOPQ 2025-03-31   2.551609\n",
      "4    MGDPGDPXXADJYOYPECCOPQ 2024-12-31   2.216939\n",
      "..                      ...        ...        ...\n",
      "455    MPERXMEXXXEXRVALNOMQ 1999-03-31  37.156000\n",
      "456    MPERXMEXXXEXRVALNOMQ 1998-12-31  35.124000\n",
      "457    MPERXMEXXXEXRVALNOMQ 1998-09-30  35.321000\n",
      "458    MPERXMEXXXEXRVALNOMQ 1998-06-30  36.579000\n",
      "459    MPERXMEXXXEXRVALNOMQ 1998-03-31  37.664000\n",
      "\n",
      "[460 rows x 3 columns]\n"
     ]
    }
   ],
   "source": [
    "#Download CNB forecasts\n",
    "ID_dict_forecast = {'MGDPGDPXXADJYOYPECCOPQ': 'GDP_growth_CNB_forecast', 'MCPIHINXXNAJYOYPECQ': 'Inflation_yoy_CNB_forecast',\"MPIRSIRXXXRATPECNOMQ\":\"PRIBOR_3M_CNB_forecast\" ,'MPERXMEXXXEXRVALNOMQ': 'EUR_CZK_CNB_forecast'}\n",
    "IDs_forecast= ','.join(ID_dict_forecast.keys())\n",
    "CNB_forecast = download_data_from_api(my_api_key, IDs_forecast)\n",
    "if CNB_forecast is not None:\n",
    "    print(CNB_forecast)"
   ]
  },
  {
   "cell_type": "code",
   "execution_count": 30,
   "id": "9fa293df-53ef-497d-bf84-c53936adef4d",
   "metadata": {},
   "outputs": [
    {
     "data": {
      "text/html": [
       "<div>\n",
       "<style scoped>\n",
       "    .dataframe tbody tr th:only-of-type {\n",
       "        vertical-align: middle;\n",
       "    }\n",
       "\n",
       "    .dataframe tbody tr th {\n",
       "        vertical-align: top;\n",
       "    }\n",
       "\n",
       "    .dataframe thead th {\n",
       "        text-align: right;\n",
       "    }\n",
       "</style>\n",
       "<table border=\"1\" class=\"dataframe\">\n",
       "  <thead>\n",
       "    <tr style=\"text-align: right;\">\n",
       "      <th>indicator_id</th>\n",
       "      <th>Inflation_yoy_CNB_forecast</th>\n",
       "      <th>GDP_growth_CNB_forecast</th>\n",
       "      <th>EUR_CZK_CNB_forecast</th>\n",
       "      <th>PRIBOR_3M_CNB_forecast</th>\n",
       "    </tr>\n",
       "    <tr>\n",
       "      <th>year_month</th>\n",
       "      <th></th>\n",
       "      <th></th>\n",
       "      <th></th>\n",
       "      <th></th>\n",
       "    </tr>\n",
       "  </thead>\n",
       "  <tbody>\n",
       "    <tr>\n",
       "      <th>1998Q1</th>\n",
       "      <td>13.310986</td>\n",
       "      <td>-1.123760</td>\n",
       "      <td>37.664000</td>\n",
       "      <td>16.011698</td>\n",
       "    </tr>\n",
       "    <tr>\n",
       "      <th>1998Q2</th>\n",
       "      <td>12.699406</td>\n",
       "      <td>-0.620105</td>\n",
       "      <td>36.579000</td>\n",
       "      <td>15.611397</td>\n",
       "    </tr>\n",
       "    <tr>\n",
       "      <th>1998Q3</th>\n",
       "      <td>9.525843</td>\n",
       "      <td>-0.003531</td>\n",
       "      <td>35.321000</td>\n",
       "      <td>14.180548</td>\n",
       "    </tr>\n",
       "    <tr>\n",
       "      <th>1998Q4</th>\n",
       "      <td>7.471488</td>\n",
       "      <td>0.364661</td>\n",
       "      <td>35.124000</td>\n",
       "      <td>11.530635</td>\n",
       "    </tr>\n",
       "    <tr>\n",
       "      <th>1999Q1</th>\n",
       "      <td>2.962066</td>\n",
       "      <td>0.395327</td>\n",
       "      <td>37.156000</td>\n",
       "      <td>8.083123</td>\n",
       "    </tr>\n",
       "    <tr>\n",
       "      <th>...</th>\n",
       "      <td>...</td>\n",
       "      <td>...</td>\n",
       "      <td>...</td>\n",
       "      <td>...</td>\n",
       "    </tr>\n",
       "    <tr>\n",
       "      <th>2024Q4</th>\n",
       "      <td>2.751474</td>\n",
       "      <td>2.216939</td>\n",
       "      <td>24.358460</td>\n",
       "      <td>3.543867</td>\n",
       "    </tr>\n",
       "    <tr>\n",
       "      <th>2025Q1</th>\n",
       "      <td>1.847490</td>\n",
       "      <td>2.551609</td>\n",
       "      <td>24.251266</td>\n",
       "      <td>3.492919</td>\n",
       "    </tr>\n",
       "    <tr>\n",
       "      <th>2025Q2</th>\n",
       "      <td>1.973086</td>\n",
       "      <td>2.885463</td>\n",
       "      <td>24.145991</td>\n",
       "      <td>3.478790</td>\n",
       "    </tr>\n",
       "    <tr>\n",
       "      <th>2025Q3</th>\n",
       "      <td>2.223605</td>\n",
       "      <td>2.925344</td>\n",
       "      <td>24.080204</td>\n",
       "      <td>3.383952</td>\n",
       "    </tr>\n",
       "    <tr>\n",
       "      <th>2025Q4</th>\n",
       "      <td>2.297293</td>\n",
       "      <td>2.915441</td>\n",
       "      <td>24.010403</td>\n",
       "      <td>3.250207</td>\n",
       "    </tr>\n",
       "  </tbody>\n",
       "</table>\n",
       "<p>112 rows × 4 columns</p>\n",
       "</div>"
      ],
      "text/plain": [
       "indicator_id  Inflation_yoy_CNB_forecast  GDP_growth_CNB_forecast  \\\n",
       "year_month                                                          \n",
       "1998Q1                         13.310986                -1.123760   \n",
       "1998Q2                         12.699406                -0.620105   \n",
       "1998Q3                          9.525843                -0.003531   \n",
       "1998Q4                          7.471488                 0.364661   \n",
       "1999Q1                          2.962066                 0.395327   \n",
       "...                                  ...                      ...   \n",
       "2024Q4                          2.751474                 2.216939   \n",
       "2025Q1                          1.847490                 2.551609   \n",
       "2025Q2                          1.973086                 2.885463   \n",
       "2025Q3                          2.223605                 2.925344   \n",
       "2025Q4                          2.297293                 2.915441   \n",
       "\n",
       "indicator_id  EUR_CZK_CNB_forecast  PRIBOR_3M_CNB_forecast  \n",
       "year_month                                                  \n",
       "1998Q1                   37.664000               16.011698  \n",
       "1998Q2                   36.579000               15.611397  \n",
       "1998Q3                   35.321000               14.180548  \n",
       "1998Q4                   35.124000               11.530635  \n",
       "1999Q1                   37.156000                8.083123  \n",
       "...                            ...                     ...  \n",
       "2024Q4                   24.358460                3.543867  \n",
       "2025Q1                   24.251266                3.492919  \n",
       "2025Q2                   24.145991                3.478790  \n",
       "2025Q3                   24.080204                3.383952  \n",
       "2025Q4                   24.010403                3.250207  \n",
       "\n",
       "[112 rows x 4 columns]"
      ]
     },
     "execution_count": 30,
     "metadata": {},
     "output_type": "execute_result"
    }
   ],
   "source": [
    "CNB_forecast=process_data(CNB_forecast,ID_dict_forecast)\n",
    "CNB_forecast_quarterly = data_to_quarterly(CNB_forecast,'Q-DEC')\n",
    "CNB_forecast_quarterly"
   ]
  },
  {
   "cell_type": "code",
   "execution_count": 31,
   "id": "3fa8fc72-a35f-43e1-ad53-33561c0280b5",
   "metadata": {},
   "outputs": [
    {
     "data": {
      "text/html": [
       "<div>\n",
       "<style scoped>\n",
       "    .dataframe tbody tr th:only-of-type {\n",
       "        vertical-align: middle;\n",
       "    }\n",
       "\n",
       "    .dataframe tbody tr th {\n",
       "        vertical-align: top;\n",
       "    }\n",
       "\n",
       "    .dataframe thead th {\n",
       "        text-align: right;\n",
       "    }\n",
       "</style>\n",
       "<table border=\"1\" class=\"dataframe\">\n",
       "  <thead>\n",
       "    <tr style=\"text-align: right;\">\n",
       "      <th>indicator_id</th>\n",
       "      <th>EUR_CZK</th>\n",
       "      <th>PRIBOR_12M</th>\n",
       "      <th>PRIBOR_3M</th>\n",
       "      <th>Inflation_yoy</th>\n",
       "      <th>GDP_growth</th>\n",
       "      <th>Industry_growth</th>\n",
       "      <th>GDP_growth_VAR_forecast</th>\n",
       "      <th>Inflation_yoy_VAR_forecast</th>\n",
       "      <th>PRIBOR_3M_VAR_forecast</th>\n",
       "      <th>EUR_CZK_VAR_forecast</th>\n",
       "      <th>Inflation_yoy_CNB_forecast</th>\n",
       "      <th>GDP_growth_CNB_forecast</th>\n",
       "      <th>EUR_CZK_CNB_forecast</th>\n",
       "      <th>PRIBOR_3M_CNB_forecast</th>\n",
       "    </tr>\n",
       "  </thead>\n",
       "  <tbody>\n",
       "    <tr>\n",
       "      <th>2005Q1</th>\n",
       "      <td>30.014444</td>\n",
       "      <td>2.353240</td>\n",
       "      <td>2.286870</td>\n",
       "      <td>1.633333</td>\n",
       "      <td>7.896944</td>\n",
       "      <td>-0.085744</td>\n",
       "      <td>NaN</td>\n",
       "      <td>NaN</td>\n",
       "      <td>NaN</td>\n",
       "      <td>NaN</td>\n",
       "      <td>NaN</td>\n",
       "      <td>NaN</td>\n",
       "      <td>NaN</td>\n",
       "      <td>NaN</td>\n",
       "    </tr>\n",
       "    <tr>\n",
       "      <th>2005Q2</th>\n",
       "      <td>30.125846</td>\n",
       "      <td>1.871861</td>\n",
       "      <td>1.851616</td>\n",
       "      <td>1.566667</td>\n",
       "      <td>8.051587</td>\n",
       "      <td>0.822676</td>\n",
       "      <td>NaN</td>\n",
       "      <td>NaN</td>\n",
       "      <td>NaN</td>\n",
       "      <td>NaN</td>\n",
       "      <td>NaN</td>\n",
       "      <td>NaN</td>\n",
       "      <td>NaN</td>\n",
       "      <td>NaN</td>\n",
       "    </tr>\n",
       "    <tr>\n",
       "      <th>2005Q3</th>\n",
       "      <td>29.677063</td>\n",
       "      <td>1.859233</td>\n",
       "      <td>1.787269</td>\n",
       "      <td>1.866667</td>\n",
       "      <td>6.047534</td>\n",
       "      <td>0.461012</td>\n",
       "      <td>NaN</td>\n",
       "      <td>NaN</td>\n",
       "      <td>NaN</td>\n",
       "      <td>NaN</td>\n",
       "      <td>NaN</td>\n",
       "      <td>NaN</td>\n",
       "      <td>NaN</td>\n",
       "      <td>NaN</td>\n",
       "    </tr>\n",
       "    <tr>\n",
       "      <th>2005Q4</th>\n",
       "      <td>29.298306</td>\n",
       "      <td>2.439817</td>\n",
       "      <td>2.107548</td>\n",
       "      <td>2.400000</td>\n",
       "      <td>5.084411</td>\n",
       "      <td>0.783833</td>\n",
       "      <td>NaN</td>\n",
       "      <td>NaN</td>\n",
       "      <td>NaN</td>\n",
       "      <td>NaN</td>\n",
       "      <td>NaN</td>\n",
       "      <td>NaN</td>\n",
       "      <td>NaN</td>\n",
       "      <td>NaN</td>\n",
       "    </tr>\n",
       "    <tr>\n",
       "      <th>2006Q1</th>\n",
       "      <td>28.599769</td>\n",
       "      <td>2.295654</td>\n",
       "      <td>2.074781</td>\n",
       "      <td>2.833333</td>\n",
       "      <td>6.670184</td>\n",
       "      <td>0.697879</td>\n",
       "      <td>NaN</td>\n",
       "      <td>NaN</td>\n",
       "      <td>NaN</td>\n",
       "      <td>NaN</td>\n",
       "      <td>NaN</td>\n",
       "      <td>NaN</td>\n",
       "      <td>NaN</td>\n",
       "      <td>NaN</td>\n",
       "    </tr>\n",
       "    <tr>\n",
       "      <th>...</th>\n",
       "      <td>...</td>\n",
       "      <td>...</td>\n",
       "      <td>...</td>\n",
       "      <td>...</td>\n",
       "      <td>...</td>\n",
       "      <td>...</td>\n",
       "      <td>...</td>\n",
       "      <td>...</td>\n",
       "      <td>...</td>\n",
       "      <td>...</td>\n",
       "      <td>...</td>\n",
       "      <td>...</td>\n",
       "      <td>...</td>\n",
       "      <td>...</td>\n",
       "    </tr>\n",
       "    <tr>\n",
       "      <th>2023Q4</th>\n",
       "      <td>NaN</td>\n",
       "      <td>NaN</td>\n",
       "      <td>NaN</td>\n",
       "      <td>NaN</td>\n",
       "      <td>NaN</td>\n",
       "      <td>NaN</td>\n",
       "      <td>-0.029265</td>\n",
       "      <td>7.424231</td>\n",
       "      <td>7.136110</td>\n",
       "      <td>25.221953</td>\n",
       "      <td>7.486953</td>\n",
       "      <td>-0.065895</td>\n",
       "      <td>24.600000</td>\n",
       "      <td>6.552746</td>\n",
       "    </tr>\n",
       "    <tr>\n",
       "      <th>2024Q1</th>\n",
       "      <td>NaN</td>\n",
       "      <td>NaN</td>\n",
       "      <td>NaN</td>\n",
       "      <td>NaN</td>\n",
       "      <td>NaN</td>\n",
       "      <td>NaN</td>\n",
       "      <td>-2.030833</td>\n",
       "      <td>6.944304</td>\n",
       "      <td>7.552592</td>\n",
       "      <td>27.271266</td>\n",
       "      <td>2.724428</td>\n",
       "      <td>0.267504</td>\n",
       "      <td>24.704797</td>\n",
       "      <td>5.460190</td>\n",
       "    </tr>\n",
       "    <tr>\n",
       "      <th>2024Q2</th>\n",
       "      <td>NaN</td>\n",
       "      <td>NaN</td>\n",
       "      <td>NaN</td>\n",
       "      <td>NaN</td>\n",
       "      <td>NaN</td>\n",
       "      <td>NaN</td>\n",
       "      <td>-0.539418</td>\n",
       "      <td>8.157583</td>\n",
       "      <td>7.724346</td>\n",
       "      <td>27.375951</td>\n",
       "      <td>2.600510</td>\n",
       "      <td>0.687400</td>\n",
       "      <td>24.643624</td>\n",
       "      <td>4.300205</td>\n",
       "    </tr>\n",
       "    <tr>\n",
       "      <th>2024Q3</th>\n",
       "      <td>NaN</td>\n",
       "      <td>NaN</td>\n",
       "      <td>NaN</td>\n",
       "      <td>NaN</td>\n",
       "      <td>NaN</td>\n",
       "      <td>NaN</td>\n",
       "      <td>0.587035</td>\n",
       "      <td>11.697830</td>\n",
       "      <td>8.675721</td>\n",
       "      <td>25.236162</td>\n",
       "      <td>2.235736</td>\n",
       "      <td>1.619958</td>\n",
       "      <td>24.510996</td>\n",
       "      <td>3.713199</td>\n",
       "    </tr>\n",
       "    <tr>\n",
       "      <th>2024Q4</th>\n",
       "      <td>NaN</td>\n",
       "      <td>NaN</td>\n",
       "      <td>NaN</td>\n",
       "      <td>NaN</td>\n",
       "      <td>NaN</td>\n",
       "      <td>NaN</td>\n",
       "      <td>5.433690</td>\n",
       "      <td>11.712673</td>\n",
       "      <td>8.314119</td>\n",
       "      <td>24.362718</td>\n",
       "      <td>2.751474</td>\n",
       "      <td>2.216939</td>\n",
       "      <td>24.358460</td>\n",
       "      <td>3.543867</td>\n",
       "    </tr>\n",
       "  </tbody>\n",
       "</table>\n",
       "<p>80 rows × 14 columns</p>\n",
       "</div>"
      ],
      "text/plain": [
       "indicator_id    EUR_CZK  PRIBOR_12M  PRIBOR_3M  Inflation_yoy  GDP_growth  \\\n",
       "2005Q1        30.014444    2.353240   2.286870       1.633333    7.896944   \n",
       "2005Q2        30.125846    1.871861   1.851616       1.566667    8.051587   \n",
       "2005Q3        29.677063    1.859233   1.787269       1.866667    6.047534   \n",
       "2005Q4        29.298306    2.439817   2.107548       2.400000    5.084411   \n",
       "2006Q1        28.599769    2.295654   2.074781       2.833333    6.670184   \n",
       "...                 ...         ...        ...            ...         ...   \n",
       "2023Q4              NaN         NaN        NaN            NaN         NaN   \n",
       "2024Q1              NaN         NaN        NaN            NaN         NaN   \n",
       "2024Q2              NaN         NaN        NaN            NaN         NaN   \n",
       "2024Q3              NaN         NaN        NaN            NaN         NaN   \n",
       "2024Q4              NaN         NaN        NaN            NaN         NaN   \n",
       "\n",
       "indicator_id  Industry_growth  GDP_growth_VAR_forecast  \\\n",
       "2005Q1              -0.085744                      NaN   \n",
       "2005Q2               0.822676                      NaN   \n",
       "2005Q3               0.461012                      NaN   \n",
       "2005Q4               0.783833                      NaN   \n",
       "2006Q1               0.697879                      NaN   \n",
       "...                       ...                      ...   \n",
       "2023Q4                    NaN                -0.029265   \n",
       "2024Q1                    NaN                -2.030833   \n",
       "2024Q2                    NaN                -0.539418   \n",
       "2024Q3                    NaN                 0.587035   \n",
       "2024Q4                    NaN                 5.433690   \n",
       "\n",
       "indicator_id  Inflation_yoy_VAR_forecast  PRIBOR_3M_VAR_forecast  \\\n",
       "2005Q1                               NaN                     NaN   \n",
       "2005Q2                               NaN                     NaN   \n",
       "2005Q3                               NaN                     NaN   \n",
       "2005Q4                               NaN                     NaN   \n",
       "2006Q1                               NaN                     NaN   \n",
       "...                                  ...                     ...   \n",
       "2023Q4                          7.424231                7.136110   \n",
       "2024Q1                          6.944304                7.552592   \n",
       "2024Q2                          8.157583                7.724346   \n",
       "2024Q3                         11.697830                8.675721   \n",
       "2024Q4                         11.712673                8.314119   \n",
       "\n",
       "indicator_id  EUR_CZK_VAR_forecast  Inflation_yoy_CNB_forecast  \\\n",
       "2005Q1                         NaN                         NaN   \n",
       "2005Q2                         NaN                         NaN   \n",
       "2005Q3                         NaN                         NaN   \n",
       "2005Q4                         NaN                         NaN   \n",
       "2006Q1                         NaN                         NaN   \n",
       "...                            ...                         ...   \n",
       "2023Q4                   25.221953                    7.486953   \n",
       "2024Q1                   27.271266                    2.724428   \n",
       "2024Q2                   27.375951                    2.600510   \n",
       "2024Q3                   25.236162                    2.235736   \n",
       "2024Q4                   24.362718                    2.751474   \n",
       "\n",
       "indicator_id  GDP_growth_CNB_forecast  EUR_CZK_CNB_forecast  \\\n",
       "2005Q1                            NaN                   NaN   \n",
       "2005Q2                            NaN                   NaN   \n",
       "2005Q3                            NaN                   NaN   \n",
       "2005Q4                            NaN                   NaN   \n",
       "2006Q1                            NaN                   NaN   \n",
       "...                               ...                   ...   \n",
       "2023Q4                      -0.065895             24.600000   \n",
       "2024Q1                       0.267504             24.704797   \n",
       "2024Q2                       0.687400             24.643624   \n",
       "2024Q3                       1.619958             24.510996   \n",
       "2024Q4                       2.216939             24.358460   \n",
       "\n",
       "indicator_id  PRIBOR_3M_CNB_forecast  \n",
       "2005Q1                           NaN  \n",
       "2005Q2                           NaN  \n",
       "2005Q3                           NaN  \n",
       "2005Q4                           NaN  \n",
       "2006Q1                           NaN  \n",
       "...                              ...  \n",
       "2023Q4                      6.552746  \n",
       "2024Q1                      5.460190  \n",
       "2024Q2                      4.300205  \n",
       "2024Q3                      3.713199  \n",
       "2024Q4                      3.543867  \n",
       "\n",
       "[80 rows x 14 columns]"
      ]
     },
     "execution_count": 31,
     "metadata": {},
     "output_type": "execute_result"
    }
   ],
   "source": [
    "forecast_df = VAR_forecast_df.merge(CNB_forecast_quarterly, left_index=True, right_index=True, how='left')\n",
    "df_merged = pd.concat([df_quarterly, forecast_df], axis=1)\n",
    "df_merged"
   ]
  },
  {
   "cell_type": "code",
   "execution_count": 32,
   "id": "f9894df4-a0e3-404f-9515-fccbca568c11",
   "metadata": {},
   "outputs": [
    {
     "data": {
      "application/vnd.plotly.v1+json": {
       "config": {
        "plotlyServerURL": "https://plot.ly"
       },
       "data": [
        {
         "hovertemplate": "variable=GDP_growth<br>Year-Month=%{x}<br>value=%{y}<extra></extra>",
         "legendgroup": "GDP_growth",
         "line": {
          "color": "#636efa",
          "dash": "solid"
         },
         "marker": {
          "symbol": "circle"
         },
         "mode": "lines",
         "name": "GDP_growth",
         "orientation": "v",
         "showlegend": true,
         "type": "scatter",
         "visible": "legendonly",
         "x": [
          "2005Q1",
          "2005Q2",
          "2005Q3",
          "2005Q4",
          "2006Q1",
          "2006Q2",
          "2006Q3",
          "2006Q4",
          "2007Q1",
          "2007Q2",
          "2007Q3",
          "2007Q4",
          "2008Q1",
          "2008Q2",
          "2008Q3",
          "2008Q4",
          "2009Q1",
          "2009Q2",
          "2009Q3",
          "2009Q4",
          "2010Q1",
          "2010Q2",
          "2010Q3",
          "2010Q4",
          "2011Q1",
          "2011Q2",
          "2011Q3",
          "2011Q4",
          "2012Q1",
          "2012Q2",
          "2012Q3",
          "2012Q4",
          "2013Q1",
          "2013Q2",
          "2013Q3",
          "2013Q4",
          "2014Q1",
          "2014Q2",
          "2014Q3",
          "2014Q4",
          "2015Q1",
          "2015Q2",
          "2015Q3",
          "2015Q4",
          "2016Q1",
          "2016Q2",
          "2016Q3",
          "2016Q4",
          "2017Q1",
          "2017Q2",
          "2017Q3",
          "2017Q4",
          "2018Q1",
          "2018Q2",
          "2018Q3",
          "2018Q4",
          "2019Q1",
          "2019Q2",
          "2019Q3",
          "2019Q4",
          "2020Q1",
          "2020Q2",
          "2020Q3",
          "2020Q4",
          "2021Q1",
          "2021Q2",
          "2021Q3",
          "2021Q4",
          "2022Q1",
          "2022Q2",
          "2022Q3",
          "2022Q4",
          "2023Q1",
          "2023Q2",
          "2023Q3",
          "2023Q4",
          "2024Q1",
          "2024Q2",
          "2024Q3",
          "2024Q4"
         ],
         "xaxis": "x",
         "y": [
          7.896944278010778,
          8.051587108739326,
          6.047533882411315,
          5.084410919540218,
          6.670183622093873,
          6.495197251821537,
          8.619861848660818,
          7.969327704762065,
          10.541718053756554,
          9.224198053389685,
          9.196246112838722,
          8.441034224031199,
          5.217675038179763,
          6.877632853624036,
          6.406815276194237,
          0.7775421687684769,
          -0.06862986443472607,
          -2.9680916700807956,
          -4.976223361801587,
          -0.5291684812574715,
          -1.491378584080806,
          2.028707439668821,
          2.096900417851117,
          1.1219222857431248,
          2.054262139264594,
          1.2894967644060813,
          1.4539202742911215,
          2.175749569918878,
          2.2241103876679347,
          0.4307957532782609,
          0.04340914233439719,
          0.07112469088475848,
          -0.8085663201827202,
          0.4726387963827534,
          2.1497130609677413,
          3.255796485726478,
          4.4003017086711935,
          5.201240783510315,
          6.0979920747294045,
          3.900662143263716,
          6.876890749145005,
          6.859112261563354,
          6.059376570195639,
          6.008699000577593,
          4.536185317730798,
          4.448366150159117,
          2.770501134143018,
          3.1830591281074447,
          4.814607865207833,
          5.7791494352200345,
          7.237783297903533,
          8.151768655450624,
          6.794895271605839,
          5.753071665982006,
          5.3603638810092065,
          5.674885316434896,
          6.888425944473354,
          6.760984079338442,
          7.8644535224440375,
          6.631692281413606,
          2.692311440374624,
          -6.9326280477804545,
          -1.2754082068162376,
          0.08107898734641594,
          0.9910674724458062,
          13.794374974084363,
          7.71060573671798,
          5.6946119921991,
          11.425399381574735,
          10.382969143056442,
          11.159286216558442,
          11.443833739228879,
          11.307186235474362,
          9.133266093021518,
          6.291953965291441,
          null,
          null,
          null,
          null,
          null
         ],
         "yaxis": "y"
        },
        {
         "hovertemplate": "variable=GDP_growth_VAR_forecast<br>Year-Month=%{x}<br>value=%{y}<extra></extra>",
         "legendgroup": "GDP_growth_VAR_forecast",
         "line": {
          "color": "#EF553B",
          "dash": "solid"
         },
         "marker": {
          "symbol": "circle"
         },
         "mode": "lines",
         "name": "GDP_growth_VAR_forecast",
         "orientation": "v",
         "showlegend": true,
         "type": "scatter",
         "visible": "legendonly",
         "x": [
          "2005Q1",
          "2005Q2",
          "2005Q3",
          "2005Q4",
          "2006Q1",
          "2006Q2",
          "2006Q3",
          "2006Q4",
          "2007Q1",
          "2007Q2",
          "2007Q3",
          "2007Q4",
          "2008Q1",
          "2008Q2",
          "2008Q3",
          "2008Q4",
          "2009Q1",
          "2009Q2",
          "2009Q3",
          "2009Q4",
          "2010Q1",
          "2010Q2",
          "2010Q3",
          "2010Q4",
          "2011Q1",
          "2011Q2",
          "2011Q3",
          "2011Q4",
          "2012Q1",
          "2012Q2",
          "2012Q3",
          "2012Q4",
          "2013Q1",
          "2013Q2",
          "2013Q3",
          "2013Q4",
          "2014Q1",
          "2014Q2",
          "2014Q3",
          "2014Q4",
          "2015Q1",
          "2015Q2",
          "2015Q3",
          "2015Q4",
          "2016Q1",
          "2016Q2",
          "2016Q3",
          "2016Q4",
          "2017Q1",
          "2017Q2",
          "2017Q3",
          "2017Q4",
          "2018Q1",
          "2018Q2",
          "2018Q3",
          "2018Q4",
          "2019Q1",
          "2019Q2",
          "2019Q3",
          "2019Q4",
          "2020Q1",
          "2020Q2",
          "2020Q3",
          "2020Q4",
          "2021Q1",
          "2021Q2",
          "2021Q3",
          "2021Q4",
          "2022Q1",
          "2022Q2",
          "2022Q3",
          "2022Q4",
          "2023Q1",
          "2023Q2",
          "2023Q3",
          "2023Q4",
          "2024Q1",
          "2024Q2",
          "2024Q3",
          "2024Q4"
         ],
         "xaxis": "x",
         "y": [
          null,
          null,
          null,
          null,
          null,
          null,
          null,
          null,
          null,
          null,
          null,
          null,
          null,
          null,
          null,
          null,
          null,
          null,
          null,
          null,
          null,
          null,
          null,
          null,
          null,
          null,
          null,
          null,
          null,
          null,
          null,
          null,
          null,
          null,
          null,
          null,
          null,
          null,
          null,
          null,
          null,
          null,
          null,
          null,
          null,
          null,
          null,
          null,
          null,
          null,
          null,
          null,
          null,
          null,
          null,
          null,
          null,
          null,
          null,
          null,
          null,
          null,
          null,
          null,
          null,
          null,
          null,
          null,
          null,
          null,
          null,
          null,
          null,
          null,
          null,
          -0.02926524403427777,
          -2.0308333843576065,
          -0.5394179816373637,
          0.5870354213194986,
          5.43369036607146
         ],
         "yaxis": "y"
        },
        {
         "hovertemplate": "variable=GDP_growth_CNB_forecast<br>Year-Month=%{x}<br>value=%{y}<extra></extra>",
         "legendgroup": "GDP_growth_CNB_forecast",
         "line": {
          "color": "#00cc96",
          "dash": "solid"
         },
         "marker": {
          "symbol": "circle"
         },
         "mode": "lines",
         "name": "GDP_growth_CNB_forecast",
         "orientation": "v",
         "showlegend": true,
         "type": "scatter",
         "visible": "legendonly",
         "x": [
          "2005Q1",
          "2005Q2",
          "2005Q3",
          "2005Q4",
          "2006Q1",
          "2006Q2",
          "2006Q3",
          "2006Q4",
          "2007Q1",
          "2007Q2",
          "2007Q3",
          "2007Q4",
          "2008Q1",
          "2008Q2",
          "2008Q3",
          "2008Q4",
          "2009Q1",
          "2009Q2",
          "2009Q3",
          "2009Q4",
          "2010Q1",
          "2010Q2",
          "2010Q3",
          "2010Q4",
          "2011Q1",
          "2011Q2",
          "2011Q3",
          "2011Q4",
          "2012Q1",
          "2012Q2",
          "2012Q3",
          "2012Q4",
          "2013Q1",
          "2013Q2",
          "2013Q3",
          "2013Q4",
          "2014Q1",
          "2014Q2",
          "2014Q3",
          "2014Q4",
          "2015Q1",
          "2015Q2",
          "2015Q3",
          "2015Q4",
          "2016Q1",
          "2016Q2",
          "2016Q3",
          "2016Q4",
          "2017Q1",
          "2017Q2",
          "2017Q3",
          "2017Q4",
          "2018Q1",
          "2018Q2",
          "2018Q3",
          "2018Q4",
          "2019Q1",
          "2019Q2",
          "2019Q3",
          "2019Q4",
          "2020Q1",
          "2020Q2",
          "2020Q3",
          "2020Q4",
          "2021Q1",
          "2021Q2",
          "2021Q3",
          "2021Q4",
          "2022Q1",
          "2022Q2",
          "2022Q3",
          "2022Q4",
          "2023Q1",
          "2023Q2",
          "2023Q3",
          "2023Q4",
          "2024Q1",
          "2024Q2",
          "2024Q3",
          "2024Q4"
         ],
         "xaxis": "x",
         "y": [
          null,
          null,
          null,
          null,
          null,
          null,
          null,
          null,
          null,
          null,
          null,
          null,
          null,
          null,
          null,
          null,
          null,
          null,
          null,
          null,
          null,
          null,
          null,
          null,
          null,
          null,
          null,
          null,
          null,
          null,
          null,
          null,
          null,
          null,
          null,
          null,
          null,
          null,
          null,
          null,
          null,
          null,
          null,
          null,
          null,
          null,
          null,
          null,
          null,
          null,
          null,
          null,
          null,
          null,
          null,
          null,
          null,
          null,
          null,
          null,
          null,
          null,
          null,
          null,
          null,
          null,
          null,
          null,
          null,
          null,
          null,
          null,
          null,
          null,
          null,
          -0.0658945018,
          0.267504477,
          0.687399633,
          1.61995807,
          2.2169392
         ],
         "yaxis": "y"
        }
       ],
       "layout": {
        "legend": {
         "title": {
          "text": "variable"
         },
         "tracegroupgap": 0
        },
        "template": {
         "data": {
          "bar": [
           {
            "error_x": {
             "color": "#2a3f5f"
            },
            "error_y": {
             "color": "#2a3f5f"
            },
            "marker": {
             "line": {
              "color": "#E5ECF6",
              "width": 0.5
             },
             "pattern": {
              "fillmode": "overlay",
              "size": 10,
              "solidity": 0.2
             }
            },
            "type": "bar"
           }
          ],
          "barpolar": [
           {
            "marker": {
             "line": {
              "color": "#E5ECF6",
              "width": 0.5
             },
             "pattern": {
              "fillmode": "overlay",
              "size": 10,
              "solidity": 0.2
             }
            },
            "type": "barpolar"
           }
          ],
          "carpet": [
           {
            "aaxis": {
             "endlinecolor": "#2a3f5f",
             "gridcolor": "white",
             "linecolor": "white",
             "minorgridcolor": "white",
             "startlinecolor": "#2a3f5f"
            },
            "baxis": {
             "endlinecolor": "#2a3f5f",
             "gridcolor": "white",
             "linecolor": "white",
             "minorgridcolor": "white",
             "startlinecolor": "#2a3f5f"
            },
            "type": "carpet"
           }
          ],
          "choropleth": [
           {
            "colorbar": {
             "outlinewidth": 0,
             "ticks": ""
            },
            "type": "choropleth"
           }
          ],
          "contour": [
           {
            "colorbar": {
             "outlinewidth": 0,
             "ticks": ""
            },
            "colorscale": [
             [
              0,
              "#0d0887"
             ],
             [
              0.1111111111111111,
              "#46039f"
             ],
             [
              0.2222222222222222,
              "#7201a8"
             ],
             [
              0.3333333333333333,
              "#9c179e"
             ],
             [
              0.4444444444444444,
              "#bd3786"
             ],
             [
              0.5555555555555556,
              "#d8576b"
             ],
             [
              0.6666666666666666,
              "#ed7953"
             ],
             [
              0.7777777777777778,
              "#fb9f3a"
             ],
             [
              0.8888888888888888,
              "#fdca26"
             ],
             [
              1,
              "#f0f921"
             ]
            ],
            "type": "contour"
           }
          ],
          "contourcarpet": [
           {
            "colorbar": {
             "outlinewidth": 0,
             "ticks": ""
            },
            "type": "contourcarpet"
           }
          ],
          "heatmap": [
           {
            "colorbar": {
             "outlinewidth": 0,
             "ticks": ""
            },
            "colorscale": [
             [
              0,
              "#0d0887"
             ],
             [
              0.1111111111111111,
              "#46039f"
             ],
             [
              0.2222222222222222,
              "#7201a8"
             ],
             [
              0.3333333333333333,
              "#9c179e"
             ],
             [
              0.4444444444444444,
              "#bd3786"
             ],
             [
              0.5555555555555556,
              "#d8576b"
             ],
             [
              0.6666666666666666,
              "#ed7953"
             ],
             [
              0.7777777777777778,
              "#fb9f3a"
             ],
             [
              0.8888888888888888,
              "#fdca26"
             ],
             [
              1,
              "#f0f921"
             ]
            ],
            "type": "heatmap"
           }
          ],
          "heatmapgl": [
           {
            "colorbar": {
             "outlinewidth": 0,
             "ticks": ""
            },
            "colorscale": [
             [
              0,
              "#0d0887"
             ],
             [
              0.1111111111111111,
              "#46039f"
             ],
             [
              0.2222222222222222,
              "#7201a8"
             ],
             [
              0.3333333333333333,
              "#9c179e"
             ],
             [
              0.4444444444444444,
              "#bd3786"
             ],
             [
              0.5555555555555556,
              "#d8576b"
             ],
             [
              0.6666666666666666,
              "#ed7953"
             ],
             [
              0.7777777777777778,
              "#fb9f3a"
             ],
             [
              0.8888888888888888,
              "#fdca26"
             ],
             [
              1,
              "#f0f921"
             ]
            ],
            "type": "heatmapgl"
           }
          ],
          "histogram": [
           {
            "marker": {
             "pattern": {
              "fillmode": "overlay",
              "size": 10,
              "solidity": 0.2
             }
            },
            "type": "histogram"
           }
          ],
          "histogram2d": [
           {
            "colorbar": {
             "outlinewidth": 0,
             "ticks": ""
            },
            "colorscale": [
             [
              0,
              "#0d0887"
             ],
             [
              0.1111111111111111,
              "#46039f"
             ],
             [
              0.2222222222222222,
              "#7201a8"
             ],
             [
              0.3333333333333333,
              "#9c179e"
             ],
             [
              0.4444444444444444,
              "#bd3786"
             ],
             [
              0.5555555555555556,
              "#d8576b"
             ],
             [
              0.6666666666666666,
              "#ed7953"
             ],
             [
              0.7777777777777778,
              "#fb9f3a"
             ],
             [
              0.8888888888888888,
              "#fdca26"
             ],
             [
              1,
              "#f0f921"
             ]
            ],
            "type": "histogram2d"
           }
          ],
          "histogram2dcontour": [
           {
            "colorbar": {
             "outlinewidth": 0,
             "ticks": ""
            },
            "colorscale": [
             [
              0,
              "#0d0887"
             ],
             [
              0.1111111111111111,
              "#46039f"
             ],
             [
              0.2222222222222222,
              "#7201a8"
             ],
             [
              0.3333333333333333,
              "#9c179e"
             ],
             [
              0.4444444444444444,
              "#bd3786"
             ],
             [
              0.5555555555555556,
              "#d8576b"
             ],
             [
              0.6666666666666666,
              "#ed7953"
             ],
             [
              0.7777777777777778,
              "#fb9f3a"
             ],
             [
              0.8888888888888888,
              "#fdca26"
             ],
             [
              1,
              "#f0f921"
             ]
            ],
            "type": "histogram2dcontour"
           }
          ],
          "mesh3d": [
           {
            "colorbar": {
             "outlinewidth": 0,
             "ticks": ""
            },
            "type": "mesh3d"
           }
          ],
          "parcoords": [
           {
            "line": {
             "colorbar": {
              "outlinewidth": 0,
              "ticks": ""
             }
            },
            "type": "parcoords"
           }
          ],
          "pie": [
           {
            "automargin": true,
            "type": "pie"
           }
          ],
          "scatter": [
           {
            "fillpattern": {
             "fillmode": "overlay",
             "size": 10,
             "solidity": 0.2
            },
            "type": "scatter"
           }
          ],
          "scatter3d": [
           {
            "line": {
             "colorbar": {
              "outlinewidth": 0,
              "ticks": ""
             }
            },
            "marker": {
             "colorbar": {
              "outlinewidth": 0,
              "ticks": ""
             }
            },
            "type": "scatter3d"
           }
          ],
          "scattercarpet": [
           {
            "marker": {
             "colorbar": {
              "outlinewidth": 0,
              "ticks": ""
             }
            },
            "type": "scattercarpet"
           }
          ],
          "scattergeo": [
           {
            "marker": {
             "colorbar": {
              "outlinewidth": 0,
              "ticks": ""
             }
            },
            "type": "scattergeo"
           }
          ],
          "scattergl": [
           {
            "marker": {
             "colorbar": {
              "outlinewidth": 0,
              "ticks": ""
             }
            },
            "type": "scattergl"
           }
          ],
          "scattermapbox": [
           {
            "marker": {
             "colorbar": {
              "outlinewidth": 0,
              "ticks": ""
             }
            },
            "type": "scattermapbox"
           }
          ],
          "scatterpolar": [
           {
            "marker": {
             "colorbar": {
              "outlinewidth": 0,
              "ticks": ""
             }
            },
            "type": "scatterpolar"
           }
          ],
          "scatterpolargl": [
           {
            "marker": {
             "colorbar": {
              "outlinewidth": 0,
              "ticks": ""
             }
            },
            "type": "scatterpolargl"
           }
          ],
          "scatterternary": [
           {
            "marker": {
             "colorbar": {
              "outlinewidth": 0,
              "ticks": ""
             }
            },
            "type": "scatterternary"
           }
          ],
          "surface": [
           {
            "colorbar": {
             "outlinewidth": 0,
             "ticks": ""
            },
            "colorscale": [
             [
              0,
              "#0d0887"
             ],
             [
              0.1111111111111111,
              "#46039f"
             ],
             [
              0.2222222222222222,
              "#7201a8"
             ],
             [
              0.3333333333333333,
              "#9c179e"
             ],
             [
              0.4444444444444444,
              "#bd3786"
             ],
             [
              0.5555555555555556,
              "#d8576b"
             ],
             [
              0.6666666666666666,
              "#ed7953"
             ],
             [
              0.7777777777777778,
              "#fb9f3a"
             ],
             [
              0.8888888888888888,
              "#fdca26"
             ],
             [
              1,
              "#f0f921"
             ]
            ],
            "type": "surface"
           }
          ],
          "table": [
           {
            "cells": {
             "fill": {
              "color": "#EBF0F8"
             },
             "line": {
              "color": "white"
             }
            },
            "header": {
             "fill": {
              "color": "#C8D4E3"
             },
             "line": {
              "color": "white"
             }
            },
            "type": "table"
           }
          ]
         },
         "layout": {
          "annotationdefaults": {
           "arrowcolor": "#2a3f5f",
           "arrowhead": 0,
           "arrowwidth": 1
          },
          "autotypenumbers": "strict",
          "coloraxis": {
           "colorbar": {
            "outlinewidth": 0,
            "ticks": ""
           }
          },
          "colorscale": {
           "diverging": [
            [
             0,
             "#8e0152"
            ],
            [
             0.1,
             "#c51b7d"
            ],
            [
             0.2,
             "#de77ae"
            ],
            [
             0.3,
             "#f1b6da"
            ],
            [
             0.4,
             "#fde0ef"
            ],
            [
             0.5,
             "#f7f7f7"
            ],
            [
             0.6,
             "#e6f5d0"
            ],
            [
             0.7,
             "#b8e186"
            ],
            [
             0.8,
             "#7fbc41"
            ],
            [
             0.9,
             "#4d9221"
            ],
            [
             1,
             "#276419"
            ]
           ],
           "sequential": [
            [
             0,
             "#0d0887"
            ],
            [
             0.1111111111111111,
             "#46039f"
            ],
            [
             0.2222222222222222,
             "#7201a8"
            ],
            [
             0.3333333333333333,
             "#9c179e"
            ],
            [
             0.4444444444444444,
             "#bd3786"
            ],
            [
             0.5555555555555556,
             "#d8576b"
            ],
            [
             0.6666666666666666,
             "#ed7953"
            ],
            [
             0.7777777777777778,
             "#fb9f3a"
            ],
            [
             0.8888888888888888,
             "#fdca26"
            ],
            [
             1,
             "#f0f921"
            ]
           ],
           "sequentialminus": [
            [
             0,
             "#0d0887"
            ],
            [
             0.1111111111111111,
             "#46039f"
            ],
            [
             0.2222222222222222,
             "#7201a8"
            ],
            [
             0.3333333333333333,
             "#9c179e"
            ],
            [
             0.4444444444444444,
             "#bd3786"
            ],
            [
             0.5555555555555556,
             "#d8576b"
            ],
            [
             0.6666666666666666,
             "#ed7953"
            ],
            [
             0.7777777777777778,
             "#fb9f3a"
            ],
            [
             0.8888888888888888,
             "#fdca26"
            ],
            [
             1,
             "#f0f921"
            ]
           ]
          },
          "colorway": [
           "#636efa",
           "#EF553B",
           "#00cc96",
           "#ab63fa",
           "#FFA15A",
           "#19d3f3",
           "#FF6692",
           "#B6E880",
           "#FF97FF",
           "#FECB52"
          ],
          "font": {
           "color": "#2a3f5f"
          },
          "geo": {
           "bgcolor": "white",
           "lakecolor": "white",
           "landcolor": "#E5ECF6",
           "showlakes": true,
           "showland": true,
           "subunitcolor": "white"
          },
          "hoverlabel": {
           "align": "left"
          },
          "hovermode": "closest",
          "mapbox": {
           "style": "light"
          },
          "paper_bgcolor": "white",
          "plot_bgcolor": "#E5ECF6",
          "polar": {
           "angularaxis": {
            "gridcolor": "white",
            "linecolor": "white",
            "ticks": ""
           },
           "bgcolor": "#E5ECF6",
           "radialaxis": {
            "gridcolor": "white",
            "linecolor": "white",
            "ticks": ""
           }
          },
          "scene": {
           "xaxis": {
            "backgroundcolor": "#E5ECF6",
            "gridcolor": "white",
            "gridwidth": 2,
            "linecolor": "white",
            "showbackground": true,
            "ticks": "",
            "zerolinecolor": "white"
           },
           "yaxis": {
            "backgroundcolor": "#E5ECF6",
            "gridcolor": "white",
            "gridwidth": 2,
            "linecolor": "white",
            "showbackground": true,
            "ticks": "",
            "zerolinecolor": "white"
           },
           "zaxis": {
            "backgroundcolor": "#E5ECF6",
            "gridcolor": "white",
            "gridwidth": 2,
            "linecolor": "white",
            "showbackground": true,
            "ticks": "",
            "zerolinecolor": "white"
           }
          },
          "shapedefaults": {
           "line": {
            "color": "#2a3f5f"
           }
          },
          "ternary": {
           "aaxis": {
            "gridcolor": "white",
            "linecolor": "white",
            "ticks": ""
           },
           "baxis": {
            "gridcolor": "white",
            "linecolor": "white",
            "ticks": ""
           },
           "bgcolor": "#E5ECF6",
           "caxis": {
            "gridcolor": "white",
            "linecolor": "white",
            "ticks": ""
           }
          },
          "title": {
           "x": 0.05
          },
          "xaxis": {
           "automargin": true,
           "gridcolor": "white",
           "linecolor": "white",
           "ticks": "",
           "title": {
            "standoff": 15
           },
           "zerolinecolor": "white",
           "zerolinewidth": 2
          },
          "yaxis": {
           "automargin": true,
           "gridcolor": "white",
           "linecolor": "white",
           "ticks": "",
           "title": {
            "standoff": 15
           },
           "zerolinecolor": "white",
           "zerolinewidth": 2
          }
         }
        },
        "title": {
         "text": "GDP_growth Forecasts comparison"
        },
        "updatemenus": [
         {
          "active": 0,
          "buttons": [
           {
            "args": [
             {
              "visible": true
             },
             {
              "title": "GDP_growth Forecasts comparison"
             }
            ],
            "label": "Show All",
            "method": "update"
           },
           {
            "args": [
             {
              "visible": [
               "legendonly",
               "legendonly",
               "legendonly",
               "legendonly"
              ]
             },
             {
              "title": "GDP_growth Forecasts comparison"
             }
            ],
            "label": "Hide All",
            "method": "update"
           }
          ]
         }
        ],
        "xaxis": {
         "anchor": "y",
         "domain": [
          0,
          1
         ],
         "title": {
          "text": "Year-Month"
         }
        },
        "yaxis": {
         "anchor": "x",
         "domain": [
          0,
          1
         ],
         "title": {
          "text": "value"
         }
        }
       }
      },
      "text/html": [
       "<div>                            <div id=\"deaeef0d-a180-4d7e-b85e-9da571f8df8b\" class=\"plotly-graph-div\" style=\"height:525px; width:100%;\"></div>            <script type=\"text/javascript\">                require([\"plotly\"], function(Plotly) {                    window.PLOTLYENV=window.PLOTLYENV || {};                                    if (document.getElementById(\"deaeef0d-a180-4d7e-b85e-9da571f8df8b\")) {                    Plotly.newPlot(                        \"deaeef0d-a180-4d7e-b85e-9da571f8df8b\",                        [{\"hovertemplate\":\"variable=GDP_growth<br>Year-Month=%{x}<br>value=%{y}<extra></extra>\",\"legendgroup\":\"GDP_growth\",\"line\":{\"color\":\"#636efa\",\"dash\":\"solid\"},\"marker\":{\"symbol\":\"circle\"},\"mode\":\"lines\",\"name\":\"GDP_growth\",\"orientation\":\"v\",\"showlegend\":true,\"x\":[\"2005Q1\",\"2005Q2\",\"2005Q3\",\"2005Q4\",\"2006Q1\",\"2006Q2\",\"2006Q3\",\"2006Q4\",\"2007Q1\",\"2007Q2\",\"2007Q3\",\"2007Q4\",\"2008Q1\",\"2008Q2\",\"2008Q3\",\"2008Q4\",\"2009Q1\",\"2009Q2\",\"2009Q3\",\"2009Q4\",\"2010Q1\",\"2010Q2\",\"2010Q3\",\"2010Q4\",\"2011Q1\",\"2011Q2\",\"2011Q3\",\"2011Q4\",\"2012Q1\",\"2012Q2\",\"2012Q3\",\"2012Q4\",\"2013Q1\",\"2013Q2\",\"2013Q3\",\"2013Q4\",\"2014Q1\",\"2014Q2\",\"2014Q3\",\"2014Q4\",\"2015Q1\",\"2015Q2\",\"2015Q3\",\"2015Q4\",\"2016Q1\",\"2016Q2\",\"2016Q3\",\"2016Q4\",\"2017Q1\",\"2017Q2\",\"2017Q3\",\"2017Q4\",\"2018Q1\",\"2018Q2\",\"2018Q3\",\"2018Q4\",\"2019Q1\",\"2019Q2\",\"2019Q3\",\"2019Q4\",\"2020Q1\",\"2020Q2\",\"2020Q3\",\"2020Q4\",\"2021Q1\",\"2021Q2\",\"2021Q3\",\"2021Q4\",\"2022Q1\",\"2022Q2\",\"2022Q3\",\"2022Q4\",\"2023Q1\",\"2023Q2\",\"2023Q3\",\"2023Q4\",\"2024Q1\",\"2024Q2\",\"2024Q3\",\"2024Q4\"],\"xaxis\":\"x\",\"y\":[7.896944278010778,8.051587108739326,6.047533882411315,5.084410919540218,6.670183622093873,6.495197251821537,8.619861848660818,7.969327704762065,10.541718053756554,9.224198053389685,9.196246112838722,8.441034224031199,5.217675038179763,6.877632853624036,6.406815276194237,0.7775421687684769,-0.06862986443472607,-2.9680916700807956,-4.976223361801587,-0.5291684812574715,-1.491378584080806,2.028707439668821,2.096900417851117,1.1219222857431248,2.054262139264594,1.2894967644060813,1.4539202742911215,2.175749569918878,2.2241103876679347,0.4307957532782609,0.04340914233439719,0.07112469088475848,-0.8085663201827202,0.4726387963827534,2.1497130609677413,3.255796485726478,4.4003017086711935,5.201240783510315,6.0979920747294045,3.900662143263716,6.876890749145005,6.859112261563354,6.059376570195639,6.008699000577593,4.536185317730798,4.448366150159117,2.770501134143018,3.1830591281074447,4.814607865207833,5.7791494352200345,7.237783297903533,8.151768655450624,6.794895271605839,5.753071665982006,5.3603638810092065,5.674885316434896,6.888425944473354,6.760984079338442,7.8644535224440375,6.631692281413606,2.692311440374624,-6.9326280477804545,-1.2754082068162376,0.08107898734641594,0.9910674724458062,13.794374974084363,7.71060573671798,5.6946119921991,11.425399381574735,10.382969143056442,11.159286216558442,11.443833739228879,11.307186235474362,9.133266093021518,6.291953965291441,null,null,null,null,null],\"yaxis\":\"y\",\"type\":\"scatter\",\"visible\":\"legendonly\"},{\"hovertemplate\":\"variable=GDP_growth_VAR_forecast<br>Year-Month=%{x}<br>value=%{y}<extra></extra>\",\"legendgroup\":\"GDP_growth_VAR_forecast\",\"line\":{\"color\":\"#EF553B\",\"dash\":\"solid\"},\"marker\":{\"symbol\":\"circle\"},\"mode\":\"lines\",\"name\":\"GDP_growth_VAR_forecast\",\"orientation\":\"v\",\"showlegend\":true,\"x\":[\"2005Q1\",\"2005Q2\",\"2005Q3\",\"2005Q4\",\"2006Q1\",\"2006Q2\",\"2006Q3\",\"2006Q4\",\"2007Q1\",\"2007Q2\",\"2007Q3\",\"2007Q4\",\"2008Q1\",\"2008Q2\",\"2008Q3\",\"2008Q4\",\"2009Q1\",\"2009Q2\",\"2009Q3\",\"2009Q4\",\"2010Q1\",\"2010Q2\",\"2010Q3\",\"2010Q4\",\"2011Q1\",\"2011Q2\",\"2011Q3\",\"2011Q4\",\"2012Q1\",\"2012Q2\",\"2012Q3\",\"2012Q4\",\"2013Q1\",\"2013Q2\",\"2013Q3\",\"2013Q4\",\"2014Q1\",\"2014Q2\",\"2014Q3\",\"2014Q4\",\"2015Q1\",\"2015Q2\",\"2015Q3\",\"2015Q4\",\"2016Q1\",\"2016Q2\",\"2016Q3\",\"2016Q4\",\"2017Q1\",\"2017Q2\",\"2017Q3\",\"2017Q4\",\"2018Q1\",\"2018Q2\",\"2018Q3\",\"2018Q4\",\"2019Q1\",\"2019Q2\",\"2019Q3\",\"2019Q4\",\"2020Q1\",\"2020Q2\",\"2020Q3\",\"2020Q4\",\"2021Q1\",\"2021Q2\",\"2021Q3\",\"2021Q4\",\"2022Q1\",\"2022Q2\",\"2022Q3\",\"2022Q4\",\"2023Q1\",\"2023Q2\",\"2023Q3\",\"2023Q4\",\"2024Q1\",\"2024Q2\",\"2024Q3\",\"2024Q4\"],\"xaxis\":\"x\",\"y\":[null,null,null,null,null,null,null,null,null,null,null,null,null,null,null,null,null,null,null,null,null,null,null,null,null,null,null,null,null,null,null,null,null,null,null,null,null,null,null,null,null,null,null,null,null,null,null,null,null,null,null,null,null,null,null,null,null,null,null,null,null,null,null,null,null,null,null,null,null,null,null,null,null,null,null,-0.02926524403427777,-2.0308333843576065,-0.5394179816373637,0.5870354213194986,5.43369036607146],\"yaxis\":\"y\",\"type\":\"scatter\",\"visible\":\"legendonly\"},{\"hovertemplate\":\"variable=GDP_growth_CNB_forecast<br>Year-Month=%{x}<br>value=%{y}<extra></extra>\",\"legendgroup\":\"GDP_growth_CNB_forecast\",\"line\":{\"color\":\"#00cc96\",\"dash\":\"solid\"},\"marker\":{\"symbol\":\"circle\"},\"mode\":\"lines\",\"name\":\"GDP_growth_CNB_forecast\",\"orientation\":\"v\",\"showlegend\":true,\"x\":[\"2005Q1\",\"2005Q2\",\"2005Q3\",\"2005Q4\",\"2006Q1\",\"2006Q2\",\"2006Q3\",\"2006Q4\",\"2007Q1\",\"2007Q2\",\"2007Q3\",\"2007Q4\",\"2008Q1\",\"2008Q2\",\"2008Q3\",\"2008Q4\",\"2009Q1\",\"2009Q2\",\"2009Q3\",\"2009Q4\",\"2010Q1\",\"2010Q2\",\"2010Q3\",\"2010Q4\",\"2011Q1\",\"2011Q2\",\"2011Q3\",\"2011Q4\",\"2012Q1\",\"2012Q2\",\"2012Q3\",\"2012Q4\",\"2013Q1\",\"2013Q2\",\"2013Q3\",\"2013Q4\",\"2014Q1\",\"2014Q2\",\"2014Q3\",\"2014Q4\",\"2015Q1\",\"2015Q2\",\"2015Q3\",\"2015Q4\",\"2016Q1\",\"2016Q2\",\"2016Q3\",\"2016Q4\",\"2017Q1\",\"2017Q2\",\"2017Q3\",\"2017Q4\",\"2018Q1\",\"2018Q2\",\"2018Q3\",\"2018Q4\",\"2019Q1\",\"2019Q2\",\"2019Q3\",\"2019Q4\",\"2020Q1\",\"2020Q2\",\"2020Q3\",\"2020Q4\",\"2021Q1\",\"2021Q2\",\"2021Q3\",\"2021Q4\",\"2022Q1\",\"2022Q2\",\"2022Q3\",\"2022Q4\",\"2023Q1\",\"2023Q2\",\"2023Q3\",\"2023Q4\",\"2024Q1\",\"2024Q2\",\"2024Q3\",\"2024Q4\"],\"xaxis\":\"x\",\"y\":[null,null,null,null,null,null,null,null,null,null,null,null,null,null,null,null,null,null,null,null,null,null,null,null,null,null,null,null,null,null,null,null,null,null,null,null,null,null,null,null,null,null,null,null,null,null,null,null,null,null,null,null,null,null,null,null,null,null,null,null,null,null,null,null,null,null,null,null,null,null,null,null,null,null,null,-0.0658945018,0.267504477,0.687399633,1.61995807,2.2169392],\"yaxis\":\"y\",\"type\":\"scatter\",\"visible\":\"legendonly\"}],                        {\"template\":{\"data\":{\"histogram2dcontour\":[{\"type\":\"histogram2dcontour\",\"colorbar\":{\"outlinewidth\":0,\"ticks\":\"\"},\"colorscale\":[[0.0,\"#0d0887\"],[0.1111111111111111,\"#46039f\"],[0.2222222222222222,\"#7201a8\"],[0.3333333333333333,\"#9c179e\"],[0.4444444444444444,\"#bd3786\"],[0.5555555555555556,\"#d8576b\"],[0.6666666666666666,\"#ed7953\"],[0.7777777777777778,\"#fb9f3a\"],[0.8888888888888888,\"#fdca26\"],[1.0,\"#f0f921\"]]}],\"choropleth\":[{\"type\":\"choropleth\",\"colorbar\":{\"outlinewidth\":0,\"ticks\":\"\"}}],\"histogram2d\":[{\"type\":\"histogram2d\",\"colorbar\":{\"outlinewidth\":0,\"ticks\":\"\"},\"colorscale\":[[0.0,\"#0d0887\"],[0.1111111111111111,\"#46039f\"],[0.2222222222222222,\"#7201a8\"],[0.3333333333333333,\"#9c179e\"],[0.4444444444444444,\"#bd3786\"],[0.5555555555555556,\"#d8576b\"],[0.6666666666666666,\"#ed7953\"],[0.7777777777777778,\"#fb9f3a\"],[0.8888888888888888,\"#fdca26\"],[1.0,\"#f0f921\"]]}],\"heatmap\":[{\"type\":\"heatmap\",\"colorbar\":{\"outlinewidth\":0,\"ticks\":\"\"},\"colorscale\":[[0.0,\"#0d0887\"],[0.1111111111111111,\"#46039f\"],[0.2222222222222222,\"#7201a8\"],[0.3333333333333333,\"#9c179e\"],[0.4444444444444444,\"#bd3786\"],[0.5555555555555556,\"#d8576b\"],[0.6666666666666666,\"#ed7953\"],[0.7777777777777778,\"#fb9f3a\"],[0.8888888888888888,\"#fdca26\"],[1.0,\"#f0f921\"]]}],\"heatmapgl\":[{\"type\":\"heatmapgl\",\"colorbar\":{\"outlinewidth\":0,\"ticks\":\"\"},\"colorscale\":[[0.0,\"#0d0887\"],[0.1111111111111111,\"#46039f\"],[0.2222222222222222,\"#7201a8\"],[0.3333333333333333,\"#9c179e\"],[0.4444444444444444,\"#bd3786\"],[0.5555555555555556,\"#d8576b\"],[0.6666666666666666,\"#ed7953\"],[0.7777777777777778,\"#fb9f3a\"],[0.8888888888888888,\"#fdca26\"],[1.0,\"#f0f921\"]]}],\"contourcarpet\":[{\"type\":\"contourcarpet\",\"colorbar\":{\"outlinewidth\":0,\"ticks\":\"\"}}],\"contour\":[{\"type\":\"contour\",\"colorbar\":{\"outlinewidth\":0,\"ticks\":\"\"},\"colorscale\":[[0.0,\"#0d0887\"],[0.1111111111111111,\"#46039f\"],[0.2222222222222222,\"#7201a8\"],[0.3333333333333333,\"#9c179e\"],[0.4444444444444444,\"#bd3786\"],[0.5555555555555556,\"#d8576b\"],[0.6666666666666666,\"#ed7953\"],[0.7777777777777778,\"#fb9f3a\"],[0.8888888888888888,\"#fdca26\"],[1.0,\"#f0f921\"]]}],\"surface\":[{\"type\":\"surface\",\"colorbar\":{\"outlinewidth\":0,\"ticks\":\"\"},\"colorscale\":[[0.0,\"#0d0887\"],[0.1111111111111111,\"#46039f\"],[0.2222222222222222,\"#7201a8\"],[0.3333333333333333,\"#9c179e\"],[0.4444444444444444,\"#bd3786\"],[0.5555555555555556,\"#d8576b\"],[0.6666666666666666,\"#ed7953\"],[0.7777777777777778,\"#fb9f3a\"],[0.8888888888888888,\"#fdca26\"],[1.0,\"#f0f921\"]]}],\"mesh3d\":[{\"type\":\"mesh3d\",\"colorbar\":{\"outlinewidth\":0,\"ticks\":\"\"}}],\"scatter\":[{\"fillpattern\":{\"fillmode\":\"overlay\",\"size\":10,\"solidity\":0.2},\"type\":\"scatter\"}],\"parcoords\":[{\"type\":\"parcoords\",\"line\":{\"colorbar\":{\"outlinewidth\":0,\"ticks\":\"\"}}}],\"scatterpolargl\":[{\"type\":\"scatterpolargl\",\"marker\":{\"colorbar\":{\"outlinewidth\":0,\"ticks\":\"\"}}}],\"bar\":[{\"error_x\":{\"color\":\"#2a3f5f\"},\"error_y\":{\"color\":\"#2a3f5f\"},\"marker\":{\"line\":{\"color\":\"#E5ECF6\",\"width\":0.5},\"pattern\":{\"fillmode\":\"overlay\",\"size\":10,\"solidity\":0.2}},\"type\":\"bar\"}],\"scattergeo\":[{\"type\":\"scattergeo\",\"marker\":{\"colorbar\":{\"outlinewidth\":0,\"ticks\":\"\"}}}],\"scatterpolar\":[{\"type\":\"scatterpolar\",\"marker\":{\"colorbar\":{\"outlinewidth\":0,\"ticks\":\"\"}}}],\"histogram\":[{\"marker\":{\"pattern\":{\"fillmode\":\"overlay\",\"size\":10,\"solidity\":0.2}},\"type\":\"histogram\"}],\"scattergl\":[{\"type\":\"scattergl\",\"marker\":{\"colorbar\":{\"outlinewidth\":0,\"ticks\":\"\"}}}],\"scatter3d\":[{\"type\":\"scatter3d\",\"line\":{\"colorbar\":{\"outlinewidth\":0,\"ticks\":\"\"}},\"marker\":{\"colorbar\":{\"outlinewidth\":0,\"ticks\":\"\"}}}],\"scattermapbox\":[{\"type\":\"scattermapbox\",\"marker\":{\"colorbar\":{\"outlinewidth\":0,\"ticks\":\"\"}}}],\"scatterternary\":[{\"type\":\"scatterternary\",\"marker\":{\"colorbar\":{\"outlinewidth\":0,\"ticks\":\"\"}}}],\"scattercarpet\":[{\"type\":\"scattercarpet\",\"marker\":{\"colorbar\":{\"outlinewidth\":0,\"ticks\":\"\"}}}],\"carpet\":[{\"aaxis\":{\"endlinecolor\":\"#2a3f5f\",\"gridcolor\":\"white\",\"linecolor\":\"white\",\"minorgridcolor\":\"white\",\"startlinecolor\":\"#2a3f5f\"},\"baxis\":{\"endlinecolor\":\"#2a3f5f\",\"gridcolor\":\"white\",\"linecolor\":\"white\",\"minorgridcolor\":\"white\",\"startlinecolor\":\"#2a3f5f\"},\"type\":\"carpet\"}],\"table\":[{\"cells\":{\"fill\":{\"color\":\"#EBF0F8\"},\"line\":{\"color\":\"white\"}},\"header\":{\"fill\":{\"color\":\"#C8D4E3\"},\"line\":{\"color\":\"white\"}},\"type\":\"table\"}],\"barpolar\":[{\"marker\":{\"line\":{\"color\":\"#E5ECF6\",\"width\":0.5},\"pattern\":{\"fillmode\":\"overlay\",\"size\":10,\"solidity\":0.2}},\"type\":\"barpolar\"}],\"pie\":[{\"automargin\":true,\"type\":\"pie\"}]},\"layout\":{\"autotypenumbers\":\"strict\",\"colorway\":[\"#636efa\",\"#EF553B\",\"#00cc96\",\"#ab63fa\",\"#FFA15A\",\"#19d3f3\",\"#FF6692\",\"#B6E880\",\"#FF97FF\",\"#FECB52\"],\"font\":{\"color\":\"#2a3f5f\"},\"hovermode\":\"closest\",\"hoverlabel\":{\"align\":\"left\"},\"paper_bgcolor\":\"white\",\"plot_bgcolor\":\"#E5ECF6\",\"polar\":{\"bgcolor\":\"#E5ECF6\",\"angularaxis\":{\"gridcolor\":\"white\",\"linecolor\":\"white\",\"ticks\":\"\"},\"radialaxis\":{\"gridcolor\":\"white\",\"linecolor\":\"white\",\"ticks\":\"\"}},\"ternary\":{\"bgcolor\":\"#E5ECF6\",\"aaxis\":{\"gridcolor\":\"white\",\"linecolor\":\"white\",\"ticks\":\"\"},\"baxis\":{\"gridcolor\":\"white\",\"linecolor\":\"white\",\"ticks\":\"\"},\"caxis\":{\"gridcolor\":\"white\",\"linecolor\":\"white\",\"ticks\":\"\"}},\"coloraxis\":{\"colorbar\":{\"outlinewidth\":0,\"ticks\":\"\"}},\"colorscale\":{\"sequential\":[[0.0,\"#0d0887\"],[0.1111111111111111,\"#46039f\"],[0.2222222222222222,\"#7201a8\"],[0.3333333333333333,\"#9c179e\"],[0.4444444444444444,\"#bd3786\"],[0.5555555555555556,\"#d8576b\"],[0.6666666666666666,\"#ed7953\"],[0.7777777777777778,\"#fb9f3a\"],[0.8888888888888888,\"#fdca26\"],[1.0,\"#f0f921\"]],\"sequentialminus\":[[0.0,\"#0d0887\"],[0.1111111111111111,\"#46039f\"],[0.2222222222222222,\"#7201a8\"],[0.3333333333333333,\"#9c179e\"],[0.4444444444444444,\"#bd3786\"],[0.5555555555555556,\"#d8576b\"],[0.6666666666666666,\"#ed7953\"],[0.7777777777777778,\"#fb9f3a\"],[0.8888888888888888,\"#fdca26\"],[1.0,\"#f0f921\"]],\"diverging\":[[0,\"#8e0152\"],[0.1,\"#c51b7d\"],[0.2,\"#de77ae\"],[0.3,\"#f1b6da\"],[0.4,\"#fde0ef\"],[0.5,\"#f7f7f7\"],[0.6,\"#e6f5d0\"],[0.7,\"#b8e186\"],[0.8,\"#7fbc41\"],[0.9,\"#4d9221\"],[1,\"#276419\"]]},\"xaxis\":{\"gridcolor\":\"white\",\"linecolor\":\"white\",\"ticks\":\"\",\"title\":{\"standoff\":15},\"zerolinecolor\":\"white\",\"automargin\":true,\"zerolinewidth\":2},\"yaxis\":{\"gridcolor\":\"white\",\"linecolor\":\"white\",\"ticks\":\"\",\"title\":{\"standoff\":15},\"zerolinecolor\":\"white\",\"automargin\":true,\"zerolinewidth\":2},\"scene\":{\"xaxis\":{\"backgroundcolor\":\"#E5ECF6\",\"gridcolor\":\"white\",\"linecolor\":\"white\",\"showbackground\":true,\"ticks\":\"\",\"zerolinecolor\":\"white\",\"gridwidth\":2},\"yaxis\":{\"backgroundcolor\":\"#E5ECF6\",\"gridcolor\":\"white\",\"linecolor\":\"white\",\"showbackground\":true,\"ticks\":\"\",\"zerolinecolor\":\"white\",\"gridwidth\":2},\"zaxis\":{\"backgroundcolor\":\"#E5ECF6\",\"gridcolor\":\"white\",\"linecolor\":\"white\",\"showbackground\":true,\"ticks\":\"\",\"zerolinecolor\":\"white\",\"gridwidth\":2}},\"shapedefaults\":{\"line\":{\"color\":\"#2a3f5f\"}},\"annotationdefaults\":{\"arrowcolor\":\"#2a3f5f\",\"arrowhead\":0,\"arrowwidth\":1},\"geo\":{\"bgcolor\":\"white\",\"landcolor\":\"#E5ECF6\",\"subunitcolor\":\"white\",\"showland\":true,\"showlakes\":true,\"lakecolor\":\"white\"},\"title\":{\"x\":0.05},\"mapbox\":{\"style\":\"light\"}}},\"xaxis\":{\"anchor\":\"y\",\"domain\":[0.0,1.0],\"title\":{\"text\":\"Year-Month\"}},\"yaxis\":{\"anchor\":\"x\",\"domain\":[0.0,1.0],\"title\":{\"text\":\"value\"}},\"legend\":{\"title\":{\"text\":\"variable\"},\"tracegroupgap\":0},\"title\":{\"text\":\"GDP_growth Forecasts comparison\"},\"updatemenus\":[{\"active\":0,\"buttons\":[{\"args\":[{\"visible\":true},{\"title\":\"GDP_growth Forecasts comparison\"}],\"label\":\"Show All\",\"method\":\"update\"},{\"args\":[{\"visible\":[\"legendonly\",\"legendonly\",\"legendonly\",\"legendonly\"]},{\"title\":\"GDP_growth Forecasts comparison\"}],\"label\":\"Hide All\",\"method\":\"update\"}]}]},                        {\"responsive\": true}                    ).then(function(){\n",
       "                            \n",
       "var gd = document.getElementById('deaeef0d-a180-4d7e-b85e-9da571f8df8b');\n",
       "var x = new MutationObserver(function (mutations, observer) {{\n",
       "        var display = window.getComputedStyle(gd).display;\n",
       "        if (!display || display === 'none') {{\n",
       "            console.log([gd, 'removed!']);\n",
       "            Plotly.purge(gd);\n",
       "            observer.disconnect();\n",
       "        }}\n",
       "}});\n",
       "\n",
       "// Listen for the removal of the full notebook cells\n",
       "var notebookContainer = gd.closest('#notebook-container');\n",
       "if (notebookContainer) {{\n",
       "    x.observe(notebookContainer, {childList: true});\n",
       "}}\n",
       "\n",
       "// Listen for the clearing of the current output cell\n",
       "var outputEl = gd.closest('.output');\n",
       "if (outputEl) {{\n",
       "    x.observe(outputEl, {childList: true});\n",
       "}}\n",
       "\n",
       "                        })                };                });            </script>        </div>"
      ]
     },
     "metadata": {},
     "output_type": "display_data"
    },
    {
     "data": {
      "application/vnd.plotly.v1+json": {
       "config": {
        "plotlyServerURL": "https://plot.ly"
       },
       "data": [
        {
         "hovertemplate": "variable=Inflation_yoy<br>Year-Month=%{x}<br>value=%{y}<extra></extra>",
         "legendgroup": "Inflation_yoy",
         "line": {
          "color": "#636efa",
          "dash": "solid"
         },
         "marker": {
          "symbol": "circle"
         },
         "mode": "lines",
         "name": "Inflation_yoy",
         "orientation": "v",
         "showlegend": true,
         "type": "scatter",
         "visible": "legendonly",
         "x": [
          "2005Q1",
          "2005Q2",
          "2005Q3",
          "2005Q4",
          "2006Q1",
          "2006Q2",
          "2006Q3",
          "2006Q4",
          "2007Q1",
          "2007Q2",
          "2007Q3",
          "2007Q4",
          "2008Q1",
          "2008Q2",
          "2008Q3",
          "2008Q4",
          "2009Q1",
          "2009Q2",
          "2009Q3",
          "2009Q4",
          "2010Q1",
          "2010Q2",
          "2010Q3",
          "2010Q4",
          "2011Q1",
          "2011Q2",
          "2011Q3",
          "2011Q4",
          "2012Q1",
          "2012Q2",
          "2012Q3",
          "2012Q4",
          "2013Q1",
          "2013Q2",
          "2013Q3",
          "2013Q4",
          "2014Q1",
          "2014Q2",
          "2014Q3",
          "2014Q4",
          "2015Q1",
          "2015Q2",
          "2015Q3",
          "2015Q4",
          "2016Q1",
          "2016Q2",
          "2016Q3",
          "2016Q4",
          "2017Q1",
          "2017Q2",
          "2017Q3",
          "2017Q4",
          "2018Q1",
          "2018Q2",
          "2018Q3",
          "2018Q4",
          "2019Q1",
          "2019Q2",
          "2019Q3",
          "2019Q4",
          "2020Q1",
          "2020Q2",
          "2020Q3",
          "2020Q4",
          "2021Q1",
          "2021Q2",
          "2021Q3",
          "2021Q4",
          "2022Q1",
          "2022Q2",
          "2022Q3",
          "2022Q4",
          "2023Q1",
          "2023Q2",
          "2023Q3",
          "2023Q4",
          "2024Q1",
          "2024Q2",
          "2024Q3",
          "2024Q4"
         ],
         "xaxis": "x",
         "y": [
          1.6333333333333353,
          1.5666666666666629,
          1.8666666666666696,
          2.400000000000001,
          2.8333333333333335,
          2.8999999999999964,
          2.900000000000001,
          1.5,
          1.5666666666666675,
          2.4666666666666686,
          2.5,
          4.800000000000002,
          7.3666666666666645,
          6.766666666666666,
          6.666666666666667,
          4.666666666666667,
          2.1666666666666665,
          1.4333333333333325,
          0.16666666666666666,
          0.4333333333333324,
          0.6666666666666666,
          1.1666666666666667,
          1.9333333333333371,
          2.099999999999999,
          1.7333333333333343,
          1.7999999999999972,
          1.7333333333333343,
          2.400000000000001,
          3.6666666666666665,
          3.400000000000001,
          3.2666666666666657,
          2.833333333333338,
          1.7666666666666704,
          1.5333333333333314,
          1.2333333333333343,
          1.1333333333333353,
          0.20000000000000284,
          0.16666666666666666,
          0.5999999999999991,
          0.46666666666666384,
          0.1333333333333305,
          0.6666666666666666,
          0.40000000000000097,
          0.1333333333333305,
          0.46666666666666384,
          0.266666666666661,
          0.5333333333333314,
          1.4333333333333325,
          2.4333333333333322,
          2.2333333333333343,
          2.5666666666666678,
          2.633333333333335,
          1.900000000000001,
          2.2333333333333343,
          2.366666666666665,
          2.0666666666666678,
          2.7333333333333343,
          2.800000000000002,
          2.833333333333338,
          3,
          3.5666666666666678,
          3.133333333333335,
          3.300000000000002,
          2.633333333333335,
          2.199999999999998,
          2.9333333333333322,
          4.1333333333333355,
          6.13333333333333,
          11.233333333333334,
          15.800000000000002,
          17.566666666666666,
          15.699999999999998,
          16.400000000000002,
          11.166666666666666,
          8.066666666666668,
          null,
          null,
          null,
          null,
          null
         ],
         "yaxis": "y"
        },
        {
         "hovertemplate": "variable=Inflation_yoy_VAR_forecast<br>Year-Month=%{x}<br>value=%{y}<extra></extra>",
         "legendgroup": "Inflation_yoy_VAR_forecast",
         "line": {
          "color": "#EF553B",
          "dash": "solid"
         },
         "marker": {
          "symbol": "circle"
         },
         "mode": "lines",
         "name": "Inflation_yoy_VAR_forecast",
         "orientation": "v",
         "showlegend": true,
         "type": "scatter",
         "visible": "legendonly",
         "x": [
          "2005Q1",
          "2005Q2",
          "2005Q3",
          "2005Q4",
          "2006Q1",
          "2006Q2",
          "2006Q3",
          "2006Q4",
          "2007Q1",
          "2007Q2",
          "2007Q3",
          "2007Q4",
          "2008Q1",
          "2008Q2",
          "2008Q3",
          "2008Q4",
          "2009Q1",
          "2009Q2",
          "2009Q3",
          "2009Q4",
          "2010Q1",
          "2010Q2",
          "2010Q3",
          "2010Q4",
          "2011Q1",
          "2011Q2",
          "2011Q3",
          "2011Q4",
          "2012Q1",
          "2012Q2",
          "2012Q3",
          "2012Q4",
          "2013Q1",
          "2013Q2",
          "2013Q3",
          "2013Q4",
          "2014Q1",
          "2014Q2",
          "2014Q3",
          "2014Q4",
          "2015Q1",
          "2015Q2",
          "2015Q3",
          "2015Q4",
          "2016Q1",
          "2016Q2",
          "2016Q3",
          "2016Q4",
          "2017Q1",
          "2017Q2",
          "2017Q3",
          "2017Q4",
          "2018Q1",
          "2018Q2",
          "2018Q3",
          "2018Q4",
          "2019Q1",
          "2019Q2",
          "2019Q3",
          "2019Q4",
          "2020Q1",
          "2020Q2",
          "2020Q3",
          "2020Q4",
          "2021Q1",
          "2021Q2",
          "2021Q3",
          "2021Q4",
          "2022Q1",
          "2022Q2",
          "2022Q3",
          "2022Q4",
          "2023Q1",
          "2023Q2",
          "2023Q3",
          "2023Q4",
          "2024Q1",
          "2024Q2",
          "2024Q3",
          "2024Q4"
         ],
         "xaxis": "x",
         "y": [
          null,
          null,
          null,
          null,
          null,
          null,
          null,
          null,
          null,
          null,
          null,
          null,
          null,
          null,
          null,
          null,
          null,
          null,
          null,
          null,
          null,
          null,
          null,
          null,
          null,
          null,
          null,
          null,
          null,
          null,
          null,
          null,
          null,
          null,
          null,
          null,
          null,
          null,
          null,
          null,
          null,
          null,
          null,
          null,
          null,
          null,
          null,
          null,
          null,
          null,
          null,
          null,
          null,
          null,
          null,
          null,
          null,
          null,
          null,
          null,
          null,
          null,
          null,
          null,
          null,
          null,
          null,
          null,
          null,
          null,
          null,
          null,
          null,
          null,
          null,
          7.424230982561733,
          6.94430449691343,
          8.157583430945758,
          11.697829998956188,
          11.712672709462659
         ],
         "yaxis": "y"
        },
        {
         "hovertemplate": "variable=Inflation_yoy_CNB_forecast<br>Year-Month=%{x}<br>value=%{y}<extra></extra>",
         "legendgroup": "Inflation_yoy_CNB_forecast",
         "line": {
          "color": "#00cc96",
          "dash": "solid"
         },
         "marker": {
          "symbol": "circle"
         },
         "mode": "lines",
         "name": "Inflation_yoy_CNB_forecast",
         "orientation": "v",
         "showlegend": true,
         "type": "scatter",
         "visible": "legendonly",
         "x": [
          "2005Q1",
          "2005Q2",
          "2005Q3",
          "2005Q4",
          "2006Q1",
          "2006Q2",
          "2006Q3",
          "2006Q4",
          "2007Q1",
          "2007Q2",
          "2007Q3",
          "2007Q4",
          "2008Q1",
          "2008Q2",
          "2008Q3",
          "2008Q4",
          "2009Q1",
          "2009Q2",
          "2009Q3",
          "2009Q4",
          "2010Q1",
          "2010Q2",
          "2010Q3",
          "2010Q4",
          "2011Q1",
          "2011Q2",
          "2011Q3",
          "2011Q4",
          "2012Q1",
          "2012Q2",
          "2012Q3",
          "2012Q4",
          "2013Q1",
          "2013Q2",
          "2013Q3",
          "2013Q4",
          "2014Q1",
          "2014Q2",
          "2014Q3",
          "2014Q4",
          "2015Q1",
          "2015Q2",
          "2015Q3",
          "2015Q4",
          "2016Q1",
          "2016Q2",
          "2016Q3",
          "2016Q4",
          "2017Q1",
          "2017Q2",
          "2017Q3",
          "2017Q4",
          "2018Q1",
          "2018Q2",
          "2018Q3",
          "2018Q4",
          "2019Q1",
          "2019Q2",
          "2019Q3",
          "2019Q4",
          "2020Q1",
          "2020Q2",
          "2020Q3",
          "2020Q4",
          "2021Q1",
          "2021Q2",
          "2021Q3",
          "2021Q4",
          "2022Q1",
          "2022Q2",
          "2022Q3",
          "2022Q4",
          "2023Q1",
          "2023Q2",
          "2023Q3",
          "2023Q4",
          "2024Q1",
          "2024Q2",
          "2024Q3",
          "2024Q4"
         ],
         "xaxis": "x",
         "y": [
          null,
          null,
          null,
          null,
          null,
          null,
          null,
          null,
          null,
          null,
          null,
          null,
          null,
          null,
          null,
          null,
          null,
          null,
          null,
          null,
          null,
          null,
          null,
          null,
          null,
          null,
          null,
          null,
          null,
          null,
          null,
          null,
          null,
          null,
          null,
          null,
          null,
          null,
          null,
          null,
          null,
          null,
          null,
          null,
          null,
          null,
          null,
          null,
          null,
          null,
          null,
          null,
          null,
          null,
          null,
          null,
          null,
          null,
          null,
          null,
          null,
          null,
          null,
          null,
          null,
          null,
          null,
          null,
          null,
          null,
          null,
          null,
          null,
          null,
          null,
          7.486953,
          2.72442838,
          2.60050989,
          2.23573565,
          2.75147403
         ],
         "yaxis": "y"
        }
       ],
       "layout": {
        "legend": {
         "title": {
          "text": "variable"
         },
         "tracegroupgap": 0
        },
        "template": {
         "data": {
          "bar": [
           {
            "error_x": {
             "color": "#2a3f5f"
            },
            "error_y": {
             "color": "#2a3f5f"
            },
            "marker": {
             "line": {
              "color": "#E5ECF6",
              "width": 0.5
             },
             "pattern": {
              "fillmode": "overlay",
              "size": 10,
              "solidity": 0.2
             }
            },
            "type": "bar"
           }
          ],
          "barpolar": [
           {
            "marker": {
             "line": {
              "color": "#E5ECF6",
              "width": 0.5
             },
             "pattern": {
              "fillmode": "overlay",
              "size": 10,
              "solidity": 0.2
             }
            },
            "type": "barpolar"
           }
          ],
          "carpet": [
           {
            "aaxis": {
             "endlinecolor": "#2a3f5f",
             "gridcolor": "white",
             "linecolor": "white",
             "minorgridcolor": "white",
             "startlinecolor": "#2a3f5f"
            },
            "baxis": {
             "endlinecolor": "#2a3f5f",
             "gridcolor": "white",
             "linecolor": "white",
             "minorgridcolor": "white",
             "startlinecolor": "#2a3f5f"
            },
            "type": "carpet"
           }
          ],
          "choropleth": [
           {
            "colorbar": {
             "outlinewidth": 0,
             "ticks": ""
            },
            "type": "choropleth"
           }
          ],
          "contour": [
           {
            "colorbar": {
             "outlinewidth": 0,
             "ticks": ""
            },
            "colorscale": [
             [
              0,
              "#0d0887"
             ],
             [
              0.1111111111111111,
              "#46039f"
             ],
             [
              0.2222222222222222,
              "#7201a8"
             ],
             [
              0.3333333333333333,
              "#9c179e"
             ],
             [
              0.4444444444444444,
              "#bd3786"
             ],
             [
              0.5555555555555556,
              "#d8576b"
             ],
             [
              0.6666666666666666,
              "#ed7953"
             ],
             [
              0.7777777777777778,
              "#fb9f3a"
             ],
             [
              0.8888888888888888,
              "#fdca26"
             ],
             [
              1,
              "#f0f921"
             ]
            ],
            "type": "contour"
           }
          ],
          "contourcarpet": [
           {
            "colorbar": {
             "outlinewidth": 0,
             "ticks": ""
            },
            "type": "contourcarpet"
           }
          ],
          "heatmap": [
           {
            "colorbar": {
             "outlinewidth": 0,
             "ticks": ""
            },
            "colorscale": [
             [
              0,
              "#0d0887"
             ],
             [
              0.1111111111111111,
              "#46039f"
             ],
             [
              0.2222222222222222,
              "#7201a8"
             ],
             [
              0.3333333333333333,
              "#9c179e"
             ],
             [
              0.4444444444444444,
              "#bd3786"
             ],
             [
              0.5555555555555556,
              "#d8576b"
             ],
             [
              0.6666666666666666,
              "#ed7953"
             ],
             [
              0.7777777777777778,
              "#fb9f3a"
             ],
             [
              0.8888888888888888,
              "#fdca26"
             ],
             [
              1,
              "#f0f921"
             ]
            ],
            "type": "heatmap"
           }
          ],
          "heatmapgl": [
           {
            "colorbar": {
             "outlinewidth": 0,
             "ticks": ""
            },
            "colorscale": [
             [
              0,
              "#0d0887"
             ],
             [
              0.1111111111111111,
              "#46039f"
             ],
             [
              0.2222222222222222,
              "#7201a8"
             ],
             [
              0.3333333333333333,
              "#9c179e"
             ],
             [
              0.4444444444444444,
              "#bd3786"
             ],
             [
              0.5555555555555556,
              "#d8576b"
             ],
             [
              0.6666666666666666,
              "#ed7953"
             ],
             [
              0.7777777777777778,
              "#fb9f3a"
             ],
             [
              0.8888888888888888,
              "#fdca26"
             ],
             [
              1,
              "#f0f921"
             ]
            ],
            "type": "heatmapgl"
           }
          ],
          "histogram": [
           {
            "marker": {
             "pattern": {
              "fillmode": "overlay",
              "size": 10,
              "solidity": 0.2
             }
            },
            "type": "histogram"
           }
          ],
          "histogram2d": [
           {
            "colorbar": {
             "outlinewidth": 0,
             "ticks": ""
            },
            "colorscale": [
             [
              0,
              "#0d0887"
             ],
             [
              0.1111111111111111,
              "#46039f"
             ],
             [
              0.2222222222222222,
              "#7201a8"
             ],
             [
              0.3333333333333333,
              "#9c179e"
             ],
             [
              0.4444444444444444,
              "#bd3786"
             ],
             [
              0.5555555555555556,
              "#d8576b"
             ],
             [
              0.6666666666666666,
              "#ed7953"
             ],
             [
              0.7777777777777778,
              "#fb9f3a"
             ],
             [
              0.8888888888888888,
              "#fdca26"
             ],
             [
              1,
              "#f0f921"
             ]
            ],
            "type": "histogram2d"
           }
          ],
          "histogram2dcontour": [
           {
            "colorbar": {
             "outlinewidth": 0,
             "ticks": ""
            },
            "colorscale": [
             [
              0,
              "#0d0887"
             ],
             [
              0.1111111111111111,
              "#46039f"
             ],
             [
              0.2222222222222222,
              "#7201a8"
             ],
             [
              0.3333333333333333,
              "#9c179e"
             ],
             [
              0.4444444444444444,
              "#bd3786"
             ],
             [
              0.5555555555555556,
              "#d8576b"
             ],
             [
              0.6666666666666666,
              "#ed7953"
             ],
             [
              0.7777777777777778,
              "#fb9f3a"
             ],
             [
              0.8888888888888888,
              "#fdca26"
             ],
             [
              1,
              "#f0f921"
             ]
            ],
            "type": "histogram2dcontour"
           }
          ],
          "mesh3d": [
           {
            "colorbar": {
             "outlinewidth": 0,
             "ticks": ""
            },
            "type": "mesh3d"
           }
          ],
          "parcoords": [
           {
            "line": {
             "colorbar": {
              "outlinewidth": 0,
              "ticks": ""
             }
            },
            "type": "parcoords"
           }
          ],
          "pie": [
           {
            "automargin": true,
            "type": "pie"
           }
          ],
          "scatter": [
           {
            "fillpattern": {
             "fillmode": "overlay",
             "size": 10,
             "solidity": 0.2
            },
            "type": "scatter"
           }
          ],
          "scatter3d": [
           {
            "line": {
             "colorbar": {
              "outlinewidth": 0,
              "ticks": ""
             }
            },
            "marker": {
             "colorbar": {
              "outlinewidth": 0,
              "ticks": ""
             }
            },
            "type": "scatter3d"
           }
          ],
          "scattercarpet": [
           {
            "marker": {
             "colorbar": {
              "outlinewidth": 0,
              "ticks": ""
             }
            },
            "type": "scattercarpet"
           }
          ],
          "scattergeo": [
           {
            "marker": {
             "colorbar": {
              "outlinewidth": 0,
              "ticks": ""
             }
            },
            "type": "scattergeo"
           }
          ],
          "scattergl": [
           {
            "marker": {
             "colorbar": {
              "outlinewidth": 0,
              "ticks": ""
             }
            },
            "type": "scattergl"
           }
          ],
          "scattermapbox": [
           {
            "marker": {
             "colorbar": {
              "outlinewidth": 0,
              "ticks": ""
             }
            },
            "type": "scattermapbox"
           }
          ],
          "scatterpolar": [
           {
            "marker": {
             "colorbar": {
              "outlinewidth": 0,
              "ticks": ""
             }
            },
            "type": "scatterpolar"
           }
          ],
          "scatterpolargl": [
           {
            "marker": {
             "colorbar": {
              "outlinewidth": 0,
              "ticks": ""
             }
            },
            "type": "scatterpolargl"
           }
          ],
          "scatterternary": [
           {
            "marker": {
             "colorbar": {
              "outlinewidth": 0,
              "ticks": ""
             }
            },
            "type": "scatterternary"
           }
          ],
          "surface": [
           {
            "colorbar": {
             "outlinewidth": 0,
             "ticks": ""
            },
            "colorscale": [
             [
              0,
              "#0d0887"
             ],
             [
              0.1111111111111111,
              "#46039f"
             ],
             [
              0.2222222222222222,
              "#7201a8"
             ],
             [
              0.3333333333333333,
              "#9c179e"
             ],
             [
              0.4444444444444444,
              "#bd3786"
             ],
             [
              0.5555555555555556,
              "#d8576b"
             ],
             [
              0.6666666666666666,
              "#ed7953"
             ],
             [
              0.7777777777777778,
              "#fb9f3a"
             ],
             [
              0.8888888888888888,
              "#fdca26"
             ],
             [
              1,
              "#f0f921"
             ]
            ],
            "type": "surface"
           }
          ],
          "table": [
           {
            "cells": {
             "fill": {
              "color": "#EBF0F8"
             },
             "line": {
              "color": "white"
             }
            },
            "header": {
             "fill": {
              "color": "#C8D4E3"
             },
             "line": {
              "color": "white"
             }
            },
            "type": "table"
           }
          ]
         },
         "layout": {
          "annotationdefaults": {
           "arrowcolor": "#2a3f5f",
           "arrowhead": 0,
           "arrowwidth": 1
          },
          "autotypenumbers": "strict",
          "coloraxis": {
           "colorbar": {
            "outlinewidth": 0,
            "ticks": ""
           }
          },
          "colorscale": {
           "diverging": [
            [
             0,
             "#8e0152"
            ],
            [
             0.1,
             "#c51b7d"
            ],
            [
             0.2,
             "#de77ae"
            ],
            [
             0.3,
             "#f1b6da"
            ],
            [
             0.4,
             "#fde0ef"
            ],
            [
             0.5,
             "#f7f7f7"
            ],
            [
             0.6,
             "#e6f5d0"
            ],
            [
             0.7,
             "#b8e186"
            ],
            [
             0.8,
             "#7fbc41"
            ],
            [
             0.9,
             "#4d9221"
            ],
            [
             1,
             "#276419"
            ]
           ],
           "sequential": [
            [
             0,
             "#0d0887"
            ],
            [
             0.1111111111111111,
             "#46039f"
            ],
            [
             0.2222222222222222,
             "#7201a8"
            ],
            [
             0.3333333333333333,
             "#9c179e"
            ],
            [
             0.4444444444444444,
             "#bd3786"
            ],
            [
             0.5555555555555556,
             "#d8576b"
            ],
            [
             0.6666666666666666,
             "#ed7953"
            ],
            [
             0.7777777777777778,
             "#fb9f3a"
            ],
            [
             0.8888888888888888,
             "#fdca26"
            ],
            [
             1,
             "#f0f921"
            ]
           ],
           "sequentialminus": [
            [
             0,
             "#0d0887"
            ],
            [
             0.1111111111111111,
             "#46039f"
            ],
            [
             0.2222222222222222,
             "#7201a8"
            ],
            [
             0.3333333333333333,
             "#9c179e"
            ],
            [
             0.4444444444444444,
             "#bd3786"
            ],
            [
             0.5555555555555556,
             "#d8576b"
            ],
            [
             0.6666666666666666,
             "#ed7953"
            ],
            [
             0.7777777777777778,
             "#fb9f3a"
            ],
            [
             0.8888888888888888,
             "#fdca26"
            ],
            [
             1,
             "#f0f921"
            ]
           ]
          },
          "colorway": [
           "#636efa",
           "#EF553B",
           "#00cc96",
           "#ab63fa",
           "#FFA15A",
           "#19d3f3",
           "#FF6692",
           "#B6E880",
           "#FF97FF",
           "#FECB52"
          ],
          "font": {
           "color": "#2a3f5f"
          },
          "geo": {
           "bgcolor": "white",
           "lakecolor": "white",
           "landcolor": "#E5ECF6",
           "showlakes": true,
           "showland": true,
           "subunitcolor": "white"
          },
          "hoverlabel": {
           "align": "left"
          },
          "hovermode": "closest",
          "mapbox": {
           "style": "light"
          },
          "paper_bgcolor": "white",
          "plot_bgcolor": "#E5ECF6",
          "polar": {
           "angularaxis": {
            "gridcolor": "white",
            "linecolor": "white",
            "ticks": ""
           },
           "bgcolor": "#E5ECF6",
           "radialaxis": {
            "gridcolor": "white",
            "linecolor": "white",
            "ticks": ""
           }
          },
          "scene": {
           "xaxis": {
            "backgroundcolor": "#E5ECF6",
            "gridcolor": "white",
            "gridwidth": 2,
            "linecolor": "white",
            "showbackground": true,
            "ticks": "",
            "zerolinecolor": "white"
           },
           "yaxis": {
            "backgroundcolor": "#E5ECF6",
            "gridcolor": "white",
            "gridwidth": 2,
            "linecolor": "white",
            "showbackground": true,
            "ticks": "",
            "zerolinecolor": "white"
           },
           "zaxis": {
            "backgroundcolor": "#E5ECF6",
            "gridcolor": "white",
            "gridwidth": 2,
            "linecolor": "white",
            "showbackground": true,
            "ticks": "",
            "zerolinecolor": "white"
           }
          },
          "shapedefaults": {
           "line": {
            "color": "#2a3f5f"
           }
          },
          "ternary": {
           "aaxis": {
            "gridcolor": "white",
            "linecolor": "white",
            "ticks": ""
           },
           "baxis": {
            "gridcolor": "white",
            "linecolor": "white",
            "ticks": ""
           },
           "bgcolor": "#E5ECF6",
           "caxis": {
            "gridcolor": "white",
            "linecolor": "white",
            "ticks": ""
           }
          },
          "title": {
           "x": 0.05
          },
          "xaxis": {
           "automargin": true,
           "gridcolor": "white",
           "linecolor": "white",
           "ticks": "",
           "title": {
            "standoff": 15
           },
           "zerolinecolor": "white",
           "zerolinewidth": 2
          },
          "yaxis": {
           "automargin": true,
           "gridcolor": "white",
           "linecolor": "white",
           "ticks": "",
           "title": {
            "standoff": 15
           },
           "zerolinecolor": "white",
           "zerolinewidth": 2
          }
         }
        },
        "title": {
         "text": "Inflation_yoy Forecasts comparison"
        },
        "updatemenus": [
         {
          "active": 0,
          "buttons": [
           {
            "args": [
             {
              "visible": true
             },
             {
              "title": "Inflation_yoy Forecasts comparison"
             }
            ],
            "label": "Show All",
            "method": "update"
           },
           {
            "args": [
             {
              "visible": [
               "legendonly",
               "legendonly",
               "legendonly",
               "legendonly"
              ]
             },
             {
              "title": "Inflation_yoy Forecasts comparison"
             }
            ],
            "label": "Hide All",
            "method": "update"
           }
          ]
         }
        ],
        "xaxis": {
         "anchor": "y",
         "domain": [
          0,
          1
         ],
         "title": {
          "text": "Year-Month"
         }
        },
        "yaxis": {
         "anchor": "x",
         "domain": [
          0,
          1
         ],
         "title": {
          "text": "value"
         }
        }
       }
      },
      "text/html": [
       "<div>                            <div id=\"91e42503-fc5e-4df5-8e1e-021d61479203\" class=\"plotly-graph-div\" style=\"height:525px; width:100%;\"></div>            <script type=\"text/javascript\">                require([\"plotly\"], function(Plotly) {                    window.PLOTLYENV=window.PLOTLYENV || {};                                    if (document.getElementById(\"91e42503-fc5e-4df5-8e1e-021d61479203\")) {                    Plotly.newPlot(                        \"91e42503-fc5e-4df5-8e1e-021d61479203\",                        [{\"hovertemplate\":\"variable=Inflation_yoy<br>Year-Month=%{x}<br>value=%{y}<extra></extra>\",\"legendgroup\":\"Inflation_yoy\",\"line\":{\"color\":\"#636efa\",\"dash\":\"solid\"},\"marker\":{\"symbol\":\"circle\"},\"mode\":\"lines\",\"name\":\"Inflation_yoy\",\"orientation\":\"v\",\"showlegend\":true,\"x\":[\"2005Q1\",\"2005Q2\",\"2005Q3\",\"2005Q4\",\"2006Q1\",\"2006Q2\",\"2006Q3\",\"2006Q4\",\"2007Q1\",\"2007Q2\",\"2007Q3\",\"2007Q4\",\"2008Q1\",\"2008Q2\",\"2008Q3\",\"2008Q4\",\"2009Q1\",\"2009Q2\",\"2009Q3\",\"2009Q4\",\"2010Q1\",\"2010Q2\",\"2010Q3\",\"2010Q4\",\"2011Q1\",\"2011Q2\",\"2011Q3\",\"2011Q4\",\"2012Q1\",\"2012Q2\",\"2012Q3\",\"2012Q4\",\"2013Q1\",\"2013Q2\",\"2013Q3\",\"2013Q4\",\"2014Q1\",\"2014Q2\",\"2014Q3\",\"2014Q4\",\"2015Q1\",\"2015Q2\",\"2015Q3\",\"2015Q4\",\"2016Q1\",\"2016Q2\",\"2016Q3\",\"2016Q4\",\"2017Q1\",\"2017Q2\",\"2017Q3\",\"2017Q4\",\"2018Q1\",\"2018Q2\",\"2018Q3\",\"2018Q4\",\"2019Q1\",\"2019Q2\",\"2019Q3\",\"2019Q4\",\"2020Q1\",\"2020Q2\",\"2020Q3\",\"2020Q4\",\"2021Q1\",\"2021Q2\",\"2021Q3\",\"2021Q4\",\"2022Q1\",\"2022Q2\",\"2022Q3\",\"2022Q4\",\"2023Q1\",\"2023Q2\",\"2023Q3\",\"2023Q4\",\"2024Q1\",\"2024Q2\",\"2024Q3\",\"2024Q4\"],\"xaxis\":\"x\",\"y\":[1.6333333333333353,1.5666666666666629,1.8666666666666696,2.400000000000001,2.8333333333333335,2.8999999999999964,2.900000000000001,1.5,1.5666666666666675,2.4666666666666686,2.5,4.800000000000002,7.3666666666666645,6.766666666666666,6.666666666666667,4.666666666666667,2.1666666666666665,1.4333333333333325,0.16666666666666666,0.4333333333333324,0.6666666666666666,1.1666666666666667,1.9333333333333371,2.099999999999999,1.7333333333333343,1.7999999999999972,1.7333333333333343,2.400000000000001,3.6666666666666665,3.400000000000001,3.2666666666666657,2.833333333333338,1.7666666666666704,1.5333333333333314,1.2333333333333343,1.1333333333333353,0.20000000000000284,0.16666666666666666,0.5999999999999991,0.46666666666666384,0.1333333333333305,0.6666666666666666,0.40000000000000097,0.1333333333333305,0.46666666666666384,0.266666666666661,0.5333333333333314,1.4333333333333325,2.4333333333333322,2.2333333333333343,2.5666666666666678,2.633333333333335,1.900000000000001,2.2333333333333343,2.366666666666665,2.0666666666666678,2.7333333333333343,2.800000000000002,2.833333333333338,3.0,3.5666666666666678,3.133333333333335,3.300000000000002,2.633333333333335,2.199999999999998,2.9333333333333322,4.1333333333333355,6.13333333333333,11.233333333333334,15.800000000000002,17.566666666666666,15.699999999999998,16.400000000000002,11.166666666666666,8.066666666666668,null,null,null,null,null],\"yaxis\":\"y\",\"type\":\"scatter\",\"visible\":\"legendonly\"},{\"hovertemplate\":\"variable=Inflation_yoy_VAR_forecast<br>Year-Month=%{x}<br>value=%{y}<extra></extra>\",\"legendgroup\":\"Inflation_yoy_VAR_forecast\",\"line\":{\"color\":\"#EF553B\",\"dash\":\"solid\"},\"marker\":{\"symbol\":\"circle\"},\"mode\":\"lines\",\"name\":\"Inflation_yoy_VAR_forecast\",\"orientation\":\"v\",\"showlegend\":true,\"x\":[\"2005Q1\",\"2005Q2\",\"2005Q3\",\"2005Q4\",\"2006Q1\",\"2006Q2\",\"2006Q3\",\"2006Q4\",\"2007Q1\",\"2007Q2\",\"2007Q3\",\"2007Q4\",\"2008Q1\",\"2008Q2\",\"2008Q3\",\"2008Q4\",\"2009Q1\",\"2009Q2\",\"2009Q3\",\"2009Q4\",\"2010Q1\",\"2010Q2\",\"2010Q3\",\"2010Q4\",\"2011Q1\",\"2011Q2\",\"2011Q3\",\"2011Q4\",\"2012Q1\",\"2012Q2\",\"2012Q3\",\"2012Q4\",\"2013Q1\",\"2013Q2\",\"2013Q3\",\"2013Q4\",\"2014Q1\",\"2014Q2\",\"2014Q3\",\"2014Q4\",\"2015Q1\",\"2015Q2\",\"2015Q3\",\"2015Q4\",\"2016Q1\",\"2016Q2\",\"2016Q3\",\"2016Q4\",\"2017Q1\",\"2017Q2\",\"2017Q3\",\"2017Q4\",\"2018Q1\",\"2018Q2\",\"2018Q3\",\"2018Q4\",\"2019Q1\",\"2019Q2\",\"2019Q3\",\"2019Q4\",\"2020Q1\",\"2020Q2\",\"2020Q3\",\"2020Q4\",\"2021Q1\",\"2021Q2\",\"2021Q3\",\"2021Q4\",\"2022Q1\",\"2022Q2\",\"2022Q3\",\"2022Q4\",\"2023Q1\",\"2023Q2\",\"2023Q3\",\"2023Q4\",\"2024Q1\",\"2024Q2\",\"2024Q3\",\"2024Q4\"],\"xaxis\":\"x\",\"y\":[null,null,null,null,null,null,null,null,null,null,null,null,null,null,null,null,null,null,null,null,null,null,null,null,null,null,null,null,null,null,null,null,null,null,null,null,null,null,null,null,null,null,null,null,null,null,null,null,null,null,null,null,null,null,null,null,null,null,null,null,null,null,null,null,null,null,null,null,null,null,null,null,null,null,null,7.424230982561733,6.94430449691343,8.157583430945758,11.697829998956188,11.712672709462659],\"yaxis\":\"y\",\"type\":\"scatter\",\"visible\":\"legendonly\"},{\"hovertemplate\":\"variable=Inflation_yoy_CNB_forecast<br>Year-Month=%{x}<br>value=%{y}<extra></extra>\",\"legendgroup\":\"Inflation_yoy_CNB_forecast\",\"line\":{\"color\":\"#00cc96\",\"dash\":\"solid\"},\"marker\":{\"symbol\":\"circle\"},\"mode\":\"lines\",\"name\":\"Inflation_yoy_CNB_forecast\",\"orientation\":\"v\",\"showlegend\":true,\"x\":[\"2005Q1\",\"2005Q2\",\"2005Q3\",\"2005Q4\",\"2006Q1\",\"2006Q2\",\"2006Q3\",\"2006Q4\",\"2007Q1\",\"2007Q2\",\"2007Q3\",\"2007Q4\",\"2008Q1\",\"2008Q2\",\"2008Q3\",\"2008Q4\",\"2009Q1\",\"2009Q2\",\"2009Q3\",\"2009Q4\",\"2010Q1\",\"2010Q2\",\"2010Q3\",\"2010Q4\",\"2011Q1\",\"2011Q2\",\"2011Q3\",\"2011Q4\",\"2012Q1\",\"2012Q2\",\"2012Q3\",\"2012Q4\",\"2013Q1\",\"2013Q2\",\"2013Q3\",\"2013Q4\",\"2014Q1\",\"2014Q2\",\"2014Q3\",\"2014Q4\",\"2015Q1\",\"2015Q2\",\"2015Q3\",\"2015Q4\",\"2016Q1\",\"2016Q2\",\"2016Q3\",\"2016Q4\",\"2017Q1\",\"2017Q2\",\"2017Q3\",\"2017Q4\",\"2018Q1\",\"2018Q2\",\"2018Q3\",\"2018Q4\",\"2019Q1\",\"2019Q2\",\"2019Q3\",\"2019Q4\",\"2020Q1\",\"2020Q2\",\"2020Q3\",\"2020Q4\",\"2021Q1\",\"2021Q2\",\"2021Q3\",\"2021Q4\",\"2022Q1\",\"2022Q2\",\"2022Q3\",\"2022Q4\",\"2023Q1\",\"2023Q2\",\"2023Q3\",\"2023Q4\",\"2024Q1\",\"2024Q2\",\"2024Q3\",\"2024Q4\"],\"xaxis\":\"x\",\"y\":[null,null,null,null,null,null,null,null,null,null,null,null,null,null,null,null,null,null,null,null,null,null,null,null,null,null,null,null,null,null,null,null,null,null,null,null,null,null,null,null,null,null,null,null,null,null,null,null,null,null,null,null,null,null,null,null,null,null,null,null,null,null,null,null,null,null,null,null,null,null,null,null,null,null,null,7.486953,2.72442838,2.60050989,2.23573565,2.75147403],\"yaxis\":\"y\",\"type\":\"scatter\",\"visible\":\"legendonly\"}],                        {\"template\":{\"data\":{\"histogram2dcontour\":[{\"type\":\"histogram2dcontour\",\"colorbar\":{\"outlinewidth\":0,\"ticks\":\"\"},\"colorscale\":[[0.0,\"#0d0887\"],[0.1111111111111111,\"#46039f\"],[0.2222222222222222,\"#7201a8\"],[0.3333333333333333,\"#9c179e\"],[0.4444444444444444,\"#bd3786\"],[0.5555555555555556,\"#d8576b\"],[0.6666666666666666,\"#ed7953\"],[0.7777777777777778,\"#fb9f3a\"],[0.8888888888888888,\"#fdca26\"],[1.0,\"#f0f921\"]]}],\"choropleth\":[{\"type\":\"choropleth\",\"colorbar\":{\"outlinewidth\":0,\"ticks\":\"\"}}],\"histogram2d\":[{\"type\":\"histogram2d\",\"colorbar\":{\"outlinewidth\":0,\"ticks\":\"\"},\"colorscale\":[[0.0,\"#0d0887\"],[0.1111111111111111,\"#46039f\"],[0.2222222222222222,\"#7201a8\"],[0.3333333333333333,\"#9c179e\"],[0.4444444444444444,\"#bd3786\"],[0.5555555555555556,\"#d8576b\"],[0.6666666666666666,\"#ed7953\"],[0.7777777777777778,\"#fb9f3a\"],[0.8888888888888888,\"#fdca26\"],[1.0,\"#f0f921\"]]}],\"heatmap\":[{\"type\":\"heatmap\",\"colorbar\":{\"outlinewidth\":0,\"ticks\":\"\"},\"colorscale\":[[0.0,\"#0d0887\"],[0.1111111111111111,\"#46039f\"],[0.2222222222222222,\"#7201a8\"],[0.3333333333333333,\"#9c179e\"],[0.4444444444444444,\"#bd3786\"],[0.5555555555555556,\"#d8576b\"],[0.6666666666666666,\"#ed7953\"],[0.7777777777777778,\"#fb9f3a\"],[0.8888888888888888,\"#fdca26\"],[1.0,\"#f0f921\"]]}],\"heatmapgl\":[{\"type\":\"heatmapgl\",\"colorbar\":{\"outlinewidth\":0,\"ticks\":\"\"},\"colorscale\":[[0.0,\"#0d0887\"],[0.1111111111111111,\"#46039f\"],[0.2222222222222222,\"#7201a8\"],[0.3333333333333333,\"#9c179e\"],[0.4444444444444444,\"#bd3786\"],[0.5555555555555556,\"#d8576b\"],[0.6666666666666666,\"#ed7953\"],[0.7777777777777778,\"#fb9f3a\"],[0.8888888888888888,\"#fdca26\"],[1.0,\"#f0f921\"]]}],\"contourcarpet\":[{\"type\":\"contourcarpet\",\"colorbar\":{\"outlinewidth\":0,\"ticks\":\"\"}}],\"contour\":[{\"type\":\"contour\",\"colorbar\":{\"outlinewidth\":0,\"ticks\":\"\"},\"colorscale\":[[0.0,\"#0d0887\"],[0.1111111111111111,\"#46039f\"],[0.2222222222222222,\"#7201a8\"],[0.3333333333333333,\"#9c179e\"],[0.4444444444444444,\"#bd3786\"],[0.5555555555555556,\"#d8576b\"],[0.6666666666666666,\"#ed7953\"],[0.7777777777777778,\"#fb9f3a\"],[0.8888888888888888,\"#fdca26\"],[1.0,\"#f0f921\"]]}],\"surface\":[{\"type\":\"surface\",\"colorbar\":{\"outlinewidth\":0,\"ticks\":\"\"},\"colorscale\":[[0.0,\"#0d0887\"],[0.1111111111111111,\"#46039f\"],[0.2222222222222222,\"#7201a8\"],[0.3333333333333333,\"#9c179e\"],[0.4444444444444444,\"#bd3786\"],[0.5555555555555556,\"#d8576b\"],[0.6666666666666666,\"#ed7953\"],[0.7777777777777778,\"#fb9f3a\"],[0.8888888888888888,\"#fdca26\"],[1.0,\"#f0f921\"]]}],\"mesh3d\":[{\"type\":\"mesh3d\",\"colorbar\":{\"outlinewidth\":0,\"ticks\":\"\"}}],\"scatter\":[{\"fillpattern\":{\"fillmode\":\"overlay\",\"size\":10,\"solidity\":0.2},\"type\":\"scatter\"}],\"parcoords\":[{\"type\":\"parcoords\",\"line\":{\"colorbar\":{\"outlinewidth\":0,\"ticks\":\"\"}}}],\"scatterpolargl\":[{\"type\":\"scatterpolargl\",\"marker\":{\"colorbar\":{\"outlinewidth\":0,\"ticks\":\"\"}}}],\"bar\":[{\"error_x\":{\"color\":\"#2a3f5f\"},\"error_y\":{\"color\":\"#2a3f5f\"},\"marker\":{\"line\":{\"color\":\"#E5ECF6\",\"width\":0.5},\"pattern\":{\"fillmode\":\"overlay\",\"size\":10,\"solidity\":0.2}},\"type\":\"bar\"}],\"scattergeo\":[{\"type\":\"scattergeo\",\"marker\":{\"colorbar\":{\"outlinewidth\":0,\"ticks\":\"\"}}}],\"scatterpolar\":[{\"type\":\"scatterpolar\",\"marker\":{\"colorbar\":{\"outlinewidth\":0,\"ticks\":\"\"}}}],\"histogram\":[{\"marker\":{\"pattern\":{\"fillmode\":\"overlay\",\"size\":10,\"solidity\":0.2}},\"type\":\"histogram\"}],\"scattergl\":[{\"type\":\"scattergl\",\"marker\":{\"colorbar\":{\"outlinewidth\":0,\"ticks\":\"\"}}}],\"scatter3d\":[{\"type\":\"scatter3d\",\"line\":{\"colorbar\":{\"outlinewidth\":0,\"ticks\":\"\"}},\"marker\":{\"colorbar\":{\"outlinewidth\":0,\"ticks\":\"\"}}}],\"scattermapbox\":[{\"type\":\"scattermapbox\",\"marker\":{\"colorbar\":{\"outlinewidth\":0,\"ticks\":\"\"}}}],\"scatterternary\":[{\"type\":\"scatterternary\",\"marker\":{\"colorbar\":{\"outlinewidth\":0,\"ticks\":\"\"}}}],\"scattercarpet\":[{\"type\":\"scattercarpet\",\"marker\":{\"colorbar\":{\"outlinewidth\":0,\"ticks\":\"\"}}}],\"carpet\":[{\"aaxis\":{\"endlinecolor\":\"#2a3f5f\",\"gridcolor\":\"white\",\"linecolor\":\"white\",\"minorgridcolor\":\"white\",\"startlinecolor\":\"#2a3f5f\"},\"baxis\":{\"endlinecolor\":\"#2a3f5f\",\"gridcolor\":\"white\",\"linecolor\":\"white\",\"minorgridcolor\":\"white\",\"startlinecolor\":\"#2a3f5f\"},\"type\":\"carpet\"}],\"table\":[{\"cells\":{\"fill\":{\"color\":\"#EBF0F8\"},\"line\":{\"color\":\"white\"}},\"header\":{\"fill\":{\"color\":\"#C8D4E3\"},\"line\":{\"color\":\"white\"}},\"type\":\"table\"}],\"barpolar\":[{\"marker\":{\"line\":{\"color\":\"#E5ECF6\",\"width\":0.5},\"pattern\":{\"fillmode\":\"overlay\",\"size\":10,\"solidity\":0.2}},\"type\":\"barpolar\"}],\"pie\":[{\"automargin\":true,\"type\":\"pie\"}]},\"layout\":{\"autotypenumbers\":\"strict\",\"colorway\":[\"#636efa\",\"#EF553B\",\"#00cc96\",\"#ab63fa\",\"#FFA15A\",\"#19d3f3\",\"#FF6692\",\"#B6E880\",\"#FF97FF\",\"#FECB52\"],\"font\":{\"color\":\"#2a3f5f\"},\"hovermode\":\"closest\",\"hoverlabel\":{\"align\":\"left\"},\"paper_bgcolor\":\"white\",\"plot_bgcolor\":\"#E5ECF6\",\"polar\":{\"bgcolor\":\"#E5ECF6\",\"angularaxis\":{\"gridcolor\":\"white\",\"linecolor\":\"white\",\"ticks\":\"\"},\"radialaxis\":{\"gridcolor\":\"white\",\"linecolor\":\"white\",\"ticks\":\"\"}},\"ternary\":{\"bgcolor\":\"#E5ECF6\",\"aaxis\":{\"gridcolor\":\"white\",\"linecolor\":\"white\",\"ticks\":\"\"},\"baxis\":{\"gridcolor\":\"white\",\"linecolor\":\"white\",\"ticks\":\"\"},\"caxis\":{\"gridcolor\":\"white\",\"linecolor\":\"white\",\"ticks\":\"\"}},\"coloraxis\":{\"colorbar\":{\"outlinewidth\":0,\"ticks\":\"\"}},\"colorscale\":{\"sequential\":[[0.0,\"#0d0887\"],[0.1111111111111111,\"#46039f\"],[0.2222222222222222,\"#7201a8\"],[0.3333333333333333,\"#9c179e\"],[0.4444444444444444,\"#bd3786\"],[0.5555555555555556,\"#d8576b\"],[0.6666666666666666,\"#ed7953\"],[0.7777777777777778,\"#fb9f3a\"],[0.8888888888888888,\"#fdca26\"],[1.0,\"#f0f921\"]],\"sequentialminus\":[[0.0,\"#0d0887\"],[0.1111111111111111,\"#46039f\"],[0.2222222222222222,\"#7201a8\"],[0.3333333333333333,\"#9c179e\"],[0.4444444444444444,\"#bd3786\"],[0.5555555555555556,\"#d8576b\"],[0.6666666666666666,\"#ed7953\"],[0.7777777777777778,\"#fb9f3a\"],[0.8888888888888888,\"#fdca26\"],[1.0,\"#f0f921\"]],\"diverging\":[[0,\"#8e0152\"],[0.1,\"#c51b7d\"],[0.2,\"#de77ae\"],[0.3,\"#f1b6da\"],[0.4,\"#fde0ef\"],[0.5,\"#f7f7f7\"],[0.6,\"#e6f5d0\"],[0.7,\"#b8e186\"],[0.8,\"#7fbc41\"],[0.9,\"#4d9221\"],[1,\"#276419\"]]},\"xaxis\":{\"gridcolor\":\"white\",\"linecolor\":\"white\",\"ticks\":\"\",\"title\":{\"standoff\":15},\"zerolinecolor\":\"white\",\"automargin\":true,\"zerolinewidth\":2},\"yaxis\":{\"gridcolor\":\"white\",\"linecolor\":\"white\",\"ticks\":\"\",\"title\":{\"standoff\":15},\"zerolinecolor\":\"white\",\"automargin\":true,\"zerolinewidth\":2},\"scene\":{\"xaxis\":{\"backgroundcolor\":\"#E5ECF6\",\"gridcolor\":\"white\",\"linecolor\":\"white\",\"showbackground\":true,\"ticks\":\"\",\"zerolinecolor\":\"white\",\"gridwidth\":2},\"yaxis\":{\"backgroundcolor\":\"#E5ECF6\",\"gridcolor\":\"white\",\"linecolor\":\"white\",\"showbackground\":true,\"ticks\":\"\",\"zerolinecolor\":\"white\",\"gridwidth\":2},\"zaxis\":{\"backgroundcolor\":\"#E5ECF6\",\"gridcolor\":\"white\",\"linecolor\":\"white\",\"showbackground\":true,\"ticks\":\"\",\"zerolinecolor\":\"white\",\"gridwidth\":2}},\"shapedefaults\":{\"line\":{\"color\":\"#2a3f5f\"}},\"annotationdefaults\":{\"arrowcolor\":\"#2a3f5f\",\"arrowhead\":0,\"arrowwidth\":1},\"geo\":{\"bgcolor\":\"white\",\"landcolor\":\"#E5ECF6\",\"subunitcolor\":\"white\",\"showland\":true,\"showlakes\":true,\"lakecolor\":\"white\"},\"title\":{\"x\":0.05},\"mapbox\":{\"style\":\"light\"}}},\"xaxis\":{\"anchor\":\"y\",\"domain\":[0.0,1.0],\"title\":{\"text\":\"Year-Month\"}},\"yaxis\":{\"anchor\":\"x\",\"domain\":[0.0,1.0],\"title\":{\"text\":\"value\"}},\"legend\":{\"title\":{\"text\":\"variable\"},\"tracegroupgap\":0},\"title\":{\"text\":\"Inflation_yoy Forecasts comparison\"},\"updatemenus\":[{\"active\":0,\"buttons\":[{\"args\":[{\"visible\":true},{\"title\":\"Inflation_yoy Forecasts comparison\"}],\"label\":\"Show All\",\"method\":\"update\"},{\"args\":[{\"visible\":[\"legendonly\",\"legendonly\",\"legendonly\",\"legendonly\"]},{\"title\":\"Inflation_yoy Forecasts comparison\"}],\"label\":\"Hide All\",\"method\":\"update\"}]}]},                        {\"responsive\": true}                    ).then(function(){\n",
       "                            \n",
       "var gd = document.getElementById('91e42503-fc5e-4df5-8e1e-021d61479203');\n",
       "var x = new MutationObserver(function (mutations, observer) {{\n",
       "        var display = window.getComputedStyle(gd).display;\n",
       "        if (!display || display === 'none') {{\n",
       "            console.log([gd, 'removed!']);\n",
       "            Plotly.purge(gd);\n",
       "            observer.disconnect();\n",
       "        }}\n",
       "}});\n",
       "\n",
       "// Listen for the removal of the full notebook cells\n",
       "var notebookContainer = gd.closest('#notebook-container');\n",
       "if (notebookContainer) {{\n",
       "    x.observe(notebookContainer, {childList: true});\n",
       "}}\n",
       "\n",
       "// Listen for the clearing of the current output cell\n",
       "var outputEl = gd.closest('.output');\n",
       "if (outputEl) {{\n",
       "    x.observe(outputEl, {childList: true});\n",
       "}}\n",
       "\n",
       "                        })                };                });            </script>        </div>"
      ]
     },
     "metadata": {},
     "output_type": "display_data"
    },
    {
     "data": {
      "application/vnd.plotly.v1+json": {
       "config": {
        "plotlyServerURL": "https://plot.ly"
       },
       "data": [
        {
         "hovertemplate": "variable=PRIBOR_3M<br>Year-Month=%{x}<br>value=%{y}<extra></extra>",
         "legendgroup": "PRIBOR_3M",
         "line": {
          "color": "#636efa",
          "dash": "solid"
         },
         "marker": {
          "symbol": "circle"
         },
         "mode": "lines",
         "name": "PRIBOR_3M",
         "orientation": "v",
         "showlegend": true,
         "type": "scatter",
         "visible": "legendonly",
         "x": [
          "2005Q1",
          "2005Q2",
          "2005Q3",
          "2005Q4",
          "2006Q1",
          "2006Q2",
          "2006Q3",
          "2006Q4",
          "2007Q1",
          "2007Q2",
          "2007Q3",
          "2007Q4",
          "2008Q1",
          "2008Q2",
          "2008Q3",
          "2008Q4",
          "2009Q1",
          "2009Q2",
          "2009Q3",
          "2009Q4",
          "2010Q1",
          "2010Q2",
          "2010Q3",
          "2010Q4",
          "2011Q1",
          "2011Q2",
          "2011Q3",
          "2011Q4",
          "2012Q1",
          "2012Q2",
          "2012Q3",
          "2012Q4",
          "2013Q1",
          "2013Q2",
          "2013Q3",
          "2013Q4",
          "2014Q1",
          "2014Q2",
          "2014Q3",
          "2014Q4",
          "2015Q1",
          "2015Q2",
          "2015Q3",
          "2015Q4",
          "2016Q1",
          "2016Q2",
          "2016Q3",
          "2016Q4",
          "2017Q1",
          "2017Q2",
          "2017Q3",
          "2017Q4",
          "2018Q1",
          "2018Q2",
          "2018Q3",
          "2018Q4",
          "2019Q1",
          "2019Q2",
          "2019Q3",
          "2019Q4",
          "2020Q1",
          "2020Q2",
          "2020Q3",
          "2020Q4",
          "2021Q1",
          "2021Q2",
          "2021Q3",
          "2021Q4",
          "2022Q1",
          "2022Q2",
          "2022Q3",
          "2022Q4",
          "2023Q1",
          "2023Q2",
          "2023Q3",
          "2023Q4",
          "2024Q1",
          "2024Q2",
          "2024Q3",
          "2024Q4"
         ],
         "xaxis": "x",
         "y": [
          2.2868701298701297,
          1.8516161616161615,
          1.7872685336529732,
          2.1075476190476192,
          2.074780632411067,
          2.1298564593301434,
          2.381601449275362,
          2.6208623832308042,
          2.5790757575757577,
          2.7644365079365083,
          3.2718817696414955,
          3.775510174205827,
          3.9786832611832614,
          4.153758297258297,
          3.9097481021394067,
          4.105153907496013,
          2.7108340548340544,
          2.3221618440039493,
          1.9678643578643575,
          1.7730714285714289,
          1.4999927536231883,
          1.3057936507936507,
          1.228611111111111,
          1.2144790764790765,
          1.2043526570048309,
          1.208212121212121,
          1.184168391994479,
          1.16,
          1.1996248196248196,
          1.2324523809523809,
          0.9757364607170099,
          0.5842021665934709,
          0.49587301587301585,
          0.46334126984126983,
          0.4577777777777778,
          0.4105266955266955,
          0.3715151515151515,
          0.36278571428571427,
          0.3499999999999999,
          0.3435087719298246,
          0.3277777777777778,
          0.31,
          0.3059451659451659,
          0.2895238095238095,
          0.28634920634920635,
          0.29,
          0.29,
          0.28888888888888886,
          0.28,
          0.2940644540644541,
          0.3989450800915331,
          0.6590806561859194,
          0.8590735930735932,
          0.9138095238095238,
          1.39266590389016,
          1.921916264090177,
          2.0130093795093793,
          2.128984126984127,
          2.14988455988456,
          2.1777128427128427,
          2.155409090909091,
          0.5872894736842105,
          0.34031746031746035,
          0.3503174603174603,
          0.36000000000000004,
          0.40100288600288597,
          0.9132828282828284,
          2.83084632034632,
          4.5879230503795725,
          5.992288676236044,
          7.272678798445388,
          7.269349206349205,
          7.203172595520422,
          7.168403078403078,
          7.101549580472921,
          null,
          null,
          null,
          null,
          null
         ],
         "yaxis": "y"
        },
        {
         "hovertemplate": "variable=PRIBOR_3M_VAR_forecast<br>Year-Month=%{x}<br>value=%{y}<extra></extra>",
         "legendgroup": "PRIBOR_3M_VAR_forecast",
         "line": {
          "color": "#EF553B",
          "dash": "solid"
         },
         "marker": {
          "symbol": "circle"
         },
         "mode": "lines",
         "name": "PRIBOR_3M_VAR_forecast",
         "orientation": "v",
         "showlegend": true,
         "type": "scatter",
         "visible": "legendonly",
         "x": [
          "2005Q1",
          "2005Q2",
          "2005Q3",
          "2005Q4",
          "2006Q1",
          "2006Q2",
          "2006Q3",
          "2006Q4",
          "2007Q1",
          "2007Q2",
          "2007Q3",
          "2007Q4",
          "2008Q1",
          "2008Q2",
          "2008Q3",
          "2008Q4",
          "2009Q1",
          "2009Q2",
          "2009Q3",
          "2009Q4",
          "2010Q1",
          "2010Q2",
          "2010Q3",
          "2010Q4",
          "2011Q1",
          "2011Q2",
          "2011Q3",
          "2011Q4",
          "2012Q1",
          "2012Q2",
          "2012Q3",
          "2012Q4",
          "2013Q1",
          "2013Q2",
          "2013Q3",
          "2013Q4",
          "2014Q1",
          "2014Q2",
          "2014Q3",
          "2014Q4",
          "2015Q1",
          "2015Q2",
          "2015Q3",
          "2015Q4",
          "2016Q1",
          "2016Q2",
          "2016Q3",
          "2016Q4",
          "2017Q1",
          "2017Q2",
          "2017Q3",
          "2017Q4",
          "2018Q1",
          "2018Q2",
          "2018Q3",
          "2018Q4",
          "2019Q1",
          "2019Q2",
          "2019Q3",
          "2019Q4",
          "2020Q1",
          "2020Q2",
          "2020Q3",
          "2020Q4",
          "2021Q1",
          "2021Q2",
          "2021Q3",
          "2021Q4",
          "2022Q1",
          "2022Q2",
          "2022Q3",
          "2022Q4",
          "2023Q1",
          "2023Q2",
          "2023Q3",
          "2023Q4",
          "2024Q1",
          "2024Q2",
          "2024Q3",
          "2024Q4"
         ],
         "xaxis": "x",
         "y": [
          null,
          null,
          null,
          null,
          null,
          null,
          null,
          null,
          null,
          null,
          null,
          null,
          null,
          null,
          null,
          null,
          null,
          null,
          null,
          null,
          null,
          null,
          null,
          null,
          null,
          null,
          null,
          null,
          null,
          null,
          null,
          null,
          null,
          null,
          null,
          null,
          null,
          null,
          null,
          null,
          null,
          null,
          null,
          null,
          null,
          null,
          null,
          null,
          null,
          null,
          null,
          null,
          null,
          null,
          null,
          null,
          null,
          null,
          null,
          null,
          null,
          null,
          null,
          null,
          null,
          null,
          null,
          null,
          null,
          null,
          null,
          null,
          null,
          null,
          null,
          7.1361101572611805,
          7.552591511224312,
          7.724345672467919,
          8.675721278686733,
          8.314118584011272
         ],
         "yaxis": "y"
        },
        {
         "hovertemplate": "variable=PRIBOR_3M_CNB_forecast<br>Year-Month=%{x}<br>value=%{y}<extra></extra>",
         "legendgroup": "PRIBOR_3M_CNB_forecast",
         "line": {
          "color": "#00cc96",
          "dash": "solid"
         },
         "marker": {
          "symbol": "circle"
         },
         "mode": "lines",
         "name": "PRIBOR_3M_CNB_forecast",
         "orientation": "v",
         "showlegend": true,
         "type": "scatter",
         "visible": "legendonly",
         "x": [
          "2005Q1",
          "2005Q2",
          "2005Q3",
          "2005Q4",
          "2006Q1",
          "2006Q2",
          "2006Q3",
          "2006Q4",
          "2007Q1",
          "2007Q2",
          "2007Q3",
          "2007Q4",
          "2008Q1",
          "2008Q2",
          "2008Q3",
          "2008Q4",
          "2009Q1",
          "2009Q2",
          "2009Q3",
          "2009Q4",
          "2010Q1",
          "2010Q2",
          "2010Q3",
          "2010Q4",
          "2011Q1",
          "2011Q2",
          "2011Q3",
          "2011Q4",
          "2012Q1",
          "2012Q2",
          "2012Q3",
          "2012Q4",
          "2013Q1",
          "2013Q2",
          "2013Q3",
          "2013Q4",
          "2014Q1",
          "2014Q2",
          "2014Q3",
          "2014Q4",
          "2015Q1",
          "2015Q2",
          "2015Q3",
          "2015Q4",
          "2016Q1",
          "2016Q2",
          "2016Q3",
          "2016Q4",
          "2017Q1",
          "2017Q2",
          "2017Q3",
          "2017Q4",
          "2018Q1",
          "2018Q2",
          "2018Q3",
          "2018Q4",
          "2019Q1",
          "2019Q2",
          "2019Q3",
          "2019Q4",
          "2020Q1",
          "2020Q2",
          "2020Q3",
          "2020Q4",
          "2021Q1",
          "2021Q2",
          "2021Q3",
          "2021Q4",
          "2022Q1",
          "2022Q2",
          "2022Q3",
          "2022Q4",
          "2023Q1",
          "2023Q2",
          "2023Q3",
          "2023Q4",
          "2024Q1",
          "2024Q2",
          "2024Q3",
          "2024Q4"
         ],
         "xaxis": "x",
         "y": [
          null,
          null,
          null,
          null,
          null,
          null,
          null,
          null,
          null,
          null,
          null,
          null,
          null,
          null,
          null,
          null,
          null,
          null,
          null,
          null,
          null,
          null,
          null,
          null,
          null,
          null,
          null,
          null,
          null,
          null,
          null,
          null,
          null,
          null,
          null,
          null,
          null,
          null,
          null,
          null,
          null,
          null,
          null,
          null,
          null,
          null,
          null,
          null,
          null,
          null,
          null,
          null,
          null,
          null,
          null,
          null,
          null,
          null,
          null,
          null,
          null,
          null,
          null,
          null,
          null,
          null,
          null,
          null,
          null,
          null,
          null,
          null,
          null,
          null,
          null,
          6.55274551,
          5.46019042,
          4.3002055,
          3.71319927,
          3.5438671
         ],
         "yaxis": "y"
        }
       ],
       "layout": {
        "legend": {
         "title": {
          "text": "variable"
         },
         "tracegroupgap": 0
        },
        "template": {
         "data": {
          "bar": [
           {
            "error_x": {
             "color": "#2a3f5f"
            },
            "error_y": {
             "color": "#2a3f5f"
            },
            "marker": {
             "line": {
              "color": "#E5ECF6",
              "width": 0.5
             },
             "pattern": {
              "fillmode": "overlay",
              "size": 10,
              "solidity": 0.2
             }
            },
            "type": "bar"
           }
          ],
          "barpolar": [
           {
            "marker": {
             "line": {
              "color": "#E5ECF6",
              "width": 0.5
             },
             "pattern": {
              "fillmode": "overlay",
              "size": 10,
              "solidity": 0.2
             }
            },
            "type": "barpolar"
           }
          ],
          "carpet": [
           {
            "aaxis": {
             "endlinecolor": "#2a3f5f",
             "gridcolor": "white",
             "linecolor": "white",
             "minorgridcolor": "white",
             "startlinecolor": "#2a3f5f"
            },
            "baxis": {
             "endlinecolor": "#2a3f5f",
             "gridcolor": "white",
             "linecolor": "white",
             "minorgridcolor": "white",
             "startlinecolor": "#2a3f5f"
            },
            "type": "carpet"
           }
          ],
          "choropleth": [
           {
            "colorbar": {
             "outlinewidth": 0,
             "ticks": ""
            },
            "type": "choropleth"
           }
          ],
          "contour": [
           {
            "colorbar": {
             "outlinewidth": 0,
             "ticks": ""
            },
            "colorscale": [
             [
              0,
              "#0d0887"
             ],
             [
              0.1111111111111111,
              "#46039f"
             ],
             [
              0.2222222222222222,
              "#7201a8"
             ],
             [
              0.3333333333333333,
              "#9c179e"
             ],
             [
              0.4444444444444444,
              "#bd3786"
             ],
             [
              0.5555555555555556,
              "#d8576b"
             ],
             [
              0.6666666666666666,
              "#ed7953"
             ],
             [
              0.7777777777777778,
              "#fb9f3a"
             ],
             [
              0.8888888888888888,
              "#fdca26"
             ],
             [
              1,
              "#f0f921"
             ]
            ],
            "type": "contour"
           }
          ],
          "contourcarpet": [
           {
            "colorbar": {
             "outlinewidth": 0,
             "ticks": ""
            },
            "type": "contourcarpet"
           }
          ],
          "heatmap": [
           {
            "colorbar": {
             "outlinewidth": 0,
             "ticks": ""
            },
            "colorscale": [
             [
              0,
              "#0d0887"
             ],
             [
              0.1111111111111111,
              "#46039f"
             ],
             [
              0.2222222222222222,
              "#7201a8"
             ],
             [
              0.3333333333333333,
              "#9c179e"
             ],
             [
              0.4444444444444444,
              "#bd3786"
             ],
             [
              0.5555555555555556,
              "#d8576b"
             ],
             [
              0.6666666666666666,
              "#ed7953"
             ],
             [
              0.7777777777777778,
              "#fb9f3a"
             ],
             [
              0.8888888888888888,
              "#fdca26"
             ],
             [
              1,
              "#f0f921"
             ]
            ],
            "type": "heatmap"
           }
          ],
          "heatmapgl": [
           {
            "colorbar": {
             "outlinewidth": 0,
             "ticks": ""
            },
            "colorscale": [
             [
              0,
              "#0d0887"
             ],
             [
              0.1111111111111111,
              "#46039f"
             ],
             [
              0.2222222222222222,
              "#7201a8"
             ],
             [
              0.3333333333333333,
              "#9c179e"
             ],
             [
              0.4444444444444444,
              "#bd3786"
             ],
             [
              0.5555555555555556,
              "#d8576b"
             ],
             [
              0.6666666666666666,
              "#ed7953"
             ],
             [
              0.7777777777777778,
              "#fb9f3a"
             ],
             [
              0.8888888888888888,
              "#fdca26"
             ],
             [
              1,
              "#f0f921"
             ]
            ],
            "type": "heatmapgl"
           }
          ],
          "histogram": [
           {
            "marker": {
             "pattern": {
              "fillmode": "overlay",
              "size": 10,
              "solidity": 0.2
             }
            },
            "type": "histogram"
           }
          ],
          "histogram2d": [
           {
            "colorbar": {
             "outlinewidth": 0,
             "ticks": ""
            },
            "colorscale": [
             [
              0,
              "#0d0887"
             ],
             [
              0.1111111111111111,
              "#46039f"
             ],
             [
              0.2222222222222222,
              "#7201a8"
             ],
             [
              0.3333333333333333,
              "#9c179e"
             ],
             [
              0.4444444444444444,
              "#bd3786"
             ],
             [
              0.5555555555555556,
              "#d8576b"
             ],
             [
              0.6666666666666666,
              "#ed7953"
             ],
             [
              0.7777777777777778,
              "#fb9f3a"
             ],
             [
              0.8888888888888888,
              "#fdca26"
             ],
             [
              1,
              "#f0f921"
             ]
            ],
            "type": "histogram2d"
           }
          ],
          "histogram2dcontour": [
           {
            "colorbar": {
             "outlinewidth": 0,
             "ticks": ""
            },
            "colorscale": [
             [
              0,
              "#0d0887"
             ],
             [
              0.1111111111111111,
              "#46039f"
             ],
             [
              0.2222222222222222,
              "#7201a8"
             ],
             [
              0.3333333333333333,
              "#9c179e"
             ],
             [
              0.4444444444444444,
              "#bd3786"
             ],
             [
              0.5555555555555556,
              "#d8576b"
             ],
             [
              0.6666666666666666,
              "#ed7953"
             ],
             [
              0.7777777777777778,
              "#fb9f3a"
             ],
             [
              0.8888888888888888,
              "#fdca26"
             ],
             [
              1,
              "#f0f921"
             ]
            ],
            "type": "histogram2dcontour"
           }
          ],
          "mesh3d": [
           {
            "colorbar": {
             "outlinewidth": 0,
             "ticks": ""
            },
            "type": "mesh3d"
           }
          ],
          "parcoords": [
           {
            "line": {
             "colorbar": {
              "outlinewidth": 0,
              "ticks": ""
             }
            },
            "type": "parcoords"
           }
          ],
          "pie": [
           {
            "automargin": true,
            "type": "pie"
           }
          ],
          "scatter": [
           {
            "fillpattern": {
             "fillmode": "overlay",
             "size": 10,
             "solidity": 0.2
            },
            "type": "scatter"
           }
          ],
          "scatter3d": [
           {
            "line": {
             "colorbar": {
              "outlinewidth": 0,
              "ticks": ""
             }
            },
            "marker": {
             "colorbar": {
              "outlinewidth": 0,
              "ticks": ""
             }
            },
            "type": "scatter3d"
           }
          ],
          "scattercarpet": [
           {
            "marker": {
             "colorbar": {
              "outlinewidth": 0,
              "ticks": ""
             }
            },
            "type": "scattercarpet"
           }
          ],
          "scattergeo": [
           {
            "marker": {
             "colorbar": {
              "outlinewidth": 0,
              "ticks": ""
             }
            },
            "type": "scattergeo"
           }
          ],
          "scattergl": [
           {
            "marker": {
             "colorbar": {
              "outlinewidth": 0,
              "ticks": ""
             }
            },
            "type": "scattergl"
           }
          ],
          "scattermapbox": [
           {
            "marker": {
             "colorbar": {
              "outlinewidth": 0,
              "ticks": ""
             }
            },
            "type": "scattermapbox"
           }
          ],
          "scatterpolar": [
           {
            "marker": {
             "colorbar": {
              "outlinewidth": 0,
              "ticks": ""
             }
            },
            "type": "scatterpolar"
           }
          ],
          "scatterpolargl": [
           {
            "marker": {
             "colorbar": {
              "outlinewidth": 0,
              "ticks": ""
             }
            },
            "type": "scatterpolargl"
           }
          ],
          "scatterternary": [
           {
            "marker": {
             "colorbar": {
              "outlinewidth": 0,
              "ticks": ""
             }
            },
            "type": "scatterternary"
           }
          ],
          "surface": [
           {
            "colorbar": {
             "outlinewidth": 0,
             "ticks": ""
            },
            "colorscale": [
             [
              0,
              "#0d0887"
             ],
             [
              0.1111111111111111,
              "#46039f"
             ],
             [
              0.2222222222222222,
              "#7201a8"
             ],
             [
              0.3333333333333333,
              "#9c179e"
             ],
             [
              0.4444444444444444,
              "#bd3786"
             ],
             [
              0.5555555555555556,
              "#d8576b"
             ],
             [
              0.6666666666666666,
              "#ed7953"
             ],
             [
              0.7777777777777778,
              "#fb9f3a"
             ],
             [
              0.8888888888888888,
              "#fdca26"
             ],
             [
              1,
              "#f0f921"
             ]
            ],
            "type": "surface"
           }
          ],
          "table": [
           {
            "cells": {
             "fill": {
              "color": "#EBF0F8"
             },
             "line": {
              "color": "white"
             }
            },
            "header": {
             "fill": {
              "color": "#C8D4E3"
             },
             "line": {
              "color": "white"
             }
            },
            "type": "table"
           }
          ]
         },
         "layout": {
          "annotationdefaults": {
           "arrowcolor": "#2a3f5f",
           "arrowhead": 0,
           "arrowwidth": 1
          },
          "autotypenumbers": "strict",
          "coloraxis": {
           "colorbar": {
            "outlinewidth": 0,
            "ticks": ""
           }
          },
          "colorscale": {
           "diverging": [
            [
             0,
             "#8e0152"
            ],
            [
             0.1,
             "#c51b7d"
            ],
            [
             0.2,
             "#de77ae"
            ],
            [
             0.3,
             "#f1b6da"
            ],
            [
             0.4,
             "#fde0ef"
            ],
            [
             0.5,
             "#f7f7f7"
            ],
            [
             0.6,
             "#e6f5d0"
            ],
            [
             0.7,
             "#b8e186"
            ],
            [
             0.8,
             "#7fbc41"
            ],
            [
             0.9,
             "#4d9221"
            ],
            [
             1,
             "#276419"
            ]
           ],
           "sequential": [
            [
             0,
             "#0d0887"
            ],
            [
             0.1111111111111111,
             "#46039f"
            ],
            [
             0.2222222222222222,
             "#7201a8"
            ],
            [
             0.3333333333333333,
             "#9c179e"
            ],
            [
             0.4444444444444444,
             "#bd3786"
            ],
            [
             0.5555555555555556,
             "#d8576b"
            ],
            [
             0.6666666666666666,
             "#ed7953"
            ],
            [
             0.7777777777777778,
             "#fb9f3a"
            ],
            [
             0.8888888888888888,
             "#fdca26"
            ],
            [
             1,
             "#f0f921"
            ]
           ],
           "sequentialminus": [
            [
             0,
             "#0d0887"
            ],
            [
             0.1111111111111111,
             "#46039f"
            ],
            [
             0.2222222222222222,
             "#7201a8"
            ],
            [
             0.3333333333333333,
             "#9c179e"
            ],
            [
             0.4444444444444444,
             "#bd3786"
            ],
            [
             0.5555555555555556,
             "#d8576b"
            ],
            [
             0.6666666666666666,
             "#ed7953"
            ],
            [
             0.7777777777777778,
             "#fb9f3a"
            ],
            [
             0.8888888888888888,
             "#fdca26"
            ],
            [
             1,
             "#f0f921"
            ]
           ]
          },
          "colorway": [
           "#636efa",
           "#EF553B",
           "#00cc96",
           "#ab63fa",
           "#FFA15A",
           "#19d3f3",
           "#FF6692",
           "#B6E880",
           "#FF97FF",
           "#FECB52"
          ],
          "font": {
           "color": "#2a3f5f"
          },
          "geo": {
           "bgcolor": "white",
           "lakecolor": "white",
           "landcolor": "#E5ECF6",
           "showlakes": true,
           "showland": true,
           "subunitcolor": "white"
          },
          "hoverlabel": {
           "align": "left"
          },
          "hovermode": "closest",
          "mapbox": {
           "style": "light"
          },
          "paper_bgcolor": "white",
          "plot_bgcolor": "#E5ECF6",
          "polar": {
           "angularaxis": {
            "gridcolor": "white",
            "linecolor": "white",
            "ticks": ""
           },
           "bgcolor": "#E5ECF6",
           "radialaxis": {
            "gridcolor": "white",
            "linecolor": "white",
            "ticks": ""
           }
          },
          "scene": {
           "xaxis": {
            "backgroundcolor": "#E5ECF6",
            "gridcolor": "white",
            "gridwidth": 2,
            "linecolor": "white",
            "showbackground": true,
            "ticks": "",
            "zerolinecolor": "white"
           },
           "yaxis": {
            "backgroundcolor": "#E5ECF6",
            "gridcolor": "white",
            "gridwidth": 2,
            "linecolor": "white",
            "showbackground": true,
            "ticks": "",
            "zerolinecolor": "white"
           },
           "zaxis": {
            "backgroundcolor": "#E5ECF6",
            "gridcolor": "white",
            "gridwidth": 2,
            "linecolor": "white",
            "showbackground": true,
            "ticks": "",
            "zerolinecolor": "white"
           }
          },
          "shapedefaults": {
           "line": {
            "color": "#2a3f5f"
           }
          },
          "ternary": {
           "aaxis": {
            "gridcolor": "white",
            "linecolor": "white",
            "ticks": ""
           },
           "baxis": {
            "gridcolor": "white",
            "linecolor": "white",
            "ticks": ""
           },
           "bgcolor": "#E5ECF6",
           "caxis": {
            "gridcolor": "white",
            "linecolor": "white",
            "ticks": ""
           }
          },
          "title": {
           "x": 0.05
          },
          "xaxis": {
           "automargin": true,
           "gridcolor": "white",
           "linecolor": "white",
           "ticks": "",
           "title": {
            "standoff": 15
           },
           "zerolinecolor": "white",
           "zerolinewidth": 2
          },
          "yaxis": {
           "automargin": true,
           "gridcolor": "white",
           "linecolor": "white",
           "ticks": "",
           "title": {
            "standoff": 15
           },
           "zerolinecolor": "white",
           "zerolinewidth": 2
          }
         }
        },
        "title": {
         "text": "PRIBOR_3M Forecasts comparison"
        },
        "updatemenus": [
         {
          "active": 0,
          "buttons": [
           {
            "args": [
             {
              "visible": true
             },
             {
              "title": "PRIBOR_3M Forecasts comparison"
             }
            ],
            "label": "Show All",
            "method": "update"
           },
           {
            "args": [
             {
              "visible": [
               "legendonly",
               "legendonly",
               "legendonly",
               "legendonly"
              ]
             },
             {
              "title": "PRIBOR_3M Forecasts comparison"
             }
            ],
            "label": "Hide All",
            "method": "update"
           }
          ]
         }
        ],
        "xaxis": {
         "anchor": "y",
         "domain": [
          0,
          1
         ],
         "title": {
          "text": "Year-Month"
         }
        },
        "yaxis": {
         "anchor": "x",
         "domain": [
          0,
          1
         ],
         "title": {
          "text": "value"
         }
        }
       }
      },
      "text/html": [
       "<div>                            <div id=\"920def64-a219-4fc1-b6d8-dbe3cc2397ed\" class=\"plotly-graph-div\" style=\"height:525px; width:100%;\"></div>            <script type=\"text/javascript\">                require([\"plotly\"], function(Plotly) {                    window.PLOTLYENV=window.PLOTLYENV || {};                                    if (document.getElementById(\"920def64-a219-4fc1-b6d8-dbe3cc2397ed\")) {                    Plotly.newPlot(                        \"920def64-a219-4fc1-b6d8-dbe3cc2397ed\",                        [{\"hovertemplate\":\"variable=PRIBOR_3M<br>Year-Month=%{x}<br>value=%{y}<extra></extra>\",\"legendgroup\":\"PRIBOR_3M\",\"line\":{\"color\":\"#636efa\",\"dash\":\"solid\"},\"marker\":{\"symbol\":\"circle\"},\"mode\":\"lines\",\"name\":\"PRIBOR_3M\",\"orientation\":\"v\",\"showlegend\":true,\"x\":[\"2005Q1\",\"2005Q2\",\"2005Q3\",\"2005Q4\",\"2006Q1\",\"2006Q2\",\"2006Q3\",\"2006Q4\",\"2007Q1\",\"2007Q2\",\"2007Q3\",\"2007Q4\",\"2008Q1\",\"2008Q2\",\"2008Q3\",\"2008Q4\",\"2009Q1\",\"2009Q2\",\"2009Q3\",\"2009Q4\",\"2010Q1\",\"2010Q2\",\"2010Q3\",\"2010Q4\",\"2011Q1\",\"2011Q2\",\"2011Q3\",\"2011Q4\",\"2012Q1\",\"2012Q2\",\"2012Q3\",\"2012Q4\",\"2013Q1\",\"2013Q2\",\"2013Q3\",\"2013Q4\",\"2014Q1\",\"2014Q2\",\"2014Q3\",\"2014Q4\",\"2015Q1\",\"2015Q2\",\"2015Q3\",\"2015Q4\",\"2016Q1\",\"2016Q2\",\"2016Q3\",\"2016Q4\",\"2017Q1\",\"2017Q2\",\"2017Q3\",\"2017Q4\",\"2018Q1\",\"2018Q2\",\"2018Q3\",\"2018Q4\",\"2019Q1\",\"2019Q2\",\"2019Q3\",\"2019Q4\",\"2020Q1\",\"2020Q2\",\"2020Q3\",\"2020Q4\",\"2021Q1\",\"2021Q2\",\"2021Q3\",\"2021Q4\",\"2022Q1\",\"2022Q2\",\"2022Q3\",\"2022Q4\",\"2023Q1\",\"2023Q2\",\"2023Q3\",\"2023Q4\",\"2024Q1\",\"2024Q2\",\"2024Q3\",\"2024Q4\"],\"xaxis\":\"x\",\"y\":[2.2868701298701297,1.8516161616161615,1.7872685336529732,2.1075476190476192,2.074780632411067,2.1298564593301434,2.381601449275362,2.6208623832308042,2.5790757575757577,2.7644365079365083,3.2718817696414955,3.775510174205827,3.9786832611832614,4.153758297258297,3.9097481021394067,4.105153907496013,2.7108340548340544,2.3221618440039493,1.9678643578643575,1.7730714285714289,1.4999927536231883,1.3057936507936507,1.228611111111111,1.2144790764790765,1.2043526570048309,1.208212121212121,1.184168391994479,1.16,1.1996248196248196,1.2324523809523809,0.9757364607170099,0.5842021665934709,0.49587301587301585,0.46334126984126983,0.4577777777777778,0.4105266955266955,0.3715151515151515,0.36278571428571427,0.3499999999999999,0.3435087719298246,0.3277777777777778,0.31,0.3059451659451659,0.2895238095238095,0.28634920634920635,0.29,0.29,0.28888888888888886,0.28,0.2940644540644541,0.3989450800915331,0.6590806561859194,0.8590735930735932,0.9138095238095238,1.39266590389016,1.921916264090177,2.0130093795093793,2.128984126984127,2.14988455988456,2.1777128427128427,2.155409090909091,0.5872894736842105,0.34031746031746035,0.3503174603174603,0.36000000000000004,0.40100288600288597,0.9132828282828284,2.83084632034632,4.5879230503795725,5.992288676236044,7.272678798445388,7.269349206349205,7.203172595520422,7.168403078403078,7.101549580472921,null,null,null,null,null],\"yaxis\":\"y\",\"type\":\"scatter\",\"visible\":\"legendonly\"},{\"hovertemplate\":\"variable=PRIBOR_3M_VAR_forecast<br>Year-Month=%{x}<br>value=%{y}<extra></extra>\",\"legendgroup\":\"PRIBOR_3M_VAR_forecast\",\"line\":{\"color\":\"#EF553B\",\"dash\":\"solid\"},\"marker\":{\"symbol\":\"circle\"},\"mode\":\"lines\",\"name\":\"PRIBOR_3M_VAR_forecast\",\"orientation\":\"v\",\"showlegend\":true,\"x\":[\"2005Q1\",\"2005Q2\",\"2005Q3\",\"2005Q4\",\"2006Q1\",\"2006Q2\",\"2006Q3\",\"2006Q4\",\"2007Q1\",\"2007Q2\",\"2007Q3\",\"2007Q4\",\"2008Q1\",\"2008Q2\",\"2008Q3\",\"2008Q4\",\"2009Q1\",\"2009Q2\",\"2009Q3\",\"2009Q4\",\"2010Q1\",\"2010Q2\",\"2010Q3\",\"2010Q4\",\"2011Q1\",\"2011Q2\",\"2011Q3\",\"2011Q4\",\"2012Q1\",\"2012Q2\",\"2012Q3\",\"2012Q4\",\"2013Q1\",\"2013Q2\",\"2013Q3\",\"2013Q4\",\"2014Q1\",\"2014Q2\",\"2014Q3\",\"2014Q4\",\"2015Q1\",\"2015Q2\",\"2015Q3\",\"2015Q4\",\"2016Q1\",\"2016Q2\",\"2016Q3\",\"2016Q4\",\"2017Q1\",\"2017Q2\",\"2017Q3\",\"2017Q4\",\"2018Q1\",\"2018Q2\",\"2018Q3\",\"2018Q4\",\"2019Q1\",\"2019Q2\",\"2019Q3\",\"2019Q4\",\"2020Q1\",\"2020Q2\",\"2020Q3\",\"2020Q4\",\"2021Q1\",\"2021Q2\",\"2021Q3\",\"2021Q4\",\"2022Q1\",\"2022Q2\",\"2022Q3\",\"2022Q4\",\"2023Q1\",\"2023Q2\",\"2023Q3\",\"2023Q4\",\"2024Q1\",\"2024Q2\",\"2024Q3\",\"2024Q4\"],\"xaxis\":\"x\",\"y\":[null,null,null,null,null,null,null,null,null,null,null,null,null,null,null,null,null,null,null,null,null,null,null,null,null,null,null,null,null,null,null,null,null,null,null,null,null,null,null,null,null,null,null,null,null,null,null,null,null,null,null,null,null,null,null,null,null,null,null,null,null,null,null,null,null,null,null,null,null,null,null,null,null,null,null,7.1361101572611805,7.552591511224312,7.724345672467919,8.675721278686733,8.314118584011272],\"yaxis\":\"y\",\"type\":\"scatter\",\"visible\":\"legendonly\"},{\"hovertemplate\":\"variable=PRIBOR_3M_CNB_forecast<br>Year-Month=%{x}<br>value=%{y}<extra></extra>\",\"legendgroup\":\"PRIBOR_3M_CNB_forecast\",\"line\":{\"color\":\"#00cc96\",\"dash\":\"solid\"},\"marker\":{\"symbol\":\"circle\"},\"mode\":\"lines\",\"name\":\"PRIBOR_3M_CNB_forecast\",\"orientation\":\"v\",\"showlegend\":true,\"x\":[\"2005Q1\",\"2005Q2\",\"2005Q3\",\"2005Q4\",\"2006Q1\",\"2006Q2\",\"2006Q3\",\"2006Q4\",\"2007Q1\",\"2007Q2\",\"2007Q3\",\"2007Q4\",\"2008Q1\",\"2008Q2\",\"2008Q3\",\"2008Q4\",\"2009Q1\",\"2009Q2\",\"2009Q3\",\"2009Q4\",\"2010Q1\",\"2010Q2\",\"2010Q3\",\"2010Q4\",\"2011Q1\",\"2011Q2\",\"2011Q3\",\"2011Q4\",\"2012Q1\",\"2012Q2\",\"2012Q3\",\"2012Q4\",\"2013Q1\",\"2013Q2\",\"2013Q3\",\"2013Q4\",\"2014Q1\",\"2014Q2\",\"2014Q3\",\"2014Q4\",\"2015Q1\",\"2015Q2\",\"2015Q3\",\"2015Q4\",\"2016Q1\",\"2016Q2\",\"2016Q3\",\"2016Q4\",\"2017Q1\",\"2017Q2\",\"2017Q3\",\"2017Q4\",\"2018Q1\",\"2018Q2\",\"2018Q3\",\"2018Q4\",\"2019Q1\",\"2019Q2\",\"2019Q3\",\"2019Q4\",\"2020Q1\",\"2020Q2\",\"2020Q3\",\"2020Q4\",\"2021Q1\",\"2021Q2\",\"2021Q3\",\"2021Q4\",\"2022Q1\",\"2022Q2\",\"2022Q3\",\"2022Q4\",\"2023Q1\",\"2023Q2\",\"2023Q3\",\"2023Q4\",\"2024Q1\",\"2024Q2\",\"2024Q3\",\"2024Q4\"],\"xaxis\":\"x\",\"y\":[null,null,null,null,null,null,null,null,null,null,null,null,null,null,null,null,null,null,null,null,null,null,null,null,null,null,null,null,null,null,null,null,null,null,null,null,null,null,null,null,null,null,null,null,null,null,null,null,null,null,null,null,null,null,null,null,null,null,null,null,null,null,null,null,null,null,null,null,null,null,null,null,null,null,null,6.55274551,5.46019042,4.3002055,3.71319927,3.5438671],\"yaxis\":\"y\",\"type\":\"scatter\",\"visible\":\"legendonly\"}],                        {\"template\":{\"data\":{\"histogram2dcontour\":[{\"type\":\"histogram2dcontour\",\"colorbar\":{\"outlinewidth\":0,\"ticks\":\"\"},\"colorscale\":[[0.0,\"#0d0887\"],[0.1111111111111111,\"#46039f\"],[0.2222222222222222,\"#7201a8\"],[0.3333333333333333,\"#9c179e\"],[0.4444444444444444,\"#bd3786\"],[0.5555555555555556,\"#d8576b\"],[0.6666666666666666,\"#ed7953\"],[0.7777777777777778,\"#fb9f3a\"],[0.8888888888888888,\"#fdca26\"],[1.0,\"#f0f921\"]]}],\"choropleth\":[{\"type\":\"choropleth\",\"colorbar\":{\"outlinewidth\":0,\"ticks\":\"\"}}],\"histogram2d\":[{\"type\":\"histogram2d\",\"colorbar\":{\"outlinewidth\":0,\"ticks\":\"\"},\"colorscale\":[[0.0,\"#0d0887\"],[0.1111111111111111,\"#46039f\"],[0.2222222222222222,\"#7201a8\"],[0.3333333333333333,\"#9c179e\"],[0.4444444444444444,\"#bd3786\"],[0.5555555555555556,\"#d8576b\"],[0.6666666666666666,\"#ed7953\"],[0.7777777777777778,\"#fb9f3a\"],[0.8888888888888888,\"#fdca26\"],[1.0,\"#f0f921\"]]}],\"heatmap\":[{\"type\":\"heatmap\",\"colorbar\":{\"outlinewidth\":0,\"ticks\":\"\"},\"colorscale\":[[0.0,\"#0d0887\"],[0.1111111111111111,\"#46039f\"],[0.2222222222222222,\"#7201a8\"],[0.3333333333333333,\"#9c179e\"],[0.4444444444444444,\"#bd3786\"],[0.5555555555555556,\"#d8576b\"],[0.6666666666666666,\"#ed7953\"],[0.7777777777777778,\"#fb9f3a\"],[0.8888888888888888,\"#fdca26\"],[1.0,\"#f0f921\"]]}],\"heatmapgl\":[{\"type\":\"heatmapgl\",\"colorbar\":{\"outlinewidth\":0,\"ticks\":\"\"},\"colorscale\":[[0.0,\"#0d0887\"],[0.1111111111111111,\"#46039f\"],[0.2222222222222222,\"#7201a8\"],[0.3333333333333333,\"#9c179e\"],[0.4444444444444444,\"#bd3786\"],[0.5555555555555556,\"#d8576b\"],[0.6666666666666666,\"#ed7953\"],[0.7777777777777778,\"#fb9f3a\"],[0.8888888888888888,\"#fdca26\"],[1.0,\"#f0f921\"]]}],\"contourcarpet\":[{\"type\":\"contourcarpet\",\"colorbar\":{\"outlinewidth\":0,\"ticks\":\"\"}}],\"contour\":[{\"type\":\"contour\",\"colorbar\":{\"outlinewidth\":0,\"ticks\":\"\"},\"colorscale\":[[0.0,\"#0d0887\"],[0.1111111111111111,\"#46039f\"],[0.2222222222222222,\"#7201a8\"],[0.3333333333333333,\"#9c179e\"],[0.4444444444444444,\"#bd3786\"],[0.5555555555555556,\"#d8576b\"],[0.6666666666666666,\"#ed7953\"],[0.7777777777777778,\"#fb9f3a\"],[0.8888888888888888,\"#fdca26\"],[1.0,\"#f0f921\"]]}],\"surface\":[{\"type\":\"surface\",\"colorbar\":{\"outlinewidth\":0,\"ticks\":\"\"},\"colorscale\":[[0.0,\"#0d0887\"],[0.1111111111111111,\"#46039f\"],[0.2222222222222222,\"#7201a8\"],[0.3333333333333333,\"#9c179e\"],[0.4444444444444444,\"#bd3786\"],[0.5555555555555556,\"#d8576b\"],[0.6666666666666666,\"#ed7953\"],[0.7777777777777778,\"#fb9f3a\"],[0.8888888888888888,\"#fdca26\"],[1.0,\"#f0f921\"]]}],\"mesh3d\":[{\"type\":\"mesh3d\",\"colorbar\":{\"outlinewidth\":0,\"ticks\":\"\"}}],\"scatter\":[{\"fillpattern\":{\"fillmode\":\"overlay\",\"size\":10,\"solidity\":0.2},\"type\":\"scatter\"}],\"parcoords\":[{\"type\":\"parcoords\",\"line\":{\"colorbar\":{\"outlinewidth\":0,\"ticks\":\"\"}}}],\"scatterpolargl\":[{\"type\":\"scatterpolargl\",\"marker\":{\"colorbar\":{\"outlinewidth\":0,\"ticks\":\"\"}}}],\"bar\":[{\"error_x\":{\"color\":\"#2a3f5f\"},\"error_y\":{\"color\":\"#2a3f5f\"},\"marker\":{\"line\":{\"color\":\"#E5ECF6\",\"width\":0.5},\"pattern\":{\"fillmode\":\"overlay\",\"size\":10,\"solidity\":0.2}},\"type\":\"bar\"}],\"scattergeo\":[{\"type\":\"scattergeo\",\"marker\":{\"colorbar\":{\"outlinewidth\":0,\"ticks\":\"\"}}}],\"scatterpolar\":[{\"type\":\"scatterpolar\",\"marker\":{\"colorbar\":{\"outlinewidth\":0,\"ticks\":\"\"}}}],\"histogram\":[{\"marker\":{\"pattern\":{\"fillmode\":\"overlay\",\"size\":10,\"solidity\":0.2}},\"type\":\"histogram\"}],\"scattergl\":[{\"type\":\"scattergl\",\"marker\":{\"colorbar\":{\"outlinewidth\":0,\"ticks\":\"\"}}}],\"scatter3d\":[{\"type\":\"scatter3d\",\"line\":{\"colorbar\":{\"outlinewidth\":0,\"ticks\":\"\"}},\"marker\":{\"colorbar\":{\"outlinewidth\":0,\"ticks\":\"\"}}}],\"scattermapbox\":[{\"type\":\"scattermapbox\",\"marker\":{\"colorbar\":{\"outlinewidth\":0,\"ticks\":\"\"}}}],\"scatterternary\":[{\"type\":\"scatterternary\",\"marker\":{\"colorbar\":{\"outlinewidth\":0,\"ticks\":\"\"}}}],\"scattercarpet\":[{\"type\":\"scattercarpet\",\"marker\":{\"colorbar\":{\"outlinewidth\":0,\"ticks\":\"\"}}}],\"carpet\":[{\"aaxis\":{\"endlinecolor\":\"#2a3f5f\",\"gridcolor\":\"white\",\"linecolor\":\"white\",\"minorgridcolor\":\"white\",\"startlinecolor\":\"#2a3f5f\"},\"baxis\":{\"endlinecolor\":\"#2a3f5f\",\"gridcolor\":\"white\",\"linecolor\":\"white\",\"minorgridcolor\":\"white\",\"startlinecolor\":\"#2a3f5f\"},\"type\":\"carpet\"}],\"table\":[{\"cells\":{\"fill\":{\"color\":\"#EBF0F8\"},\"line\":{\"color\":\"white\"}},\"header\":{\"fill\":{\"color\":\"#C8D4E3\"},\"line\":{\"color\":\"white\"}},\"type\":\"table\"}],\"barpolar\":[{\"marker\":{\"line\":{\"color\":\"#E5ECF6\",\"width\":0.5},\"pattern\":{\"fillmode\":\"overlay\",\"size\":10,\"solidity\":0.2}},\"type\":\"barpolar\"}],\"pie\":[{\"automargin\":true,\"type\":\"pie\"}]},\"layout\":{\"autotypenumbers\":\"strict\",\"colorway\":[\"#636efa\",\"#EF553B\",\"#00cc96\",\"#ab63fa\",\"#FFA15A\",\"#19d3f3\",\"#FF6692\",\"#B6E880\",\"#FF97FF\",\"#FECB52\"],\"font\":{\"color\":\"#2a3f5f\"},\"hovermode\":\"closest\",\"hoverlabel\":{\"align\":\"left\"},\"paper_bgcolor\":\"white\",\"plot_bgcolor\":\"#E5ECF6\",\"polar\":{\"bgcolor\":\"#E5ECF6\",\"angularaxis\":{\"gridcolor\":\"white\",\"linecolor\":\"white\",\"ticks\":\"\"},\"radialaxis\":{\"gridcolor\":\"white\",\"linecolor\":\"white\",\"ticks\":\"\"}},\"ternary\":{\"bgcolor\":\"#E5ECF6\",\"aaxis\":{\"gridcolor\":\"white\",\"linecolor\":\"white\",\"ticks\":\"\"},\"baxis\":{\"gridcolor\":\"white\",\"linecolor\":\"white\",\"ticks\":\"\"},\"caxis\":{\"gridcolor\":\"white\",\"linecolor\":\"white\",\"ticks\":\"\"}},\"coloraxis\":{\"colorbar\":{\"outlinewidth\":0,\"ticks\":\"\"}},\"colorscale\":{\"sequential\":[[0.0,\"#0d0887\"],[0.1111111111111111,\"#46039f\"],[0.2222222222222222,\"#7201a8\"],[0.3333333333333333,\"#9c179e\"],[0.4444444444444444,\"#bd3786\"],[0.5555555555555556,\"#d8576b\"],[0.6666666666666666,\"#ed7953\"],[0.7777777777777778,\"#fb9f3a\"],[0.8888888888888888,\"#fdca26\"],[1.0,\"#f0f921\"]],\"sequentialminus\":[[0.0,\"#0d0887\"],[0.1111111111111111,\"#46039f\"],[0.2222222222222222,\"#7201a8\"],[0.3333333333333333,\"#9c179e\"],[0.4444444444444444,\"#bd3786\"],[0.5555555555555556,\"#d8576b\"],[0.6666666666666666,\"#ed7953\"],[0.7777777777777778,\"#fb9f3a\"],[0.8888888888888888,\"#fdca26\"],[1.0,\"#f0f921\"]],\"diverging\":[[0,\"#8e0152\"],[0.1,\"#c51b7d\"],[0.2,\"#de77ae\"],[0.3,\"#f1b6da\"],[0.4,\"#fde0ef\"],[0.5,\"#f7f7f7\"],[0.6,\"#e6f5d0\"],[0.7,\"#b8e186\"],[0.8,\"#7fbc41\"],[0.9,\"#4d9221\"],[1,\"#276419\"]]},\"xaxis\":{\"gridcolor\":\"white\",\"linecolor\":\"white\",\"ticks\":\"\",\"title\":{\"standoff\":15},\"zerolinecolor\":\"white\",\"automargin\":true,\"zerolinewidth\":2},\"yaxis\":{\"gridcolor\":\"white\",\"linecolor\":\"white\",\"ticks\":\"\",\"title\":{\"standoff\":15},\"zerolinecolor\":\"white\",\"automargin\":true,\"zerolinewidth\":2},\"scene\":{\"xaxis\":{\"backgroundcolor\":\"#E5ECF6\",\"gridcolor\":\"white\",\"linecolor\":\"white\",\"showbackground\":true,\"ticks\":\"\",\"zerolinecolor\":\"white\",\"gridwidth\":2},\"yaxis\":{\"backgroundcolor\":\"#E5ECF6\",\"gridcolor\":\"white\",\"linecolor\":\"white\",\"showbackground\":true,\"ticks\":\"\",\"zerolinecolor\":\"white\",\"gridwidth\":2},\"zaxis\":{\"backgroundcolor\":\"#E5ECF6\",\"gridcolor\":\"white\",\"linecolor\":\"white\",\"showbackground\":true,\"ticks\":\"\",\"zerolinecolor\":\"white\",\"gridwidth\":2}},\"shapedefaults\":{\"line\":{\"color\":\"#2a3f5f\"}},\"annotationdefaults\":{\"arrowcolor\":\"#2a3f5f\",\"arrowhead\":0,\"arrowwidth\":1},\"geo\":{\"bgcolor\":\"white\",\"landcolor\":\"#E5ECF6\",\"subunitcolor\":\"white\",\"showland\":true,\"showlakes\":true,\"lakecolor\":\"white\"},\"title\":{\"x\":0.05},\"mapbox\":{\"style\":\"light\"}}},\"xaxis\":{\"anchor\":\"y\",\"domain\":[0.0,1.0],\"title\":{\"text\":\"Year-Month\"}},\"yaxis\":{\"anchor\":\"x\",\"domain\":[0.0,1.0],\"title\":{\"text\":\"value\"}},\"legend\":{\"title\":{\"text\":\"variable\"},\"tracegroupgap\":0},\"title\":{\"text\":\"PRIBOR_3M Forecasts comparison\"},\"updatemenus\":[{\"active\":0,\"buttons\":[{\"args\":[{\"visible\":true},{\"title\":\"PRIBOR_3M Forecasts comparison\"}],\"label\":\"Show All\",\"method\":\"update\"},{\"args\":[{\"visible\":[\"legendonly\",\"legendonly\",\"legendonly\",\"legendonly\"]},{\"title\":\"PRIBOR_3M Forecasts comparison\"}],\"label\":\"Hide All\",\"method\":\"update\"}]}]},                        {\"responsive\": true}                    ).then(function(){\n",
       "                            \n",
       "var gd = document.getElementById('920def64-a219-4fc1-b6d8-dbe3cc2397ed');\n",
       "var x = new MutationObserver(function (mutations, observer) {{\n",
       "        var display = window.getComputedStyle(gd).display;\n",
       "        if (!display || display === 'none') {{\n",
       "            console.log([gd, 'removed!']);\n",
       "            Plotly.purge(gd);\n",
       "            observer.disconnect();\n",
       "        }}\n",
       "}});\n",
       "\n",
       "// Listen for the removal of the full notebook cells\n",
       "var notebookContainer = gd.closest('#notebook-container');\n",
       "if (notebookContainer) {{\n",
       "    x.observe(notebookContainer, {childList: true});\n",
       "}}\n",
       "\n",
       "// Listen for the clearing of the current output cell\n",
       "var outputEl = gd.closest('.output');\n",
       "if (outputEl) {{\n",
       "    x.observe(outputEl, {childList: true});\n",
       "}}\n",
       "\n",
       "                        })                };                });            </script>        </div>"
      ]
     },
     "metadata": {},
     "output_type": "display_data"
    },
    {
     "data": {
      "application/vnd.plotly.v1+json": {
       "config": {
        "plotlyServerURL": "https://plot.ly"
       },
       "data": [
        {
         "hovertemplate": "variable=EUR_CZK<br>Year-Month=%{x}<br>value=%{y}<extra></extra>",
         "legendgroup": "EUR_CZK",
         "line": {
          "color": "#636efa",
          "dash": "solid"
         },
         "marker": {
          "symbol": "circle"
         },
         "mode": "lines",
         "name": "EUR_CZK",
         "orientation": "v",
         "showlegend": true,
         "type": "scatter",
         "visible": "legendonly",
         "x": [
          "2005Q1",
          "2005Q2",
          "2005Q3",
          "2005Q4",
          "2006Q1",
          "2006Q2",
          "2006Q3",
          "2006Q4",
          "2007Q1",
          "2007Q2",
          "2007Q3",
          "2007Q4",
          "2008Q1",
          "2008Q2",
          "2008Q3",
          "2008Q4",
          "2009Q1",
          "2009Q2",
          "2009Q3",
          "2009Q4",
          "2010Q1",
          "2010Q2",
          "2010Q3",
          "2010Q4",
          "2011Q1",
          "2011Q2",
          "2011Q3",
          "2011Q4",
          "2012Q1",
          "2012Q2",
          "2012Q3",
          "2012Q4",
          "2013Q1",
          "2013Q2",
          "2013Q3",
          "2013Q4",
          "2014Q1",
          "2014Q2",
          "2014Q3",
          "2014Q4",
          "2015Q1",
          "2015Q2",
          "2015Q3",
          "2015Q4",
          "2016Q1",
          "2016Q2",
          "2016Q3",
          "2016Q4",
          "2017Q1",
          "2017Q2",
          "2017Q3",
          "2017Q4",
          "2018Q1",
          "2018Q2",
          "2018Q3",
          "2018Q4",
          "2019Q1",
          "2019Q2",
          "2019Q3",
          "2019Q4",
          "2020Q1",
          "2020Q2",
          "2020Q3",
          "2020Q4",
          "2021Q1",
          "2021Q2",
          "2021Q3",
          "2021Q4",
          "2022Q1",
          "2022Q2",
          "2022Q3",
          "2022Q4",
          "2023Q1",
          "2023Q2",
          "2023Q3",
          "2023Q4",
          "2024Q1",
          "2024Q2",
          "2024Q3",
          "2024Q4"
         ],
         "xaxis": "x",
         "y": [
          30.0144444,
          30.1258462,
          29.6770635,
          29.2983064,
          28.5997692,
          28.3843548,
          28.3304839,
          28.0448387,
          28.0365625,
          28.2662097,
          27.922903199999997,
          26.8287302,
          25.5624603,
          24.8257143,
          24.0924242,
          25.342377100000004,
          27.5992857,
          26.6770968,
          25.5978906,
          25.9145161,
          25.8676984,
          25.589296900000004,
          24.9134127,
          24.7859524,
          24.3745313,
          24.3205469,
          24.3880159,
          25.278709699999997,
          25.0834615,
          25.2612097,
          25.0651613,
          25.166666699999997,
          25.568333299999995,
          25.8312097,
          25.8523077,
          26.6569355,
          27.4407143,
          27.4470161,
          27.6181818,
          27.624098399999998,
          27.623809500000004,
          27.379919399999995,
          27.071812500000004,
          27.0565323,
          27.0385484,
          27.0393846,
          27.027698400000002,
          27.0279032,
          27.020230799999997,
          26.5320492,
          26.0843548,
          25.6512097,
          25.401825399999996,
          25.598871,
          25.7107511,
          25.8608564,
          25.6835823,
          25.6835397,
          25.74,
          25.5756667,
          25.613333300000004,
          27.0703333,
          26.464,
          26.659000000000002,
          26.065666699999998,
          25.6453333,
          25.4986667,
          25.380666699999995,
          24.6386667,
          24.6346667,
          24.5726667,
          24.3893333,
          23.7843333,
          23.5793333,
          24.133666700000003,
          null,
          null,
          null,
          null,
          null
         ],
         "yaxis": "y"
        },
        {
         "hovertemplate": "variable=EUR_CZK_VAR_forecast<br>Year-Month=%{x}<br>value=%{y}<extra></extra>",
         "legendgroup": "EUR_CZK_VAR_forecast",
         "line": {
          "color": "#EF553B",
          "dash": "solid"
         },
         "marker": {
          "symbol": "circle"
         },
         "mode": "lines",
         "name": "EUR_CZK_VAR_forecast",
         "orientation": "v",
         "showlegend": true,
         "type": "scatter",
         "visible": "legendonly",
         "x": [
          "2005Q1",
          "2005Q2",
          "2005Q3",
          "2005Q4",
          "2006Q1",
          "2006Q2",
          "2006Q3",
          "2006Q4",
          "2007Q1",
          "2007Q2",
          "2007Q3",
          "2007Q4",
          "2008Q1",
          "2008Q2",
          "2008Q3",
          "2008Q4",
          "2009Q1",
          "2009Q2",
          "2009Q3",
          "2009Q4",
          "2010Q1",
          "2010Q2",
          "2010Q3",
          "2010Q4",
          "2011Q1",
          "2011Q2",
          "2011Q3",
          "2011Q4",
          "2012Q1",
          "2012Q2",
          "2012Q3",
          "2012Q4",
          "2013Q1",
          "2013Q2",
          "2013Q3",
          "2013Q4",
          "2014Q1",
          "2014Q2",
          "2014Q3",
          "2014Q4",
          "2015Q1",
          "2015Q2",
          "2015Q3",
          "2015Q4",
          "2016Q1",
          "2016Q2",
          "2016Q3",
          "2016Q4",
          "2017Q1",
          "2017Q2",
          "2017Q3",
          "2017Q4",
          "2018Q1",
          "2018Q2",
          "2018Q3",
          "2018Q4",
          "2019Q1",
          "2019Q2",
          "2019Q3",
          "2019Q4",
          "2020Q1",
          "2020Q2",
          "2020Q3",
          "2020Q4",
          "2021Q1",
          "2021Q2",
          "2021Q3",
          "2021Q4",
          "2022Q1",
          "2022Q2",
          "2022Q3",
          "2022Q4",
          "2023Q1",
          "2023Q2",
          "2023Q3",
          "2023Q4",
          "2024Q1",
          "2024Q2",
          "2024Q3",
          "2024Q4"
         ],
         "xaxis": "x",
         "y": [
          null,
          null,
          null,
          null,
          null,
          null,
          null,
          null,
          null,
          null,
          null,
          null,
          null,
          null,
          null,
          null,
          null,
          null,
          null,
          null,
          null,
          null,
          null,
          null,
          null,
          null,
          null,
          null,
          null,
          null,
          null,
          null,
          null,
          null,
          null,
          null,
          null,
          null,
          null,
          null,
          null,
          null,
          null,
          null,
          null,
          null,
          null,
          null,
          null,
          null,
          null,
          null,
          null,
          null,
          null,
          null,
          null,
          null,
          null,
          null,
          null,
          null,
          null,
          null,
          null,
          null,
          null,
          null,
          null,
          null,
          null,
          null,
          null,
          null,
          null,
          25.221953064523916,
          27.271266099262355,
          27.375951267804737,
          25.23616183707921,
          24.362718251679862
         ],
         "yaxis": "y"
        },
        {
         "hovertemplate": "variable=EUR_CZK_CNB_forecast<br>Year-Month=%{x}<br>value=%{y}<extra></extra>",
         "legendgroup": "EUR_CZK_CNB_forecast",
         "line": {
          "color": "#00cc96",
          "dash": "solid"
         },
         "marker": {
          "symbol": "circle"
         },
         "mode": "lines",
         "name": "EUR_CZK_CNB_forecast",
         "orientation": "v",
         "showlegend": true,
         "type": "scatter",
         "visible": "legendonly",
         "x": [
          "2005Q1",
          "2005Q2",
          "2005Q3",
          "2005Q4",
          "2006Q1",
          "2006Q2",
          "2006Q3",
          "2006Q4",
          "2007Q1",
          "2007Q2",
          "2007Q3",
          "2007Q4",
          "2008Q1",
          "2008Q2",
          "2008Q3",
          "2008Q4",
          "2009Q1",
          "2009Q2",
          "2009Q3",
          "2009Q4",
          "2010Q1",
          "2010Q2",
          "2010Q3",
          "2010Q4",
          "2011Q1",
          "2011Q2",
          "2011Q3",
          "2011Q4",
          "2012Q1",
          "2012Q2",
          "2012Q3",
          "2012Q4",
          "2013Q1",
          "2013Q2",
          "2013Q3",
          "2013Q4",
          "2014Q1",
          "2014Q2",
          "2014Q3",
          "2014Q4",
          "2015Q1",
          "2015Q2",
          "2015Q3",
          "2015Q4",
          "2016Q1",
          "2016Q2",
          "2016Q3",
          "2016Q4",
          "2017Q1",
          "2017Q2",
          "2017Q3",
          "2017Q4",
          "2018Q1",
          "2018Q2",
          "2018Q3",
          "2018Q4",
          "2019Q1",
          "2019Q2",
          "2019Q3",
          "2019Q4",
          "2020Q1",
          "2020Q2",
          "2020Q3",
          "2020Q4",
          "2021Q1",
          "2021Q2",
          "2021Q3",
          "2021Q4",
          "2022Q1",
          "2022Q2",
          "2022Q3",
          "2022Q4",
          "2023Q1",
          "2023Q2",
          "2023Q3",
          "2023Q4",
          "2024Q1",
          "2024Q2",
          "2024Q3",
          "2024Q4"
         ],
         "xaxis": "x",
         "y": [
          null,
          null,
          null,
          null,
          null,
          null,
          null,
          null,
          null,
          null,
          null,
          null,
          null,
          null,
          null,
          null,
          null,
          null,
          null,
          null,
          null,
          null,
          null,
          null,
          null,
          null,
          null,
          null,
          null,
          null,
          null,
          null,
          null,
          null,
          null,
          null,
          null,
          null,
          null,
          null,
          null,
          null,
          null,
          null,
          null,
          null,
          null,
          null,
          null,
          null,
          null,
          null,
          null,
          null,
          null,
          null,
          null,
          null,
          null,
          null,
          null,
          null,
          null,
          null,
          null,
          null,
          null,
          null,
          null,
          null,
          null,
          null,
          null,
          null,
          null,
          24.6,
          24.7047971,
          24.6436235,
          24.5109956,
          24.3584604
         ],
         "yaxis": "y"
        }
       ],
       "layout": {
        "legend": {
         "title": {
          "text": "variable"
         },
         "tracegroupgap": 0
        },
        "template": {
         "data": {
          "bar": [
           {
            "error_x": {
             "color": "#2a3f5f"
            },
            "error_y": {
             "color": "#2a3f5f"
            },
            "marker": {
             "line": {
              "color": "#E5ECF6",
              "width": 0.5
             },
             "pattern": {
              "fillmode": "overlay",
              "size": 10,
              "solidity": 0.2
             }
            },
            "type": "bar"
           }
          ],
          "barpolar": [
           {
            "marker": {
             "line": {
              "color": "#E5ECF6",
              "width": 0.5
             },
             "pattern": {
              "fillmode": "overlay",
              "size": 10,
              "solidity": 0.2
             }
            },
            "type": "barpolar"
           }
          ],
          "carpet": [
           {
            "aaxis": {
             "endlinecolor": "#2a3f5f",
             "gridcolor": "white",
             "linecolor": "white",
             "minorgridcolor": "white",
             "startlinecolor": "#2a3f5f"
            },
            "baxis": {
             "endlinecolor": "#2a3f5f",
             "gridcolor": "white",
             "linecolor": "white",
             "minorgridcolor": "white",
             "startlinecolor": "#2a3f5f"
            },
            "type": "carpet"
           }
          ],
          "choropleth": [
           {
            "colorbar": {
             "outlinewidth": 0,
             "ticks": ""
            },
            "type": "choropleth"
           }
          ],
          "contour": [
           {
            "colorbar": {
             "outlinewidth": 0,
             "ticks": ""
            },
            "colorscale": [
             [
              0,
              "#0d0887"
             ],
             [
              0.1111111111111111,
              "#46039f"
             ],
             [
              0.2222222222222222,
              "#7201a8"
             ],
             [
              0.3333333333333333,
              "#9c179e"
             ],
             [
              0.4444444444444444,
              "#bd3786"
             ],
             [
              0.5555555555555556,
              "#d8576b"
             ],
             [
              0.6666666666666666,
              "#ed7953"
             ],
             [
              0.7777777777777778,
              "#fb9f3a"
             ],
             [
              0.8888888888888888,
              "#fdca26"
             ],
             [
              1,
              "#f0f921"
             ]
            ],
            "type": "contour"
           }
          ],
          "contourcarpet": [
           {
            "colorbar": {
             "outlinewidth": 0,
             "ticks": ""
            },
            "type": "contourcarpet"
           }
          ],
          "heatmap": [
           {
            "colorbar": {
             "outlinewidth": 0,
             "ticks": ""
            },
            "colorscale": [
             [
              0,
              "#0d0887"
             ],
             [
              0.1111111111111111,
              "#46039f"
             ],
             [
              0.2222222222222222,
              "#7201a8"
             ],
             [
              0.3333333333333333,
              "#9c179e"
             ],
             [
              0.4444444444444444,
              "#bd3786"
             ],
             [
              0.5555555555555556,
              "#d8576b"
             ],
             [
              0.6666666666666666,
              "#ed7953"
             ],
             [
              0.7777777777777778,
              "#fb9f3a"
             ],
             [
              0.8888888888888888,
              "#fdca26"
             ],
             [
              1,
              "#f0f921"
             ]
            ],
            "type": "heatmap"
           }
          ],
          "heatmapgl": [
           {
            "colorbar": {
             "outlinewidth": 0,
             "ticks": ""
            },
            "colorscale": [
             [
              0,
              "#0d0887"
             ],
             [
              0.1111111111111111,
              "#46039f"
             ],
             [
              0.2222222222222222,
              "#7201a8"
             ],
             [
              0.3333333333333333,
              "#9c179e"
             ],
             [
              0.4444444444444444,
              "#bd3786"
             ],
             [
              0.5555555555555556,
              "#d8576b"
             ],
             [
              0.6666666666666666,
              "#ed7953"
             ],
             [
              0.7777777777777778,
              "#fb9f3a"
             ],
             [
              0.8888888888888888,
              "#fdca26"
             ],
             [
              1,
              "#f0f921"
             ]
            ],
            "type": "heatmapgl"
           }
          ],
          "histogram": [
           {
            "marker": {
             "pattern": {
              "fillmode": "overlay",
              "size": 10,
              "solidity": 0.2
             }
            },
            "type": "histogram"
           }
          ],
          "histogram2d": [
           {
            "colorbar": {
             "outlinewidth": 0,
             "ticks": ""
            },
            "colorscale": [
             [
              0,
              "#0d0887"
             ],
             [
              0.1111111111111111,
              "#46039f"
             ],
             [
              0.2222222222222222,
              "#7201a8"
             ],
             [
              0.3333333333333333,
              "#9c179e"
             ],
             [
              0.4444444444444444,
              "#bd3786"
             ],
             [
              0.5555555555555556,
              "#d8576b"
             ],
             [
              0.6666666666666666,
              "#ed7953"
             ],
             [
              0.7777777777777778,
              "#fb9f3a"
             ],
             [
              0.8888888888888888,
              "#fdca26"
             ],
             [
              1,
              "#f0f921"
             ]
            ],
            "type": "histogram2d"
           }
          ],
          "histogram2dcontour": [
           {
            "colorbar": {
             "outlinewidth": 0,
             "ticks": ""
            },
            "colorscale": [
             [
              0,
              "#0d0887"
             ],
             [
              0.1111111111111111,
              "#46039f"
             ],
             [
              0.2222222222222222,
              "#7201a8"
             ],
             [
              0.3333333333333333,
              "#9c179e"
             ],
             [
              0.4444444444444444,
              "#bd3786"
             ],
             [
              0.5555555555555556,
              "#d8576b"
             ],
             [
              0.6666666666666666,
              "#ed7953"
             ],
             [
              0.7777777777777778,
              "#fb9f3a"
             ],
             [
              0.8888888888888888,
              "#fdca26"
             ],
             [
              1,
              "#f0f921"
             ]
            ],
            "type": "histogram2dcontour"
           }
          ],
          "mesh3d": [
           {
            "colorbar": {
             "outlinewidth": 0,
             "ticks": ""
            },
            "type": "mesh3d"
           }
          ],
          "parcoords": [
           {
            "line": {
             "colorbar": {
              "outlinewidth": 0,
              "ticks": ""
             }
            },
            "type": "parcoords"
           }
          ],
          "pie": [
           {
            "automargin": true,
            "type": "pie"
           }
          ],
          "scatter": [
           {
            "fillpattern": {
             "fillmode": "overlay",
             "size": 10,
             "solidity": 0.2
            },
            "type": "scatter"
           }
          ],
          "scatter3d": [
           {
            "line": {
             "colorbar": {
              "outlinewidth": 0,
              "ticks": ""
             }
            },
            "marker": {
             "colorbar": {
              "outlinewidth": 0,
              "ticks": ""
             }
            },
            "type": "scatter3d"
           }
          ],
          "scattercarpet": [
           {
            "marker": {
             "colorbar": {
              "outlinewidth": 0,
              "ticks": ""
             }
            },
            "type": "scattercarpet"
           }
          ],
          "scattergeo": [
           {
            "marker": {
             "colorbar": {
              "outlinewidth": 0,
              "ticks": ""
             }
            },
            "type": "scattergeo"
           }
          ],
          "scattergl": [
           {
            "marker": {
             "colorbar": {
              "outlinewidth": 0,
              "ticks": ""
             }
            },
            "type": "scattergl"
           }
          ],
          "scattermapbox": [
           {
            "marker": {
             "colorbar": {
              "outlinewidth": 0,
              "ticks": ""
             }
            },
            "type": "scattermapbox"
           }
          ],
          "scatterpolar": [
           {
            "marker": {
             "colorbar": {
              "outlinewidth": 0,
              "ticks": ""
             }
            },
            "type": "scatterpolar"
           }
          ],
          "scatterpolargl": [
           {
            "marker": {
             "colorbar": {
              "outlinewidth": 0,
              "ticks": ""
             }
            },
            "type": "scatterpolargl"
           }
          ],
          "scatterternary": [
           {
            "marker": {
             "colorbar": {
              "outlinewidth": 0,
              "ticks": ""
             }
            },
            "type": "scatterternary"
           }
          ],
          "surface": [
           {
            "colorbar": {
             "outlinewidth": 0,
             "ticks": ""
            },
            "colorscale": [
             [
              0,
              "#0d0887"
             ],
             [
              0.1111111111111111,
              "#46039f"
             ],
             [
              0.2222222222222222,
              "#7201a8"
             ],
             [
              0.3333333333333333,
              "#9c179e"
             ],
             [
              0.4444444444444444,
              "#bd3786"
             ],
             [
              0.5555555555555556,
              "#d8576b"
             ],
             [
              0.6666666666666666,
              "#ed7953"
             ],
             [
              0.7777777777777778,
              "#fb9f3a"
             ],
             [
              0.8888888888888888,
              "#fdca26"
             ],
             [
              1,
              "#f0f921"
             ]
            ],
            "type": "surface"
           }
          ],
          "table": [
           {
            "cells": {
             "fill": {
              "color": "#EBF0F8"
             },
             "line": {
              "color": "white"
             }
            },
            "header": {
             "fill": {
              "color": "#C8D4E3"
             },
             "line": {
              "color": "white"
             }
            },
            "type": "table"
           }
          ]
         },
         "layout": {
          "annotationdefaults": {
           "arrowcolor": "#2a3f5f",
           "arrowhead": 0,
           "arrowwidth": 1
          },
          "autotypenumbers": "strict",
          "coloraxis": {
           "colorbar": {
            "outlinewidth": 0,
            "ticks": ""
           }
          },
          "colorscale": {
           "diverging": [
            [
             0,
             "#8e0152"
            ],
            [
             0.1,
             "#c51b7d"
            ],
            [
             0.2,
             "#de77ae"
            ],
            [
             0.3,
             "#f1b6da"
            ],
            [
             0.4,
             "#fde0ef"
            ],
            [
             0.5,
             "#f7f7f7"
            ],
            [
             0.6,
             "#e6f5d0"
            ],
            [
             0.7,
             "#b8e186"
            ],
            [
             0.8,
             "#7fbc41"
            ],
            [
             0.9,
             "#4d9221"
            ],
            [
             1,
             "#276419"
            ]
           ],
           "sequential": [
            [
             0,
             "#0d0887"
            ],
            [
             0.1111111111111111,
             "#46039f"
            ],
            [
             0.2222222222222222,
             "#7201a8"
            ],
            [
             0.3333333333333333,
             "#9c179e"
            ],
            [
             0.4444444444444444,
             "#bd3786"
            ],
            [
             0.5555555555555556,
             "#d8576b"
            ],
            [
             0.6666666666666666,
             "#ed7953"
            ],
            [
             0.7777777777777778,
             "#fb9f3a"
            ],
            [
             0.8888888888888888,
             "#fdca26"
            ],
            [
             1,
             "#f0f921"
            ]
           ],
           "sequentialminus": [
            [
             0,
             "#0d0887"
            ],
            [
             0.1111111111111111,
             "#46039f"
            ],
            [
             0.2222222222222222,
             "#7201a8"
            ],
            [
             0.3333333333333333,
             "#9c179e"
            ],
            [
             0.4444444444444444,
             "#bd3786"
            ],
            [
             0.5555555555555556,
             "#d8576b"
            ],
            [
             0.6666666666666666,
             "#ed7953"
            ],
            [
             0.7777777777777778,
             "#fb9f3a"
            ],
            [
             0.8888888888888888,
             "#fdca26"
            ],
            [
             1,
             "#f0f921"
            ]
           ]
          },
          "colorway": [
           "#636efa",
           "#EF553B",
           "#00cc96",
           "#ab63fa",
           "#FFA15A",
           "#19d3f3",
           "#FF6692",
           "#B6E880",
           "#FF97FF",
           "#FECB52"
          ],
          "font": {
           "color": "#2a3f5f"
          },
          "geo": {
           "bgcolor": "white",
           "lakecolor": "white",
           "landcolor": "#E5ECF6",
           "showlakes": true,
           "showland": true,
           "subunitcolor": "white"
          },
          "hoverlabel": {
           "align": "left"
          },
          "hovermode": "closest",
          "mapbox": {
           "style": "light"
          },
          "paper_bgcolor": "white",
          "plot_bgcolor": "#E5ECF6",
          "polar": {
           "angularaxis": {
            "gridcolor": "white",
            "linecolor": "white",
            "ticks": ""
           },
           "bgcolor": "#E5ECF6",
           "radialaxis": {
            "gridcolor": "white",
            "linecolor": "white",
            "ticks": ""
           }
          },
          "scene": {
           "xaxis": {
            "backgroundcolor": "#E5ECF6",
            "gridcolor": "white",
            "gridwidth": 2,
            "linecolor": "white",
            "showbackground": true,
            "ticks": "",
            "zerolinecolor": "white"
           },
           "yaxis": {
            "backgroundcolor": "#E5ECF6",
            "gridcolor": "white",
            "gridwidth": 2,
            "linecolor": "white",
            "showbackground": true,
            "ticks": "",
            "zerolinecolor": "white"
           },
           "zaxis": {
            "backgroundcolor": "#E5ECF6",
            "gridcolor": "white",
            "gridwidth": 2,
            "linecolor": "white",
            "showbackground": true,
            "ticks": "",
            "zerolinecolor": "white"
           }
          },
          "shapedefaults": {
           "line": {
            "color": "#2a3f5f"
           }
          },
          "ternary": {
           "aaxis": {
            "gridcolor": "white",
            "linecolor": "white",
            "ticks": ""
           },
           "baxis": {
            "gridcolor": "white",
            "linecolor": "white",
            "ticks": ""
           },
           "bgcolor": "#E5ECF6",
           "caxis": {
            "gridcolor": "white",
            "linecolor": "white",
            "ticks": ""
           }
          },
          "title": {
           "x": 0.05
          },
          "xaxis": {
           "automargin": true,
           "gridcolor": "white",
           "linecolor": "white",
           "ticks": "",
           "title": {
            "standoff": 15
           },
           "zerolinecolor": "white",
           "zerolinewidth": 2
          },
          "yaxis": {
           "automargin": true,
           "gridcolor": "white",
           "linecolor": "white",
           "ticks": "",
           "title": {
            "standoff": 15
           },
           "zerolinecolor": "white",
           "zerolinewidth": 2
          }
         }
        },
        "title": {
         "text": "EUR_CZK Forecasts comparison"
        },
        "updatemenus": [
         {
          "active": 0,
          "buttons": [
           {
            "args": [
             {
              "visible": true
             },
             {
              "title": "EUR_CZK Forecasts comparison"
             }
            ],
            "label": "Show All",
            "method": "update"
           },
           {
            "args": [
             {
              "visible": [
               "legendonly",
               "legendonly",
               "legendonly",
               "legendonly"
              ]
             },
             {
              "title": "EUR_CZK Forecasts comparison"
             }
            ],
            "label": "Hide All",
            "method": "update"
           }
          ]
         }
        ],
        "xaxis": {
         "anchor": "y",
         "domain": [
          0,
          1
         ],
         "title": {
          "text": "Year-Month"
         }
        },
        "yaxis": {
         "anchor": "x",
         "domain": [
          0,
          1
         ],
         "title": {
          "text": "value"
         }
        }
       }
      },
      "text/html": [
       "<div>                            <div id=\"5b341d8c-2bf0-4c13-987f-92a84011412d\" class=\"plotly-graph-div\" style=\"height:525px; width:100%;\"></div>            <script type=\"text/javascript\">                require([\"plotly\"], function(Plotly) {                    window.PLOTLYENV=window.PLOTLYENV || {};                                    if (document.getElementById(\"5b341d8c-2bf0-4c13-987f-92a84011412d\")) {                    Plotly.newPlot(                        \"5b341d8c-2bf0-4c13-987f-92a84011412d\",                        [{\"hovertemplate\":\"variable=EUR_CZK<br>Year-Month=%{x}<br>value=%{y}<extra></extra>\",\"legendgroup\":\"EUR_CZK\",\"line\":{\"color\":\"#636efa\",\"dash\":\"solid\"},\"marker\":{\"symbol\":\"circle\"},\"mode\":\"lines\",\"name\":\"EUR_CZK\",\"orientation\":\"v\",\"showlegend\":true,\"x\":[\"2005Q1\",\"2005Q2\",\"2005Q3\",\"2005Q4\",\"2006Q1\",\"2006Q2\",\"2006Q3\",\"2006Q4\",\"2007Q1\",\"2007Q2\",\"2007Q3\",\"2007Q4\",\"2008Q1\",\"2008Q2\",\"2008Q3\",\"2008Q4\",\"2009Q1\",\"2009Q2\",\"2009Q3\",\"2009Q4\",\"2010Q1\",\"2010Q2\",\"2010Q3\",\"2010Q4\",\"2011Q1\",\"2011Q2\",\"2011Q3\",\"2011Q4\",\"2012Q1\",\"2012Q2\",\"2012Q3\",\"2012Q4\",\"2013Q1\",\"2013Q2\",\"2013Q3\",\"2013Q4\",\"2014Q1\",\"2014Q2\",\"2014Q3\",\"2014Q4\",\"2015Q1\",\"2015Q2\",\"2015Q3\",\"2015Q4\",\"2016Q1\",\"2016Q2\",\"2016Q3\",\"2016Q4\",\"2017Q1\",\"2017Q2\",\"2017Q3\",\"2017Q4\",\"2018Q1\",\"2018Q2\",\"2018Q3\",\"2018Q4\",\"2019Q1\",\"2019Q2\",\"2019Q3\",\"2019Q4\",\"2020Q1\",\"2020Q2\",\"2020Q3\",\"2020Q4\",\"2021Q1\",\"2021Q2\",\"2021Q3\",\"2021Q4\",\"2022Q1\",\"2022Q2\",\"2022Q3\",\"2022Q4\",\"2023Q1\",\"2023Q2\",\"2023Q3\",\"2023Q4\",\"2024Q1\",\"2024Q2\",\"2024Q3\",\"2024Q4\"],\"xaxis\":\"x\",\"y\":[30.0144444,30.1258462,29.6770635,29.2983064,28.5997692,28.3843548,28.3304839,28.0448387,28.0365625,28.2662097,27.922903199999997,26.8287302,25.5624603,24.8257143,24.0924242,25.342377100000004,27.5992857,26.6770968,25.5978906,25.9145161,25.8676984,25.589296900000004,24.9134127,24.7859524,24.3745313,24.3205469,24.3880159,25.278709699999997,25.0834615,25.2612097,25.0651613,25.166666699999997,25.568333299999995,25.8312097,25.8523077,26.6569355,27.4407143,27.4470161,27.6181818,27.624098399999998,27.623809500000004,27.379919399999995,27.071812500000004,27.0565323,27.0385484,27.0393846,27.027698400000002,27.0279032,27.020230799999997,26.5320492,26.0843548,25.6512097,25.401825399999996,25.598871,25.7107511,25.8608564,25.6835823,25.6835397,25.74,25.5756667,25.613333300000004,27.0703333,26.464,26.659000000000002,26.065666699999998,25.6453333,25.4986667,25.380666699999995,24.6386667,24.6346667,24.5726667,24.3893333,23.7843333,23.5793333,24.133666700000003,null,null,null,null,null],\"yaxis\":\"y\",\"type\":\"scatter\",\"visible\":\"legendonly\"},{\"hovertemplate\":\"variable=EUR_CZK_VAR_forecast<br>Year-Month=%{x}<br>value=%{y}<extra></extra>\",\"legendgroup\":\"EUR_CZK_VAR_forecast\",\"line\":{\"color\":\"#EF553B\",\"dash\":\"solid\"},\"marker\":{\"symbol\":\"circle\"},\"mode\":\"lines\",\"name\":\"EUR_CZK_VAR_forecast\",\"orientation\":\"v\",\"showlegend\":true,\"x\":[\"2005Q1\",\"2005Q2\",\"2005Q3\",\"2005Q4\",\"2006Q1\",\"2006Q2\",\"2006Q3\",\"2006Q4\",\"2007Q1\",\"2007Q2\",\"2007Q3\",\"2007Q4\",\"2008Q1\",\"2008Q2\",\"2008Q3\",\"2008Q4\",\"2009Q1\",\"2009Q2\",\"2009Q3\",\"2009Q4\",\"2010Q1\",\"2010Q2\",\"2010Q3\",\"2010Q4\",\"2011Q1\",\"2011Q2\",\"2011Q3\",\"2011Q4\",\"2012Q1\",\"2012Q2\",\"2012Q3\",\"2012Q4\",\"2013Q1\",\"2013Q2\",\"2013Q3\",\"2013Q4\",\"2014Q1\",\"2014Q2\",\"2014Q3\",\"2014Q4\",\"2015Q1\",\"2015Q2\",\"2015Q3\",\"2015Q4\",\"2016Q1\",\"2016Q2\",\"2016Q3\",\"2016Q4\",\"2017Q1\",\"2017Q2\",\"2017Q3\",\"2017Q4\",\"2018Q1\",\"2018Q2\",\"2018Q3\",\"2018Q4\",\"2019Q1\",\"2019Q2\",\"2019Q3\",\"2019Q4\",\"2020Q1\",\"2020Q2\",\"2020Q3\",\"2020Q4\",\"2021Q1\",\"2021Q2\",\"2021Q3\",\"2021Q4\",\"2022Q1\",\"2022Q2\",\"2022Q3\",\"2022Q4\",\"2023Q1\",\"2023Q2\",\"2023Q3\",\"2023Q4\",\"2024Q1\",\"2024Q2\",\"2024Q3\",\"2024Q4\"],\"xaxis\":\"x\",\"y\":[null,null,null,null,null,null,null,null,null,null,null,null,null,null,null,null,null,null,null,null,null,null,null,null,null,null,null,null,null,null,null,null,null,null,null,null,null,null,null,null,null,null,null,null,null,null,null,null,null,null,null,null,null,null,null,null,null,null,null,null,null,null,null,null,null,null,null,null,null,null,null,null,null,null,null,25.221953064523916,27.271266099262355,27.375951267804737,25.23616183707921,24.362718251679862],\"yaxis\":\"y\",\"type\":\"scatter\",\"visible\":\"legendonly\"},{\"hovertemplate\":\"variable=EUR_CZK_CNB_forecast<br>Year-Month=%{x}<br>value=%{y}<extra></extra>\",\"legendgroup\":\"EUR_CZK_CNB_forecast\",\"line\":{\"color\":\"#00cc96\",\"dash\":\"solid\"},\"marker\":{\"symbol\":\"circle\"},\"mode\":\"lines\",\"name\":\"EUR_CZK_CNB_forecast\",\"orientation\":\"v\",\"showlegend\":true,\"x\":[\"2005Q1\",\"2005Q2\",\"2005Q3\",\"2005Q4\",\"2006Q1\",\"2006Q2\",\"2006Q3\",\"2006Q4\",\"2007Q1\",\"2007Q2\",\"2007Q3\",\"2007Q4\",\"2008Q1\",\"2008Q2\",\"2008Q3\",\"2008Q4\",\"2009Q1\",\"2009Q2\",\"2009Q3\",\"2009Q4\",\"2010Q1\",\"2010Q2\",\"2010Q3\",\"2010Q4\",\"2011Q1\",\"2011Q2\",\"2011Q3\",\"2011Q4\",\"2012Q1\",\"2012Q2\",\"2012Q3\",\"2012Q4\",\"2013Q1\",\"2013Q2\",\"2013Q3\",\"2013Q4\",\"2014Q1\",\"2014Q2\",\"2014Q3\",\"2014Q4\",\"2015Q1\",\"2015Q2\",\"2015Q3\",\"2015Q4\",\"2016Q1\",\"2016Q2\",\"2016Q3\",\"2016Q4\",\"2017Q1\",\"2017Q2\",\"2017Q3\",\"2017Q4\",\"2018Q1\",\"2018Q2\",\"2018Q3\",\"2018Q4\",\"2019Q1\",\"2019Q2\",\"2019Q3\",\"2019Q4\",\"2020Q1\",\"2020Q2\",\"2020Q3\",\"2020Q4\",\"2021Q1\",\"2021Q2\",\"2021Q3\",\"2021Q4\",\"2022Q1\",\"2022Q2\",\"2022Q3\",\"2022Q4\",\"2023Q1\",\"2023Q2\",\"2023Q3\",\"2023Q4\",\"2024Q1\",\"2024Q2\",\"2024Q3\",\"2024Q4\"],\"xaxis\":\"x\",\"y\":[null,null,null,null,null,null,null,null,null,null,null,null,null,null,null,null,null,null,null,null,null,null,null,null,null,null,null,null,null,null,null,null,null,null,null,null,null,null,null,null,null,null,null,null,null,null,null,null,null,null,null,null,null,null,null,null,null,null,null,null,null,null,null,null,null,null,null,null,null,null,null,null,null,null,null,24.6,24.7047971,24.6436235,24.5109956,24.3584604],\"yaxis\":\"y\",\"type\":\"scatter\",\"visible\":\"legendonly\"}],                        {\"template\":{\"data\":{\"histogram2dcontour\":[{\"type\":\"histogram2dcontour\",\"colorbar\":{\"outlinewidth\":0,\"ticks\":\"\"},\"colorscale\":[[0.0,\"#0d0887\"],[0.1111111111111111,\"#46039f\"],[0.2222222222222222,\"#7201a8\"],[0.3333333333333333,\"#9c179e\"],[0.4444444444444444,\"#bd3786\"],[0.5555555555555556,\"#d8576b\"],[0.6666666666666666,\"#ed7953\"],[0.7777777777777778,\"#fb9f3a\"],[0.8888888888888888,\"#fdca26\"],[1.0,\"#f0f921\"]]}],\"choropleth\":[{\"type\":\"choropleth\",\"colorbar\":{\"outlinewidth\":0,\"ticks\":\"\"}}],\"histogram2d\":[{\"type\":\"histogram2d\",\"colorbar\":{\"outlinewidth\":0,\"ticks\":\"\"},\"colorscale\":[[0.0,\"#0d0887\"],[0.1111111111111111,\"#46039f\"],[0.2222222222222222,\"#7201a8\"],[0.3333333333333333,\"#9c179e\"],[0.4444444444444444,\"#bd3786\"],[0.5555555555555556,\"#d8576b\"],[0.6666666666666666,\"#ed7953\"],[0.7777777777777778,\"#fb9f3a\"],[0.8888888888888888,\"#fdca26\"],[1.0,\"#f0f921\"]]}],\"heatmap\":[{\"type\":\"heatmap\",\"colorbar\":{\"outlinewidth\":0,\"ticks\":\"\"},\"colorscale\":[[0.0,\"#0d0887\"],[0.1111111111111111,\"#46039f\"],[0.2222222222222222,\"#7201a8\"],[0.3333333333333333,\"#9c179e\"],[0.4444444444444444,\"#bd3786\"],[0.5555555555555556,\"#d8576b\"],[0.6666666666666666,\"#ed7953\"],[0.7777777777777778,\"#fb9f3a\"],[0.8888888888888888,\"#fdca26\"],[1.0,\"#f0f921\"]]}],\"heatmapgl\":[{\"type\":\"heatmapgl\",\"colorbar\":{\"outlinewidth\":0,\"ticks\":\"\"},\"colorscale\":[[0.0,\"#0d0887\"],[0.1111111111111111,\"#46039f\"],[0.2222222222222222,\"#7201a8\"],[0.3333333333333333,\"#9c179e\"],[0.4444444444444444,\"#bd3786\"],[0.5555555555555556,\"#d8576b\"],[0.6666666666666666,\"#ed7953\"],[0.7777777777777778,\"#fb9f3a\"],[0.8888888888888888,\"#fdca26\"],[1.0,\"#f0f921\"]]}],\"contourcarpet\":[{\"type\":\"contourcarpet\",\"colorbar\":{\"outlinewidth\":0,\"ticks\":\"\"}}],\"contour\":[{\"type\":\"contour\",\"colorbar\":{\"outlinewidth\":0,\"ticks\":\"\"},\"colorscale\":[[0.0,\"#0d0887\"],[0.1111111111111111,\"#46039f\"],[0.2222222222222222,\"#7201a8\"],[0.3333333333333333,\"#9c179e\"],[0.4444444444444444,\"#bd3786\"],[0.5555555555555556,\"#d8576b\"],[0.6666666666666666,\"#ed7953\"],[0.7777777777777778,\"#fb9f3a\"],[0.8888888888888888,\"#fdca26\"],[1.0,\"#f0f921\"]]}],\"surface\":[{\"type\":\"surface\",\"colorbar\":{\"outlinewidth\":0,\"ticks\":\"\"},\"colorscale\":[[0.0,\"#0d0887\"],[0.1111111111111111,\"#46039f\"],[0.2222222222222222,\"#7201a8\"],[0.3333333333333333,\"#9c179e\"],[0.4444444444444444,\"#bd3786\"],[0.5555555555555556,\"#d8576b\"],[0.6666666666666666,\"#ed7953\"],[0.7777777777777778,\"#fb9f3a\"],[0.8888888888888888,\"#fdca26\"],[1.0,\"#f0f921\"]]}],\"mesh3d\":[{\"type\":\"mesh3d\",\"colorbar\":{\"outlinewidth\":0,\"ticks\":\"\"}}],\"scatter\":[{\"fillpattern\":{\"fillmode\":\"overlay\",\"size\":10,\"solidity\":0.2},\"type\":\"scatter\"}],\"parcoords\":[{\"type\":\"parcoords\",\"line\":{\"colorbar\":{\"outlinewidth\":0,\"ticks\":\"\"}}}],\"scatterpolargl\":[{\"type\":\"scatterpolargl\",\"marker\":{\"colorbar\":{\"outlinewidth\":0,\"ticks\":\"\"}}}],\"bar\":[{\"error_x\":{\"color\":\"#2a3f5f\"},\"error_y\":{\"color\":\"#2a3f5f\"},\"marker\":{\"line\":{\"color\":\"#E5ECF6\",\"width\":0.5},\"pattern\":{\"fillmode\":\"overlay\",\"size\":10,\"solidity\":0.2}},\"type\":\"bar\"}],\"scattergeo\":[{\"type\":\"scattergeo\",\"marker\":{\"colorbar\":{\"outlinewidth\":0,\"ticks\":\"\"}}}],\"scatterpolar\":[{\"type\":\"scatterpolar\",\"marker\":{\"colorbar\":{\"outlinewidth\":0,\"ticks\":\"\"}}}],\"histogram\":[{\"marker\":{\"pattern\":{\"fillmode\":\"overlay\",\"size\":10,\"solidity\":0.2}},\"type\":\"histogram\"}],\"scattergl\":[{\"type\":\"scattergl\",\"marker\":{\"colorbar\":{\"outlinewidth\":0,\"ticks\":\"\"}}}],\"scatter3d\":[{\"type\":\"scatter3d\",\"line\":{\"colorbar\":{\"outlinewidth\":0,\"ticks\":\"\"}},\"marker\":{\"colorbar\":{\"outlinewidth\":0,\"ticks\":\"\"}}}],\"scattermapbox\":[{\"type\":\"scattermapbox\",\"marker\":{\"colorbar\":{\"outlinewidth\":0,\"ticks\":\"\"}}}],\"scatterternary\":[{\"type\":\"scatterternary\",\"marker\":{\"colorbar\":{\"outlinewidth\":0,\"ticks\":\"\"}}}],\"scattercarpet\":[{\"type\":\"scattercarpet\",\"marker\":{\"colorbar\":{\"outlinewidth\":0,\"ticks\":\"\"}}}],\"carpet\":[{\"aaxis\":{\"endlinecolor\":\"#2a3f5f\",\"gridcolor\":\"white\",\"linecolor\":\"white\",\"minorgridcolor\":\"white\",\"startlinecolor\":\"#2a3f5f\"},\"baxis\":{\"endlinecolor\":\"#2a3f5f\",\"gridcolor\":\"white\",\"linecolor\":\"white\",\"minorgridcolor\":\"white\",\"startlinecolor\":\"#2a3f5f\"},\"type\":\"carpet\"}],\"table\":[{\"cells\":{\"fill\":{\"color\":\"#EBF0F8\"},\"line\":{\"color\":\"white\"}},\"header\":{\"fill\":{\"color\":\"#C8D4E3\"},\"line\":{\"color\":\"white\"}},\"type\":\"table\"}],\"barpolar\":[{\"marker\":{\"line\":{\"color\":\"#E5ECF6\",\"width\":0.5},\"pattern\":{\"fillmode\":\"overlay\",\"size\":10,\"solidity\":0.2}},\"type\":\"barpolar\"}],\"pie\":[{\"automargin\":true,\"type\":\"pie\"}]},\"layout\":{\"autotypenumbers\":\"strict\",\"colorway\":[\"#636efa\",\"#EF553B\",\"#00cc96\",\"#ab63fa\",\"#FFA15A\",\"#19d3f3\",\"#FF6692\",\"#B6E880\",\"#FF97FF\",\"#FECB52\"],\"font\":{\"color\":\"#2a3f5f\"},\"hovermode\":\"closest\",\"hoverlabel\":{\"align\":\"left\"},\"paper_bgcolor\":\"white\",\"plot_bgcolor\":\"#E5ECF6\",\"polar\":{\"bgcolor\":\"#E5ECF6\",\"angularaxis\":{\"gridcolor\":\"white\",\"linecolor\":\"white\",\"ticks\":\"\"},\"radialaxis\":{\"gridcolor\":\"white\",\"linecolor\":\"white\",\"ticks\":\"\"}},\"ternary\":{\"bgcolor\":\"#E5ECF6\",\"aaxis\":{\"gridcolor\":\"white\",\"linecolor\":\"white\",\"ticks\":\"\"},\"baxis\":{\"gridcolor\":\"white\",\"linecolor\":\"white\",\"ticks\":\"\"},\"caxis\":{\"gridcolor\":\"white\",\"linecolor\":\"white\",\"ticks\":\"\"}},\"coloraxis\":{\"colorbar\":{\"outlinewidth\":0,\"ticks\":\"\"}},\"colorscale\":{\"sequential\":[[0.0,\"#0d0887\"],[0.1111111111111111,\"#46039f\"],[0.2222222222222222,\"#7201a8\"],[0.3333333333333333,\"#9c179e\"],[0.4444444444444444,\"#bd3786\"],[0.5555555555555556,\"#d8576b\"],[0.6666666666666666,\"#ed7953\"],[0.7777777777777778,\"#fb9f3a\"],[0.8888888888888888,\"#fdca26\"],[1.0,\"#f0f921\"]],\"sequentialminus\":[[0.0,\"#0d0887\"],[0.1111111111111111,\"#46039f\"],[0.2222222222222222,\"#7201a8\"],[0.3333333333333333,\"#9c179e\"],[0.4444444444444444,\"#bd3786\"],[0.5555555555555556,\"#d8576b\"],[0.6666666666666666,\"#ed7953\"],[0.7777777777777778,\"#fb9f3a\"],[0.8888888888888888,\"#fdca26\"],[1.0,\"#f0f921\"]],\"diverging\":[[0,\"#8e0152\"],[0.1,\"#c51b7d\"],[0.2,\"#de77ae\"],[0.3,\"#f1b6da\"],[0.4,\"#fde0ef\"],[0.5,\"#f7f7f7\"],[0.6,\"#e6f5d0\"],[0.7,\"#b8e186\"],[0.8,\"#7fbc41\"],[0.9,\"#4d9221\"],[1,\"#276419\"]]},\"xaxis\":{\"gridcolor\":\"white\",\"linecolor\":\"white\",\"ticks\":\"\",\"title\":{\"standoff\":15},\"zerolinecolor\":\"white\",\"automargin\":true,\"zerolinewidth\":2},\"yaxis\":{\"gridcolor\":\"white\",\"linecolor\":\"white\",\"ticks\":\"\",\"title\":{\"standoff\":15},\"zerolinecolor\":\"white\",\"automargin\":true,\"zerolinewidth\":2},\"scene\":{\"xaxis\":{\"backgroundcolor\":\"#E5ECF6\",\"gridcolor\":\"white\",\"linecolor\":\"white\",\"showbackground\":true,\"ticks\":\"\",\"zerolinecolor\":\"white\",\"gridwidth\":2},\"yaxis\":{\"backgroundcolor\":\"#E5ECF6\",\"gridcolor\":\"white\",\"linecolor\":\"white\",\"showbackground\":true,\"ticks\":\"\",\"zerolinecolor\":\"white\",\"gridwidth\":2},\"zaxis\":{\"backgroundcolor\":\"#E5ECF6\",\"gridcolor\":\"white\",\"linecolor\":\"white\",\"showbackground\":true,\"ticks\":\"\",\"zerolinecolor\":\"white\",\"gridwidth\":2}},\"shapedefaults\":{\"line\":{\"color\":\"#2a3f5f\"}},\"annotationdefaults\":{\"arrowcolor\":\"#2a3f5f\",\"arrowhead\":0,\"arrowwidth\":1},\"geo\":{\"bgcolor\":\"white\",\"landcolor\":\"#E5ECF6\",\"subunitcolor\":\"white\",\"showland\":true,\"showlakes\":true,\"lakecolor\":\"white\"},\"title\":{\"x\":0.05},\"mapbox\":{\"style\":\"light\"}}},\"xaxis\":{\"anchor\":\"y\",\"domain\":[0.0,1.0],\"title\":{\"text\":\"Year-Month\"}},\"yaxis\":{\"anchor\":\"x\",\"domain\":[0.0,1.0],\"title\":{\"text\":\"value\"}},\"legend\":{\"title\":{\"text\":\"variable\"},\"tracegroupgap\":0},\"title\":{\"text\":\"EUR_CZK Forecasts comparison\"},\"updatemenus\":[{\"active\":0,\"buttons\":[{\"args\":[{\"visible\":true},{\"title\":\"EUR_CZK Forecasts comparison\"}],\"label\":\"Show All\",\"method\":\"update\"},{\"args\":[{\"visible\":[\"legendonly\",\"legendonly\",\"legendonly\",\"legendonly\"]},{\"title\":\"EUR_CZK Forecasts comparison\"}],\"label\":\"Hide All\",\"method\":\"update\"}]}]},                        {\"responsive\": true}                    ).then(function(){\n",
       "                            \n",
       "var gd = document.getElementById('5b341d8c-2bf0-4c13-987f-92a84011412d');\n",
       "var x = new MutationObserver(function (mutations, observer) {{\n",
       "        var display = window.getComputedStyle(gd).display;\n",
       "        if (!display || display === 'none') {{\n",
       "            console.log([gd, 'removed!']);\n",
       "            Plotly.purge(gd);\n",
       "            observer.disconnect();\n",
       "        }}\n",
       "}});\n",
       "\n",
       "// Listen for the removal of the full notebook cells\n",
       "var notebookContainer = gd.closest('#notebook-container');\n",
       "if (notebookContainer) {{\n",
       "    x.observe(notebookContainer, {childList: true});\n",
       "}}\n",
       "\n",
       "// Listen for the clearing of the current output cell\n",
       "var outputEl = gd.closest('.output');\n",
       "if (outputEl) {{\n",
       "    x.observe(outputEl, {childList: true});\n",
       "}}\n",
       "\n",
       "                        })                };                });            </script>        </div>"
      ]
     },
     "metadata": {},
     "output_type": "display_data"
    }
   ],
   "source": [
    "for var in var_list:\n",
    "  columns = [var, f\"{var}_VAR_forecast\",f\"{var}_CNB_forecast\" ]\n",
    "  df_var=df_merged[columns]\n",
    "  fig_var = visualize_ts(df_var,'indicator_id', f'{var} Forecasts comparison')\n",
    "  fig_var.show()"
   ]
  },
  {
   "cell_type": "code",
   "execution_count": 33,
   "id": "d28b75c4-176c-4913-ad7b-5c024d7e4b5c",
   "metadata": {},
   "outputs": [
    {
     "data": {
      "application/vnd.plotly.v1+json": {
       "config": {
        "plotlyServerURL": "https://plot.ly"
       },
       "data": [
        {
         "hovertemplate": "variable=EUR_CZK<br>Year-Month=%{x}<br>value=%{y}<extra></extra>",
         "legendgroup": "EUR_CZK",
         "line": {
          "color": "#636efa",
          "dash": "solid"
         },
         "marker": {
          "symbol": "circle"
         },
         "mode": "lines",
         "name": "EUR_CZK",
         "showlegend": true,
         "type": "scattergl",
         "visible": "legendonly",
         "x": [
          "2005Q1",
          "2005Q2",
          "2005Q3",
          "2005Q4",
          "2006Q1",
          "2006Q2",
          "2006Q3",
          "2006Q4",
          "2007Q1",
          "2007Q2",
          "2007Q3",
          "2007Q4",
          "2008Q1",
          "2008Q2",
          "2008Q3",
          "2008Q4",
          "2009Q1",
          "2009Q2",
          "2009Q3",
          "2009Q4",
          "2010Q1",
          "2010Q2",
          "2010Q3",
          "2010Q4",
          "2011Q1",
          "2011Q2",
          "2011Q3",
          "2011Q4",
          "2012Q1",
          "2012Q2",
          "2012Q3",
          "2012Q4",
          "2013Q1",
          "2013Q2",
          "2013Q3",
          "2013Q4",
          "2014Q1",
          "2014Q2",
          "2014Q3",
          "2014Q4",
          "2015Q1",
          "2015Q2",
          "2015Q3",
          "2015Q4",
          "2016Q1",
          "2016Q2",
          "2016Q3",
          "2016Q4",
          "2017Q1",
          "2017Q2",
          "2017Q3",
          "2017Q4",
          "2018Q1",
          "2018Q2",
          "2018Q3",
          "2018Q4",
          "2019Q1",
          "2019Q2",
          "2019Q3",
          "2019Q4",
          "2020Q1",
          "2020Q2",
          "2020Q3",
          "2020Q4",
          "2021Q1",
          "2021Q2",
          "2021Q3",
          "2021Q4",
          "2022Q1",
          "2022Q2",
          "2022Q3",
          "2022Q4",
          "2023Q1",
          "2023Q2",
          "2023Q3",
          "2023Q4",
          "2024Q1",
          "2024Q2",
          "2024Q3",
          "2024Q4"
         ],
         "xaxis": "x",
         "y": [
          30.0144444,
          30.1258462,
          29.6770635,
          29.2983064,
          28.5997692,
          28.3843548,
          28.3304839,
          28.0448387,
          28.0365625,
          28.2662097,
          27.922903199999997,
          26.8287302,
          25.5624603,
          24.8257143,
          24.0924242,
          25.342377100000004,
          27.5992857,
          26.6770968,
          25.5978906,
          25.9145161,
          25.8676984,
          25.589296900000004,
          24.9134127,
          24.7859524,
          24.3745313,
          24.3205469,
          24.3880159,
          25.278709699999997,
          25.0834615,
          25.2612097,
          25.0651613,
          25.166666699999997,
          25.568333299999995,
          25.8312097,
          25.8523077,
          26.6569355,
          27.4407143,
          27.4470161,
          27.6181818,
          27.624098399999998,
          27.623809500000004,
          27.379919399999995,
          27.071812500000004,
          27.0565323,
          27.0385484,
          27.0393846,
          27.027698400000002,
          27.0279032,
          27.020230799999997,
          26.5320492,
          26.0843548,
          25.6512097,
          25.401825399999996,
          25.598871,
          25.7107511,
          25.8608564,
          25.6835823,
          25.6835397,
          25.74,
          25.5756667,
          25.613333300000004,
          27.0703333,
          26.464,
          26.659000000000002,
          26.065666699999998,
          25.6453333,
          25.4986667,
          25.380666699999995,
          24.6386667,
          24.6346667,
          24.5726667,
          24.3893333,
          23.7843333,
          23.5793333,
          24.133666700000003,
          null,
          null,
          null,
          null,
          null
         ],
         "yaxis": "y"
        },
        {
         "hovertemplate": "variable=PRIBOR_12M<br>Year-Month=%{x}<br>value=%{y}<extra></extra>",
         "legendgroup": "PRIBOR_12M",
         "line": {
          "color": "#EF553B",
          "dash": "solid"
         },
         "marker": {
          "symbol": "circle"
         },
         "mode": "lines",
         "name": "PRIBOR_12M",
         "showlegend": true,
         "type": "scattergl",
         "visible": "legendonly",
         "x": [
          "2005Q1",
          "2005Q2",
          "2005Q3",
          "2005Q4",
          "2006Q1",
          "2006Q2",
          "2006Q3",
          "2006Q4",
          "2007Q1",
          "2007Q2",
          "2007Q3",
          "2007Q4",
          "2008Q1",
          "2008Q2",
          "2008Q3",
          "2008Q4",
          "2009Q1",
          "2009Q2",
          "2009Q3",
          "2009Q4",
          "2010Q1",
          "2010Q2",
          "2010Q3",
          "2010Q4",
          "2011Q1",
          "2011Q2",
          "2011Q3",
          "2011Q4",
          "2012Q1",
          "2012Q2",
          "2012Q3",
          "2012Q4",
          "2013Q1",
          "2013Q2",
          "2013Q3",
          "2013Q4",
          "2014Q1",
          "2014Q2",
          "2014Q3",
          "2014Q4",
          "2015Q1",
          "2015Q2",
          "2015Q3",
          "2015Q4",
          "2016Q1",
          "2016Q2",
          "2016Q3",
          "2016Q4",
          "2017Q1",
          "2017Q2",
          "2017Q3",
          "2017Q4",
          "2018Q1",
          "2018Q2",
          "2018Q3",
          "2018Q4",
          "2019Q1",
          "2019Q2",
          "2019Q3",
          "2019Q4",
          "2020Q1",
          "2020Q2",
          "2020Q3",
          "2020Q4",
          "2021Q1",
          "2021Q2",
          "2021Q3",
          "2021Q4",
          "2022Q1",
          "2022Q2",
          "2022Q3",
          "2022Q4",
          "2023Q1",
          "2023Q2",
          "2023Q3",
          "2023Q4",
          "2024Q1",
          "2024Q2",
          "2024Q3",
          "2024Q4"
         ],
         "xaxis": "x",
         "y": [
          2.353239538239538,
          1.871861471861472,
          1.8592325015437143,
          2.4398174603174603,
          2.2956541501976284,
          2.4736002886002884,
          2.824927917620137,
          3.006503379661274,
          2.8323787878787883,
          3.1513571428571425,
          3.706062929061785,
          4.004862392036305,
          4.167525974025974,
          4.320200577200577,
          4.031894409937888,
          4.298240829346092,
          3.0264227994227997,
          2.701108073213337,
          2.476075036075036,
          2.31465873015873,
          2.026927536231884,
          1.840865800865801,
          1.776332611832612,
          1.792871572871573,
          1.80734126984127,
          1.8251060606060605,
          1.7450372307580546,
          1.7138333333333333,
          1.7532539682539683,
          1.7679206349206351,
          1.432244469870328,
          0.959366125018299,
          0.8214278499278499,
          0.7573809523809524,
          0.7444949494949494,
          0.662352851826536,
          0.5613030303030303,
          0.5382063492063492,
          0.5201449275362319,
          0.511969696969697,
          0.5024848484848484,
          0.47888888888888886,
          0.4765295815295815,
          0.4580634920634921,
          0.45083333333333336,
          0.45,
          0.45,
          0.44841269841269843,
          0.44,
          0.4557407407407408,
          0.5699382151029747,
          0.8539272423482949,
          1.0698030303030304,
          1.13334126984127,
          1.6144633867276887,
          2.1166856975552624,
          2.2032344877344876,
          2.2736984126984128,
          2.23491341991342,
          2.2748925343662183,
          2.2177575757575756,
          0.6187719298245614,
          0.43190476190476185,
          0.45300793650793647,
          0.5288333333333334,
          0.6668116883116882,
          1.2768326118326119,
          3.300108225108225,
          4.8476452726017945,
          6.3641307814992025,
          7.491930551015219,
          7.374809523809524,
          7.235481554677207,
          7.180935545935546,
          6.941112890922959,
          null,
          null,
          null,
          null,
          null
         ],
         "yaxis": "y"
        },
        {
         "hovertemplate": "variable=PRIBOR_3M<br>Year-Month=%{x}<br>value=%{y}<extra></extra>",
         "legendgroup": "PRIBOR_3M",
         "line": {
          "color": "#00cc96",
          "dash": "solid"
         },
         "marker": {
          "symbol": "circle"
         },
         "mode": "lines",
         "name": "PRIBOR_3M",
         "showlegend": true,
         "type": "scattergl",
         "visible": "legendonly",
         "x": [
          "2005Q1",
          "2005Q2",
          "2005Q3",
          "2005Q4",
          "2006Q1",
          "2006Q2",
          "2006Q3",
          "2006Q4",
          "2007Q1",
          "2007Q2",
          "2007Q3",
          "2007Q4",
          "2008Q1",
          "2008Q2",
          "2008Q3",
          "2008Q4",
          "2009Q1",
          "2009Q2",
          "2009Q3",
          "2009Q4",
          "2010Q1",
          "2010Q2",
          "2010Q3",
          "2010Q4",
          "2011Q1",
          "2011Q2",
          "2011Q3",
          "2011Q4",
          "2012Q1",
          "2012Q2",
          "2012Q3",
          "2012Q4",
          "2013Q1",
          "2013Q2",
          "2013Q3",
          "2013Q4",
          "2014Q1",
          "2014Q2",
          "2014Q3",
          "2014Q4",
          "2015Q1",
          "2015Q2",
          "2015Q3",
          "2015Q4",
          "2016Q1",
          "2016Q2",
          "2016Q3",
          "2016Q4",
          "2017Q1",
          "2017Q2",
          "2017Q3",
          "2017Q4",
          "2018Q1",
          "2018Q2",
          "2018Q3",
          "2018Q4",
          "2019Q1",
          "2019Q2",
          "2019Q3",
          "2019Q4",
          "2020Q1",
          "2020Q2",
          "2020Q3",
          "2020Q4",
          "2021Q1",
          "2021Q2",
          "2021Q3",
          "2021Q4",
          "2022Q1",
          "2022Q2",
          "2022Q3",
          "2022Q4",
          "2023Q1",
          "2023Q2",
          "2023Q3",
          "2023Q4",
          "2024Q1",
          "2024Q2",
          "2024Q3",
          "2024Q4"
         ],
         "xaxis": "x",
         "y": [
          2.2868701298701297,
          1.8516161616161615,
          1.7872685336529732,
          2.1075476190476192,
          2.074780632411067,
          2.1298564593301434,
          2.381601449275362,
          2.6208623832308042,
          2.5790757575757577,
          2.7644365079365083,
          3.2718817696414955,
          3.775510174205827,
          3.9786832611832614,
          4.153758297258297,
          3.9097481021394067,
          4.105153907496013,
          2.7108340548340544,
          2.3221618440039493,
          1.9678643578643575,
          1.7730714285714289,
          1.4999927536231883,
          1.3057936507936507,
          1.228611111111111,
          1.2144790764790765,
          1.2043526570048309,
          1.208212121212121,
          1.184168391994479,
          1.16,
          1.1996248196248196,
          1.2324523809523809,
          0.9757364607170099,
          0.5842021665934709,
          0.49587301587301585,
          0.46334126984126983,
          0.4577777777777778,
          0.4105266955266955,
          0.3715151515151515,
          0.36278571428571427,
          0.3499999999999999,
          0.3435087719298246,
          0.3277777777777778,
          0.31,
          0.3059451659451659,
          0.2895238095238095,
          0.28634920634920635,
          0.29,
          0.29,
          0.28888888888888886,
          0.28,
          0.2940644540644541,
          0.3989450800915331,
          0.6590806561859194,
          0.8590735930735932,
          0.9138095238095238,
          1.39266590389016,
          1.921916264090177,
          2.0130093795093793,
          2.128984126984127,
          2.14988455988456,
          2.1777128427128427,
          2.155409090909091,
          0.5872894736842105,
          0.34031746031746035,
          0.3503174603174603,
          0.36000000000000004,
          0.40100288600288597,
          0.9132828282828284,
          2.83084632034632,
          4.5879230503795725,
          5.992288676236044,
          7.272678798445388,
          7.269349206349205,
          7.203172595520422,
          7.168403078403078,
          7.101549580472921,
          null,
          null,
          null,
          null,
          null
         ],
         "yaxis": "y"
        },
        {
         "hovertemplate": "variable=Inflation_yoy<br>Year-Month=%{x}<br>value=%{y}<extra></extra>",
         "legendgroup": "Inflation_yoy",
         "line": {
          "color": "#ab63fa",
          "dash": "solid"
         },
         "marker": {
          "symbol": "circle"
         },
         "mode": "lines",
         "name": "Inflation_yoy",
         "showlegend": true,
         "type": "scattergl",
         "visible": "legendonly",
         "x": [
          "2005Q1",
          "2005Q2",
          "2005Q3",
          "2005Q4",
          "2006Q1",
          "2006Q2",
          "2006Q3",
          "2006Q4",
          "2007Q1",
          "2007Q2",
          "2007Q3",
          "2007Q4",
          "2008Q1",
          "2008Q2",
          "2008Q3",
          "2008Q4",
          "2009Q1",
          "2009Q2",
          "2009Q3",
          "2009Q4",
          "2010Q1",
          "2010Q2",
          "2010Q3",
          "2010Q4",
          "2011Q1",
          "2011Q2",
          "2011Q3",
          "2011Q4",
          "2012Q1",
          "2012Q2",
          "2012Q3",
          "2012Q4",
          "2013Q1",
          "2013Q2",
          "2013Q3",
          "2013Q4",
          "2014Q1",
          "2014Q2",
          "2014Q3",
          "2014Q4",
          "2015Q1",
          "2015Q2",
          "2015Q3",
          "2015Q4",
          "2016Q1",
          "2016Q2",
          "2016Q3",
          "2016Q4",
          "2017Q1",
          "2017Q2",
          "2017Q3",
          "2017Q4",
          "2018Q1",
          "2018Q2",
          "2018Q3",
          "2018Q4",
          "2019Q1",
          "2019Q2",
          "2019Q3",
          "2019Q4",
          "2020Q1",
          "2020Q2",
          "2020Q3",
          "2020Q4",
          "2021Q1",
          "2021Q2",
          "2021Q3",
          "2021Q4",
          "2022Q1",
          "2022Q2",
          "2022Q3",
          "2022Q4",
          "2023Q1",
          "2023Q2",
          "2023Q3",
          "2023Q4",
          "2024Q1",
          "2024Q2",
          "2024Q3",
          "2024Q4"
         ],
         "xaxis": "x",
         "y": [
          1.6333333333333353,
          1.5666666666666629,
          1.8666666666666696,
          2.400000000000001,
          2.8333333333333335,
          2.8999999999999964,
          2.900000000000001,
          1.5,
          1.5666666666666675,
          2.4666666666666686,
          2.5,
          4.800000000000002,
          7.3666666666666645,
          6.766666666666666,
          6.666666666666667,
          4.666666666666667,
          2.1666666666666665,
          1.4333333333333325,
          0.16666666666666666,
          0.4333333333333324,
          0.6666666666666666,
          1.1666666666666667,
          1.9333333333333371,
          2.099999999999999,
          1.7333333333333343,
          1.7999999999999972,
          1.7333333333333343,
          2.400000000000001,
          3.6666666666666665,
          3.400000000000001,
          3.2666666666666657,
          2.833333333333338,
          1.7666666666666704,
          1.5333333333333314,
          1.2333333333333343,
          1.1333333333333353,
          0.20000000000000284,
          0.16666666666666666,
          0.5999999999999991,
          0.46666666666666384,
          0.1333333333333305,
          0.6666666666666666,
          0.40000000000000097,
          0.1333333333333305,
          0.46666666666666384,
          0.266666666666661,
          0.5333333333333314,
          1.4333333333333325,
          2.4333333333333322,
          2.2333333333333343,
          2.5666666666666678,
          2.633333333333335,
          1.900000000000001,
          2.2333333333333343,
          2.366666666666665,
          2.0666666666666678,
          2.7333333333333343,
          2.800000000000002,
          2.833333333333338,
          3,
          3.5666666666666678,
          3.133333333333335,
          3.300000000000002,
          2.633333333333335,
          2.199999999999998,
          2.9333333333333322,
          4.1333333333333355,
          6.13333333333333,
          11.233333333333334,
          15.800000000000002,
          17.566666666666666,
          15.699999999999998,
          16.400000000000002,
          11.166666666666666,
          8.066666666666668,
          null,
          null,
          null,
          null,
          null
         ],
         "yaxis": "y"
        },
        {
         "hovertemplate": "variable=GDP_growth<br>Year-Month=%{x}<br>value=%{y}<extra></extra>",
         "legendgroup": "GDP_growth",
         "line": {
          "color": "#FFA15A",
          "dash": "solid"
         },
         "marker": {
          "symbol": "circle"
         },
         "mode": "lines",
         "name": "GDP_growth",
         "showlegend": true,
         "type": "scattergl",
         "visible": "legendonly",
         "x": [
          "2005Q1",
          "2005Q2",
          "2005Q3",
          "2005Q4",
          "2006Q1",
          "2006Q2",
          "2006Q3",
          "2006Q4",
          "2007Q1",
          "2007Q2",
          "2007Q3",
          "2007Q4",
          "2008Q1",
          "2008Q2",
          "2008Q3",
          "2008Q4",
          "2009Q1",
          "2009Q2",
          "2009Q3",
          "2009Q4",
          "2010Q1",
          "2010Q2",
          "2010Q3",
          "2010Q4",
          "2011Q1",
          "2011Q2",
          "2011Q3",
          "2011Q4",
          "2012Q1",
          "2012Q2",
          "2012Q3",
          "2012Q4",
          "2013Q1",
          "2013Q2",
          "2013Q3",
          "2013Q4",
          "2014Q1",
          "2014Q2",
          "2014Q3",
          "2014Q4",
          "2015Q1",
          "2015Q2",
          "2015Q3",
          "2015Q4",
          "2016Q1",
          "2016Q2",
          "2016Q3",
          "2016Q4",
          "2017Q1",
          "2017Q2",
          "2017Q3",
          "2017Q4",
          "2018Q1",
          "2018Q2",
          "2018Q3",
          "2018Q4",
          "2019Q1",
          "2019Q2",
          "2019Q3",
          "2019Q4",
          "2020Q1",
          "2020Q2",
          "2020Q3",
          "2020Q4",
          "2021Q1",
          "2021Q2",
          "2021Q3",
          "2021Q4",
          "2022Q1",
          "2022Q2",
          "2022Q3",
          "2022Q4",
          "2023Q1",
          "2023Q2",
          "2023Q3",
          "2023Q4",
          "2024Q1",
          "2024Q2",
          "2024Q3",
          "2024Q4"
         ],
         "xaxis": "x",
         "y": [
          7.896944278010778,
          8.051587108739326,
          6.047533882411315,
          5.084410919540218,
          6.670183622093873,
          6.495197251821537,
          8.619861848660818,
          7.969327704762065,
          10.541718053756554,
          9.224198053389685,
          9.196246112838722,
          8.441034224031199,
          5.217675038179763,
          6.877632853624036,
          6.406815276194237,
          0.7775421687684769,
          -0.06862986443472607,
          -2.9680916700807956,
          -4.976223361801587,
          -0.5291684812574715,
          -1.491378584080806,
          2.028707439668821,
          2.096900417851117,
          1.1219222857431248,
          2.054262139264594,
          1.2894967644060813,
          1.4539202742911215,
          2.175749569918878,
          2.2241103876679347,
          0.4307957532782609,
          0.04340914233439719,
          0.07112469088475848,
          -0.8085663201827202,
          0.4726387963827534,
          2.1497130609677413,
          3.255796485726478,
          4.4003017086711935,
          5.201240783510315,
          6.0979920747294045,
          3.900662143263716,
          6.876890749145005,
          6.859112261563354,
          6.059376570195639,
          6.008699000577593,
          4.536185317730798,
          4.448366150159117,
          2.770501134143018,
          3.1830591281074447,
          4.814607865207833,
          5.7791494352200345,
          7.237783297903533,
          8.151768655450624,
          6.794895271605839,
          5.753071665982006,
          5.3603638810092065,
          5.674885316434896,
          6.888425944473354,
          6.760984079338442,
          7.8644535224440375,
          6.631692281413606,
          2.692311440374624,
          -6.9326280477804545,
          -1.2754082068162376,
          0.08107898734641594,
          0.9910674724458062,
          13.794374974084363,
          7.71060573671798,
          5.6946119921991,
          11.425399381574735,
          10.382969143056442,
          11.159286216558442,
          11.443833739228879,
          11.307186235474362,
          9.133266093021518,
          6.291953965291441,
          null,
          null,
          null,
          null,
          null
         ],
         "yaxis": "y"
        },
        {
         "hovertemplate": "variable=Industry_growth<br>Year-Month=%{x}<br>value=%{y}<extra></extra>",
         "legendgroup": "Industry_growth",
         "line": {
          "color": "#19d3f3",
          "dash": "solid"
         },
         "marker": {
          "symbol": "circle"
         },
         "mode": "lines",
         "name": "Industry_growth",
         "showlegend": true,
         "type": "scattergl",
         "visible": "legendonly",
         "x": [
          "2005Q1",
          "2005Q2",
          "2005Q3",
          "2005Q4",
          "2006Q1",
          "2006Q2",
          "2006Q3",
          "2006Q4",
          "2007Q1",
          "2007Q2",
          "2007Q3",
          "2007Q4",
          "2008Q1",
          "2008Q2",
          "2008Q3",
          "2008Q4",
          "2009Q1",
          "2009Q2",
          "2009Q3",
          "2009Q4",
          "2010Q1",
          "2010Q2",
          "2010Q3",
          "2010Q4",
          "2011Q1",
          "2011Q2",
          "2011Q3",
          "2011Q4",
          "2012Q1",
          "2012Q2",
          "2012Q3",
          "2012Q4",
          "2013Q1",
          "2013Q2",
          "2013Q3",
          "2013Q4",
          "2014Q1",
          "2014Q2",
          "2014Q3",
          "2014Q4",
          "2015Q1",
          "2015Q2",
          "2015Q3",
          "2015Q4",
          "2016Q1",
          "2016Q2",
          "2016Q3",
          "2016Q4",
          "2017Q1",
          "2017Q2",
          "2017Q3",
          "2017Q4",
          "2018Q1",
          "2018Q2",
          "2018Q3",
          "2018Q4",
          "2019Q1",
          "2019Q2",
          "2019Q3",
          "2019Q4",
          "2020Q1",
          "2020Q2",
          "2020Q3",
          "2020Q4",
          "2021Q1",
          "2021Q2",
          "2021Q3",
          "2021Q4",
          "2022Q1",
          "2022Q2",
          "2022Q3",
          "2022Q4",
          "2023Q1",
          "2023Q2",
          "2023Q3",
          "2023Q4",
          "2024Q1",
          "2024Q2",
          "2024Q3",
          "2024Q4"
         ],
         "xaxis": "x",
         "y": [
          -0.08574394402137327,
          0.8226757814629448,
          0.46101221281945975,
          0.7838327215453966,
          0.6978785285135625,
          0.8550693766314973,
          0.5840183149366962,
          0.9478514116999367,
          1.6571226719525303,
          -0.279433835853482,
          0.04305108653242332,
          1.158756072395395,
          -0.8418649001304809,
          -0.058713132251960364,
          -1.4187606907812993,
          -2.9588482573217516,
          -1.0520410208102495,
          0.3125276930695642,
          0.3559811666542734,
          0.49983252397195105,
          0.857506477142537,
          0.7514367184178528,
          1.5551802803548693,
          -0.6265214824788664,
          0.5793859782772803,
          0.5919716021014191,
          -0.32203076757156834,
          0.7388316713539308,
          -0.3168547180237069,
          -0.03591886690478274,
          -0.7521073197741904,
          -0.36393785355608443,
          -0.47747986826831196,
          1.052229093356331,
          0.4542652566561796,
          0.9391120457216684,
          0.4012833747829199,
          -0.067051074199224,
          0.5925340773074272,
          0.6166926988479315,
          0.17327874439994803,
          0.3023431355805073,
          -0.07962765796349543,
          -0.24736898356690165,
          1.2125235510773824,
          0.5413678737818025,
          -0.4591599734825406,
          0.23000877939842734,
          1.3743249257267998,
          0.25773423858594197,
          0.832515547268553,
          0.7575906189407289,
          -0.3725258011822737,
          1.048009667204719,
          -0.5111965815353078,
          0.033579124872155454,
          -0.17332969785724592,
          -0.33529947325852866,
          0.11873006307557461,
          -0.6820650437671697,
          -3.087054174252998,
          2.4543102084054147,
          3.16427692389758,
          0.72457318223067,
          0.01794466533303618,
          -0.5298985625003269,
          -1.3710194781208902,
          1.2015173590426882,
          0.7885667337741357,
          0.8514841463998427,
          0.08704855416196144,
          0.06599824181493148,
          -0.17514853477863154,
          0.12207721131903455,
          -1.4160781746926994,
          null,
          null,
          null,
          null,
          null
         ],
         "yaxis": "y"
        },
        {
         "hovertemplate": "variable=GDP_growth_VAR_forecast<br>Year-Month=%{x}<br>value=%{y}<extra></extra>",
         "legendgroup": "GDP_growth_VAR_forecast",
         "line": {
          "color": "#FF6692",
          "dash": "solid"
         },
         "marker": {
          "symbol": "circle"
         },
         "mode": "lines",
         "name": "GDP_growth_VAR_forecast",
         "showlegend": true,
         "type": "scattergl",
         "visible": "legendonly",
         "x": [
          "2005Q1",
          "2005Q2",
          "2005Q3",
          "2005Q4",
          "2006Q1",
          "2006Q2",
          "2006Q3",
          "2006Q4",
          "2007Q1",
          "2007Q2",
          "2007Q3",
          "2007Q4",
          "2008Q1",
          "2008Q2",
          "2008Q3",
          "2008Q4",
          "2009Q1",
          "2009Q2",
          "2009Q3",
          "2009Q4",
          "2010Q1",
          "2010Q2",
          "2010Q3",
          "2010Q4",
          "2011Q1",
          "2011Q2",
          "2011Q3",
          "2011Q4",
          "2012Q1",
          "2012Q2",
          "2012Q3",
          "2012Q4",
          "2013Q1",
          "2013Q2",
          "2013Q3",
          "2013Q4",
          "2014Q1",
          "2014Q2",
          "2014Q3",
          "2014Q4",
          "2015Q1",
          "2015Q2",
          "2015Q3",
          "2015Q4",
          "2016Q1",
          "2016Q2",
          "2016Q3",
          "2016Q4",
          "2017Q1",
          "2017Q2",
          "2017Q3",
          "2017Q4",
          "2018Q1",
          "2018Q2",
          "2018Q3",
          "2018Q4",
          "2019Q1",
          "2019Q2",
          "2019Q3",
          "2019Q4",
          "2020Q1",
          "2020Q2",
          "2020Q3",
          "2020Q4",
          "2021Q1",
          "2021Q2",
          "2021Q3",
          "2021Q4",
          "2022Q1",
          "2022Q2",
          "2022Q3",
          "2022Q4",
          "2023Q1",
          "2023Q2",
          "2023Q3",
          "2023Q4",
          "2024Q1",
          "2024Q2",
          "2024Q3",
          "2024Q4"
         ],
         "xaxis": "x",
         "y": [
          null,
          null,
          null,
          null,
          null,
          null,
          null,
          null,
          null,
          null,
          null,
          null,
          null,
          null,
          null,
          null,
          null,
          null,
          null,
          null,
          null,
          null,
          null,
          null,
          null,
          null,
          null,
          null,
          null,
          null,
          null,
          null,
          null,
          null,
          null,
          null,
          null,
          null,
          null,
          null,
          null,
          null,
          null,
          null,
          null,
          null,
          null,
          null,
          null,
          null,
          null,
          null,
          null,
          null,
          null,
          null,
          null,
          null,
          null,
          null,
          null,
          null,
          null,
          null,
          null,
          null,
          null,
          null,
          null,
          null,
          null,
          null,
          null,
          null,
          null,
          -0.02926524403427777,
          -2.0308333843576065,
          -0.5394179816373637,
          0.5870354213194986,
          5.43369036607146
         ],
         "yaxis": "y"
        },
        {
         "hovertemplate": "variable=Inflation_yoy_VAR_forecast<br>Year-Month=%{x}<br>value=%{y}<extra></extra>",
         "legendgroup": "Inflation_yoy_VAR_forecast",
         "line": {
          "color": "#B6E880",
          "dash": "solid"
         },
         "marker": {
          "symbol": "circle"
         },
         "mode": "lines",
         "name": "Inflation_yoy_VAR_forecast",
         "showlegend": true,
         "type": "scattergl",
         "visible": "legendonly",
         "x": [
          "2005Q1",
          "2005Q2",
          "2005Q3",
          "2005Q4",
          "2006Q1",
          "2006Q2",
          "2006Q3",
          "2006Q4",
          "2007Q1",
          "2007Q2",
          "2007Q3",
          "2007Q4",
          "2008Q1",
          "2008Q2",
          "2008Q3",
          "2008Q4",
          "2009Q1",
          "2009Q2",
          "2009Q3",
          "2009Q4",
          "2010Q1",
          "2010Q2",
          "2010Q3",
          "2010Q4",
          "2011Q1",
          "2011Q2",
          "2011Q3",
          "2011Q4",
          "2012Q1",
          "2012Q2",
          "2012Q3",
          "2012Q4",
          "2013Q1",
          "2013Q2",
          "2013Q3",
          "2013Q4",
          "2014Q1",
          "2014Q2",
          "2014Q3",
          "2014Q4",
          "2015Q1",
          "2015Q2",
          "2015Q3",
          "2015Q4",
          "2016Q1",
          "2016Q2",
          "2016Q3",
          "2016Q4",
          "2017Q1",
          "2017Q2",
          "2017Q3",
          "2017Q4",
          "2018Q1",
          "2018Q2",
          "2018Q3",
          "2018Q4",
          "2019Q1",
          "2019Q2",
          "2019Q3",
          "2019Q4",
          "2020Q1",
          "2020Q2",
          "2020Q3",
          "2020Q4",
          "2021Q1",
          "2021Q2",
          "2021Q3",
          "2021Q4",
          "2022Q1",
          "2022Q2",
          "2022Q3",
          "2022Q4",
          "2023Q1",
          "2023Q2",
          "2023Q3",
          "2023Q4",
          "2024Q1",
          "2024Q2",
          "2024Q3",
          "2024Q4"
         ],
         "xaxis": "x",
         "y": [
          null,
          null,
          null,
          null,
          null,
          null,
          null,
          null,
          null,
          null,
          null,
          null,
          null,
          null,
          null,
          null,
          null,
          null,
          null,
          null,
          null,
          null,
          null,
          null,
          null,
          null,
          null,
          null,
          null,
          null,
          null,
          null,
          null,
          null,
          null,
          null,
          null,
          null,
          null,
          null,
          null,
          null,
          null,
          null,
          null,
          null,
          null,
          null,
          null,
          null,
          null,
          null,
          null,
          null,
          null,
          null,
          null,
          null,
          null,
          null,
          null,
          null,
          null,
          null,
          null,
          null,
          null,
          null,
          null,
          null,
          null,
          null,
          null,
          null,
          null,
          7.424230982561733,
          6.94430449691343,
          8.157583430945758,
          11.697829998956188,
          11.712672709462659
         ],
         "yaxis": "y"
        },
        {
         "hovertemplate": "variable=PRIBOR_3M_VAR_forecast<br>Year-Month=%{x}<br>value=%{y}<extra></extra>",
         "legendgroup": "PRIBOR_3M_VAR_forecast",
         "line": {
          "color": "#FF97FF",
          "dash": "solid"
         },
         "marker": {
          "symbol": "circle"
         },
         "mode": "lines",
         "name": "PRIBOR_3M_VAR_forecast",
         "showlegend": true,
         "type": "scattergl",
         "visible": "legendonly",
         "x": [
          "2005Q1",
          "2005Q2",
          "2005Q3",
          "2005Q4",
          "2006Q1",
          "2006Q2",
          "2006Q3",
          "2006Q4",
          "2007Q1",
          "2007Q2",
          "2007Q3",
          "2007Q4",
          "2008Q1",
          "2008Q2",
          "2008Q3",
          "2008Q4",
          "2009Q1",
          "2009Q2",
          "2009Q3",
          "2009Q4",
          "2010Q1",
          "2010Q2",
          "2010Q3",
          "2010Q4",
          "2011Q1",
          "2011Q2",
          "2011Q3",
          "2011Q4",
          "2012Q1",
          "2012Q2",
          "2012Q3",
          "2012Q4",
          "2013Q1",
          "2013Q2",
          "2013Q3",
          "2013Q4",
          "2014Q1",
          "2014Q2",
          "2014Q3",
          "2014Q4",
          "2015Q1",
          "2015Q2",
          "2015Q3",
          "2015Q4",
          "2016Q1",
          "2016Q2",
          "2016Q3",
          "2016Q4",
          "2017Q1",
          "2017Q2",
          "2017Q3",
          "2017Q4",
          "2018Q1",
          "2018Q2",
          "2018Q3",
          "2018Q4",
          "2019Q1",
          "2019Q2",
          "2019Q3",
          "2019Q4",
          "2020Q1",
          "2020Q2",
          "2020Q3",
          "2020Q4",
          "2021Q1",
          "2021Q2",
          "2021Q3",
          "2021Q4",
          "2022Q1",
          "2022Q2",
          "2022Q3",
          "2022Q4",
          "2023Q1",
          "2023Q2",
          "2023Q3",
          "2023Q4",
          "2024Q1",
          "2024Q2",
          "2024Q3",
          "2024Q4"
         ],
         "xaxis": "x",
         "y": [
          null,
          null,
          null,
          null,
          null,
          null,
          null,
          null,
          null,
          null,
          null,
          null,
          null,
          null,
          null,
          null,
          null,
          null,
          null,
          null,
          null,
          null,
          null,
          null,
          null,
          null,
          null,
          null,
          null,
          null,
          null,
          null,
          null,
          null,
          null,
          null,
          null,
          null,
          null,
          null,
          null,
          null,
          null,
          null,
          null,
          null,
          null,
          null,
          null,
          null,
          null,
          null,
          null,
          null,
          null,
          null,
          null,
          null,
          null,
          null,
          null,
          null,
          null,
          null,
          null,
          null,
          null,
          null,
          null,
          null,
          null,
          null,
          null,
          null,
          null,
          7.1361101572611805,
          7.552591511224312,
          7.724345672467919,
          8.675721278686733,
          8.314118584011272
         ],
         "yaxis": "y"
        },
        {
         "hovertemplate": "variable=EUR_CZK_VAR_forecast<br>Year-Month=%{x}<br>value=%{y}<extra></extra>",
         "legendgroup": "EUR_CZK_VAR_forecast",
         "line": {
          "color": "#FECB52",
          "dash": "solid"
         },
         "marker": {
          "symbol": "circle"
         },
         "mode": "lines",
         "name": "EUR_CZK_VAR_forecast",
         "showlegend": true,
         "type": "scattergl",
         "visible": "legendonly",
         "x": [
          "2005Q1",
          "2005Q2",
          "2005Q3",
          "2005Q4",
          "2006Q1",
          "2006Q2",
          "2006Q3",
          "2006Q4",
          "2007Q1",
          "2007Q2",
          "2007Q3",
          "2007Q4",
          "2008Q1",
          "2008Q2",
          "2008Q3",
          "2008Q4",
          "2009Q1",
          "2009Q2",
          "2009Q3",
          "2009Q4",
          "2010Q1",
          "2010Q2",
          "2010Q3",
          "2010Q4",
          "2011Q1",
          "2011Q2",
          "2011Q3",
          "2011Q4",
          "2012Q1",
          "2012Q2",
          "2012Q3",
          "2012Q4",
          "2013Q1",
          "2013Q2",
          "2013Q3",
          "2013Q4",
          "2014Q1",
          "2014Q2",
          "2014Q3",
          "2014Q4",
          "2015Q1",
          "2015Q2",
          "2015Q3",
          "2015Q4",
          "2016Q1",
          "2016Q2",
          "2016Q3",
          "2016Q4",
          "2017Q1",
          "2017Q2",
          "2017Q3",
          "2017Q4",
          "2018Q1",
          "2018Q2",
          "2018Q3",
          "2018Q4",
          "2019Q1",
          "2019Q2",
          "2019Q3",
          "2019Q4",
          "2020Q1",
          "2020Q2",
          "2020Q3",
          "2020Q4",
          "2021Q1",
          "2021Q2",
          "2021Q3",
          "2021Q4",
          "2022Q1",
          "2022Q2",
          "2022Q3",
          "2022Q4",
          "2023Q1",
          "2023Q2",
          "2023Q3",
          "2023Q4",
          "2024Q1",
          "2024Q2",
          "2024Q3",
          "2024Q4"
         ],
         "xaxis": "x",
         "y": [
          null,
          null,
          null,
          null,
          null,
          null,
          null,
          null,
          null,
          null,
          null,
          null,
          null,
          null,
          null,
          null,
          null,
          null,
          null,
          null,
          null,
          null,
          null,
          null,
          null,
          null,
          null,
          null,
          null,
          null,
          null,
          null,
          null,
          null,
          null,
          null,
          null,
          null,
          null,
          null,
          null,
          null,
          null,
          null,
          null,
          null,
          null,
          null,
          null,
          null,
          null,
          null,
          null,
          null,
          null,
          null,
          null,
          null,
          null,
          null,
          null,
          null,
          null,
          null,
          null,
          null,
          null,
          null,
          null,
          null,
          null,
          null,
          null,
          null,
          null,
          25.221953064523916,
          27.271266099262355,
          27.375951267804737,
          25.23616183707921,
          24.362718251679862
         ],
         "yaxis": "y"
        },
        {
         "hovertemplate": "variable=Inflation_yoy_CNB_forecast<br>Year-Month=%{x}<br>value=%{y}<extra></extra>",
         "legendgroup": "Inflation_yoy_CNB_forecast",
         "line": {
          "color": "#636efa",
          "dash": "solid"
         },
         "marker": {
          "symbol": "circle"
         },
         "mode": "lines",
         "name": "Inflation_yoy_CNB_forecast",
         "showlegend": true,
         "type": "scattergl",
         "visible": "legendonly",
         "x": [
          "2005Q1",
          "2005Q2",
          "2005Q3",
          "2005Q4",
          "2006Q1",
          "2006Q2",
          "2006Q3",
          "2006Q4",
          "2007Q1",
          "2007Q2",
          "2007Q3",
          "2007Q4",
          "2008Q1",
          "2008Q2",
          "2008Q3",
          "2008Q4",
          "2009Q1",
          "2009Q2",
          "2009Q3",
          "2009Q4",
          "2010Q1",
          "2010Q2",
          "2010Q3",
          "2010Q4",
          "2011Q1",
          "2011Q2",
          "2011Q3",
          "2011Q4",
          "2012Q1",
          "2012Q2",
          "2012Q3",
          "2012Q4",
          "2013Q1",
          "2013Q2",
          "2013Q3",
          "2013Q4",
          "2014Q1",
          "2014Q2",
          "2014Q3",
          "2014Q4",
          "2015Q1",
          "2015Q2",
          "2015Q3",
          "2015Q4",
          "2016Q1",
          "2016Q2",
          "2016Q3",
          "2016Q4",
          "2017Q1",
          "2017Q2",
          "2017Q3",
          "2017Q4",
          "2018Q1",
          "2018Q2",
          "2018Q3",
          "2018Q4",
          "2019Q1",
          "2019Q2",
          "2019Q3",
          "2019Q4",
          "2020Q1",
          "2020Q2",
          "2020Q3",
          "2020Q4",
          "2021Q1",
          "2021Q2",
          "2021Q3",
          "2021Q4",
          "2022Q1",
          "2022Q2",
          "2022Q3",
          "2022Q4",
          "2023Q1",
          "2023Q2",
          "2023Q3",
          "2023Q4",
          "2024Q1",
          "2024Q2",
          "2024Q3",
          "2024Q4"
         ],
         "xaxis": "x",
         "y": [
          null,
          null,
          null,
          null,
          null,
          null,
          null,
          null,
          null,
          null,
          null,
          null,
          null,
          null,
          null,
          null,
          null,
          null,
          null,
          null,
          null,
          null,
          null,
          null,
          null,
          null,
          null,
          null,
          null,
          null,
          null,
          null,
          null,
          null,
          null,
          null,
          null,
          null,
          null,
          null,
          null,
          null,
          null,
          null,
          null,
          null,
          null,
          null,
          null,
          null,
          null,
          null,
          null,
          null,
          null,
          null,
          null,
          null,
          null,
          null,
          null,
          null,
          null,
          null,
          null,
          null,
          null,
          null,
          null,
          null,
          null,
          null,
          null,
          null,
          null,
          7.486953,
          2.72442838,
          2.60050989,
          2.23573565,
          2.75147403
         ],
         "yaxis": "y"
        },
        {
         "hovertemplate": "variable=GDP_growth_CNB_forecast<br>Year-Month=%{x}<br>value=%{y}<extra></extra>",
         "legendgroup": "GDP_growth_CNB_forecast",
         "line": {
          "color": "#EF553B",
          "dash": "solid"
         },
         "marker": {
          "symbol": "circle"
         },
         "mode": "lines",
         "name": "GDP_growth_CNB_forecast",
         "showlegend": true,
         "type": "scattergl",
         "visible": "legendonly",
         "x": [
          "2005Q1",
          "2005Q2",
          "2005Q3",
          "2005Q4",
          "2006Q1",
          "2006Q2",
          "2006Q3",
          "2006Q4",
          "2007Q1",
          "2007Q2",
          "2007Q3",
          "2007Q4",
          "2008Q1",
          "2008Q2",
          "2008Q3",
          "2008Q4",
          "2009Q1",
          "2009Q2",
          "2009Q3",
          "2009Q4",
          "2010Q1",
          "2010Q2",
          "2010Q3",
          "2010Q4",
          "2011Q1",
          "2011Q2",
          "2011Q3",
          "2011Q4",
          "2012Q1",
          "2012Q2",
          "2012Q3",
          "2012Q4",
          "2013Q1",
          "2013Q2",
          "2013Q3",
          "2013Q4",
          "2014Q1",
          "2014Q2",
          "2014Q3",
          "2014Q4",
          "2015Q1",
          "2015Q2",
          "2015Q3",
          "2015Q4",
          "2016Q1",
          "2016Q2",
          "2016Q3",
          "2016Q4",
          "2017Q1",
          "2017Q2",
          "2017Q3",
          "2017Q4",
          "2018Q1",
          "2018Q2",
          "2018Q3",
          "2018Q4",
          "2019Q1",
          "2019Q2",
          "2019Q3",
          "2019Q4",
          "2020Q1",
          "2020Q2",
          "2020Q3",
          "2020Q4",
          "2021Q1",
          "2021Q2",
          "2021Q3",
          "2021Q4",
          "2022Q1",
          "2022Q2",
          "2022Q3",
          "2022Q4",
          "2023Q1",
          "2023Q2",
          "2023Q3",
          "2023Q4",
          "2024Q1",
          "2024Q2",
          "2024Q3",
          "2024Q4"
         ],
         "xaxis": "x",
         "y": [
          null,
          null,
          null,
          null,
          null,
          null,
          null,
          null,
          null,
          null,
          null,
          null,
          null,
          null,
          null,
          null,
          null,
          null,
          null,
          null,
          null,
          null,
          null,
          null,
          null,
          null,
          null,
          null,
          null,
          null,
          null,
          null,
          null,
          null,
          null,
          null,
          null,
          null,
          null,
          null,
          null,
          null,
          null,
          null,
          null,
          null,
          null,
          null,
          null,
          null,
          null,
          null,
          null,
          null,
          null,
          null,
          null,
          null,
          null,
          null,
          null,
          null,
          null,
          null,
          null,
          null,
          null,
          null,
          null,
          null,
          null,
          null,
          null,
          null,
          null,
          -0.0658945018,
          0.267504477,
          0.687399633,
          1.61995807,
          2.2169392
         ],
         "yaxis": "y"
        },
        {
         "hovertemplate": "variable=EUR_CZK_CNB_forecast<br>Year-Month=%{x}<br>value=%{y}<extra></extra>",
         "legendgroup": "EUR_CZK_CNB_forecast",
         "line": {
          "color": "#00cc96",
          "dash": "solid"
         },
         "marker": {
          "symbol": "circle"
         },
         "mode": "lines",
         "name": "EUR_CZK_CNB_forecast",
         "showlegend": true,
         "type": "scattergl",
         "visible": "legendonly",
         "x": [
          "2005Q1",
          "2005Q2",
          "2005Q3",
          "2005Q4",
          "2006Q1",
          "2006Q2",
          "2006Q3",
          "2006Q4",
          "2007Q1",
          "2007Q2",
          "2007Q3",
          "2007Q4",
          "2008Q1",
          "2008Q2",
          "2008Q3",
          "2008Q4",
          "2009Q1",
          "2009Q2",
          "2009Q3",
          "2009Q4",
          "2010Q1",
          "2010Q2",
          "2010Q3",
          "2010Q4",
          "2011Q1",
          "2011Q2",
          "2011Q3",
          "2011Q4",
          "2012Q1",
          "2012Q2",
          "2012Q3",
          "2012Q4",
          "2013Q1",
          "2013Q2",
          "2013Q3",
          "2013Q4",
          "2014Q1",
          "2014Q2",
          "2014Q3",
          "2014Q4",
          "2015Q1",
          "2015Q2",
          "2015Q3",
          "2015Q4",
          "2016Q1",
          "2016Q2",
          "2016Q3",
          "2016Q4",
          "2017Q1",
          "2017Q2",
          "2017Q3",
          "2017Q4",
          "2018Q1",
          "2018Q2",
          "2018Q3",
          "2018Q4",
          "2019Q1",
          "2019Q2",
          "2019Q3",
          "2019Q4",
          "2020Q1",
          "2020Q2",
          "2020Q3",
          "2020Q4",
          "2021Q1",
          "2021Q2",
          "2021Q3",
          "2021Q4",
          "2022Q1",
          "2022Q2",
          "2022Q3",
          "2022Q4",
          "2023Q1",
          "2023Q2",
          "2023Q3",
          "2023Q4",
          "2024Q1",
          "2024Q2",
          "2024Q3",
          "2024Q4"
         ],
         "xaxis": "x",
         "y": [
          null,
          null,
          null,
          null,
          null,
          null,
          null,
          null,
          null,
          null,
          null,
          null,
          null,
          null,
          null,
          null,
          null,
          null,
          null,
          null,
          null,
          null,
          null,
          null,
          null,
          null,
          null,
          null,
          null,
          null,
          null,
          null,
          null,
          null,
          null,
          null,
          null,
          null,
          null,
          null,
          null,
          null,
          null,
          null,
          null,
          null,
          null,
          null,
          null,
          null,
          null,
          null,
          null,
          null,
          null,
          null,
          null,
          null,
          null,
          null,
          null,
          null,
          null,
          null,
          null,
          null,
          null,
          null,
          null,
          null,
          null,
          null,
          null,
          null,
          null,
          24.6,
          24.7047971,
          24.6436235,
          24.5109956,
          24.3584604
         ],
         "yaxis": "y"
        },
        {
         "hovertemplate": "variable=PRIBOR_3M_CNB_forecast<br>Year-Month=%{x}<br>value=%{y}<extra></extra>",
         "legendgroup": "PRIBOR_3M_CNB_forecast",
         "line": {
          "color": "#ab63fa",
          "dash": "solid"
         },
         "marker": {
          "symbol": "circle"
         },
         "mode": "lines",
         "name": "PRIBOR_3M_CNB_forecast",
         "showlegend": true,
         "type": "scattergl",
         "visible": "legendonly",
         "x": [
          "2005Q1",
          "2005Q2",
          "2005Q3",
          "2005Q4",
          "2006Q1",
          "2006Q2",
          "2006Q3",
          "2006Q4",
          "2007Q1",
          "2007Q2",
          "2007Q3",
          "2007Q4",
          "2008Q1",
          "2008Q2",
          "2008Q3",
          "2008Q4",
          "2009Q1",
          "2009Q2",
          "2009Q3",
          "2009Q4",
          "2010Q1",
          "2010Q2",
          "2010Q3",
          "2010Q4",
          "2011Q1",
          "2011Q2",
          "2011Q3",
          "2011Q4",
          "2012Q1",
          "2012Q2",
          "2012Q3",
          "2012Q4",
          "2013Q1",
          "2013Q2",
          "2013Q3",
          "2013Q4",
          "2014Q1",
          "2014Q2",
          "2014Q3",
          "2014Q4",
          "2015Q1",
          "2015Q2",
          "2015Q3",
          "2015Q4",
          "2016Q1",
          "2016Q2",
          "2016Q3",
          "2016Q4",
          "2017Q1",
          "2017Q2",
          "2017Q3",
          "2017Q4",
          "2018Q1",
          "2018Q2",
          "2018Q3",
          "2018Q4",
          "2019Q1",
          "2019Q2",
          "2019Q3",
          "2019Q4",
          "2020Q1",
          "2020Q2",
          "2020Q3",
          "2020Q4",
          "2021Q1",
          "2021Q2",
          "2021Q3",
          "2021Q4",
          "2022Q1",
          "2022Q2",
          "2022Q3",
          "2022Q4",
          "2023Q1",
          "2023Q2",
          "2023Q3",
          "2023Q4",
          "2024Q1",
          "2024Q2",
          "2024Q3",
          "2024Q4"
         ],
         "xaxis": "x",
         "y": [
          null,
          null,
          null,
          null,
          null,
          null,
          null,
          null,
          null,
          null,
          null,
          null,
          null,
          null,
          null,
          null,
          null,
          null,
          null,
          null,
          null,
          null,
          null,
          null,
          null,
          null,
          null,
          null,
          null,
          null,
          null,
          null,
          null,
          null,
          null,
          null,
          null,
          null,
          null,
          null,
          null,
          null,
          null,
          null,
          null,
          null,
          null,
          null,
          null,
          null,
          null,
          null,
          null,
          null,
          null,
          null,
          null,
          null,
          null,
          null,
          null,
          null,
          null,
          null,
          null,
          null,
          null,
          null,
          null,
          null,
          null,
          null,
          null,
          null,
          null,
          6.55274551,
          5.46019042,
          4.3002055,
          3.71319927,
          3.5438671
         ],
         "yaxis": "y"
        }
       ],
       "layout": {
        "legend": {
         "title": {
          "text": "variable"
         },
         "tracegroupgap": 0
        },
        "template": {
         "data": {
          "bar": [
           {
            "error_x": {
             "color": "#2a3f5f"
            },
            "error_y": {
             "color": "#2a3f5f"
            },
            "marker": {
             "line": {
              "color": "#E5ECF6",
              "width": 0.5
             },
             "pattern": {
              "fillmode": "overlay",
              "size": 10,
              "solidity": 0.2
             }
            },
            "type": "bar"
           }
          ],
          "barpolar": [
           {
            "marker": {
             "line": {
              "color": "#E5ECF6",
              "width": 0.5
             },
             "pattern": {
              "fillmode": "overlay",
              "size": 10,
              "solidity": 0.2
             }
            },
            "type": "barpolar"
           }
          ],
          "carpet": [
           {
            "aaxis": {
             "endlinecolor": "#2a3f5f",
             "gridcolor": "white",
             "linecolor": "white",
             "minorgridcolor": "white",
             "startlinecolor": "#2a3f5f"
            },
            "baxis": {
             "endlinecolor": "#2a3f5f",
             "gridcolor": "white",
             "linecolor": "white",
             "minorgridcolor": "white",
             "startlinecolor": "#2a3f5f"
            },
            "type": "carpet"
           }
          ],
          "choropleth": [
           {
            "colorbar": {
             "outlinewidth": 0,
             "ticks": ""
            },
            "type": "choropleth"
           }
          ],
          "contour": [
           {
            "colorbar": {
             "outlinewidth": 0,
             "ticks": ""
            },
            "colorscale": [
             [
              0,
              "#0d0887"
             ],
             [
              0.1111111111111111,
              "#46039f"
             ],
             [
              0.2222222222222222,
              "#7201a8"
             ],
             [
              0.3333333333333333,
              "#9c179e"
             ],
             [
              0.4444444444444444,
              "#bd3786"
             ],
             [
              0.5555555555555556,
              "#d8576b"
             ],
             [
              0.6666666666666666,
              "#ed7953"
             ],
             [
              0.7777777777777778,
              "#fb9f3a"
             ],
             [
              0.8888888888888888,
              "#fdca26"
             ],
             [
              1,
              "#f0f921"
             ]
            ],
            "type": "contour"
           }
          ],
          "contourcarpet": [
           {
            "colorbar": {
             "outlinewidth": 0,
             "ticks": ""
            },
            "type": "contourcarpet"
           }
          ],
          "heatmap": [
           {
            "colorbar": {
             "outlinewidth": 0,
             "ticks": ""
            },
            "colorscale": [
             [
              0,
              "#0d0887"
             ],
             [
              0.1111111111111111,
              "#46039f"
             ],
             [
              0.2222222222222222,
              "#7201a8"
             ],
             [
              0.3333333333333333,
              "#9c179e"
             ],
             [
              0.4444444444444444,
              "#bd3786"
             ],
             [
              0.5555555555555556,
              "#d8576b"
             ],
             [
              0.6666666666666666,
              "#ed7953"
             ],
             [
              0.7777777777777778,
              "#fb9f3a"
             ],
             [
              0.8888888888888888,
              "#fdca26"
             ],
             [
              1,
              "#f0f921"
             ]
            ],
            "type": "heatmap"
           }
          ],
          "heatmapgl": [
           {
            "colorbar": {
             "outlinewidth": 0,
             "ticks": ""
            },
            "colorscale": [
             [
              0,
              "#0d0887"
             ],
             [
              0.1111111111111111,
              "#46039f"
             ],
             [
              0.2222222222222222,
              "#7201a8"
             ],
             [
              0.3333333333333333,
              "#9c179e"
             ],
             [
              0.4444444444444444,
              "#bd3786"
             ],
             [
              0.5555555555555556,
              "#d8576b"
             ],
             [
              0.6666666666666666,
              "#ed7953"
             ],
             [
              0.7777777777777778,
              "#fb9f3a"
             ],
             [
              0.8888888888888888,
              "#fdca26"
             ],
             [
              1,
              "#f0f921"
             ]
            ],
            "type": "heatmapgl"
           }
          ],
          "histogram": [
           {
            "marker": {
             "pattern": {
              "fillmode": "overlay",
              "size": 10,
              "solidity": 0.2
             }
            },
            "type": "histogram"
           }
          ],
          "histogram2d": [
           {
            "colorbar": {
             "outlinewidth": 0,
             "ticks": ""
            },
            "colorscale": [
             [
              0,
              "#0d0887"
             ],
             [
              0.1111111111111111,
              "#46039f"
             ],
             [
              0.2222222222222222,
              "#7201a8"
             ],
             [
              0.3333333333333333,
              "#9c179e"
             ],
             [
              0.4444444444444444,
              "#bd3786"
             ],
             [
              0.5555555555555556,
              "#d8576b"
             ],
             [
              0.6666666666666666,
              "#ed7953"
             ],
             [
              0.7777777777777778,
              "#fb9f3a"
             ],
             [
              0.8888888888888888,
              "#fdca26"
             ],
             [
              1,
              "#f0f921"
             ]
            ],
            "type": "histogram2d"
           }
          ],
          "histogram2dcontour": [
           {
            "colorbar": {
             "outlinewidth": 0,
             "ticks": ""
            },
            "colorscale": [
             [
              0,
              "#0d0887"
             ],
             [
              0.1111111111111111,
              "#46039f"
             ],
             [
              0.2222222222222222,
              "#7201a8"
             ],
             [
              0.3333333333333333,
              "#9c179e"
             ],
             [
              0.4444444444444444,
              "#bd3786"
             ],
             [
              0.5555555555555556,
              "#d8576b"
             ],
             [
              0.6666666666666666,
              "#ed7953"
             ],
             [
              0.7777777777777778,
              "#fb9f3a"
             ],
             [
              0.8888888888888888,
              "#fdca26"
             ],
             [
              1,
              "#f0f921"
             ]
            ],
            "type": "histogram2dcontour"
           }
          ],
          "mesh3d": [
           {
            "colorbar": {
             "outlinewidth": 0,
             "ticks": ""
            },
            "type": "mesh3d"
           }
          ],
          "parcoords": [
           {
            "line": {
             "colorbar": {
              "outlinewidth": 0,
              "ticks": ""
             }
            },
            "type": "parcoords"
           }
          ],
          "pie": [
           {
            "automargin": true,
            "type": "pie"
           }
          ],
          "scatter": [
           {
            "fillpattern": {
             "fillmode": "overlay",
             "size": 10,
             "solidity": 0.2
            },
            "type": "scatter"
           }
          ],
          "scatter3d": [
           {
            "line": {
             "colorbar": {
              "outlinewidth": 0,
              "ticks": ""
             }
            },
            "marker": {
             "colorbar": {
              "outlinewidth": 0,
              "ticks": ""
             }
            },
            "type": "scatter3d"
           }
          ],
          "scattercarpet": [
           {
            "marker": {
             "colorbar": {
              "outlinewidth": 0,
              "ticks": ""
             }
            },
            "type": "scattercarpet"
           }
          ],
          "scattergeo": [
           {
            "marker": {
             "colorbar": {
              "outlinewidth": 0,
              "ticks": ""
             }
            },
            "type": "scattergeo"
           }
          ],
          "scattergl": [
           {
            "marker": {
             "colorbar": {
              "outlinewidth": 0,
              "ticks": ""
             }
            },
            "type": "scattergl"
           }
          ],
          "scattermapbox": [
           {
            "marker": {
             "colorbar": {
              "outlinewidth": 0,
              "ticks": ""
             }
            },
            "type": "scattermapbox"
           }
          ],
          "scatterpolar": [
           {
            "marker": {
             "colorbar": {
              "outlinewidth": 0,
              "ticks": ""
             }
            },
            "type": "scatterpolar"
           }
          ],
          "scatterpolargl": [
           {
            "marker": {
             "colorbar": {
              "outlinewidth": 0,
              "ticks": ""
             }
            },
            "type": "scatterpolargl"
           }
          ],
          "scatterternary": [
           {
            "marker": {
             "colorbar": {
              "outlinewidth": 0,
              "ticks": ""
             }
            },
            "type": "scatterternary"
           }
          ],
          "surface": [
           {
            "colorbar": {
             "outlinewidth": 0,
             "ticks": ""
            },
            "colorscale": [
             [
              0,
              "#0d0887"
             ],
             [
              0.1111111111111111,
              "#46039f"
             ],
             [
              0.2222222222222222,
              "#7201a8"
             ],
             [
              0.3333333333333333,
              "#9c179e"
             ],
             [
              0.4444444444444444,
              "#bd3786"
             ],
             [
              0.5555555555555556,
              "#d8576b"
             ],
             [
              0.6666666666666666,
              "#ed7953"
             ],
             [
              0.7777777777777778,
              "#fb9f3a"
             ],
             [
              0.8888888888888888,
              "#fdca26"
             ],
             [
              1,
              "#f0f921"
             ]
            ],
            "type": "surface"
           }
          ],
          "table": [
           {
            "cells": {
             "fill": {
              "color": "#EBF0F8"
             },
             "line": {
              "color": "white"
             }
            },
            "header": {
             "fill": {
              "color": "#C8D4E3"
             },
             "line": {
              "color": "white"
             }
            },
            "type": "table"
           }
          ]
         },
         "layout": {
          "annotationdefaults": {
           "arrowcolor": "#2a3f5f",
           "arrowhead": 0,
           "arrowwidth": 1
          },
          "autotypenumbers": "strict",
          "coloraxis": {
           "colorbar": {
            "outlinewidth": 0,
            "ticks": ""
           }
          },
          "colorscale": {
           "diverging": [
            [
             0,
             "#8e0152"
            ],
            [
             0.1,
             "#c51b7d"
            ],
            [
             0.2,
             "#de77ae"
            ],
            [
             0.3,
             "#f1b6da"
            ],
            [
             0.4,
             "#fde0ef"
            ],
            [
             0.5,
             "#f7f7f7"
            ],
            [
             0.6,
             "#e6f5d0"
            ],
            [
             0.7,
             "#b8e186"
            ],
            [
             0.8,
             "#7fbc41"
            ],
            [
             0.9,
             "#4d9221"
            ],
            [
             1,
             "#276419"
            ]
           ],
           "sequential": [
            [
             0,
             "#0d0887"
            ],
            [
             0.1111111111111111,
             "#46039f"
            ],
            [
             0.2222222222222222,
             "#7201a8"
            ],
            [
             0.3333333333333333,
             "#9c179e"
            ],
            [
             0.4444444444444444,
             "#bd3786"
            ],
            [
             0.5555555555555556,
             "#d8576b"
            ],
            [
             0.6666666666666666,
             "#ed7953"
            ],
            [
             0.7777777777777778,
             "#fb9f3a"
            ],
            [
             0.8888888888888888,
             "#fdca26"
            ],
            [
             1,
             "#f0f921"
            ]
           ],
           "sequentialminus": [
            [
             0,
             "#0d0887"
            ],
            [
             0.1111111111111111,
             "#46039f"
            ],
            [
             0.2222222222222222,
             "#7201a8"
            ],
            [
             0.3333333333333333,
             "#9c179e"
            ],
            [
             0.4444444444444444,
             "#bd3786"
            ],
            [
             0.5555555555555556,
             "#d8576b"
            ],
            [
             0.6666666666666666,
             "#ed7953"
            ],
            [
             0.7777777777777778,
             "#fb9f3a"
            ],
            [
             0.8888888888888888,
             "#fdca26"
            ],
            [
             1,
             "#f0f921"
            ]
           ]
          },
          "colorway": [
           "#636efa",
           "#EF553B",
           "#00cc96",
           "#ab63fa",
           "#FFA15A",
           "#19d3f3",
           "#FF6692",
           "#B6E880",
           "#FF97FF",
           "#FECB52"
          ],
          "font": {
           "color": "#2a3f5f"
          },
          "geo": {
           "bgcolor": "white",
           "lakecolor": "white",
           "landcolor": "#E5ECF6",
           "showlakes": true,
           "showland": true,
           "subunitcolor": "white"
          },
          "hoverlabel": {
           "align": "left"
          },
          "hovermode": "closest",
          "mapbox": {
           "style": "light"
          },
          "paper_bgcolor": "white",
          "plot_bgcolor": "#E5ECF6",
          "polar": {
           "angularaxis": {
            "gridcolor": "white",
            "linecolor": "white",
            "ticks": ""
           },
           "bgcolor": "#E5ECF6",
           "radialaxis": {
            "gridcolor": "white",
            "linecolor": "white",
            "ticks": ""
           }
          },
          "scene": {
           "xaxis": {
            "backgroundcolor": "#E5ECF6",
            "gridcolor": "white",
            "gridwidth": 2,
            "linecolor": "white",
            "showbackground": true,
            "ticks": "",
            "zerolinecolor": "white"
           },
           "yaxis": {
            "backgroundcolor": "#E5ECF6",
            "gridcolor": "white",
            "gridwidth": 2,
            "linecolor": "white",
            "showbackground": true,
            "ticks": "",
            "zerolinecolor": "white"
           },
           "zaxis": {
            "backgroundcolor": "#E5ECF6",
            "gridcolor": "white",
            "gridwidth": 2,
            "linecolor": "white",
            "showbackground": true,
            "ticks": "",
            "zerolinecolor": "white"
           }
          },
          "shapedefaults": {
           "line": {
            "color": "#2a3f5f"
           }
          },
          "ternary": {
           "aaxis": {
            "gridcolor": "white",
            "linecolor": "white",
            "ticks": ""
           },
           "baxis": {
            "gridcolor": "white",
            "linecolor": "white",
            "ticks": ""
           },
           "bgcolor": "#E5ECF6",
           "caxis": {
            "gridcolor": "white",
            "linecolor": "white",
            "ticks": ""
           }
          },
          "title": {
           "x": 0.05
          },
          "xaxis": {
           "automargin": true,
           "gridcolor": "white",
           "linecolor": "white",
           "ticks": "",
           "title": {
            "standoff": 15
           },
           "zerolinecolor": "white",
           "zerolinewidth": 2
          },
          "yaxis": {
           "automargin": true,
           "gridcolor": "white",
           "linecolor": "white",
           "ticks": "",
           "title": {
            "standoff": 15
           },
           "zerolinecolor": "white",
           "zerolinewidth": 2
          }
         }
        },
        "title": {
         "text": "Growth Forecasts comparison"
        },
        "updatemenus": [
         {
          "active": 0,
          "buttons": [
           {
            "args": [
             {
              "visible": true
             },
             {
              "title": "Growth Forecasts comparison"
             }
            ],
            "label": "Show All",
            "method": "update"
           },
           {
            "args": [
             {
              "visible": [
               "legendonly",
               "legendonly",
               "legendonly",
               "legendonly",
               "legendonly",
               "legendonly",
               "legendonly",
               "legendonly",
               "legendonly",
               "legendonly",
               "legendonly",
               "legendonly",
               "legendonly",
               "legendonly",
               "legendonly"
              ]
             },
             {
              "title": "Growth Forecasts comparison"
             }
            ],
            "label": "Hide All",
            "method": "update"
           }
          ]
         }
        ],
        "xaxis": {
         "anchor": "y",
         "domain": [
          0,
          1
         ],
         "title": {
          "text": "Year-Month"
         }
        },
        "yaxis": {
         "anchor": "x",
         "domain": [
          0,
          1
         ],
         "title": {
          "text": "value"
         }
        }
       }
      },
      "text/html": [
       "<div>                            <div id=\"4ea97f7d-3c0a-40bb-a74a-999a62fa9f73\" class=\"plotly-graph-div\" style=\"height:525px; width:100%;\"></div>            <script type=\"text/javascript\">                require([\"plotly\"], function(Plotly) {                    window.PLOTLYENV=window.PLOTLYENV || {};                                    if (document.getElementById(\"4ea97f7d-3c0a-40bb-a74a-999a62fa9f73\")) {                    Plotly.newPlot(                        \"4ea97f7d-3c0a-40bb-a74a-999a62fa9f73\",                        [{\"hovertemplate\":\"variable=EUR_CZK<br>Year-Month=%{x}<br>value=%{y}<extra></extra>\",\"legendgroup\":\"EUR_CZK\",\"line\":{\"color\":\"#636efa\",\"dash\":\"solid\"},\"marker\":{\"symbol\":\"circle\"},\"mode\":\"lines\",\"name\":\"EUR_CZK\",\"showlegend\":true,\"x\":[\"2005Q1\",\"2005Q2\",\"2005Q3\",\"2005Q4\",\"2006Q1\",\"2006Q2\",\"2006Q3\",\"2006Q4\",\"2007Q1\",\"2007Q2\",\"2007Q3\",\"2007Q4\",\"2008Q1\",\"2008Q2\",\"2008Q3\",\"2008Q4\",\"2009Q1\",\"2009Q2\",\"2009Q3\",\"2009Q4\",\"2010Q1\",\"2010Q2\",\"2010Q3\",\"2010Q4\",\"2011Q1\",\"2011Q2\",\"2011Q3\",\"2011Q4\",\"2012Q1\",\"2012Q2\",\"2012Q3\",\"2012Q4\",\"2013Q1\",\"2013Q2\",\"2013Q3\",\"2013Q4\",\"2014Q1\",\"2014Q2\",\"2014Q3\",\"2014Q4\",\"2015Q1\",\"2015Q2\",\"2015Q3\",\"2015Q4\",\"2016Q1\",\"2016Q2\",\"2016Q3\",\"2016Q4\",\"2017Q1\",\"2017Q2\",\"2017Q3\",\"2017Q4\",\"2018Q1\",\"2018Q2\",\"2018Q3\",\"2018Q4\",\"2019Q1\",\"2019Q2\",\"2019Q3\",\"2019Q4\",\"2020Q1\",\"2020Q2\",\"2020Q3\",\"2020Q4\",\"2021Q1\",\"2021Q2\",\"2021Q3\",\"2021Q4\",\"2022Q1\",\"2022Q2\",\"2022Q3\",\"2022Q4\",\"2023Q1\",\"2023Q2\",\"2023Q3\",\"2023Q4\",\"2024Q1\",\"2024Q2\",\"2024Q3\",\"2024Q4\"],\"xaxis\":\"x\",\"y\":[30.0144444,30.1258462,29.6770635,29.2983064,28.5997692,28.3843548,28.3304839,28.0448387,28.0365625,28.2662097,27.922903199999997,26.8287302,25.5624603,24.8257143,24.0924242,25.342377100000004,27.5992857,26.6770968,25.5978906,25.9145161,25.8676984,25.589296900000004,24.9134127,24.7859524,24.3745313,24.3205469,24.3880159,25.278709699999997,25.0834615,25.2612097,25.0651613,25.166666699999997,25.568333299999995,25.8312097,25.8523077,26.6569355,27.4407143,27.4470161,27.6181818,27.624098399999998,27.623809500000004,27.379919399999995,27.071812500000004,27.0565323,27.0385484,27.0393846,27.027698400000002,27.0279032,27.020230799999997,26.5320492,26.0843548,25.6512097,25.401825399999996,25.598871,25.7107511,25.8608564,25.6835823,25.6835397,25.74,25.5756667,25.613333300000004,27.0703333,26.464,26.659000000000002,26.065666699999998,25.6453333,25.4986667,25.380666699999995,24.6386667,24.6346667,24.5726667,24.3893333,23.7843333,23.5793333,24.133666700000003,null,null,null,null,null],\"yaxis\":\"y\",\"type\":\"scattergl\",\"visible\":\"legendonly\"},{\"hovertemplate\":\"variable=PRIBOR_12M<br>Year-Month=%{x}<br>value=%{y}<extra></extra>\",\"legendgroup\":\"PRIBOR_12M\",\"line\":{\"color\":\"#EF553B\",\"dash\":\"solid\"},\"marker\":{\"symbol\":\"circle\"},\"mode\":\"lines\",\"name\":\"PRIBOR_12M\",\"showlegend\":true,\"x\":[\"2005Q1\",\"2005Q2\",\"2005Q3\",\"2005Q4\",\"2006Q1\",\"2006Q2\",\"2006Q3\",\"2006Q4\",\"2007Q1\",\"2007Q2\",\"2007Q3\",\"2007Q4\",\"2008Q1\",\"2008Q2\",\"2008Q3\",\"2008Q4\",\"2009Q1\",\"2009Q2\",\"2009Q3\",\"2009Q4\",\"2010Q1\",\"2010Q2\",\"2010Q3\",\"2010Q4\",\"2011Q1\",\"2011Q2\",\"2011Q3\",\"2011Q4\",\"2012Q1\",\"2012Q2\",\"2012Q3\",\"2012Q4\",\"2013Q1\",\"2013Q2\",\"2013Q3\",\"2013Q4\",\"2014Q1\",\"2014Q2\",\"2014Q3\",\"2014Q4\",\"2015Q1\",\"2015Q2\",\"2015Q3\",\"2015Q4\",\"2016Q1\",\"2016Q2\",\"2016Q3\",\"2016Q4\",\"2017Q1\",\"2017Q2\",\"2017Q3\",\"2017Q4\",\"2018Q1\",\"2018Q2\",\"2018Q3\",\"2018Q4\",\"2019Q1\",\"2019Q2\",\"2019Q3\",\"2019Q4\",\"2020Q1\",\"2020Q2\",\"2020Q3\",\"2020Q4\",\"2021Q1\",\"2021Q2\",\"2021Q3\",\"2021Q4\",\"2022Q1\",\"2022Q2\",\"2022Q3\",\"2022Q4\",\"2023Q1\",\"2023Q2\",\"2023Q3\",\"2023Q4\",\"2024Q1\",\"2024Q2\",\"2024Q3\",\"2024Q4\"],\"xaxis\":\"x\",\"y\":[2.353239538239538,1.871861471861472,1.8592325015437143,2.4398174603174603,2.2956541501976284,2.4736002886002884,2.824927917620137,3.006503379661274,2.8323787878787883,3.1513571428571425,3.706062929061785,4.004862392036305,4.167525974025974,4.320200577200577,4.031894409937888,4.298240829346092,3.0264227994227997,2.701108073213337,2.476075036075036,2.31465873015873,2.026927536231884,1.840865800865801,1.776332611832612,1.792871572871573,1.80734126984127,1.8251060606060605,1.7450372307580546,1.7138333333333333,1.7532539682539683,1.7679206349206351,1.432244469870328,0.959366125018299,0.8214278499278499,0.7573809523809524,0.7444949494949494,0.662352851826536,0.5613030303030303,0.5382063492063492,0.5201449275362319,0.511969696969697,0.5024848484848484,0.47888888888888886,0.4765295815295815,0.4580634920634921,0.45083333333333336,0.45,0.45,0.44841269841269843,0.44,0.4557407407407408,0.5699382151029747,0.8539272423482949,1.0698030303030304,1.13334126984127,1.6144633867276887,2.1166856975552624,2.2032344877344876,2.2736984126984128,2.23491341991342,2.2748925343662183,2.2177575757575756,0.6187719298245614,0.43190476190476185,0.45300793650793647,0.5288333333333334,0.6668116883116882,1.2768326118326119,3.300108225108225,4.8476452726017945,6.3641307814992025,7.491930551015219,7.374809523809524,7.235481554677207,7.180935545935546,6.941112890922959,null,null,null,null,null],\"yaxis\":\"y\",\"type\":\"scattergl\",\"visible\":\"legendonly\"},{\"hovertemplate\":\"variable=PRIBOR_3M<br>Year-Month=%{x}<br>value=%{y}<extra></extra>\",\"legendgroup\":\"PRIBOR_3M\",\"line\":{\"color\":\"#00cc96\",\"dash\":\"solid\"},\"marker\":{\"symbol\":\"circle\"},\"mode\":\"lines\",\"name\":\"PRIBOR_3M\",\"showlegend\":true,\"x\":[\"2005Q1\",\"2005Q2\",\"2005Q3\",\"2005Q4\",\"2006Q1\",\"2006Q2\",\"2006Q3\",\"2006Q4\",\"2007Q1\",\"2007Q2\",\"2007Q3\",\"2007Q4\",\"2008Q1\",\"2008Q2\",\"2008Q3\",\"2008Q4\",\"2009Q1\",\"2009Q2\",\"2009Q3\",\"2009Q4\",\"2010Q1\",\"2010Q2\",\"2010Q3\",\"2010Q4\",\"2011Q1\",\"2011Q2\",\"2011Q3\",\"2011Q4\",\"2012Q1\",\"2012Q2\",\"2012Q3\",\"2012Q4\",\"2013Q1\",\"2013Q2\",\"2013Q3\",\"2013Q4\",\"2014Q1\",\"2014Q2\",\"2014Q3\",\"2014Q4\",\"2015Q1\",\"2015Q2\",\"2015Q3\",\"2015Q4\",\"2016Q1\",\"2016Q2\",\"2016Q3\",\"2016Q4\",\"2017Q1\",\"2017Q2\",\"2017Q3\",\"2017Q4\",\"2018Q1\",\"2018Q2\",\"2018Q3\",\"2018Q4\",\"2019Q1\",\"2019Q2\",\"2019Q3\",\"2019Q4\",\"2020Q1\",\"2020Q2\",\"2020Q3\",\"2020Q4\",\"2021Q1\",\"2021Q2\",\"2021Q3\",\"2021Q4\",\"2022Q1\",\"2022Q2\",\"2022Q3\",\"2022Q4\",\"2023Q1\",\"2023Q2\",\"2023Q3\",\"2023Q4\",\"2024Q1\",\"2024Q2\",\"2024Q3\",\"2024Q4\"],\"xaxis\":\"x\",\"y\":[2.2868701298701297,1.8516161616161615,1.7872685336529732,2.1075476190476192,2.074780632411067,2.1298564593301434,2.381601449275362,2.6208623832308042,2.5790757575757577,2.7644365079365083,3.2718817696414955,3.775510174205827,3.9786832611832614,4.153758297258297,3.9097481021394067,4.105153907496013,2.7108340548340544,2.3221618440039493,1.9678643578643575,1.7730714285714289,1.4999927536231883,1.3057936507936507,1.228611111111111,1.2144790764790765,1.2043526570048309,1.208212121212121,1.184168391994479,1.16,1.1996248196248196,1.2324523809523809,0.9757364607170099,0.5842021665934709,0.49587301587301585,0.46334126984126983,0.4577777777777778,0.4105266955266955,0.3715151515151515,0.36278571428571427,0.3499999999999999,0.3435087719298246,0.3277777777777778,0.31,0.3059451659451659,0.2895238095238095,0.28634920634920635,0.29,0.29,0.28888888888888886,0.28,0.2940644540644541,0.3989450800915331,0.6590806561859194,0.8590735930735932,0.9138095238095238,1.39266590389016,1.921916264090177,2.0130093795093793,2.128984126984127,2.14988455988456,2.1777128427128427,2.155409090909091,0.5872894736842105,0.34031746031746035,0.3503174603174603,0.36000000000000004,0.40100288600288597,0.9132828282828284,2.83084632034632,4.5879230503795725,5.992288676236044,7.272678798445388,7.269349206349205,7.203172595520422,7.168403078403078,7.101549580472921,null,null,null,null,null],\"yaxis\":\"y\",\"type\":\"scattergl\",\"visible\":\"legendonly\"},{\"hovertemplate\":\"variable=Inflation_yoy<br>Year-Month=%{x}<br>value=%{y}<extra></extra>\",\"legendgroup\":\"Inflation_yoy\",\"line\":{\"color\":\"#ab63fa\",\"dash\":\"solid\"},\"marker\":{\"symbol\":\"circle\"},\"mode\":\"lines\",\"name\":\"Inflation_yoy\",\"showlegend\":true,\"x\":[\"2005Q1\",\"2005Q2\",\"2005Q3\",\"2005Q4\",\"2006Q1\",\"2006Q2\",\"2006Q3\",\"2006Q4\",\"2007Q1\",\"2007Q2\",\"2007Q3\",\"2007Q4\",\"2008Q1\",\"2008Q2\",\"2008Q3\",\"2008Q4\",\"2009Q1\",\"2009Q2\",\"2009Q3\",\"2009Q4\",\"2010Q1\",\"2010Q2\",\"2010Q3\",\"2010Q4\",\"2011Q1\",\"2011Q2\",\"2011Q3\",\"2011Q4\",\"2012Q1\",\"2012Q2\",\"2012Q3\",\"2012Q4\",\"2013Q1\",\"2013Q2\",\"2013Q3\",\"2013Q4\",\"2014Q1\",\"2014Q2\",\"2014Q3\",\"2014Q4\",\"2015Q1\",\"2015Q2\",\"2015Q3\",\"2015Q4\",\"2016Q1\",\"2016Q2\",\"2016Q3\",\"2016Q4\",\"2017Q1\",\"2017Q2\",\"2017Q3\",\"2017Q4\",\"2018Q1\",\"2018Q2\",\"2018Q3\",\"2018Q4\",\"2019Q1\",\"2019Q2\",\"2019Q3\",\"2019Q4\",\"2020Q1\",\"2020Q2\",\"2020Q3\",\"2020Q4\",\"2021Q1\",\"2021Q2\",\"2021Q3\",\"2021Q4\",\"2022Q1\",\"2022Q2\",\"2022Q3\",\"2022Q4\",\"2023Q1\",\"2023Q2\",\"2023Q3\",\"2023Q4\",\"2024Q1\",\"2024Q2\",\"2024Q3\",\"2024Q4\"],\"xaxis\":\"x\",\"y\":[1.6333333333333353,1.5666666666666629,1.8666666666666696,2.400000000000001,2.8333333333333335,2.8999999999999964,2.900000000000001,1.5,1.5666666666666675,2.4666666666666686,2.5,4.800000000000002,7.3666666666666645,6.766666666666666,6.666666666666667,4.666666666666667,2.1666666666666665,1.4333333333333325,0.16666666666666666,0.4333333333333324,0.6666666666666666,1.1666666666666667,1.9333333333333371,2.099999999999999,1.7333333333333343,1.7999999999999972,1.7333333333333343,2.400000000000001,3.6666666666666665,3.400000000000001,3.2666666666666657,2.833333333333338,1.7666666666666704,1.5333333333333314,1.2333333333333343,1.1333333333333353,0.20000000000000284,0.16666666666666666,0.5999999999999991,0.46666666666666384,0.1333333333333305,0.6666666666666666,0.40000000000000097,0.1333333333333305,0.46666666666666384,0.266666666666661,0.5333333333333314,1.4333333333333325,2.4333333333333322,2.2333333333333343,2.5666666666666678,2.633333333333335,1.900000000000001,2.2333333333333343,2.366666666666665,2.0666666666666678,2.7333333333333343,2.800000000000002,2.833333333333338,3.0,3.5666666666666678,3.133333333333335,3.300000000000002,2.633333333333335,2.199999999999998,2.9333333333333322,4.1333333333333355,6.13333333333333,11.233333333333334,15.800000000000002,17.566666666666666,15.699999999999998,16.400000000000002,11.166666666666666,8.066666666666668,null,null,null,null,null],\"yaxis\":\"y\",\"type\":\"scattergl\",\"visible\":\"legendonly\"},{\"hovertemplate\":\"variable=GDP_growth<br>Year-Month=%{x}<br>value=%{y}<extra></extra>\",\"legendgroup\":\"GDP_growth\",\"line\":{\"color\":\"#FFA15A\",\"dash\":\"solid\"},\"marker\":{\"symbol\":\"circle\"},\"mode\":\"lines\",\"name\":\"GDP_growth\",\"showlegend\":true,\"x\":[\"2005Q1\",\"2005Q2\",\"2005Q3\",\"2005Q4\",\"2006Q1\",\"2006Q2\",\"2006Q3\",\"2006Q4\",\"2007Q1\",\"2007Q2\",\"2007Q3\",\"2007Q4\",\"2008Q1\",\"2008Q2\",\"2008Q3\",\"2008Q4\",\"2009Q1\",\"2009Q2\",\"2009Q3\",\"2009Q4\",\"2010Q1\",\"2010Q2\",\"2010Q3\",\"2010Q4\",\"2011Q1\",\"2011Q2\",\"2011Q3\",\"2011Q4\",\"2012Q1\",\"2012Q2\",\"2012Q3\",\"2012Q4\",\"2013Q1\",\"2013Q2\",\"2013Q3\",\"2013Q4\",\"2014Q1\",\"2014Q2\",\"2014Q3\",\"2014Q4\",\"2015Q1\",\"2015Q2\",\"2015Q3\",\"2015Q4\",\"2016Q1\",\"2016Q2\",\"2016Q3\",\"2016Q4\",\"2017Q1\",\"2017Q2\",\"2017Q3\",\"2017Q4\",\"2018Q1\",\"2018Q2\",\"2018Q3\",\"2018Q4\",\"2019Q1\",\"2019Q2\",\"2019Q3\",\"2019Q4\",\"2020Q1\",\"2020Q2\",\"2020Q3\",\"2020Q4\",\"2021Q1\",\"2021Q2\",\"2021Q3\",\"2021Q4\",\"2022Q1\",\"2022Q2\",\"2022Q3\",\"2022Q4\",\"2023Q1\",\"2023Q2\",\"2023Q3\",\"2023Q4\",\"2024Q1\",\"2024Q2\",\"2024Q3\",\"2024Q4\"],\"xaxis\":\"x\",\"y\":[7.896944278010778,8.051587108739326,6.047533882411315,5.084410919540218,6.670183622093873,6.495197251821537,8.619861848660818,7.969327704762065,10.541718053756554,9.224198053389685,9.196246112838722,8.441034224031199,5.217675038179763,6.877632853624036,6.406815276194237,0.7775421687684769,-0.06862986443472607,-2.9680916700807956,-4.976223361801587,-0.5291684812574715,-1.491378584080806,2.028707439668821,2.096900417851117,1.1219222857431248,2.054262139264594,1.2894967644060813,1.4539202742911215,2.175749569918878,2.2241103876679347,0.4307957532782609,0.04340914233439719,0.07112469088475848,-0.8085663201827202,0.4726387963827534,2.1497130609677413,3.255796485726478,4.4003017086711935,5.201240783510315,6.0979920747294045,3.900662143263716,6.876890749145005,6.859112261563354,6.059376570195639,6.008699000577593,4.536185317730798,4.448366150159117,2.770501134143018,3.1830591281074447,4.814607865207833,5.7791494352200345,7.237783297903533,8.151768655450624,6.794895271605839,5.753071665982006,5.3603638810092065,5.674885316434896,6.888425944473354,6.760984079338442,7.8644535224440375,6.631692281413606,2.692311440374624,-6.9326280477804545,-1.2754082068162376,0.08107898734641594,0.9910674724458062,13.794374974084363,7.71060573671798,5.6946119921991,11.425399381574735,10.382969143056442,11.159286216558442,11.443833739228879,11.307186235474362,9.133266093021518,6.291953965291441,null,null,null,null,null],\"yaxis\":\"y\",\"type\":\"scattergl\",\"visible\":\"legendonly\"},{\"hovertemplate\":\"variable=Industry_growth<br>Year-Month=%{x}<br>value=%{y}<extra></extra>\",\"legendgroup\":\"Industry_growth\",\"line\":{\"color\":\"#19d3f3\",\"dash\":\"solid\"},\"marker\":{\"symbol\":\"circle\"},\"mode\":\"lines\",\"name\":\"Industry_growth\",\"showlegend\":true,\"x\":[\"2005Q1\",\"2005Q2\",\"2005Q3\",\"2005Q4\",\"2006Q1\",\"2006Q2\",\"2006Q3\",\"2006Q4\",\"2007Q1\",\"2007Q2\",\"2007Q3\",\"2007Q4\",\"2008Q1\",\"2008Q2\",\"2008Q3\",\"2008Q4\",\"2009Q1\",\"2009Q2\",\"2009Q3\",\"2009Q4\",\"2010Q1\",\"2010Q2\",\"2010Q3\",\"2010Q4\",\"2011Q1\",\"2011Q2\",\"2011Q3\",\"2011Q4\",\"2012Q1\",\"2012Q2\",\"2012Q3\",\"2012Q4\",\"2013Q1\",\"2013Q2\",\"2013Q3\",\"2013Q4\",\"2014Q1\",\"2014Q2\",\"2014Q3\",\"2014Q4\",\"2015Q1\",\"2015Q2\",\"2015Q3\",\"2015Q4\",\"2016Q1\",\"2016Q2\",\"2016Q3\",\"2016Q4\",\"2017Q1\",\"2017Q2\",\"2017Q3\",\"2017Q4\",\"2018Q1\",\"2018Q2\",\"2018Q3\",\"2018Q4\",\"2019Q1\",\"2019Q2\",\"2019Q3\",\"2019Q4\",\"2020Q1\",\"2020Q2\",\"2020Q3\",\"2020Q4\",\"2021Q1\",\"2021Q2\",\"2021Q3\",\"2021Q4\",\"2022Q1\",\"2022Q2\",\"2022Q3\",\"2022Q4\",\"2023Q1\",\"2023Q2\",\"2023Q3\",\"2023Q4\",\"2024Q1\",\"2024Q2\",\"2024Q3\",\"2024Q4\"],\"xaxis\":\"x\",\"y\":[-0.08574394402137327,0.8226757814629448,0.46101221281945975,0.7838327215453966,0.6978785285135625,0.8550693766314973,0.5840183149366962,0.9478514116999367,1.6571226719525303,-0.279433835853482,0.04305108653242332,1.158756072395395,-0.8418649001304809,-0.058713132251960364,-1.4187606907812993,-2.9588482573217516,-1.0520410208102495,0.3125276930695642,0.3559811666542734,0.49983252397195105,0.857506477142537,0.7514367184178528,1.5551802803548693,-0.6265214824788664,0.5793859782772803,0.5919716021014191,-0.32203076757156834,0.7388316713539308,-0.3168547180237069,-0.03591886690478274,-0.7521073197741904,-0.36393785355608443,-0.47747986826831196,1.052229093356331,0.4542652566561796,0.9391120457216684,0.4012833747829199,-0.067051074199224,0.5925340773074272,0.6166926988479315,0.17327874439994803,0.3023431355805073,-0.07962765796349543,-0.24736898356690165,1.2125235510773824,0.5413678737818025,-0.4591599734825406,0.23000877939842734,1.3743249257267998,0.25773423858594197,0.832515547268553,0.7575906189407289,-0.3725258011822737,1.048009667204719,-0.5111965815353078,0.033579124872155454,-0.17332969785724592,-0.33529947325852866,0.11873006307557461,-0.6820650437671697,-3.087054174252998,2.4543102084054147,3.16427692389758,0.72457318223067,0.01794466533303618,-0.5298985625003269,-1.3710194781208902,1.2015173590426882,0.7885667337741357,0.8514841463998427,0.08704855416196144,0.06599824181493148,-0.17514853477863154,0.12207721131903455,-1.4160781746926994,null,null,null,null,null],\"yaxis\":\"y\",\"type\":\"scattergl\",\"visible\":\"legendonly\"},{\"hovertemplate\":\"variable=GDP_growth_VAR_forecast<br>Year-Month=%{x}<br>value=%{y}<extra></extra>\",\"legendgroup\":\"GDP_growth_VAR_forecast\",\"line\":{\"color\":\"#FF6692\",\"dash\":\"solid\"},\"marker\":{\"symbol\":\"circle\"},\"mode\":\"lines\",\"name\":\"GDP_growth_VAR_forecast\",\"showlegend\":true,\"x\":[\"2005Q1\",\"2005Q2\",\"2005Q3\",\"2005Q4\",\"2006Q1\",\"2006Q2\",\"2006Q3\",\"2006Q4\",\"2007Q1\",\"2007Q2\",\"2007Q3\",\"2007Q4\",\"2008Q1\",\"2008Q2\",\"2008Q3\",\"2008Q4\",\"2009Q1\",\"2009Q2\",\"2009Q3\",\"2009Q4\",\"2010Q1\",\"2010Q2\",\"2010Q3\",\"2010Q4\",\"2011Q1\",\"2011Q2\",\"2011Q3\",\"2011Q4\",\"2012Q1\",\"2012Q2\",\"2012Q3\",\"2012Q4\",\"2013Q1\",\"2013Q2\",\"2013Q3\",\"2013Q4\",\"2014Q1\",\"2014Q2\",\"2014Q3\",\"2014Q4\",\"2015Q1\",\"2015Q2\",\"2015Q3\",\"2015Q4\",\"2016Q1\",\"2016Q2\",\"2016Q3\",\"2016Q4\",\"2017Q1\",\"2017Q2\",\"2017Q3\",\"2017Q4\",\"2018Q1\",\"2018Q2\",\"2018Q3\",\"2018Q4\",\"2019Q1\",\"2019Q2\",\"2019Q3\",\"2019Q4\",\"2020Q1\",\"2020Q2\",\"2020Q3\",\"2020Q4\",\"2021Q1\",\"2021Q2\",\"2021Q3\",\"2021Q4\",\"2022Q1\",\"2022Q2\",\"2022Q3\",\"2022Q4\",\"2023Q1\",\"2023Q2\",\"2023Q3\",\"2023Q4\",\"2024Q1\",\"2024Q2\",\"2024Q3\",\"2024Q4\"],\"xaxis\":\"x\",\"y\":[null,null,null,null,null,null,null,null,null,null,null,null,null,null,null,null,null,null,null,null,null,null,null,null,null,null,null,null,null,null,null,null,null,null,null,null,null,null,null,null,null,null,null,null,null,null,null,null,null,null,null,null,null,null,null,null,null,null,null,null,null,null,null,null,null,null,null,null,null,null,null,null,null,null,null,-0.02926524403427777,-2.0308333843576065,-0.5394179816373637,0.5870354213194986,5.43369036607146],\"yaxis\":\"y\",\"type\":\"scattergl\",\"visible\":\"legendonly\"},{\"hovertemplate\":\"variable=Inflation_yoy_VAR_forecast<br>Year-Month=%{x}<br>value=%{y}<extra></extra>\",\"legendgroup\":\"Inflation_yoy_VAR_forecast\",\"line\":{\"color\":\"#B6E880\",\"dash\":\"solid\"},\"marker\":{\"symbol\":\"circle\"},\"mode\":\"lines\",\"name\":\"Inflation_yoy_VAR_forecast\",\"showlegend\":true,\"x\":[\"2005Q1\",\"2005Q2\",\"2005Q3\",\"2005Q4\",\"2006Q1\",\"2006Q2\",\"2006Q3\",\"2006Q4\",\"2007Q1\",\"2007Q2\",\"2007Q3\",\"2007Q4\",\"2008Q1\",\"2008Q2\",\"2008Q3\",\"2008Q4\",\"2009Q1\",\"2009Q2\",\"2009Q3\",\"2009Q4\",\"2010Q1\",\"2010Q2\",\"2010Q3\",\"2010Q4\",\"2011Q1\",\"2011Q2\",\"2011Q3\",\"2011Q4\",\"2012Q1\",\"2012Q2\",\"2012Q3\",\"2012Q4\",\"2013Q1\",\"2013Q2\",\"2013Q3\",\"2013Q4\",\"2014Q1\",\"2014Q2\",\"2014Q3\",\"2014Q4\",\"2015Q1\",\"2015Q2\",\"2015Q3\",\"2015Q4\",\"2016Q1\",\"2016Q2\",\"2016Q3\",\"2016Q4\",\"2017Q1\",\"2017Q2\",\"2017Q3\",\"2017Q4\",\"2018Q1\",\"2018Q2\",\"2018Q3\",\"2018Q4\",\"2019Q1\",\"2019Q2\",\"2019Q3\",\"2019Q4\",\"2020Q1\",\"2020Q2\",\"2020Q3\",\"2020Q4\",\"2021Q1\",\"2021Q2\",\"2021Q3\",\"2021Q4\",\"2022Q1\",\"2022Q2\",\"2022Q3\",\"2022Q4\",\"2023Q1\",\"2023Q2\",\"2023Q3\",\"2023Q4\",\"2024Q1\",\"2024Q2\",\"2024Q3\",\"2024Q4\"],\"xaxis\":\"x\",\"y\":[null,null,null,null,null,null,null,null,null,null,null,null,null,null,null,null,null,null,null,null,null,null,null,null,null,null,null,null,null,null,null,null,null,null,null,null,null,null,null,null,null,null,null,null,null,null,null,null,null,null,null,null,null,null,null,null,null,null,null,null,null,null,null,null,null,null,null,null,null,null,null,null,null,null,null,7.424230982561733,6.94430449691343,8.157583430945758,11.697829998956188,11.712672709462659],\"yaxis\":\"y\",\"type\":\"scattergl\",\"visible\":\"legendonly\"},{\"hovertemplate\":\"variable=PRIBOR_3M_VAR_forecast<br>Year-Month=%{x}<br>value=%{y}<extra></extra>\",\"legendgroup\":\"PRIBOR_3M_VAR_forecast\",\"line\":{\"color\":\"#FF97FF\",\"dash\":\"solid\"},\"marker\":{\"symbol\":\"circle\"},\"mode\":\"lines\",\"name\":\"PRIBOR_3M_VAR_forecast\",\"showlegend\":true,\"x\":[\"2005Q1\",\"2005Q2\",\"2005Q3\",\"2005Q4\",\"2006Q1\",\"2006Q2\",\"2006Q3\",\"2006Q4\",\"2007Q1\",\"2007Q2\",\"2007Q3\",\"2007Q4\",\"2008Q1\",\"2008Q2\",\"2008Q3\",\"2008Q4\",\"2009Q1\",\"2009Q2\",\"2009Q3\",\"2009Q4\",\"2010Q1\",\"2010Q2\",\"2010Q3\",\"2010Q4\",\"2011Q1\",\"2011Q2\",\"2011Q3\",\"2011Q4\",\"2012Q1\",\"2012Q2\",\"2012Q3\",\"2012Q4\",\"2013Q1\",\"2013Q2\",\"2013Q3\",\"2013Q4\",\"2014Q1\",\"2014Q2\",\"2014Q3\",\"2014Q4\",\"2015Q1\",\"2015Q2\",\"2015Q3\",\"2015Q4\",\"2016Q1\",\"2016Q2\",\"2016Q3\",\"2016Q4\",\"2017Q1\",\"2017Q2\",\"2017Q3\",\"2017Q4\",\"2018Q1\",\"2018Q2\",\"2018Q3\",\"2018Q4\",\"2019Q1\",\"2019Q2\",\"2019Q3\",\"2019Q4\",\"2020Q1\",\"2020Q2\",\"2020Q3\",\"2020Q4\",\"2021Q1\",\"2021Q2\",\"2021Q3\",\"2021Q4\",\"2022Q1\",\"2022Q2\",\"2022Q3\",\"2022Q4\",\"2023Q1\",\"2023Q2\",\"2023Q3\",\"2023Q4\",\"2024Q1\",\"2024Q2\",\"2024Q3\",\"2024Q4\"],\"xaxis\":\"x\",\"y\":[null,null,null,null,null,null,null,null,null,null,null,null,null,null,null,null,null,null,null,null,null,null,null,null,null,null,null,null,null,null,null,null,null,null,null,null,null,null,null,null,null,null,null,null,null,null,null,null,null,null,null,null,null,null,null,null,null,null,null,null,null,null,null,null,null,null,null,null,null,null,null,null,null,null,null,7.1361101572611805,7.552591511224312,7.724345672467919,8.675721278686733,8.314118584011272],\"yaxis\":\"y\",\"type\":\"scattergl\",\"visible\":\"legendonly\"},{\"hovertemplate\":\"variable=EUR_CZK_VAR_forecast<br>Year-Month=%{x}<br>value=%{y}<extra></extra>\",\"legendgroup\":\"EUR_CZK_VAR_forecast\",\"line\":{\"color\":\"#FECB52\",\"dash\":\"solid\"},\"marker\":{\"symbol\":\"circle\"},\"mode\":\"lines\",\"name\":\"EUR_CZK_VAR_forecast\",\"showlegend\":true,\"x\":[\"2005Q1\",\"2005Q2\",\"2005Q3\",\"2005Q4\",\"2006Q1\",\"2006Q2\",\"2006Q3\",\"2006Q4\",\"2007Q1\",\"2007Q2\",\"2007Q3\",\"2007Q4\",\"2008Q1\",\"2008Q2\",\"2008Q3\",\"2008Q4\",\"2009Q1\",\"2009Q2\",\"2009Q3\",\"2009Q4\",\"2010Q1\",\"2010Q2\",\"2010Q3\",\"2010Q4\",\"2011Q1\",\"2011Q2\",\"2011Q3\",\"2011Q4\",\"2012Q1\",\"2012Q2\",\"2012Q3\",\"2012Q4\",\"2013Q1\",\"2013Q2\",\"2013Q3\",\"2013Q4\",\"2014Q1\",\"2014Q2\",\"2014Q3\",\"2014Q4\",\"2015Q1\",\"2015Q2\",\"2015Q3\",\"2015Q4\",\"2016Q1\",\"2016Q2\",\"2016Q3\",\"2016Q4\",\"2017Q1\",\"2017Q2\",\"2017Q3\",\"2017Q4\",\"2018Q1\",\"2018Q2\",\"2018Q3\",\"2018Q4\",\"2019Q1\",\"2019Q2\",\"2019Q3\",\"2019Q4\",\"2020Q1\",\"2020Q2\",\"2020Q3\",\"2020Q4\",\"2021Q1\",\"2021Q2\",\"2021Q3\",\"2021Q4\",\"2022Q1\",\"2022Q2\",\"2022Q3\",\"2022Q4\",\"2023Q1\",\"2023Q2\",\"2023Q3\",\"2023Q4\",\"2024Q1\",\"2024Q2\",\"2024Q3\",\"2024Q4\"],\"xaxis\":\"x\",\"y\":[null,null,null,null,null,null,null,null,null,null,null,null,null,null,null,null,null,null,null,null,null,null,null,null,null,null,null,null,null,null,null,null,null,null,null,null,null,null,null,null,null,null,null,null,null,null,null,null,null,null,null,null,null,null,null,null,null,null,null,null,null,null,null,null,null,null,null,null,null,null,null,null,null,null,null,25.221953064523916,27.271266099262355,27.375951267804737,25.23616183707921,24.362718251679862],\"yaxis\":\"y\",\"type\":\"scattergl\",\"visible\":\"legendonly\"},{\"hovertemplate\":\"variable=Inflation_yoy_CNB_forecast<br>Year-Month=%{x}<br>value=%{y}<extra></extra>\",\"legendgroup\":\"Inflation_yoy_CNB_forecast\",\"line\":{\"color\":\"#636efa\",\"dash\":\"solid\"},\"marker\":{\"symbol\":\"circle\"},\"mode\":\"lines\",\"name\":\"Inflation_yoy_CNB_forecast\",\"showlegend\":true,\"x\":[\"2005Q1\",\"2005Q2\",\"2005Q3\",\"2005Q4\",\"2006Q1\",\"2006Q2\",\"2006Q3\",\"2006Q4\",\"2007Q1\",\"2007Q2\",\"2007Q3\",\"2007Q4\",\"2008Q1\",\"2008Q2\",\"2008Q3\",\"2008Q4\",\"2009Q1\",\"2009Q2\",\"2009Q3\",\"2009Q4\",\"2010Q1\",\"2010Q2\",\"2010Q3\",\"2010Q4\",\"2011Q1\",\"2011Q2\",\"2011Q3\",\"2011Q4\",\"2012Q1\",\"2012Q2\",\"2012Q3\",\"2012Q4\",\"2013Q1\",\"2013Q2\",\"2013Q3\",\"2013Q4\",\"2014Q1\",\"2014Q2\",\"2014Q3\",\"2014Q4\",\"2015Q1\",\"2015Q2\",\"2015Q3\",\"2015Q4\",\"2016Q1\",\"2016Q2\",\"2016Q3\",\"2016Q4\",\"2017Q1\",\"2017Q2\",\"2017Q3\",\"2017Q4\",\"2018Q1\",\"2018Q2\",\"2018Q3\",\"2018Q4\",\"2019Q1\",\"2019Q2\",\"2019Q3\",\"2019Q4\",\"2020Q1\",\"2020Q2\",\"2020Q3\",\"2020Q4\",\"2021Q1\",\"2021Q2\",\"2021Q3\",\"2021Q4\",\"2022Q1\",\"2022Q2\",\"2022Q3\",\"2022Q4\",\"2023Q1\",\"2023Q2\",\"2023Q3\",\"2023Q4\",\"2024Q1\",\"2024Q2\",\"2024Q3\",\"2024Q4\"],\"xaxis\":\"x\",\"y\":[null,null,null,null,null,null,null,null,null,null,null,null,null,null,null,null,null,null,null,null,null,null,null,null,null,null,null,null,null,null,null,null,null,null,null,null,null,null,null,null,null,null,null,null,null,null,null,null,null,null,null,null,null,null,null,null,null,null,null,null,null,null,null,null,null,null,null,null,null,null,null,null,null,null,null,7.486953,2.72442838,2.60050989,2.23573565,2.75147403],\"yaxis\":\"y\",\"type\":\"scattergl\",\"visible\":\"legendonly\"},{\"hovertemplate\":\"variable=GDP_growth_CNB_forecast<br>Year-Month=%{x}<br>value=%{y}<extra></extra>\",\"legendgroup\":\"GDP_growth_CNB_forecast\",\"line\":{\"color\":\"#EF553B\",\"dash\":\"solid\"},\"marker\":{\"symbol\":\"circle\"},\"mode\":\"lines\",\"name\":\"GDP_growth_CNB_forecast\",\"showlegend\":true,\"x\":[\"2005Q1\",\"2005Q2\",\"2005Q3\",\"2005Q4\",\"2006Q1\",\"2006Q2\",\"2006Q3\",\"2006Q4\",\"2007Q1\",\"2007Q2\",\"2007Q3\",\"2007Q4\",\"2008Q1\",\"2008Q2\",\"2008Q3\",\"2008Q4\",\"2009Q1\",\"2009Q2\",\"2009Q3\",\"2009Q4\",\"2010Q1\",\"2010Q2\",\"2010Q3\",\"2010Q4\",\"2011Q1\",\"2011Q2\",\"2011Q3\",\"2011Q4\",\"2012Q1\",\"2012Q2\",\"2012Q3\",\"2012Q4\",\"2013Q1\",\"2013Q2\",\"2013Q3\",\"2013Q4\",\"2014Q1\",\"2014Q2\",\"2014Q3\",\"2014Q4\",\"2015Q1\",\"2015Q2\",\"2015Q3\",\"2015Q4\",\"2016Q1\",\"2016Q2\",\"2016Q3\",\"2016Q4\",\"2017Q1\",\"2017Q2\",\"2017Q3\",\"2017Q4\",\"2018Q1\",\"2018Q2\",\"2018Q3\",\"2018Q4\",\"2019Q1\",\"2019Q2\",\"2019Q3\",\"2019Q4\",\"2020Q1\",\"2020Q2\",\"2020Q3\",\"2020Q4\",\"2021Q1\",\"2021Q2\",\"2021Q3\",\"2021Q4\",\"2022Q1\",\"2022Q2\",\"2022Q3\",\"2022Q4\",\"2023Q1\",\"2023Q2\",\"2023Q3\",\"2023Q4\",\"2024Q1\",\"2024Q2\",\"2024Q3\",\"2024Q4\"],\"xaxis\":\"x\",\"y\":[null,null,null,null,null,null,null,null,null,null,null,null,null,null,null,null,null,null,null,null,null,null,null,null,null,null,null,null,null,null,null,null,null,null,null,null,null,null,null,null,null,null,null,null,null,null,null,null,null,null,null,null,null,null,null,null,null,null,null,null,null,null,null,null,null,null,null,null,null,null,null,null,null,null,null,-0.0658945018,0.267504477,0.687399633,1.61995807,2.2169392],\"yaxis\":\"y\",\"type\":\"scattergl\",\"visible\":\"legendonly\"},{\"hovertemplate\":\"variable=EUR_CZK_CNB_forecast<br>Year-Month=%{x}<br>value=%{y}<extra></extra>\",\"legendgroup\":\"EUR_CZK_CNB_forecast\",\"line\":{\"color\":\"#00cc96\",\"dash\":\"solid\"},\"marker\":{\"symbol\":\"circle\"},\"mode\":\"lines\",\"name\":\"EUR_CZK_CNB_forecast\",\"showlegend\":true,\"x\":[\"2005Q1\",\"2005Q2\",\"2005Q3\",\"2005Q4\",\"2006Q1\",\"2006Q2\",\"2006Q3\",\"2006Q4\",\"2007Q1\",\"2007Q2\",\"2007Q3\",\"2007Q4\",\"2008Q1\",\"2008Q2\",\"2008Q3\",\"2008Q4\",\"2009Q1\",\"2009Q2\",\"2009Q3\",\"2009Q4\",\"2010Q1\",\"2010Q2\",\"2010Q3\",\"2010Q4\",\"2011Q1\",\"2011Q2\",\"2011Q3\",\"2011Q4\",\"2012Q1\",\"2012Q2\",\"2012Q3\",\"2012Q4\",\"2013Q1\",\"2013Q2\",\"2013Q3\",\"2013Q4\",\"2014Q1\",\"2014Q2\",\"2014Q3\",\"2014Q4\",\"2015Q1\",\"2015Q2\",\"2015Q3\",\"2015Q4\",\"2016Q1\",\"2016Q2\",\"2016Q3\",\"2016Q4\",\"2017Q1\",\"2017Q2\",\"2017Q3\",\"2017Q4\",\"2018Q1\",\"2018Q2\",\"2018Q3\",\"2018Q4\",\"2019Q1\",\"2019Q2\",\"2019Q3\",\"2019Q4\",\"2020Q1\",\"2020Q2\",\"2020Q3\",\"2020Q4\",\"2021Q1\",\"2021Q2\",\"2021Q3\",\"2021Q4\",\"2022Q1\",\"2022Q2\",\"2022Q3\",\"2022Q4\",\"2023Q1\",\"2023Q2\",\"2023Q3\",\"2023Q4\",\"2024Q1\",\"2024Q2\",\"2024Q3\",\"2024Q4\"],\"xaxis\":\"x\",\"y\":[null,null,null,null,null,null,null,null,null,null,null,null,null,null,null,null,null,null,null,null,null,null,null,null,null,null,null,null,null,null,null,null,null,null,null,null,null,null,null,null,null,null,null,null,null,null,null,null,null,null,null,null,null,null,null,null,null,null,null,null,null,null,null,null,null,null,null,null,null,null,null,null,null,null,null,24.6,24.7047971,24.6436235,24.5109956,24.3584604],\"yaxis\":\"y\",\"type\":\"scattergl\",\"visible\":\"legendonly\"},{\"hovertemplate\":\"variable=PRIBOR_3M_CNB_forecast<br>Year-Month=%{x}<br>value=%{y}<extra></extra>\",\"legendgroup\":\"PRIBOR_3M_CNB_forecast\",\"line\":{\"color\":\"#ab63fa\",\"dash\":\"solid\"},\"marker\":{\"symbol\":\"circle\"},\"mode\":\"lines\",\"name\":\"PRIBOR_3M_CNB_forecast\",\"showlegend\":true,\"x\":[\"2005Q1\",\"2005Q2\",\"2005Q3\",\"2005Q4\",\"2006Q1\",\"2006Q2\",\"2006Q3\",\"2006Q4\",\"2007Q1\",\"2007Q2\",\"2007Q3\",\"2007Q4\",\"2008Q1\",\"2008Q2\",\"2008Q3\",\"2008Q4\",\"2009Q1\",\"2009Q2\",\"2009Q3\",\"2009Q4\",\"2010Q1\",\"2010Q2\",\"2010Q3\",\"2010Q4\",\"2011Q1\",\"2011Q2\",\"2011Q3\",\"2011Q4\",\"2012Q1\",\"2012Q2\",\"2012Q3\",\"2012Q4\",\"2013Q1\",\"2013Q2\",\"2013Q3\",\"2013Q4\",\"2014Q1\",\"2014Q2\",\"2014Q3\",\"2014Q4\",\"2015Q1\",\"2015Q2\",\"2015Q3\",\"2015Q4\",\"2016Q1\",\"2016Q2\",\"2016Q3\",\"2016Q4\",\"2017Q1\",\"2017Q2\",\"2017Q3\",\"2017Q4\",\"2018Q1\",\"2018Q2\",\"2018Q3\",\"2018Q4\",\"2019Q1\",\"2019Q2\",\"2019Q3\",\"2019Q4\",\"2020Q1\",\"2020Q2\",\"2020Q3\",\"2020Q4\",\"2021Q1\",\"2021Q2\",\"2021Q3\",\"2021Q4\",\"2022Q1\",\"2022Q2\",\"2022Q3\",\"2022Q4\",\"2023Q1\",\"2023Q2\",\"2023Q3\",\"2023Q4\",\"2024Q1\",\"2024Q2\",\"2024Q3\",\"2024Q4\"],\"xaxis\":\"x\",\"y\":[null,null,null,null,null,null,null,null,null,null,null,null,null,null,null,null,null,null,null,null,null,null,null,null,null,null,null,null,null,null,null,null,null,null,null,null,null,null,null,null,null,null,null,null,null,null,null,null,null,null,null,null,null,null,null,null,null,null,null,null,null,null,null,null,null,null,null,null,null,null,null,null,null,null,null,6.55274551,5.46019042,4.3002055,3.71319927,3.5438671],\"yaxis\":\"y\",\"type\":\"scattergl\",\"visible\":\"legendonly\"}],                        {\"template\":{\"data\":{\"histogram2dcontour\":[{\"type\":\"histogram2dcontour\",\"colorbar\":{\"outlinewidth\":0,\"ticks\":\"\"},\"colorscale\":[[0.0,\"#0d0887\"],[0.1111111111111111,\"#46039f\"],[0.2222222222222222,\"#7201a8\"],[0.3333333333333333,\"#9c179e\"],[0.4444444444444444,\"#bd3786\"],[0.5555555555555556,\"#d8576b\"],[0.6666666666666666,\"#ed7953\"],[0.7777777777777778,\"#fb9f3a\"],[0.8888888888888888,\"#fdca26\"],[1.0,\"#f0f921\"]]}],\"choropleth\":[{\"type\":\"choropleth\",\"colorbar\":{\"outlinewidth\":0,\"ticks\":\"\"}}],\"histogram2d\":[{\"type\":\"histogram2d\",\"colorbar\":{\"outlinewidth\":0,\"ticks\":\"\"},\"colorscale\":[[0.0,\"#0d0887\"],[0.1111111111111111,\"#46039f\"],[0.2222222222222222,\"#7201a8\"],[0.3333333333333333,\"#9c179e\"],[0.4444444444444444,\"#bd3786\"],[0.5555555555555556,\"#d8576b\"],[0.6666666666666666,\"#ed7953\"],[0.7777777777777778,\"#fb9f3a\"],[0.8888888888888888,\"#fdca26\"],[1.0,\"#f0f921\"]]}],\"heatmap\":[{\"type\":\"heatmap\",\"colorbar\":{\"outlinewidth\":0,\"ticks\":\"\"},\"colorscale\":[[0.0,\"#0d0887\"],[0.1111111111111111,\"#46039f\"],[0.2222222222222222,\"#7201a8\"],[0.3333333333333333,\"#9c179e\"],[0.4444444444444444,\"#bd3786\"],[0.5555555555555556,\"#d8576b\"],[0.6666666666666666,\"#ed7953\"],[0.7777777777777778,\"#fb9f3a\"],[0.8888888888888888,\"#fdca26\"],[1.0,\"#f0f921\"]]}],\"heatmapgl\":[{\"type\":\"heatmapgl\",\"colorbar\":{\"outlinewidth\":0,\"ticks\":\"\"},\"colorscale\":[[0.0,\"#0d0887\"],[0.1111111111111111,\"#46039f\"],[0.2222222222222222,\"#7201a8\"],[0.3333333333333333,\"#9c179e\"],[0.4444444444444444,\"#bd3786\"],[0.5555555555555556,\"#d8576b\"],[0.6666666666666666,\"#ed7953\"],[0.7777777777777778,\"#fb9f3a\"],[0.8888888888888888,\"#fdca26\"],[1.0,\"#f0f921\"]]}],\"contourcarpet\":[{\"type\":\"contourcarpet\",\"colorbar\":{\"outlinewidth\":0,\"ticks\":\"\"}}],\"contour\":[{\"type\":\"contour\",\"colorbar\":{\"outlinewidth\":0,\"ticks\":\"\"},\"colorscale\":[[0.0,\"#0d0887\"],[0.1111111111111111,\"#46039f\"],[0.2222222222222222,\"#7201a8\"],[0.3333333333333333,\"#9c179e\"],[0.4444444444444444,\"#bd3786\"],[0.5555555555555556,\"#d8576b\"],[0.6666666666666666,\"#ed7953\"],[0.7777777777777778,\"#fb9f3a\"],[0.8888888888888888,\"#fdca26\"],[1.0,\"#f0f921\"]]}],\"surface\":[{\"type\":\"surface\",\"colorbar\":{\"outlinewidth\":0,\"ticks\":\"\"},\"colorscale\":[[0.0,\"#0d0887\"],[0.1111111111111111,\"#46039f\"],[0.2222222222222222,\"#7201a8\"],[0.3333333333333333,\"#9c179e\"],[0.4444444444444444,\"#bd3786\"],[0.5555555555555556,\"#d8576b\"],[0.6666666666666666,\"#ed7953\"],[0.7777777777777778,\"#fb9f3a\"],[0.8888888888888888,\"#fdca26\"],[1.0,\"#f0f921\"]]}],\"mesh3d\":[{\"type\":\"mesh3d\",\"colorbar\":{\"outlinewidth\":0,\"ticks\":\"\"}}],\"scatter\":[{\"fillpattern\":{\"fillmode\":\"overlay\",\"size\":10,\"solidity\":0.2},\"type\":\"scatter\"}],\"parcoords\":[{\"type\":\"parcoords\",\"line\":{\"colorbar\":{\"outlinewidth\":0,\"ticks\":\"\"}}}],\"scatterpolargl\":[{\"type\":\"scatterpolargl\",\"marker\":{\"colorbar\":{\"outlinewidth\":0,\"ticks\":\"\"}}}],\"bar\":[{\"error_x\":{\"color\":\"#2a3f5f\"},\"error_y\":{\"color\":\"#2a3f5f\"},\"marker\":{\"line\":{\"color\":\"#E5ECF6\",\"width\":0.5},\"pattern\":{\"fillmode\":\"overlay\",\"size\":10,\"solidity\":0.2}},\"type\":\"bar\"}],\"scattergeo\":[{\"type\":\"scattergeo\",\"marker\":{\"colorbar\":{\"outlinewidth\":0,\"ticks\":\"\"}}}],\"scatterpolar\":[{\"type\":\"scatterpolar\",\"marker\":{\"colorbar\":{\"outlinewidth\":0,\"ticks\":\"\"}}}],\"histogram\":[{\"marker\":{\"pattern\":{\"fillmode\":\"overlay\",\"size\":10,\"solidity\":0.2}},\"type\":\"histogram\"}],\"scattergl\":[{\"type\":\"scattergl\",\"marker\":{\"colorbar\":{\"outlinewidth\":0,\"ticks\":\"\"}}}],\"scatter3d\":[{\"type\":\"scatter3d\",\"line\":{\"colorbar\":{\"outlinewidth\":0,\"ticks\":\"\"}},\"marker\":{\"colorbar\":{\"outlinewidth\":0,\"ticks\":\"\"}}}],\"scattermapbox\":[{\"type\":\"scattermapbox\",\"marker\":{\"colorbar\":{\"outlinewidth\":0,\"ticks\":\"\"}}}],\"scatterternary\":[{\"type\":\"scatterternary\",\"marker\":{\"colorbar\":{\"outlinewidth\":0,\"ticks\":\"\"}}}],\"scattercarpet\":[{\"type\":\"scattercarpet\",\"marker\":{\"colorbar\":{\"outlinewidth\":0,\"ticks\":\"\"}}}],\"carpet\":[{\"aaxis\":{\"endlinecolor\":\"#2a3f5f\",\"gridcolor\":\"white\",\"linecolor\":\"white\",\"minorgridcolor\":\"white\",\"startlinecolor\":\"#2a3f5f\"},\"baxis\":{\"endlinecolor\":\"#2a3f5f\",\"gridcolor\":\"white\",\"linecolor\":\"white\",\"minorgridcolor\":\"white\",\"startlinecolor\":\"#2a3f5f\"},\"type\":\"carpet\"}],\"table\":[{\"cells\":{\"fill\":{\"color\":\"#EBF0F8\"},\"line\":{\"color\":\"white\"}},\"header\":{\"fill\":{\"color\":\"#C8D4E3\"},\"line\":{\"color\":\"white\"}},\"type\":\"table\"}],\"barpolar\":[{\"marker\":{\"line\":{\"color\":\"#E5ECF6\",\"width\":0.5},\"pattern\":{\"fillmode\":\"overlay\",\"size\":10,\"solidity\":0.2}},\"type\":\"barpolar\"}],\"pie\":[{\"automargin\":true,\"type\":\"pie\"}]},\"layout\":{\"autotypenumbers\":\"strict\",\"colorway\":[\"#636efa\",\"#EF553B\",\"#00cc96\",\"#ab63fa\",\"#FFA15A\",\"#19d3f3\",\"#FF6692\",\"#B6E880\",\"#FF97FF\",\"#FECB52\"],\"font\":{\"color\":\"#2a3f5f\"},\"hovermode\":\"closest\",\"hoverlabel\":{\"align\":\"left\"},\"paper_bgcolor\":\"white\",\"plot_bgcolor\":\"#E5ECF6\",\"polar\":{\"bgcolor\":\"#E5ECF6\",\"angularaxis\":{\"gridcolor\":\"white\",\"linecolor\":\"white\",\"ticks\":\"\"},\"radialaxis\":{\"gridcolor\":\"white\",\"linecolor\":\"white\",\"ticks\":\"\"}},\"ternary\":{\"bgcolor\":\"#E5ECF6\",\"aaxis\":{\"gridcolor\":\"white\",\"linecolor\":\"white\",\"ticks\":\"\"},\"baxis\":{\"gridcolor\":\"white\",\"linecolor\":\"white\",\"ticks\":\"\"},\"caxis\":{\"gridcolor\":\"white\",\"linecolor\":\"white\",\"ticks\":\"\"}},\"coloraxis\":{\"colorbar\":{\"outlinewidth\":0,\"ticks\":\"\"}},\"colorscale\":{\"sequential\":[[0.0,\"#0d0887\"],[0.1111111111111111,\"#46039f\"],[0.2222222222222222,\"#7201a8\"],[0.3333333333333333,\"#9c179e\"],[0.4444444444444444,\"#bd3786\"],[0.5555555555555556,\"#d8576b\"],[0.6666666666666666,\"#ed7953\"],[0.7777777777777778,\"#fb9f3a\"],[0.8888888888888888,\"#fdca26\"],[1.0,\"#f0f921\"]],\"sequentialminus\":[[0.0,\"#0d0887\"],[0.1111111111111111,\"#46039f\"],[0.2222222222222222,\"#7201a8\"],[0.3333333333333333,\"#9c179e\"],[0.4444444444444444,\"#bd3786\"],[0.5555555555555556,\"#d8576b\"],[0.6666666666666666,\"#ed7953\"],[0.7777777777777778,\"#fb9f3a\"],[0.8888888888888888,\"#fdca26\"],[1.0,\"#f0f921\"]],\"diverging\":[[0,\"#8e0152\"],[0.1,\"#c51b7d\"],[0.2,\"#de77ae\"],[0.3,\"#f1b6da\"],[0.4,\"#fde0ef\"],[0.5,\"#f7f7f7\"],[0.6,\"#e6f5d0\"],[0.7,\"#b8e186\"],[0.8,\"#7fbc41\"],[0.9,\"#4d9221\"],[1,\"#276419\"]]},\"xaxis\":{\"gridcolor\":\"white\",\"linecolor\":\"white\",\"ticks\":\"\",\"title\":{\"standoff\":15},\"zerolinecolor\":\"white\",\"automargin\":true,\"zerolinewidth\":2},\"yaxis\":{\"gridcolor\":\"white\",\"linecolor\":\"white\",\"ticks\":\"\",\"title\":{\"standoff\":15},\"zerolinecolor\":\"white\",\"automargin\":true,\"zerolinewidth\":2},\"scene\":{\"xaxis\":{\"backgroundcolor\":\"#E5ECF6\",\"gridcolor\":\"white\",\"linecolor\":\"white\",\"showbackground\":true,\"ticks\":\"\",\"zerolinecolor\":\"white\",\"gridwidth\":2},\"yaxis\":{\"backgroundcolor\":\"#E5ECF6\",\"gridcolor\":\"white\",\"linecolor\":\"white\",\"showbackground\":true,\"ticks\":\"\",\"zerolinecolor\":\"white\",\"gridwidth\":2},\"zaxis\":{\"backgroundcolor\":\"#E5ECF6\",\"gridcolor\":\"white\",\"linecolor\":\"white\",\"showbackground\":true,\"ticks\":\"\",\"zerolinecolor\":\"white\",\"gridwidth\":2}},\"shapedefaults\":{\"line\":{\"color\":\"#2a3f5f\"}},\"annotationdefaults\":{\"arrowcolor\":\"#2a3f5f\",\"arrowhead\":0,\"arrowwidth\":1},\"geo\":{\"bgcolor\":\"white\",\"landcolor\":\"#E5ECF6\",\"subunitcolor\":\"white\",\"showland\":true,\"showlakes\":true,\"lakecolor\":\"white\"},\"title\":{\"x\":0.05},\"mapbox\":{\"style\":\"light\"}}},\"xaxis\":{\"anchor\":\"y\",\"domain\":[0.0,1.0],\"title\":{\"text\":\"Year-Month\"}},\"yaxis\":{\"anchor\":\"x\",\"domain\":[0.0,1.0],\"title\":{\"text\":\"value\"}},\"legend\":{\"title\":{\"text\":\"variable\"},\"tracegroupgap\":0},\"title\":{\"text\":\"Growth Forecasts comparison\"},\"updatemenus\":[{\"active\":0,\"buttons\":[{\"args\":[{\"visible\":true},{\"title\":\"Growth Forecasts comparison\"}],\"label\":\"Show All\",\"method\":\"update\"},{\"args\":[{\"visible\":[\"legendonly\",\"legendonly\",\"legendonly\",\"legendonly\",\"legendonly\",\"legendonly\",\"legendonly\",\"legendonly\",\"legendonly\",\"legendonly\",\"legendonly\",\"legendonly\",\"legendonly\",\"legendonly\",\"legendonly\"]},{\"title\":\"Growth Forecasts comparison\"}],\"label\":\"Hide All\",\"method\":\"update\"}]}]},                        {\"responsive\": true}                    ).then(function(){\n",
       "                            \n",
       "var gd = document.getElementById('4ea97f7d-3c0a-40bb-a74a-999a62fa9f73');\n",
       "var x = new MutationObserver(function (mutations, observer) {{\n",
       "        var display = window.getComputedStyle(gd).display;\n",
       "        if (!display || display === 'none') {{\n",
       "            console.log([gd, 'removed!']);\n",
       "            Plotly.purge(gd);\n",
       "            observer.disconnect();\n",
       "        }}\n",
       "}});\n",
       "\n",
       "// Listen for the removal of the full notebook cells\n",
       "var notebookContainer = gd.closest('#notebook-container');\n",
       "if (notebookContainer) {{\n",
       "    x.observe(notebookContainer, {childList: true});\n",
       "}}\n",
       "\n",
       "// Listen for the clearing of the current output cell\n",
       "var outputEl = gd.closest('.output');\n",
       "if (outputEl) {{\n",
       "    x.observe(outputEl, {childList: true});\n",
       "}}\n",
       "\n",
       "                        })                };                });            </script>        </div>"
      ]
     },
     "metadata": {},
     "output_type": "display_data"
    }
   ],
   "source": [
    "fig_growth_fcst = visualize_ts(df_merged,'indicator_id', 'Growth Forecasts comparison')\n",
    "fig_growth_fcst.show()"
   ]
  },
  {
   "cell_type": "code",
   "execution_count": 34,
   "id": "0c4cd2a2-a556-4d03-a82f-657f627be5c1",
   "metadata": {},
   "outputs": [
    {
     "ename": "NameError",
     "evalue": "name 'results' is not defined",
     "output_type": "error",
     "traceback": [
      "\u001b[1;31m---------------------------------------------------------------------------\u001b[0m",
      "\u001b[1;31mNameError\u001b[0m                                 Traceback (most recent call last)",
      "\u001b[1;32m~\\AppData\\Local\\Temp\\ipykernel_12592\\1274420591.py\u001b[0m in \u001b[0;36m<module>\u001b[1;34m\u001b[0m\n\u001b[1;32m----> 1\u001b[1;33m \u001b[0mresults\u001b[0m\u001b[1;33m.\u001b[0m\u001b[0mplot_forecast\u001b[0m\u001b[1;33m(\u001b[0m\u001b[1;36m10\u001b[0m\u001b[1;33m)\u001b[0m\u001b[1;33m\u001b[0m\u001b[1;33m\u001b[0m\u001b[0m\n\u001b[0m",
      "\u001b[1;31mNameError\u001b[0m: name 'results' is not defined"
     ]
    }
   ],
   "source": [
    "results.plot_forecast(10)"
   ]
  },
  {
   "cell_type": "code",
   "execution_count": null,
   "id": "919ded72",
   "metadata": {},
   "outputs": [],
   "source": []
  }
 ],
 "metadata": {
  "kernelspec": {
   "display_name": "Python 3 (ipykernel)",
   "language": "python",
   "name": "python3"
  },
  "language_info": {
   "codemirror_mode": {
    "name": "ipython",
    "version": 3
   },
   "file_extension": ".py",
   "mimetype": "text/x-python",
   "name": "python",
   "nbconvert_exporter": "python",
   "pygments_lexer": "ipython3",
   "version": "3.9.13"
  }
 },
 "nbformat": 4,
 "nbformat_minor": 5
}
