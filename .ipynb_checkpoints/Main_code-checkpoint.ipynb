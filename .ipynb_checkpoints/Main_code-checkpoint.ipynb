{
 "cells": [
  {
   "cell_type": "markdown",
   "id": "204c948d",
   "metadata": {},
   "source": [
    "import requests\n",
    "import pandas as pd\n",
    "from io import StringIO\n",
    "import matplotlib.pyplot as plt\n",
    "import datetime"
   ]
  },
  {
   "cell_type": "markdown",
   "id": "735a36f7",
   "metadata": {},
   "source": [
    "# Download DATA"
   ]
  },
  {
   "cell_type": "code",
   "execution_count": 4,
   "id": "a7ebd3fa",
   "metadata": {},
   "outputs": [],
   "source": [
    "#Define variables and login\n",
    "ID_dict = {\"SHDPZDRQ20152B1GMIRSA\": 'GDP_index', 'SHDPVYDQ20152B1GNMLSA': 'GDP_vol', 'SHDPVYDQ20151B1GNISNA': 'GDP_yoy', \"SPRUMMIR20151SA\":\"Industry_index\",\n",
    "           'SCCSUM2005IR00': 'CPI_index_2016',\"SCCSUM2015IR00\":\"CPI_index_2017\" ,'SCCSUM2005IS00': 'CPI_yoy_2016','SCCSUM2015IS00': 'CPI_yoy_2017',\n",
    "          'MIRFMSPR3XRATPECD': 'PRIBOR_3M', 'MIRFMSPR12RATPECD': 'PRIBOR_12M', 'MEXRHCZEUQNAJEXRVALNOMQ': 'EUR_CZK'}\n",
    "\n",
    "my_IDs = ','.join(ID_dict.keys())\n",
    "my_api_key = \"202326111959266710376710375FTR2ZOFR7GADZLV\"\n",
    "#my_IDs= \"SHDPZDRQ20152B1GMIRSA,SHDPVYDQ20152B1GNMLSA,SHDPVYDQ20151B1GNISNA,SPRUMMIR20151SA,SPRUMMIS20151NA,SCCSUM2005IR00, SCCSUM2015IR00,SCCSUM2005IS00,SCCSUM2015IS00,SCCSUM2015IK00,MIRFMSPR3XRATPECD,MIRFMSPR12RATPECD,MEXRHCZEUDNAJEXRVALNOMD\"\n"
   ]
  },
  {
   "cell_type": "code",
   "execution_count": 7,
   "id": "b4609fad",
   "metadata": {},
   "outputs": [],
   "source": [
    "def download_data_from_api(api_key, indicator_ids):\n",
    "    url = f'https://www.cnb.cz/aradb/api/v1/data?indicator_id_list={indicator_ids}&api_key={api_key}'\n",
    "    response = requests.get(url)\n",
    "    data=response.text\n",
    "    if response.status_code == 200:\n",
    "        df = pd.read_csv(StringIO(data), delimiter=';', decimal=',', thousands=None)\n",
    "\n",
    "        df['period'] = pd.to_datetime(df['period'], format='%Y%m%d')\n",
    "\n",
    "        df = df.drop(columns=\"snapshot_id\")\n",
    "\n",
    "        return df\n",
    "    else:\n",
    "        print(\"Failed to fetch data from the API\")\n",
    "        return None"
   ]
  },
  {
   "cell_type": "code",
   "execution_count": 8,
   "id": "b452eef5",
   "metadata": {
    "scrolled": true
   },
   "outputs": [
    {
     "name": "stdout",
     "output_type": "stream",
     "text": [
      "                  indicator_id     period       value\n",
      "0        SHDPZDRQ20152B1GMIRSA 2023-09-30   99.280690\n",
      "1        SHDPZDRQ20152B1GMIRSA 2023-06-30   99.580160\n",
      "2        SHDPZDRQ20152B1GMIRSA 2023-03-31   99.622176\n",
      "3        SHDPZDRQ20152B1GMIRSA 2022-12-31  100.120022\n",
      "4        SHDPZDRQ20152B1GMIRSA 2022-09-30  101.350071\n",
      "...                        ...        ...         ...\n",
      "12984  MEXRHCZEUDNAJEXRVALNOMD 2015-01-08   27.865000\n",
      "12985  MEXRHCZEUDNAJEXRVALNOMD 2015-01-07   27.785000\n",
      "12986  MEXRHCZEUDNAJEXRVALNOMD 2015-01-06   27.695000\n",
      "12987  MEXRHCZEUDNAJEXRVALNOMD 2015-01-05   27.675000\n",
      "12988  MEXRHCZEUDNAJEXRVALNOMD 2015-01-02   27.700000\n",
      "\n",
      "[12989 rows x 3 columns]\n"
     ]
    }
   ],
   "source": [
    "#Download data\n",
    "my_df = download_data_from_api(my_api_key, my_IDs)\n",
    "if my_df is not None:\n",
    "    print(my_df)"
   ]
  },
  {
   "cell_type": "markdown",
   "id": "5fbd09f8",
   "metadata": {},
   "source": [
    "if set(ID_dict) == set(my_df[\"indicator_id\"]):\n",
    "  print(\"All requested series downloaded successfully\")\n",
    "else:\n",
    "  print(\"Some requested series are missing\")"
   ]
  },
  {
   "cell_type": "markdown",
   "id": "67d2def6",
   "metadata": {},
   "source": [
    "# Processing the data"
   ]
  },
  {
   "cell_type": "code",
   "execution_count": null,
   "id": "5f745e5f",
   "metadata": {},
   "outputs": [],
   "source": [
    "def process_data(my_df, ID_dict):\n",
    "    my_df['year_month'] = my_df['period'].dt.to_period('M')\n",
    "\n",
    "    monthly_df = my_df.groupby(['indicator_id', 'year_month']).mean().reset_index()\n",
    "\n",
    "    monthly_df = pd.pivot(monthly_df, index=\"year_month\", columns=\"indicator_id\", values=\"value\")\n",
    "\n",
    "    monthly_df.rename(columns=ID_dict, inplace=True)\n",
    "\n",
    "    return monthly_df\n"
   ]
  },
  {
   "cell_type": "code",
   "execution_count": null,
   "id": "bc11f1d0",
   "metadata": {},
   "outputs": [],
   "source": [
    "def data_to_current_date(df):\n",
    "    ct = datetime.datetime.now()\n",
    "    current_year_month = ct.strftime(\"%Y-%m\")\n",
    "    df = df[:current_year_month]\n",
    "\n",
    "    return df"
   ]
  },
  {
   "cell_type": "code",
   "execution_count": null,
   "id": "4dc4eecb",
   "metadata": {},
   "outputs": [],
   "source": [
    "def recalculate_series_to_differente_base(df,column_recalculate, column_contains_base_year, base_year):\n",
    "#Provide a pandas data frame with index in a date format, and two columns, which are part of one index, but with a different base or one column, but you want to recalculate\n",
    "#it to a different base year. In the latter case, insert the same column name twice. Provide the base year and the function recalculates the column_recalculate to the  designated base.\n",
    "\n",
    "    df['year'] = df.index.year\n",
    "\n",
    "    # Extract data for the year 2015 and calculate the mean for CPI_index_2016\n",
    "    base_year_df = df[df['year'] == base_year].copy()\n",
    "    base_mean = base_year_df[column_contains_base_year].mean()\n",
    "\n",
    "    # Normalize CPI_index_2016 based on the mean value\n",
    "    df[column_recalculate] = df[column_recalculate].apply(lambda x: x * 100 / base_mean)\n",
    "\n",
    "    return df"
   ]
  },
  {
   "cell_type": "code",
   "execution_count": null,
   "id": "59820f2e",
   "metadata": {},
   "outputs": [],
   "source": [
    "def combine_consecutive_series(df,column1,column2,partition_year, name_new_column):\n",
    "#Provide a pandas data frame with index in a date format, and two columns, which are part of one series, one ending on a specific date and the other continuing from the following date.\n",
    "#Provide the year (partition_year) when the first part of the series (column1) ends. Finally provide the name of the new combined column (name_new_column).\n",
    "\n",
    "    df['year'] = df.index.year\n",
    "\n",
    "    df[name_new_column] = df.apply(lambda row: row[column1] if row['year'] <= partition_year else row[column2], axis=1)\n",
    "    df = df.drop([column1, column2], axis=1)\n",
    "\n",
    "    return df"
   ]
  },
  {
   "cell_type": "code",
   "execution_count": null,
   "id": "118f9106",
   "metadata": {},
   "outputs": [],
   "source": [
    "def growth_from_yoy_index(df,yoy_index_column,new_growth_column):\n",
    "  df[new_growth_column]=df_combed[yoy_index_column].apply(lambda a: a -100)\n",
    "  return df"
   ]
  },
  {
   "cell_type": "code",
   "execution_count": null,
   "id": "3a6b449c",
   "metadata": {},
   "outputs": [],
   "source": [
    "def growth_from_index(df,index_column,new_growth_column):\n",
    "  df[new_growth_column] = df_combed[index_column].pct_change() * 100\n",
    "  return df"
   ]
  },
  {
   "cell_type": "code",
   "execution_count": null,
   "id": "7901e664",
   "metadata": {},
   "outputs": [],
   "source": [
    "def backward_fill_quarterly_data(df, start_date, columns):\n",
    "#Provide a data frame with a date type index, column, or list of columns you want to backward fill (eg. quarterly data to monthly data) and start_date from which you want to start the filling.\n",
    "    # Subset the DataFrame from the specified start date\n",
    "    temp_df = df.copy()\n",
    "    temp_df = temp_df.loc[start_date:]\n",
    "    temp_df[columns] = temp_df[columns].fillna(method='bfill')\n",
    "    df = df.combine_first(temp_df)\n",
    "\n",
    "    return df"
   ]
  },
  {
   "cell_type": "code",
   "execution_count": null,
   "id": "31e09b76",
   "metadata": {},
   "outputs": [],
   "source": [
    "def subset_df(df, columns):\n",
    "  df_sub=df.copy()\n",
    "  df_sub=df_sub.filter(columns)\n",
    "  return df_sub"
   ]
  },
  {
   "cell_type": "code",
   "execution_count": null,
   "id": "fe397f8e",
   "metadata": {},
   "outputs": [],
   "source": [
    "#Process data\n",
    "df_combed = process_data(my_df, ID_dict)\n",
    "df_combed =recalculate_series_to_differente_base(df_combed,\"CPI_index_2016\", \"CPI_index_2016\", 2015)\n",
    "df_combed = combine_consecutive_series(df_combed,\"CPI_index_2016\",\"CPI_index_2017\",2016, \"CPI_index\")\n",
    "df_combed = combine_consecutive_series(df_combed,\"CPI_yoy_2016\",\"CPI_yoy_2017\",2016, \"CPI_yoy\")\n",
    "df_combed = growth_from_yoy_index(df_combed,\"CPI_yoy\",\"Inflation_yoy\")\n",
    "df_combed = growth_from_yoy_index(df_combed,\"GDP_yoy\",\"GDP_growth\")\n",
    "df_combed = growth_from_index(df_combed,\"Industry_index\",\"Industry_growth\")\n",
    "df_combed = data_to_current_date(df_combed)\n",
    "df_combed"
   ]
  },
  {
   "cell_type": "code",
   "execution_count": null,
   "id": "5eaea4c9",
   "metadata": {},
   "outputs": [],
   "source": [
    "#Backward Fill in the quarterly data\n",
    "quarterly_columns = [\"GDP_yoy\", \"GDP_vol\", \"GDP_index\", \"GDP_growth\"]\n",
    "df_combed = backward_fill_quarterly_data(df_combed, '1996-03', quarterly_columns)\n",
    "df_combed = backward_fill_quarterly_data(df_combed, '1998-03', \"EUR_CZK\")\n",
    "df_combed"
   ]
  },
  {
   "cell_type": "code",
   "execution_count": null,
   "id": "52a4e24d",
   "metadata": {},
   "outputs": [],
   "source": [
    "#Divide the data set into time series in percentages and time series as an index with 2015=100\n",
    "list_index=[\"CPI_index\",\"GDP_index\",\"Industry_index\",\"EUR_CZK\"]\n",
    "df_index=subset_df(df_combed, list_index)\n",
    "\n",
    "list_growth=[\"EUR_CZK\",\"PRIBOR_12M\",\"PRIBOR_3M\",\"Inflation_yoy\",\"GDP_growth\",\"Industry_growth\"]\n",
    "df_growth=subset_df(df_combed, list_growth)"
   ]
  },
  {
   "cell_type": "markdown",
   "id": "b4b1ed67-5f1c-400c-877d-b1a396e64164",
   "metadata": {},
   "source": [
    "# Visualisation"
   ]
  },
  {
   "cell_type": "code",
   "execution_count": null,
   "id": "f6c52c63-97a2-4da0-b291-c6dec272e655",
   "metadata": {},
   "outputs": [],
   "source": [
    "#!pip install dash\n",
    "import pandas as pd\n",
    "import plotly.express as px"
   ]
  },
  {
   "cell_type": "code",
   "execution_count": null,
   "id": "5e4fa87d-d195-4bf2-8d59-a23f4d195eae",
   "metadata": {},
   "outputs": [],
   "source": [
    "def visualize_ts(df,index_column,graph_name):\n",
    "  df[index_column] = df.index.astype(str)\n",
    "  fig = px.line(df, x=index_column, y=df.columns, title=graph_name, labels={index_column: 'Year-Month'})\n",
    "\n",
    "  for trace in fig.data:\n",
    "      trace.update(visible='legendonly')\n",
    "\n",
    "  fig.update_layout(\n",
    "      updatemenus=[\n",
    "          dict(\n",
    "              active=0,\n",
    "              buttons=list([\n",
    "                  dict(label='Show All',\n",
    "                      method='update',\n",
    "                      args=[{'visible': True},\n",
    "                            {'title': graph_name}]),\n",
    "                  dict(label='Hide All',\n",
    "                      method='update',\n",
    "                      args=[{'visible': ['legendonly'] * len(df.columns)},\n",
    "                            {'title': graph_name}])\n",
    "              ]),\n",
    "          )\n",
    "      ]\n",
    "  )\n",
    "  return fig"
   ]
  },
  {
   "cell_type": "code",
   "execution_count": null,
   "id": "670bfceb-f12b-4976-8ce4-60efd92c7524",
   "metadata": {},
   "outputs": [],
   "source": [
    "fig_index = visualize_ts(df_index,'year_month', 'Index Time Series Visualization')\n",
    "fig_index.show()"
   ]
  },
  {
   "cell_type": "code",
   "execution_count": null,
   "id": "e6284642-f48f-4c04-9a7e-bc582ccc0dc1",
   "metadata": {},
   "outputs": [],
   "source": [
    "fig_growth = visualize_ts(df_growth,'year_month', 'Growth Time Series Visualization')\n",
    "fig_growth.show()"
   ]
  },
  {
   "cell_type": "markdown",
   "id": "ce303f59",
   "metadata": {},
   "source": [
    "# Forecasting"
   ]
  },
  {
   "cell_type": "code",
   "execution_count": null,
   "id": "8f573a08",
   "metadata": {},
   "outputs": [],
   "source": [
    "import pandas as pd\n",
    "import numpy as np\n",
    "from statsmodels.tsa.api import VAR\n",
    "from statsmodels.tsa.stattools import adfuller\n",
    "import matplotlib.pyplot as plt\n",
    "%matplotlib inline\n",
    "plt.style.use('seaborn-darkgrid')\n",
    "import warnings\n",
    "warnings.filterwarnings('ignore')"
   ]
  },
  {
   "cell_type": "code",
   "execution_count": null,
   "id": "a2a91eab",
   "metadata": {},
   "outputs": [],
   "source": [
    "def VAR_forecast(df,info_criteria):\n",
    "#Choose info_criteria from ic{‘aic’, ‘fpe’, ‘hqic’, ‘bic’, None}\n",
    "  model = VAR(df)\n",
    "  results = model.fit(maxlags=8, ic=info_criteria)\n",
    "  lag_order = results.k_ar\n",
    "  forecast_values=results.forecast(df.values[-lag_order:], 5)\n",
    "\n",
    "  VAR_forecast_df = pd.DataFrame(forecast_values, columns=df.columns)\n",
    "  VAR_forecast_df.index = pd.period_range(start=df.index[-1], periods=6, freq='Q')[1:]\n",
    "  VAR_forecast_df.columns = VAR_forecast_df.columns.map(lambda x: f\"{x}_VAR_forecast\")\n",
    "\n",
    "  return VAR_forecast_df"
   ]
  },
  {
   "cell_type": "code",
   "execution_count": null,
   "id": "71995be0",
   "metadata": {},
   "outputs": [],
   "source": [
    "def data_to_quarterly(df, data_freq):\n",
    "  df_quarterly=df.copy()\n",
    "  df_quarterly = df_quarterly.resample(data_freq).mean()\n",
    "  df_quarterly = df_quarterly.dropna()\n",
    "\n",
    "  return df_quarterly"
   ]
  },
  {
   "cell_type": "code",
   "execution_count": null,
   "id": "3bf0bb1d",
   "metadata": {},
   "outputs": [],
   "source": [
    "#Resample data to quarterly by averaging\n",
    "df_quarterly = data_to_quarterly(df_growth, \"Q\")\n",
    "df_quarterly"
   ]
  },
  {
   "cell_type": "code",
   "execution_count": null,
   "id": "324895ba",
   "metadata": {},
   "outputs": [],
   "source": [
    "var_list = [\"GDP_growth\",\"Inflation_yoy\",\"PRIBOR_3M\",\"EUR_CZK\"]\n",
    "\n",
    "# Create a dataframe to save the p-values of the ADF tests\n",
    "adf_table = pd.DataFrame(index=var_list, columns=['pvalue','Integration_order'])\n",
    "\n",
    "# Apply the ADF test to the each time series\n",
    "for ts in var_list:\n",
    "    adf_table.loc[var_list,'pvalue'] = adfuller(df_quarterly[f'{ts}'],autolag='aic',regression='c')[1]\n",
    "\n",
    "for ts in var_list:\n",
    "    if adf_table.loc[ts,'pvalue']<0.05:\n",
    "      adf_table.loc[ts,'Integration_order'] = 0\n",
    "    else:\n",
    "      adf_table.loc[ts,'Integration_order'] = 1\n",
    "      print(\"Some of the time series are not stationary. Please difference them.\")\n",
    "\n",
    "adf_table"
   ]
  },
  {
   "cell_type": "code",
   "execution_count": null,
   "id": "6b9b2403",
   "metadata": {},
   "outputs": [],
   "source": [
    "var_data = subset_df(df_quarterly,var_list)\n",
    "VAR_forecast_df=VAR_forecast(var_data,\"aic\")\n",
    "VAR_forecast_df"
   ]
  },
  {
   "cell_type": "code",
   "execution_count": null,
   "id": "e11a4bad-d2ad-4fc3-a112-8f18cc975aea",
   "metadata": {},
   "outputs": [],
   "source": [
    "#Download CNB forecasts\n",
    "ID_dict_forecast = {'MGDPGDPXXADJYOYPECCOPQ': 'GDP_growth_CNB_forecast', 'MCPIHINXXNAJYOYPECQ': 'Inflation_yoy_CNB_forecast',\"MPIRSIRXXXRATPECNOMQ\":\"PRIBOR_3M_CNB_forecast\" ,'MPERXMEXXXEXRVALNOMQ': 'EUR_CZK_CNB_forecast'}\n",
    "IDs_forecast= ','.join(ID_dict_forecast.keys())\n",
    "CNB_forecast = download_data_from_api(my_api_key, IDs_forecast)\n",
    "if CNB_forecast is not None:\n",
    "    print(CNB_forecast)"
   ]
  }
 ],
 "metadata": {
  "kernelspec": {
   "display_name": "Python 3 (ipykernel)",
   "language": "python",
   "name": "python3"
  },
  "language_info": {
   "codemirror_mode": {
    "name": "ipython",
    "version": 3
   },
   "file_extension": ".py",
   "mimetype": "text/x-python",
   "name": "python",
   "nbconvert_exporter": "python",
   "pygments_lexer": "ipython3",
   "version": "3.9.12"
  }
 },
 "nbformat": 4,
 "nbformat_minor": 5
}
